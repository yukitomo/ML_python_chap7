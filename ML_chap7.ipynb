{
 "metadata": {
  "name": "",
  "signature": "sha256:61fa0d33f1c7f21e236c16a7b8e9b917120b54b78cf4315cc3997c21aaf35b2d"
 },
 "nbformat": 3,
 "nbformat_minor": 0,
 "worksheets": [
  {
   "cells": [
    {
     "cell_type": "code",
     "collapsed": false,
     "input": [
      "#7.1 \u56de\u5e30\u3092\u7528\u3044\u3066\u7269\u4ef6\u4fa1\u683c\u3092\u4e88\u6e2c\u3059\u308b\n",
      "#\uff11\u6b21\u5143\u306e\u56de\u5e30 (feature 1\u3064\u306e\u307f)"
     ],
     "language": "python",
     "metadata": {},
     "outputs": [],
     "prompt_number": 9
    },
    {
     "cell_type": "code",
     "collapsed": false,
     "input": [
      "from matplotlib import pyplot as plt\n",
      "from sklearn.datasets import load_boston\n",
      "import numpy as np"
     ],
     "language": "python",
     "metadata": {},
     "outputs": [],
     "prompt_number": 1
    },
    {
     "cell_type": "code",
     "collapsed": false,
     "input": [
      "boston = load_boston()"
     ],
     "language": "python",
     "metadata": {},
     "outputs": [],
     "prompt_number": 2
    },
    {
     "cell_type": "code",
     "collapsed": false,
     "input": [
      "len(boston.data)"
     ],
     "language": "python",
     "metadata": {},
     "outputs": [
      {
       "metadata": {},
       "output_type": "pyout",
       "prompt_number": 12,
       "text": [
        "506"
       ]
      }
     ],
     "prompt_number": 12
    },
    {
     "cell_type": "code",
     "collapsed": false,
     "input": [
      "len(boston.data[:,5])"
     ],
     "language": "python",
     "metadata": {},
     "outputs": [
      {
       "metadata": {},
       "output_type": "pyout",
       "prompt_number": 13,
       "text": [
        "506"
       ]
      }
     ],
     "prompt_number": 13
    },
    {
     "cell_type": "code",
     "collapsed": false,
     "input": [
      "boston.data[:,5]"
     ],
     "language": "python",
     "metadata": {},
     "outputs": [
      {
       "metadata": {},
       "output_type": "pyout",
       "prompt_number": 3,
       "text": [
        "array([ 6.575,  6.421,  7.185,  6.998,  7.147,  6.43 ,  6.012,  6.172,\n",
        "        5.631,  6.004,  6.377,  6.009,  5.889,  5.949,  6.096,  5.834,\n",
        "        5.935,  5.99 ,  5.456,  5.727,  5.57 ,  5.965,  6.142,  5.813,\n",
        "        5.924,  5.599,  5.813,  6.047,  6.495,  6.674,  5.713,  6.072,\n",
        "        5.95 ,  5.701,  6.096,  5.933,  5.841,  5.85 ,  5.966,  6.595,\n",
        "        7.024,  6.77 ,  6.169,  6.211,  6.069,  5.682,  5.786,  6.03 ,\n",
        "        5.399,  5.602,  5.963,  6.115,  6.511,  5.998,  5.888,  7.249,\n",
        "        6.383,  6.816,  6.145,  5.927,  5.741,  5.966,  6.456,  6.762,\n",
        "        7.104,  6.29 ,  5.787,  5.878,  5.594,  5.885,  6.417,  5.961,\n",
        "        6.065,  6.245,  6.273,  6.286,  6.279,  6.14 ,  6.232,  5.874,\n",
        "        6.727,  6.619,  6.302,  6.167,  6.389,  6.63 ,  6.015,  6.121,\n",
        "        7.007,  7.079,  6.417,  6.405,  6.442,  6.211,  6.249,  6.625,\n",
        "        6.163,  8.069,  7.82 ,  7.416,  6.727,  6.781,  6.405,  6.137,\n",
        "        6.167,  5.851,  5.836,  6.127,  6.474,  6.229,  6.195,  6.715,\n",
        "        5.913,  6.092,  6.254,  5.928,  6.176,  6.021,  5.872,  5.731,\n",
        "        5.87 ,  6.004,  5.961,  5.856,  5.879,  5.986,  5.613,  5.693,\n",
        "        6.431,  5.637,  6.458,  6.326,  6.372,  5.822,  5.757,  6.335,\n",
        "        5.942,  6.454,  5.857,  6.151,  6.174,  5.019,  5.403,  5.468,\n",
        "        4.903,  6.13 ,  5.628,  4.926,  5.186,  5.597,  6.122,  5.404,\n",
        "        5.012,  5.709,  6.129,  6.152,  5.272,  6.943,  6.066,  6.51 ,\n",
        "        6.25 ,  7.489,  7.802,  8.375,  5.854,  6.101,  7.929,  5.877,\n",
        "        6.319,  6.402,  5.875,  5.88 ,  5.572,  6.416,  5.859,  6.546,\n",
        "        6.02 ,  6.315,  6.86 ,  6.98 ,  7.765,  6.144,  7.155,  6.563,\n",
        "        5.604,  6.153,  7.831,  6.782,  6.556,  7.185,  6.951,  6.739,\n",
        "        7.178,  6.8  ,  6.604,  7.875,  7.287,  7.107,  7.274,  6.975,\n",
        "        7.135,  6.162,  7.61 ,  7.853,  8.034,  5.891,  6.326,  5.783,\n",
        "        6.064,  5.344,  5.96 ,  5.404,  5.807,  6.375,  5.412,  6.182,\n",
        "        5.888,  6.642,  5.951,  6.373,  6.951,  6.164,  6.879,  6.618,\n",
        "        8.266,  8.725,  8.04 ,  7.163,  7.686,  6.552,  5.981,  7.412,\n",
        "        8.337,  8.247,  6.726,  6.086,  6.631,  7.358,  6.481,  6.606,\n",
        "        6.897,  6.095,  6.358,  6.393,  5.593,  5.605,  6.108,  6.226,\n",
        "        6.433,  6.718,  6.487,  6.438,  6.957,  8.259,  6.108,  5.876,\n",
        "        7.454,  8.704,  7.333,  6.842,  7.203,  7.52 ,  8.398,  7.327,\n",
        "        7.206,  5.56 ,  7.014,  8.297,  7.47 ,  5.92 ,  5.856,  6.24 ,\n",
        "        6.538,  7.691,  6.758,  6.854,  7.267,  6.826,  6.482,  6.812,\n",
        "        7.82 ,  6.968,  7.645,  7.923,  7.088,  6.453,  6.23 ,  6.209,\n",
        "        6.315,  6.565,  6.861,  7.148,  6.63 ,  6.127,  6.009,  6.678,\n",
        "        6.549,  5.79 ,  6.345,  7.041,  6.871,  6.59 ,  6.495,  6.982,\n",
        "        7.236,  6.616,  7.42 ,  6.849,  6.635,  5.972,  4.973,  6.122,\n",
        "        6.023,  6.266,  6.567,  5.705,  5.914,  5.782,  6.382,  6.113,\n",
        "        6.426,  6.376,  6.041,  5.708,  6.415,  6.431,  6.312,  6.083,\n",
        "        5.868,  6.333,  6.144,  5.706,  6.031,  6.316,  6.31 ,  6.037,\n",
        "        5.869,  5.895,  6.059,  5.985,  5.968,  7.241,  6.54 ,  6.696,\n",
        "        6.874,  6.014,  5.898,  6.516,  6.635,  6.939,  6.49 ,  6.579,\n",
        "        5.884,  6.728,  5.663,  5.936,  6.212,  6.395,  6.127,  6.112,\n",
        "        6.398,  6.251,  5.362,  5.803,  8.78 ,  3.561,  4.963,  3.863,\n",
        "        4.97 ,  6.683,  7.016,  6.216,  5.875,  4.906,  4.138,  7.313,\n",
        "        6.649,  6.794,  6.38 ,  6.223,  6.968,  6.545,  5.536,  5.52 ,\n",
        "        4.368,  5.277,  4.652,  5.   ,  4.88 ,  5.39 ,  5.713,  6.051,\n",
        "        5.036,  6.193,  5.887,  6.471,  6.405,  5.747,  5.453,  5.852,\n",
        "        5.987,  6.343,  6.404,  5.349,  5.531,  5.683,  4.138,  5.608,\n",
        "        5.617,  6.852,  5.757,  6.657,  4.628,  5.155,  4.519,  6.434,\n",
        "        6.782,  5.304,  5.957,  6.824,  6.411,  6.006,  5.648,  6.103,\n",
        "        5.565,  5.896,  5.837,  6.202,  6.193,  6.38 ,  6.348,  6.833,\n",
        "        6.425,  6.436,  6.208,  6.629,  6.461,  6.152,  5.935,  5.627,\n",
        "        5.818,  6.406,  6.219,  6.485,  5.854,  6.459,  6.341,  6.251,\n",
        "        6.185,  6.417,  6.749,  6.655,  6.297,  7.393,  6.728,  6.525,\n",
        "        5.976,  5.936,  6.301,  6.081,  6.701,  6.376,  6.317,  6.513,\n",
        "        6.209,  5.759,  5.952,  6.003,  5.926,  5.713,  6.167,  6.229,\n",
        "        6.437,  6.98 ,  5.427,  6.162,  6.484,  5.304,  6.185,  6.229,\n",
        "        6.242,  6.75 ,  7.061,  5.762,  5.871,  6.312,  6.114,  5.905,\n",
        "        5.454,  5.414,  5.093,  5.983,  5.983,  5.707,  5.926,  5.67 ,\n",
        "        5.39 ,  5.794,  6.019,  5.569,  6.027,  6.593,  6.12 ,  6.976,\n",
        "        6.794,  6.03 ])"
       ]
      }
     ],
     "prompt_number": 3
    },
    {
     "cell_type": "code",
     "collapsed": false,
     "input": [
      "boston.data"
     ],
     "language": "python",
     "metadata": {},
     "outputs": [
      {
       "metadata": {},
       "output_type": "pyout",
       "prompt_number": 14,
       "text": [
        "array([[  6.32000000e-03,   1.80000000e+01,   2.31000000e+00, ...,\n",
        "          1.53000000e+01,   3.96900000e+02,   4.98000000e+00],\n",
        "       [  2.73100000e-02,   0.00000000e+00,   7.07000000e+00, ...,\n",
        "          1.78000000e+01,   3.96900000e+02,   9.14000000e+00],\n",
        "       [  2.72900000e-02,   0.00000000e+00,   7.07000000e+00, ...,\n",
        "          1.78000000e+01,   3.92830000e+02,   4.03000000e+00],\n",
        "       ..., \n",
        "       [  6.07600000e-02,   0.00000000e+00,   1.19300000e+01, ...,\n",
        "          2.10000000e+01,   3.96900000e+02,   5.64000000e+00],\n",
        "       [  1.09590000e-01,   0.00000000e+00,   1.19300000e+01, ...,\n",
        "          2.10000000e+01,   3.93450000e+02,   6.48000000e+00],\n",
        "       [  4.74100000e-02,   0.00000000e+00,   1.19300000e+01, ...,\n",
        "          2.10000000e+01,   3.96900000e+02,   7.88000000e+00]])"
       ]
      }
     ],
     "prompt_number": 14
    },
    {
     "cell_type": "code",
     "collapsed": false,
     "input": [
      "len(boston.target)"
     ],
     "language": "python",
     "metadata": {},
     "outputs": [
      {
       "metadata": {},
       "output_type": "pyout",
       "prompt_number": 15,
       "text": [
        "506"
       ]
      }
     ],
     "prompt_number": 15
    },
    {
     "cell_type": "code",
     "collapsed": false,
     "input": [
      "boston.target"
     ],
     "language": "python",
     "metadata": {},
     "outputs": [
      {
       "metadata": {},
       "output_type": "pyout",
       "prompt_number": 16,
       "text": [
        "array([ 24. ,  21.6,  34.7,  33.4,  36.2,  28.7,  22.9,  27.1,  16.5,\n",
        "        18.9,  15. ,  18.9,  21.7,  20.4,  18.2,  19.9,  23.1,  17.5,\n",
        "        20.2,  18.2,  13.6,  19.6,  15.2,  14.5,  15.6,  13.9,  16.6,\n",
        "        14.8,  18.4,  21. ,  12.7,  14.5,  13.2,  13.1,  13.5,  18.9,\n",
        "        20. ,  21. ,  24.7,  30.8,  34.9,  26.6,  25.3,  24.7,  21.2,\n",
        "        19.3,  20. ,  16.6,  14.4,  19.4,  19.7,  20.5,  25. ,  23.4,\n",
        "        18.9,  35.4,  24.7,  31.6,  23.3,  19.6,  18.7,  16. ,  22.2,\n",
        "        25. ,  33. ,  23.5,  19.4,  22. ,  17.4,  20.9,  24.2,  21.7,\n",
        "        22.8,  23.4,  24.1,  21.4,  20. ,  20.8,  21.2,  20.3,  28. ,\n",
        "        23.9,  24.8,  22.9,  23.9,  26.6,  22.5,  22.2,  23.6,  28.7,\n",
        "        22.6,  22. ,  22.9,  25. ,  20.6,  28.4,  21.4,  38.7,  43.8,\n",
        "        33.2,  27.5,  26.5,  18.6,  19.3,  20.1,  19.5,  19.5,  20.4,\n",
        "        19.8,  19.4,  21.7,  22.8,  18.8,  18.7,  18.5,  18.3,  21.2,\n",
        "        19.2,  20.4,  19.3,  22. ,  20.3,  20.5,  17.3,  18.8,  21.4,\n",
        "        15.7,  16.2,  18. ,  14.3,  19.2,  19.6,  23. ,  18.4,  15.6,\n",
        "        18.1,  17.4,  17.1,  13.3,  17.8,  14. ,  14.4,  13.4,  15.6,\n",
        "        11.8,  13.8,  15.6,  14.6,  17.8,  15.4,  21.5,  19.6,  15.3,\n",
        "        19.4,  17. ,  15.6,  13.1,  41.3,  24.3,  23.3,  27. ,  50. ,\n",
        "        50. ,  50. ,  22.7,  25. ,  50. ,  23.8,  23.8,  22.3,  17.4,\n",
        "        19.1,  23.1,  23.6,  22.6,  29.4,  23.2,  24.6,  29.9,  37.2,\n",
        "        39.8,  36.2,  37.9,  32.5,  26.4,  29.6,  50. ,  32. ,  29.8,\n",
        "        34.9,  37. ,  30.5,  36.4,  31.1,  29.1,  50. ,  33.3,  30.3,\n",
        "        34.6,  34.9,  32.9,  24.1,  42.3,  48.5,  50. ,  22.6,  24.4,\n",
        "        22.5,  24.4,  20. ,  21.7,  19.3,  22.4,  28.1,  23.7,  25. ,\n",
        "        23.3,  28.7,  21.5,  23. ,  26.7,  21.7,  27.5,  30.1,  44.8,\n",
        "        50. ,  37.6,  31.6,  46.7,  31.5,  24.3,  31.7,  41.7,  48.3,\n",
        "        29. ,  24. ,  25.1,  31.5,  23.7,  23.3,  22. ,  20.1,  22.2,\n",
        "        23.7,  17.6,  18.5,  24.3,  20.5,  24.5,  26.2,  24.4,  24.8,\n",
        "        29.6,  42.8,  21.9,  20.9,  44. ,  50. ,  36. ,  30.1,  33.8,\n",
        "        43.1,  48.8,  31. ,  36.5,  22.8,  30.7,  50. ,  43.5,  20.7,\n",
        "        21.1,  25.2,  24.4,  35.2,  32.4,  32. ,  33.2,  33.1,  29.1,\n",
        "        35.1,  45.4,  35.4,  46. ,  50. ,  32.2,  22. ,  20.1,  23.2,\n",
        "        22.3,  24.8,  28.5,  37.3,  27.9,  23.9,  21.7,  28.6,  27.1,\n",
        "        20.3,  22.5,  29. ,  24.8,  22. ,  26.4,  33.1,  36.1,  28.4,\n",
        "        33.4,  28.2,  22.8,  20.3,  16.1,  22.1,  19.4,  21.6,  23.8,\n",
        "        16.2,  17.8,  19.8,  23.1,  21. ,  23.8,  23.1,  20.4,  18.5,\n",
        "        25. ,  24.6,  23. ,  22.2,  19.3,  22.6,  19.8,  17.1,  19.4,\n",
        "        22.2,  20.7,  21.1,  19.5,  18.5,  20.6,  19. ,  18.7,  32.7,\n",
        "        16.5,  23.9,  31.2,  17.5,  17.2,  23.1,  24.5,  26.6,  22.9,\n",
        "        24.1,  18.6,  30.1,  18.2,  20.6,  17.8,  21.7,  22.7,  22.6,\n",
        "        25. ,  19.9,  20.8,  16.8,  21.9,  27.5,  21.9,  23.1,  50. ,\n",
        "        50. ,  50. ,  50. ,  50. ,  13.8,  13.8,  15. ,  13.9,  13.3,\n",
        "        13.1,  10.2,  10.4,  10.9,  11.3,  12.3,   8.8,   7.2,  10.5,\n",
        "         7.4,  10.2,  11.5,  15.1,  23.2,   9.7,  13.8,  12.7,  13.1,\n",
        "        12.5,   8.5,   5. ,   6.3,   5.6,   7.2,  12.1,   8.3,   8.5,\n",
        "         5. ,  11.9,  27.9,  17.2,  27.5,  15. ,  17.2,  17.9,  16.3,\n",
        "         7. ,   7.2,   7.5,  10.4,   8.8,   8.4,  16.7,  14.2,  20.8,\n",
        "        13.4,  11.7,   8.3,  10.2,  10.9,  11. ,   9.5,  14.5,  14.1,\n",
        "        16.1,  14.3,  11.7,  13.4,   9.6,   8.7,   8.4,  12.8,  10.5,\n",
        "        17.1,  18.4,  15.4,  10.8,  11.8,  14.9,  12.6,  14.1,  13. ,\n",
        "        13.4,  15.2,  16.1,  17.8,  14.9,  14.1,  12.7,  13.5,  14.9,\n",
        "        20. ,  16.4,  17.7,  19.5,  20.2,  21.4,  19.9,  19. ,  19.1,\n",
        "        19.1,  20.1,  19.9,  19.6,  23.2,  29.8,  13.8,  13.3,  16.7,\n",
        "        12. ,  14.6,  21.4,  23. ,  23.7,  25. ,  21.8,  20.6,  21.2,\n",
        "        19.1,  20.6,  15.2,   7. ,   8.1,  13.6,  20.1,  21.8,  24.5,\n",
        "        23.1,  19.7,  18.3,  21.2,  17.5,  16.8,  22.4,  20.6,  23.9,\n",
        "        22. ,  11.9])"
       ]
      }
     ],
     "prompt_number": 16
    },
    {
     "cell_type": "code",
     "collapsed": false,
     "input": [
      "plt.scatter(boston.data[:,5], boston.target, color='r')"
     ],
     "language": "python",
     "metadata": {},
     "outputs": [
      {
       "metadata": {},
       "output_type": "pyout",
       "prompt_number": 4,
       "text": [
        "<matplotlib.collections.PathCollection at 0x1120be950>"
       ]
      },
      {
       "metadata": {},
       "output_type": "display_data",
       "png": "[encoded data removed]",
       "text": [
        "<matplotlib.figure.Figure at 0x111ff8650>"
       ]
      }
     ],
     "prompt_number": 4
    },
    {
     "cell_type": "code",
     "collapsed": false,
     "input": [
      "plt.show()"
     ],
     "language": "python",
     "metadata": {},
     "outputs": [],
     "prompt_number": 18
    },
    {
     "cell_type": "code",
     "collapsed": false,
     "input": [
      "#single feature \u306e\u56de\u5e30"
     ],
     "language": "python",
     "metadata": {},
     "outputs": [],
     "prompt_number": 19
    },
    {
     "cell_type": "code",
     "collapsed": false,
     "input": [
      "x = boston.data[:,5]\n",
      "x = np.array([[v] for v in x])  "
     ],
     "language": "python",
     "metadata": {},
     "outputs": [],
     "prompt_number": 5
    },
    {
     "cell_type": "code",
     "collapsed": false,
     "input": [
      "x"
     ],
     "language": "python",
     "metadata": {},
     "outputs": [
      {
       "metadata": {},
       "output_type": "pyout",
       "prompt_number": 21,
       "text": [
        "array([[ 6.575],\n",
        "       [ 6.421],\n",
        "       [ 7.185],\n",
        "       [ 6.998],\n",
        "       [ 7.147],\n",
        "       [ 6.43 ],\n",
        "       [ 6.012],\n",
        "       [ 6.172],\n",
        "       [ 5.631],\n",
        "       [ 6.004],\n",
        "       [ 6.377],\n",
        "       [ 6.009],\n",
        "       [ 5.889],\n",
        "       [ 5.949],\n",
        "       [ 6.096],\n",
        "       [ 5.834],\n",
        "       [ 5.935],\n",
        "       [ 5.99 ],\n",
        "       [ 5.456],\n",
        "       [ 5.727],\n",
        "       [ 5.57 ],\n",
        "       [ 5.965],\n",
        "       [ 6.142],\n",
        "       [ 5.813],\n",
        "       [ 5.924],\n",
        "       [ 5.599],\n",
        "       [ 5.813],\n",
        "       [ 6.047],\n",
        "       [ 6.495],\n",
        "       [ 6.674],\n",
        "       [ 5.713],\n",
        "       [ 6.072],\n",
        "       [ 5.95 ],\n",
        "       [ 5.701],\n",
        "       [ 6.096],\n",
        "       [ 5.933],\n",
        "       [ 5.841],\n",
        "       [ 5.85 ],\n",
        "       [ 5.966],\n",
        "       [ 6.595],\n",
        "       [ 7.024],\n",
        "       [ 6.77 ],\n",
        "       [ 6.169],\n",
        "       [ 6.211],\n",
        "       [ 6.069],\n",
        "       [ 5.682],\n",
        "       [ 5.786],\n",
        "       [ 6.03 ],\n",
        "       [ 5.399],\n",
        "       [ 5.602],\n",
        "       [ 5.963],\n",
        "       [ 6.115],\n",
        "       [ 6.511],\n",
        "       [ 5.998],\n",
        "       [ 5.888],\n",
        "       [ 7.249],\n",
        "       [ 6.383],\n",
        "       [ 6.816],\n",
        "       [ 6.145],\n",
        "       [ 5.927],\n",
        "       [ 5.741],\n",
        "       [ 5.966],\n",
        "       [ 6.456],\n",
        "       [ 6.762],\n",
        "       [ 7.104],\n",
        "       [ 6.29 ],\n",
        "       [ 5.787],\n",
        "       [ 5.878],\n",
        "       [ 5.594],\n",
        "       [ 5.885],\n",
        "       [ 6.417],\n",
        "       [ 5.961],\n",
        "       [ 6.065],\n",
        "       [ 6.245],\n",
        "       [ 6.273],\n",
        "       [ 6.286],\n",
        "       [ 6.279],\n",
        "       [ 6.14 ],\n",
        "       [ 6.232],\n",
        "       [ 5.874],\n",
        "       [ 6.727],\n",
        "       [ 6.619],\n",
        "       [ 6.302],\n",
        "       [ 6.167],\n",
        "       [ 6.389],\n",
        "       [ 6.63 ],\n",
        "       [ 6.015],\n",
        "       [ 6.121],\n",
        "       [ 7.007],\n",
        "       [ 7.079],\n",
        "       [ 6.417],\n",
        "       [ 6.405],\n",
        "       [ 6.442],\n",
        "       [ 6.211],\n",
        "       [ 6.249],\n",
        "       [ 6.625],\n",
        "       [ 6.163],\n",
        "       [ 8.069],\n",
        "       [ 7.82 ],\n",
        "       [ 7.416],\n",
        "       [ 6.727],\n",
        "       [ 6.781],\n",
        "       [ 6.405],\n",
        "       [ 6.137],\n",
        "       [ 6.167],\n",
        "       [ 5.851],\n",
        "       [ 5.836],\n",
        "       [ 6.127],\n",
        "       [ 6.474],\n",
        "       [ 6.229],\n",
        "       [ 6.195],\n",
        "       [ 6.715],\n",
        "       [ 5.913],\n",
        "       [ 6.092],\n",
        "       [ 6.254],\n",
        "       [ 5.928],\n",
        "       [ 6.176],\n",
        "       [ 6.021],\n",
        "       [ 5.872],\n",
        "       [ 5.731],\n",
        "       [ 5.87 ],\n",
        "       [ 6.004],\n",
        "       [ 5.961],\n",
        "       [ 5.856],\n",
        "       [ 5.879],\n",
        "       [ 5.986],\n",
        "       [ 5.613],\n",
        "       [ 5.693],\n",
        "       [ 6.431],\n",
        "       [ 5.637],\n",
        "       [ 6.458],\n",
        "       [ 6.326],\n",
        "       [ 6.372],\n",
        "       [ 5.822],\n",
        "       [ 5.757],\n",
        "       [ 6.335],\n",
        "       [ 5.942],\n",
        "       [ 6.454],\n",
        "       [ 5.857],\n",
        "       [ 6.151],\n",
        "       [ 6.174],\n",
        "       [ 5.019],\n",
        "       [ 5.403],\n",
        "       [ 5.468],\n",
        "       [ 4.903],\n",
        "       [ 6.13 ],\n",
        "       [ 5.628],\n",
        "       [ 4.926],\n",
        "       [ 5.186],\n",
        "       [ 5.597],\n",
        "       [ 6.122],\n",
        "       [ 5.404],\n",
        "       [ 5.012],\n",
        "       [ 5.709],\n",
        "       [ 6.129],\n",
        "       [ 6.152],\n",
        "       [ 5.272],\n",
        "       [ 6.943],\n",
        "       [ 6.066],\n",
        "       [ 6.51 ],\n",
        "       [ 6.25 ],\n",
        "       [ 7.489],\n",
        "       [ 7.802],\n",
        "       [ 8.375],\n",
        "       [ 5.854],\n",
        "       [ 6.101],\n",
        "       [ 7.929],\n",
        "       [ 5.877],\n",
        "       [ 6.319],\n",
        "       [ 6.402],\n",
        "       [ 5.875],\n",
        "       [ 5.88 ],\n",
        "       [ 5.572],\n",
        "       [ 6.416],\n",
        "       [ 5.859],\n",
        "       [ 6.546],\n",
        "       [ 6.02 ],\n",
        "       [ 6.315],\n",
        "       [ 6.86 ],\n",
        "       [ 6.98 ],\n",
        "       [ 7.765],\n",
        "       [ 6.144],\n",
        "       [ 7.155],\n",
        "       [ 6.563],\n",
        "       [ 5.604],\n",
        "       [ 6.153],\n",
        "       [ 7.831],\n",
        "       [ 6.782],\n",
        "       [ 6.556],\n",
        "       [ 7.185],\n",
        "       [ 6.951],\n",
        "       [ 6.739],\n",
        "       [ 7.178],\n",
        "       [ 6.8  ],\n",
        "       [ 6.604],\n",
        "       [ 7.875],\n",
        "       [ 7.287],\n",
        "       [ 7.107],\n",
        "       [ 7.274],\n",
        "       [ 6.975],\n",
        "       [ 7.135],\n",
        "       [ 6.162],\n",
        "       [ 7.61 ],\n",
        "       [ 7.853],\n",
        "       [ 8.034],\n",
        "       [ 5.891],\n",
        "       [ 6.326],\n",
        "       [ 5.783],\n",
        "       [ 6.064],\n",
        "       [ 5.344],\n",
        "       [ 5.96 ],\n",
        "       [ 5.404],\n",
        "       [ 5.807],\n",
        "       [ 6.375],\n",
        "       [ 5.412],\n",
        "       [ 6.182],\n",
        "       [ 5.888],\n",
        "       [ 6.642],\n",
        "       [ 5.951],\n",
        "       [ 6.373],\n",
        "       [ 6.951],\n",
        "       [ 6.164],\n",
        "       [ 6.879],\n",
        "       [ 6.618],\n",
        "       [ 8.266],\n",
        "       [ 8.725],\n",
        "       [ 8.04 ],\n",
        "       [ 7.163],\n",
        "       [ 7.686],\n",
        "       [ 6.552],\n",
        "       [ 5.981],\n",
        "       [ 7.412],\n",
        "       [ 8.337],\n",
        "       [ 8.247],\n",
        "       [ 6.726],\n",
        "       [ 6.086],\n",
        "       [ 6.631],\n",
        "       [ 7.358],\n",
        "       [ 6.481],\n",
        "       [ 6.606],\n",
        "       [ 6.897],\n",
        "       [ 6.095],\n",
        "       [ 6.358],\n",
        "       [ 6.393],\n",
        "       [ 5.593],\n",
        "       [ 5.605],\n",
        "       [ 6.108],\n",
        "       [ 6.226],\n",
        "       [ 6.433],\n",
        "       [ 6.718],\n",
        "       [ 6.487],\n",
        "       [ 6.438],\n",
        "       [ 6.957],\n",
        "       [ 8.259],\n",
        "       [ 6.108],\n",
        "       [ 5.876],\n",
        "       [ 7.454],\n",
        "       [ 8.704],\n",
        "       [ 7.333],\n",
        "       [ 6.842],\n",
        "       [ 7.203],\n",
        "       [ 7.52 ],\n",
        "       [ 8.398],\n",
        "       [ 7.327],\n",
        "       [ 7.206],\n",
        "       [ 5.56 ],\n",
        "       [ 7.014],\n",
        "       [ 8.297],\n",
        "       [ 7.47 ],\n",
        "       [ 5.92 ],\n",
        "       [ 5.856],\n",
        "       [ 6.24 ],\n",
        "       [ 6.538],\n",
        "       [ 7.691],\n",
        "       [ 6.758],\n",
        "       [ 6.854],\n",
        "       [ 7.267],\n",
        "       [ 6.826],\n",
        "       [ 6.482],\n",
        "       [ 6.812],\n",
        "       [ 7.82 ],\n",
        "       [ 6.968],\n",
        "       [ 7.645],\n",
        "       [ 7.923],\n",
        "       [ 7.088],\n",
        "       [ 6.453],\n",
        "       [ 6.23 ],\n",
        "       [ 6.209],\n",
        "       [ 6.315],\n",
        "       [ 6.565],\n",
        "       [ 6.861],\n",
        "       [ 7.148],\n",
        "       [ 6.63 ],\n",
        "       [ 6.127],\n",
        "       [ 6.009],\n",
        "       [ 6.678],\n",
        "       [ 6.549],\n",
        "       [ 5.79 ],\n",
        "       [ 6.345],\n",
        "       [ 7.041],\n",
        "       [ 6.871],\n",
        "       [ 6.59 ],\n",
        "       [ 6.495],\n",
        "       [ 6.982],\n",
        "       [ 7.236],\n",
        "       [ 6.616],\n",
        "       [ 7.42 ],\n",
        "       [ 6.849],\n",
        "       [ 6.635],\n",
        "       [ 5.972],\n",
        "       [ 4.973],\n",
        "       [ 6.122],\n",
        "       [ 6.023],\n",
        "       [ 6.266],\n",
        "       [ 6.567],\n",
        "       [ 5.705],\n",
        "       [ 5.914],\n",
        "       [ 5.782],\n",
        "       [ 6.382],\n",
        "       [ 6.113],\n",
        "       [ 6.426],\n",
        "       [ 6.376],\n",
        "       [ 6.041],\n",
        "       [ 5.708],\n",
        "       [ 6.415],\n",
        "       [ 6.431],\n",
        "       [ 6.312],\n",
        "       [ 6.083],\n",
        "       [ 5.868],\n",
        "       [ 6.333],\n",
        "       [ 6.144],\n",
        "       [ 5.706],\n",
        "       [ 6.031],\n",
        "       [ 6.316],\n",
        "       [ 6.31 ],\n",
        "       [ 6.037],\n",
        "       [ 5.869],\n",
        "       [ 5.895],\n",
        "       [ 6.059],\n",
        "       [ 5.985],\n",
        "       [ 5.968],\n",
        "       [ 7.241],\n",
        "       [ 6.54 ],\n",
        "       [ 6.696],\n",
        "       [ 6.874],\n",
        "       [ 6.014],\n",
        "       [ 5.898],\n",
        "       [ 6.516],\n",
        "       [ 6.635],\n",
        "       [ 6.939],\n",
        "       [ 6.49 ],\n",
        "       [ 6.579],\n",
        "       [ 5.884],\n",
        "       [ 6.728],\n",
        "       [ 5.663],\n",
        "       [ 5.936],\n",
        "       [ 6.212],\n",
        "       [ 6.395],\n",
        "       [ 6.127],\n",
        "       [ 6.112],\n",
        "       [ 6.398],\n",
        "       [ 6.251],\n",
        "       [ 5.362],\n",
        "       [ 5.803],\n",
        "       [ 8.78 ],\n",
        "       [ 3.561],\n",
        "       [ 4.963],\n",
        "       [ 3.863],\n",
        "       [ 4.97 ],\n",
        "       [ 6.683],\n",
        "       [ 7.016],\n",
        "       [ 6.216],\n",
        "       [ 5.875],\n",
        "       [ 4.906],\n",
        "       [ 4.138],\n",
        "       [ 7.313],\n",
        "       [ 6.649],\n",
        "       [ 6.794],\n",
        "       [ 6.38 ],\n",
        "       [ 6.223],\n",
        "       [ 6.968],\n",
        "       [ 6.545],\n",
        "       [ 5.536],\n",
        "       [ 5.52 ],\n",
        "       [ 4.368],\n",
        "       [ 5.277],\n",
        "       [ 4.652],\n",
        "       [ 5.   ],\n",
        "       [ 4.88 ],\n",
        "       [ 5.39 ],\n",
        "       [ 5.713],\n",
        "       [ 6.051],\n",
        "       [ 5.036],\n",
        "       [ 6.193],\n",
        "       [ 5.887],\n",
        "       [ 6.471],\n",
        "       [ 6.405],\n",
        "       [ 5.747],\n",
        "       [ 5.453],\n",
        "       [ 5.852],\n",
        "       [ 5.987],\n",
        "       [ 6.343],\n",
        "       [ 6.404],\n",
        "       [ 5.349],\n",
        "       [ 5.531],\n",
        "       [ 5.683],\n",
        "       [ 4.138],\n",
        "       [ 5.608],\n",
        "       [ 5.617],\n",
        "       [ 6.852],\n",
        "       [ 5.757],\n",
        "       [ 6.657],\n",
        "       [ 4.628],\n",
        "       [ 5.155],\n",
        "       [ 4.519],\n",
        "       [ 6.434],\n",
        "       [ 6.782],\n",
        "       [ 5.304],\n",
        "       [ 5.957],\n",
        "       [ 6.824],\n",
        "       [ 6.411],\n",
        "       [ 6.006],\n",
        "       [ 5.648],\n",
        "       [ 6.103],\n",
        "       [ 5.565],\n",
        "       [ 5.896],\n",
        "       [ 5.837],\n",
        "       [ 6.202],\n",
        "       [ 6.193],\n",
        "       [ 6.38 ],\n",
        "       [ 6.348],\n",
        "       [ 6.833],\n",
        "       [ 6.425],\n",
        "       [ 6.436],\n",
        "       [ 6.208],\n",
        "       [ 6.629],\n",
        "       [ 6.461],\n",
        "       [ 6.152],\n",
        "       [ 5.935],\n",
        "       [ 5.627],\n",
        "       [ 5.818],\n",
        "       [ 6.406],\n",
        "       [ 6.219],\n",
        "       [ 6.485],\n",
        "       [ 5.854],\n",
        "       [ 6.459],\n",
        "       [ 6.341],\n",
        "       [ 6.251],\n",
        "       [ 6.185],\n",
        "       [ 6.417],\n",
        "       [ 6.749],\n",
        "       [ 6.655],\n",
        "       [ 6.297],\n",
        "       [ 7.393],\n",
        "       [ 6.728],\n",
        "       [ 6.525],\n",
        "       [ 5.976],\n",
        "       [ 5.936],\n",
        "       [ 6.301],\n",
        "       [ 6.081],\n",
        "       [ 6.701],\n",
        "       [ 6.376],\n",
        "       [ 6.317],\n",
        "       [ 6.513],\n",
        "       [ 6.209],\n",
        "       [ 5.759],\n",
        "       [ 5.952],\n",
        "       [ 6.003],\n",
        "       [ 5.926],\n",
        "       [ 5.713],\n",
        "       [ 6.167],\n",
        "       [ 6.229],\n",
        "       [ 6.437],\n",
        "       [ 6.98 ],\n",
        "       [ 5.427],\n",
        "       [ 6.162],\n",
        "       [ 6.484],\n",
        "       [ 5.304],\n",
        "       [ 6.185],\n",
        "       [ 6.229],\n",
        "       [ 6.242],\n",
        "       [ 6.75 ],\n",
        "       [ 7.061],\n",
        "       [ 5.762],\n",
        "       [ 5.871],\n",
        "       [ 6.312],\n",
        "       [ 6.114],\n",
        "       [ 5.905],\n",
        "       [ 5.454],\n",
        "       [ 5.414],\n",
        "       [ 5.093],\n",
        "       [ 5.983],\n",
        "       [ 5.983],\n",
        "       [ 5.707],\n",
        "       [ 5.926],\n",
        "       [ 5.67 ],\n",
        "       [ 5.39 ],\n",
        "       [ 5.794],\n",
        "       [ 6.019],\n",
        "       [ 5.569],\n",
        "       [ 6.027],\n",
        "       [ 6.593],\n",
        "       [ 6.12 ],\n",
        "       [ 6.976],\n",
        "       [ 6.794],\n",
        "       [ 6.03 ]])"
       ]
      }
     ],
     "prompt_number": 21
    },
    {
     "cell_type": "code",
     "collapsed": false,
     "input": [
      "y = boston.target"
     ],
     "language": "python",
     "metadata": {},
     "outputs": [],
     "prompt_number": 22
    },
    {
     "cell_type": "code",
     "collapsed": false,
     "input": [
      "y"
     ],
     "language": "python",
     "metadata": {},
     "outputs": [
      {
       "metadata": {},
       "output_type": "pyout",
       "prompt_number": 23,
       "text": [
        "array([ 24. ,  21.6,  34.7,  33.4,  36.2,  28.7,  22.9,  27.1,  16.5,\n",
        "        18.9,  15. ,  18.9,  21.7,  20.4,  18.2,  19.9,  23.1,  17.5,\n",
        "        20.2,  18.2,  13.6,  19.6,  15.2,  14.5,  15.6,  13.9,  16.6,\n",
        "        14.8,  18.4,  21. ,  12.7,  14.5,  13.2,  13.1,  13.5,  18.9,\n",
        "        20. ,  21. ,  24.7,  30.8,  34.9,  26.6,  25.3,  24.7,  21.2,\n",
        "        19.3,  20. ,  16.6,  14.4,  19.4,  19.7,  20.5,  25. ,  23.4,\n",
        "        18.9,  35.4,  24.7,  31.6,  23.3,  19.6,  18.7,  16. ,  22.2,\n",
        "        25. ,  33. ,  23.5,  19.4,  22. ,  17.4,  20.9,  24.2,  21.7,\n",
        "        22.8,  23.4,  24.1,  21.4,  20. ,  20.8,  21.2,  20.3,  28. ,\n",
        "        23.9,  24.8,  22.9,  23.9,  26.6,  22.5,  22.2,  23.6,  28.7,\n",
        "        22.6,  22. ,  22.9,  25. ,  20.6,  28.4,  21.4,  38.7,  43.8,\n",
        "        33.2,  27.5,  26.5,  18.6,  19.3,  20.1,  19.5,  19.5,  20.4,\n",
        "        19.8,  19.4,  21.7,  22.8,  18.8,  18.7,  18.5,  18.3,  21.2,\n",
        "        19.2,  20.4,  19.3,  22. ,  20.3,  20.5,  17.3,  18.8,  21.4,\n",
        "        15.7,  16.2,  18. ,  14.3,  19.2,  19.6,  23. ,  18.4,  15.6,\n",
        "        18.1,  17.4,  17.1,  13.3,  17.8,  14. ,  14.4,  13.4,  15.6,\n",
        "        11.8,  13.8,  15.6,  14.6,  17.8,  15.4,  21.5,  19.6,  15.3,\n",
        "        19.4,  17. ,  15.6,  13.1,  41.3,  24.3,  23.3,  27. ,  50. ,\n",
        "        50. ,  50. ,  22.7,  25. ,  50. ,  23.8,  23.8,  22.3,  17.4,\n",
        "        19.1,  23.1,  23.6,  22.6,  29.4,  23.2,  24.6,  29.9,  37.2,\n",
        "        39.8,  36.2,  37.9,  32.5,  26.4,  29.6,  50. ,  32. ,  29.8,\n",
        "        34.9,  37. ,  30.5,  36.4,  31.1,  29.1,  50. ,  33.3,  30.3,\n",
        "        34.6,  34.9,  32.9,  24.1,  42.3,  48.5,  50. ,  22.6,  24.4,\n",
        "        22.5,  24.4,  20. ,  21.7,  19.3,  22.4,  28.1,  23.7,  25. ,\n",
        "        23.3,  28.7,  21.5,  23. ,  26.7,  21.7,  27.5,  30.1,  44.8,\n",
        "        50. ,  37.6,  31.6,  46.7,  31.5,  24.3,  31.7,  41.7,  48.3,\n",
        "        29. ,  24. ,  25.1,  31.5,  23.7,  23.3,  22. ,  20.1,  22.2,\n",
        "        23.7,  17.6,  18.5,  24.3,  20.5,  24.5,  26.2,  24.4,  24.8,\n",
        "        29.6,  42.8,  21.9,  20.9,  44. ,  50. ,  36. ,  30.1,  33.8,\n",
        "        43.1,  48.8,  31. ,  36.5,  22.8,  30.7,  50. ,  43.5,  20.7,\n",
        "        21.1,  25.2,  24.4,  35.2,  32.4,  32. ,  33.2,  33.1,  29.1,\n",
        "        35.1,  45.4,  35.4,  46. ,  50. ,  32.2,  22. ,  20.1,  23.2,\n",
        "        22.3,  24.8,  28.5,  37.3,  27.9,  23.9,  21.7,  28.6,  27.1,\n",
        "        20.3,  22.5,  29. ,  24.8,  22. ,  26.4,  33.1,  36.1,  28.4,\n",
        "        33.4,  28.2,  22.8,  20.3,  16.1,  22.1,  19.4,  21.6,  23.8,\n",
        "        16.2,  17.8,  19.8,  23.1,  21. ,  23.8,  23.1,  20.4,  18.5,\n",
        "        25. ,  24.6,  23. ,  22.2,  19.3,  22.6,  19.8,  17.1,  19.4,\n",
        "        22.2,  20.7,  21.1,  19.5,  18.5,  20.6,  19. ,  18.7,  32.7,\n",
        "        16.5,  23.9,  31.2,  17.5,  17.2,  23.1,  24.5,  26.6,  22.9,\n",
        "        24.1,  18.6,  30.1,  18.2,  20.6,  17.8,  21.7,  22.7,  22.6,\n",
        "        25. ,  19.9,  20.8,  16.8,  21.9,  27.5,  21.9,  23.1,  50. ,\n",
        "        50. ,  50. ,  50. ,  50. ,  13.8,  13.8,  15. ,  13.9,  13.3,\n",
        "        13.1,  10.2,  10.4,  10.9,  11.3,  12.3,   8.8,   7.2,  10.5,\n",
        "         7.4,  10.2,  11.5,  15.1,  23.2,   9.7,  13.8,  12.7,  13.1,\n",
        "        12.5,   8.5,   5. ,   6.3,   5.6,   7.2,  12.1,   8.3,   8.5,\n",
        "         5. ,  11.9,  27.9,  17.2,  27.5,  15. ,  17.2,  17.9,  16.3,\n",
        "         7. ,   7.2,   7.5,  10.4,   8.8,   8.4,  16.7,  14.2,  20.8,\n",
        "        13.4,  11.7,   8.3,  10.2,  10.9,  11. ,   9.5,  14.5,  14.1,\n",
        "        16.1,  14.3,  11.7,  13.4,   9.6,   8.7,   8.4,  12.8,  10.5,\n",
        "        17.1,  18.4,  15.4,  10.8,  11.8,  14.9,  12.6,  14.1,  13. ,\n",
        "        13.4,  15.2,  16.1,  17.8,  14.9,  14.1,  12.7,  13.5,  14.9,\n",
        "        20. ,  16.4,  17.7,  19.5,  20.2,  21.4,  19.9,  19. ,  19.1,\n",
        "        19.1,  20.1,  19.9,  19.6,  23.2,  29.8,  13.8,  13.3,  16.7,\n",
        "        12. ,  14.6,  21.4,  23. ,  23.7,  25. ,  21.8,  20.6,  21.2,\n",
        "        19.1,  20.6,  15.2,   7. ,   8.1,  13.6,  20.1,  21.8,  24.5,\n",
        "        23.1,  19.7,  18.3,  21.2,  17.5,  16.8,  22.4,  20.6,  23.9,\n",
        "        22. ,  11.9])"
       ]
      }
     ],
     "prompt_number": 23
    },
    {
     "cell_type": "code",
     "collapsed": false,
     "input": [
      "#\u50be\u304d\u306e\u8a08\u7b97\n",
      "slope,total_error ,_,_ = np.linalg.lstsq(x,y)"
     ],
     "language": "python",
     "metadata": {},
     "outputs": [],
     "prompt_number": 31
    },
    {
     "cell_type": "code",
     "collapsed": false,
     "input": [
      "slope"
     ],
     "language": "python",
     "metadata": {},
     "outputs": [
      {
       "metadata": {},
       "output_type": "pyout",
       "prompt_number": 32,
       "text": [
        "array([ 3.6533504])"
       ]
      }
     ],
     "prompt_number": 32
    },
    {
     "cell_type": "code",
     "collapsed": false,
     "input": [
      "total_error"
     ],
     "language": "python",
     "metadata": {},
     "outputs": [
      {
       "metadata": {},
       "output_type": "pyout",
       "prompt_number": 33,
       "text": [
        "array([ 29555.78152864])"
       ]
      }
     ],
     "prompt_number": 33
    },
    {
     "cell_type": "code",
     "collapsed": false,
     "input": [
      "rmse = np.sqrt(total_error[0]/len(x))\n",
      "print('RMSE on training: {}'.format(rmse))"
     ],
     "language": "python",
     "metadata": {},
     "outputs": [
      {
       "output_type": "stream",
       "stream": "stdout",
       "text": [
        "RMSE on training: 7.64268509309\n"
       ]
      }
     ],
     "prompt_number": 35
    },
    {
     "cell_type": "code",
     "collapsed": false,
     "input": [
      "#single feature + bias"
     ],
     "language": "python",
     "metadata": {},
     "outputs": [],
     "prompt_number": 36
    },
    {
     "cell_type": "code",
     "collapsed": false,
     "input": [
      "x = boston.data[:,5]\n",
      "x = np.array([[v,1] for v in x])"
     ],
     "language": "python",
     "metadata": {},
     "outputs": [],
     "prompt_number": 47
    },
    {
     "cell_type": "code",
     "collapsed": false,
     "input": [
      "x"
     ],
     "language": "python",
     "metadata": {},
     "outputs": [
      {
       "metadata": {},
       "output_type": "pyout",
       "prompt_number": 48,
       "text": [
        "array([[ 6.575,  1.   ],\n",
        "       [ 6.421,  1.   ],\n",
        "       [ 7.185,  1.   ],\n",
        "       ..., \n",
        "       [ 6.976,  1.   ],\n",
        "       [ 6.794,  1.   ],\n",
        "       [ 6.03 ,  1.   ]])"
       ]
      }
     ],
     "prompt_number": 48
    },
    {
     "cell_type": "code",
     "collapsed": false,
     "input": [
      "y = boston.target"
     ],
     "language": "python",
     "metadata": {},
     "outputs": [],
     "prompt_number": 49
    },
    {
     "cell_type": "code",
     "collapsed": false,
     "input": [
      "y"
     ],
     "language": "python",
     "metadata": {},
     "outputs": [
      {
       "metadata": {},
       "output_type": "pyout",
       "prompt_number": 50,
       "text": [
        "array([ 24. ,  21.6,  34.7,  33.4,  36.2,  28.7,  22.9,  27.1,  16.5,\n",
        "        18.9,  15. ,  18.9,  21.7,  20.4,  18.2,  19.9,  23.1,  17.5,\n",
        "        20.2,  18.2,  13.6,  19.6,  15.2,  14.5,  15.6,  13.9,  16.6,\n",
        "        14.8,  18.4,  21. ,  12.7,  14.5,  13.2,  13.1,  13.5,  18.9,\n",
        "        20. ,  21. ,  24.7,  30.8,  34.9,  26.6,  25.3,  24.7,  21.2,\n",
        "        19.3,  20. ,  16.6,  14.4,  19.4,  19.7,  20.5,  25. ,  23.4,\n",
        "        18.9,  35.4,  24.7,  31.6,  23.3,  19.6,  18.7,  16. ,  22.2,\n",
        "        25. ,  33. ,  23.5,  19.4,  22. ,  17.4,  20.9,  24.2,  21.7,\n",
        "        22.8,  23.4,  24.1,  21.4,  20. ,  20.8,  21.2,  20.3,  28. ,\n",
        "        23.9,  24.8,  22.9,  23.9,  26.6,  22.5,  22.2,  23.6,  28.7,\n",
        "        22.6,  22. ,  22.9,  25. ,  20.6,  28.4,  21.4,  38.7,  43.8,\n",
        "        33.2,  27.5,  26.5,  18.6,  19.3,  20.1,  19.5,  19.5,  20.4,\n",
        "        19.8,  19.4,  21.7,  22.8,  18.8,  18.7,  18.5,  18.3,  21.2,\n",
        "        19.2,  20.4,  19.3,  22. ,  20.3,  20.5,  17.3,  18.8,  21.4,\n",
        "        15.7,  16.2,  18. ,  14.3,  19.2,  19.6,  23. ,  18.4,  15.6,\n",
        "        18.1,  17.4,  17.1,  13.3,  17.8,  14. ,  14.4,  13.4,  15.6,\n",
        "        11.8,  13.8,  15.6,  14.6,  17.8,  15.4,  21.5,  19.6,  15.3,\n",
        "        19.4,  17. ,  15.6,  13.1,  41.3,  24.3,  23.3,  27. ,  50. ,\n",
        "        50. ,  50. ,  22.7,  25. ,  50. ,  23.8,  23.8,  22.3,  17.4,\n",
        "        19.1,  23.1,  23.6,  22.6,  29.4,  23.2,  24.6,  29.9,  37.2,\n",
        "        39.8,  36.2,  37.9,  32.5,  26.4,  29.6,  50. ,  32. ,  29.8,\n",
        "        34.9,  37. ,  30.5,  36.4,  31.1,  29.1,  50. ,  33.3,  30.3,\n",
        "        34.6,  34.9,  32.9,  24.1,  42.3,  48.5,  50. ,  22.6,  24.4,\n",
        "        22.5,  24.4,  20. ,  21.7,  19.3,  22.4,  28.1,  23.7,  25. ,\n",
        "        23.3,  28.7,  21.5,  23. ,  26.7,  21.7,  27.5,  30.1,  44.8,\n",
        "        50. ,  37.6,  31.6,  46.7,  31.5,  24.3,  31.7,  41.7,  48.3,\n",
        "        29. ,  24. ,  25.1,  31.5,  23.7,  23.3,  22. ,  20.1,  22.2,\n",
        "        23.7,  17.6,  18.5,  24.3,  20.5,  24.5,  26.2,  24.4,  24.8,\n",
        "        29.6,  42.8,  21.9,  20.9,  44. ,  50. ,  36. ,  30.1,  33.8,\n",
        "        43.1,  48.8,  31. ,  36.5,  22.8,  30.7,  50. ,  43.5,  20.7,\n",
        "        21.1,  25.2,  24.4,  35.2,  32.4,  32. ,  33.2,  33.1,  29.1,\n",
        "        35.1,  45.4,  35.4,  46. ,  50. ,  32.2,  22. ,  20.1,  23.2,\n",
        "        22.3,  24.8,  28.5,  37.3,  27.9,  23.9,  21.7,  28.6,  27.1,\n",
        "        20.3,  22.5,  29. ,  24.8,  22. ,  26.4,  33.1,  36.1,  28.4,\n",
        "        33.4,  28.2,  22.8,  20.3,  16.1,  22.1,  19.4,  21.6,  23.8,\n",
        "        16.2,  17.8,  19.8,  23.1,  21. ,  23.8,  23.1,  20.4,  18.5,\n",
        "        25. ,  24.6,  23. ,  22.2,  19.3,  22.6,  19.8,  17.1,  19.4,\n",
        "        22.2,  20.7,  21.1,  19.5,  18.5,  20.6,  19. ,  18.7,  32.7,\n",
        "        16.5,  23.9,  31.2,  17.5,  17.2,  23.1,  24.5,  26.6,  22.9,\n",
        "        24.1,  18.6,  30.1,  18.2,  20.6,  17.8,  21.7,  22.7,  22.6,\n",
        "        25. ,  19.9,  20.8,  16.8,  21.9,  27.5,  21.9,  23.1,  50. ,\n",
        "        50. ,  50. ,  50. ,  50. ,  13.8,  13.8,  15. ,  13.9,  13.3,\n",
        "        13.1,  10.2,  10.4,  10.9,  11.3,  12.3,   8.8,   7.2,  10.5,\n",
        "         7.4,  10.2,  11.5,  15.1,  23.2,   9.7,  13.8,  12.7,  13.1,\n",
        "        12.5,   8.5,   5. ,   6.3,   5.6,   7.2,  12.1,   8.3,   8.5,\n",
        "         5. ,  11.9,  27.9,  17.2,  27.5,  15. ,  17.2,  17.9,  16.3,\n",
        "         7. ,   7.2,   7.5,  10.4,   8.8,   8.4,  16.7,  14.2,  20.8,\n",
        "        13.4,  11.7,   8.3,  10.2,  10.9,  11. ,   9.5,  14.5,  14.1,\n",
        "        16.1,  14.3,  11.7,  13.4,   9.6,   8.7,   8.4,  12.8,  10.5,\n",
        "        17.1,  18.4,  15.4,  10.8,  11.8,  14.9,  12.6,  14.1,  13. ,\n",
        "        13.4,  15.2,  16.1,  17.8,  14.9,  14.1,  12.7,  13.5,  14.9,\n",
        "        20. ,  16.4,  17.7,  19.5,  20.2,  21.4,  19.9,  19. ,  19.1,\n",
        "        19.1,  20.1,  19.9,  19.6,  23.2,  29.8,  13.8,  13.3,  16.7,\n",
        "        12. ,  14.6,  21.4,  23. ,  23.7,  25. ,  21.8,  20.6,  21.2,\n",
        "        19.1,  20.6,  15.2,   7. ,   8.1,  13.6,  20.1,  21.8,  24.5,\n",
        "        23.1,  19.7,  18.3,  21.2,  17.5,  16.8,  22.4,  20.6,  23.9,\n",
        "        22. ,  11.9])"
       ]
      }
     ],
     "prompt_number": 50
    },
    {
     "cell_type": "code",
     "collapsed": false,
     "input": [
      "(slope,bias),total_error,_,_ = np.linalg.lstsq(x,y)"
     ],
     "language": "python",
     "metadata": {},
     "outputs": [],
     "prompt_number": 51
    },
    {
     "cell_type": "code",
     "collapsed": false,
     "input": [
      "slope"
     ],
     "language": "python",
     "metadata": {},
     "outputs": [
      {
       "metadata": {},
       "output_type": "pyout",
       "prompt_number": 52,
       "text": [
        "9.1021089811803098"
       ]
      }
     ],
     "prompt_number": 52
    },
    {
     "cell_type": "code",
     "collapsed": false,
     "input": [
      "bias"
     ],
     "language": "python",
     "metadata": {},
     "outputs": [
      {
       "metadata": {},
       "output_type": "pyout",
       "prompt_number": 53,
       "text": [
        "-34.670620776438568"
       ]
      }
     ],
     "prompt_number": 53
    },
    {
     "cell_type": "code",
     "collapsed": false,
     "input": [
      "(slope,bias),total_error,_,_ = np.linalg.lstsq(x,y)"
     ],
     "language": "python",
     "metadata": {},
     "outputs": [],
     "prompt_number": 54
    },
    {
     "cell_type": "code",
     "collapsed": false,
     "input": [
      "total_error"
     ],
     "language": "python",
     "metadata": {},
     "outputs": [
      {
       "metadata": {},
       "output_type": "pyout",
       "prompt_number": 55,
       "text": [
        "array([ 22061.87919621])"
       ]
      }
     ],
     "prompt_number": 55
    },
    {
     "cell_type": "code",
     "collapsed": false,
     "input": [
      "rmse = np.sqrt(total_error[0]/len(x))\n",
      "print('RMSE on training: {}'.format(rmse))"
     ],
     "language": "python",
     "metadata": {},
     "outputs": [
      {
       "output_type": "stream",
       "stream": "stdout",
       "text": [
        "RMSE on training: 6.60307138922\n"
       ]
      }
     ],
     "prompt_number": 56
    },
    {
     "cell_type": "code",
     "collapsed": false,
     "input": [
      "# 7.1.1 \u591a\u6b21\u5143\u56de\u5e30\n",
      "# all features + bias"
     ],
     "language": "python",
     "metadata": {},
     "outputs": [],
     "prompt_number": 41
    },
    {
     "cell_type": "code",
     "collapsed": false,
     "input": [
      "x = boston.data"
     ],
     "language": "python",
     "metadata": {},
     "outputs": [],
     "prompt_number": 25
    },
    {
     "cell_type": "code",
     "collapsed": false,
     "input": [
      "x = np.array([np.concatenate( [ v,[1] ] ) for v in x])"
     ],
     "language": "python",
     "metadata": {},
     "outputs": [],
     "prompt_number": 26
    },
    {
     "cell_type": "code",
     "collapsed": false,
     "input": [
      "x"
     ],
     "language": "python",
     "metadata": {},
     "outputs": [
      {
       "metadata": {},
       "output_type": "pyout",
       "prompt_number": 27,
       "text": [
        "array([[  6.32000000e-03,   1.80000000e+01,   2.31000000e+00, ...,\n",
        "          3.96900000e+02,   4.98000000e+00,   1.00000000e+00],\n",
        "       [  2.73100000e-02,   0.00000000e+00,   7.07000000e+00, ...,\n",
        "          3.96900000e+02,   9.14000000e+00,   1.00000000e+00],\n",
        "       [  2.72900000e-02,   0.00000000e+00,   7.07000000e+00, ...,\n",
        "          3.92830000e+02,   4.03000000e+00,   1.00000000e+00],\n",
        "       ..., \n",
        "       [  6.07600000e-02,   0.00000000e+00,   1.19300000e+01, ...,\n",
        "          3.96900000e+02,   5.64000000e+00,   1.00000000e+00],\n",
        "       [  1.09590000e-01,   0.00000000e+00,   1.19300000e+01, ...,\n",
        "          3.93450000e+02,   6.48000000e+00,   1.00000000e+00],\n",
        "       [  4.74100000e-02,   0.00000000e+00,   1.19300000e+01, ...,\n",
        "          3.96900000e+02,   7.88000000e+00,   1.00000000e+00]])"
       ]
      }
     ],
     "prompt_number": 27
    },
    {
     "cell_type": "code",
     "collapsed": false,
     "input": [
      "y = boston.target"
     ],
     "language": "python",
     "metadata": {},
     "outputs": [],
     "prompt_number": 28
    },
    {
     "cell_type": "code",
     "collapsed": false,
     "input": [
      "s,total_error,_,_ = np.linalg.lstsq(x,y)"
     ],
     "language": "python",
     "metadata": {},
     "outputs": [],
     "prompt_number": 29
    },
    {
     "cell_type": "code",
     "collapsed": false,
     "input": [
      "rmse = np.sqrt(total_error[0]/len(x))\n",
      "print('RMSE on training: {}'.format(rmse))"
     ],
     "language": "python",
     "metadata": {},
     "outputs": [
      {
       "output_type": "stream",
       "stream": "stdout",
       "text": [
        "RMSE on training: 4.67950630064\n"
       ]
      }
     ],
     "prompt_number": 30
    },
    {
     "cell_type": "code",
     "collapsed": false,
     "input": [
      "#\u307e\u3068\u3081\u308b\u3068\n",
      "x = boston.data\n",
      "# np.concatenate\u306f\u4e8c\u3064\u306e\u914d\u5217\u30fb\u30ea\u30b9\u30c8\u3092\u7d50\u5408\u3059\u308b\n",
      "# v\u306f\u8907\u6570\u306e\u8981\u7d20\u3092\u6301\u3064\u914d\u5217\u3066\u3099\u3042\u308b\u305f\u3081\u3001\n",
      "# \u3053\u3053\u3066\u3099\u306fnp.concatenate\u3092\u7528\u3044\u3066\u3001\u30cf\u3099\u30a4\u30a2\u30b9\u9805\u3092\u8ffd\u52a0\n",
      "x = np.array([np.concatenate( [ v,[1] ] ) for v in x]) #\u6559\u79d1\u66f8\u306e\u4f8b\u306f\u30ab\u30c3\u30b3\u304c\u8db3\u308a\u306a\u3044\n",
      "y = boston.target\n",
      "s,total_error,_,_ = np.linalg.lstsq(x,y)\n",
      "rmse = np.sqrt(total_error[0]/len(x))\n",
      "print('RMSE on training: {}'.format(rmse))"
     ],
     "language": "python",
     "metadata": {},
     "outputs": [
      {
       "output_type": "stream",
       "stream": "stdout",
       "text": [
        "RMSE on training: 4.67950630064\n"
       ]
      }
     ],
     "prompt_number": 31
    },
    {
     "cell_type": "code",
     "collapsed": false,
     "input": [
      "#7.1.2 \u56de\u5e30\u306b\u304a\u3051\u308b\u4ea4\u5dee\u691c\u5b9a\n",
      "#scikit-learn \u3092\u7528\u3044\u305f\u4ea4\u5dee\u691c\u5b9a"
     ],
     "language": "python",
     "metadata": {},
     "outputs": [],
     "prompt_number": 32
    },
    {
     "cell_type": "code",
     "collapsed": false,
     "input": [
      "#LinearRegression\n",
      "#sklearn.linear_model.LinearRegression"
     ],
     "language": "python",
     "metadata": {},
     "outputs": [],
     "prompt_number": 33
    },
    {
     "cell_type": "code",
     "collapsed": false,
     "input": [
      "from sklearn.linear_model import LinearRegression\n",
      "lr = LinearRegression(fit_intercept=True)"
     ],
     "language": "python",
     "metadata": {},
     "outputs": [],
     "prompt_number": 34
    },
    {
     "cell_type": "code",
     "collapsed": false,
     "input": [
      "lr.fit(x,y)"
     ],
     "language": "python",
     "metadata": {},
     "outputs": [
      {
       "metadata": {},
       "output_type": "pyout",
       "prompt_number": 35,
       "text": [
        "LinearRegression(copy_X=True, fit_intercept=True, n_jobs=1, normalize=False)"
       ]
      }
     ],
     "prompt_number": 35
    },
    {
     "cell_type": "code",
     "collapsed": false,
     "input": [
      "#\u6559\u79d1\u66f8\u306emap\u3092\u4f7f\u3046\u66f8\u304d\u65b9\u306f\u30df\u30b9\uff1f\u904e\u53bbver?\n",
      "#p = map(en.predict, x) \u3092\u4f7f\u3046\u3068\u3001y\u3068\u6b21\u5143\u304c\u5408\u308f\u306a\u304f\u306a\u308b\n",
      "p = lr.predict(x) "
     ],
     "language": "python",
     "metadata": {},
     "outputs": [],
     "prompt_number": 36
    },
    {
     "cell_type": "code",
     "collapsed": false,
     "input": [
      "p"
     ],
     "language": "python",
     "metadata": {},
     "outputs": [
      {
       "metadata": {},
       "output_type": "pyout",
       "prompt_number": 37,
       "text": [
        "array([ 30.00821269,  25.0298606 ,  30.5702317 ,  28.60814055,\n",
        "        27.94288232,  25.25940048,  23.00433994,  19.5347558 ,\n",
        "        11.51696539,  18.91981483,  18.9958266 ,  21.58970854,\n",
        "        20.90534851,  19.55535931,  19.2837957 ,  19.30000174,\n",
        "        20.52889993,  16.9096749 ,  16.17067411,  18.40781636,\n",
        "        12.52040454,  17.67104565,  15.82934891,  13.80368317,\n",
        "        15.67708138,  13.3791645 ,  15.46258829,  14.69863607,\n",
        "        19.54518512,  20.87309945,  11.44806825,  18.05900412,\n",
        "         8.78841666,  14.27882319,  13.69097132,  23.81755469,\n",
        "        22.34216285,  23.11123204,  22.91494157,  31.35826216,\n",
        "        34.21485385,  28.0207132 ,  25.20646572,  24.61192851,\n",
        "        22.94438953,  22.10150945,  20.42467417,  18.03614022,\n",
        "         9.10176198,  17.20856571,  21.28259372,  23.97621248,\n",
        "        27.65853521,  24.0521088 ,  15.35989132,  31.14817003,\n",
        "        24.85878746,  33.11017111,  21.77458036,  21.08526739,\n",
        "        17.87203538,  18.50881381,  23.9879809 ,  22.54944098,\n",
        "        23.37068403,  30.36557584,  25.53407332,  21.11758504,\n",
        "        17.42468223,  20.7893086 ,  25.20349174,  21.74490595,\n",
        "        24.56275612,  24.04479519,  25.5091157 ,  23.97076758,\n",
        "        22.94823519,  23.36106095,  21.26432549,  22.4345376 ,\n",
        "        28.40699937,  26.99734716,  26.03807246,  25.06152125,\n",
        "        24.7858613 ,  27.79291889,  22.16927073,  25.89685664,\n",
        "        30.67771522,  30.83225886,  27.12127354,  27.41597825,\n",
        "        28.9456478 ,  29.08668003,  27.04501726,  28.62506705,\n",
        "        24.73038218,  35.78062378,  35.11269515,  32.25115468,\n",
        "        24.57946786,  25.59386215,  19.76439137,  20.31157117,\n",
        "        21.4353635 ,  18.53971968,  17.18572611,  20.74934949,\n",
        "        22.64791346,  19.77000977,  20.64745349,  26.52652691,\n",
        "        20.77440554,  20.71546432,  25.17461484,  20.4273652 ,\n",
        "        23.37862521,  23.69454145,  20.33202239,  20.79378139,\n",
        "        21.92024414,  22.47432006,  20.55884635,  16.36300764,\n",
        "        20.56342111,  22.48570454,  14.61264839,  15.1802607 ,\n",
        "        18.93828443,  14.0574955 ,  20.03651959,  19.41306288,\n",
        "        20.06401034,  15.76005772,  13.24771577,  17.26167729,\n",
        "        15.87759672,  19.36145104,  13.81270814,  16.44782934,\n",
        "        13.56511101,   3.98343974,  14.59241207,  12.14503093,\n",
        "         8.72407108,  12.00815659,  15.80308586,   8.50963929,\n",
        "         9.70965512,  14.79848067,  20.83598096,  18.30017013,\n",
        "        20.12575267,  17.27585681,  22.35997992,  20.07985184,\n",
        "        13.59903744,  33.26635221,  29.03938379,  25.56694529,\n",
        "        32.71732164,  36.78111388,  40.56615533,  41.85122271,\n",
        "        24.79875684,  25.3771545 ,  37.20662185,  23.08244608,\n",
        "        26.40326834,  26.65647433,  22.55412919,  24.2970948 ,\n",
        "        22.98024802,  29.07488389,  26.52620066,  30.72351225,\n",
        "        25.61835359,  29.14203283,  31.43690634,  32.9232938 ,\n",
        "        34.72096487,  27.76792733,  33.88992899,  30.99725805,\n",
        "        22.72124288,  24.76567683,  35.88131719,  33.42696242,\n",
        "        32.41513625,  34.51611818,  30.76057666,  30.29169893,\n",
        "        32.92040221,  32.11459912,  31.56133385,  40.84274603,\n",
        "        36.13046343,  32.66639271,  34.70558647,  30.09276228,\n",
        "        30.64139724,  29.29189704,  37.07062623,  42.02879611,\n",
        "        43.18582722,  22.6923888 ,  23.68420569,  17.85435295,\n",
        "        23.49543857,  17.00872418,  22.39535066,  17.06152243,\n",
        "        22.74106824,  25.21974252,  11.10601161,  24.51300617,\n",
        "        26.60749026,  28.35802444,  24.91860458,  29.69254951,\n",
        "        33.18492755,  23.77145523,  32.14086508,  29.74802362,\n",
        "        38.36605632,  39.80716458,  37.58362546,  32.39769704,\n",
        "        35.45048257,  31.23446481,  24.48478321,  33.28615723,\n",
        "        38.04368164,  37.15737267,  31.71297469,  25.26658017,\n",
        "        30.101515  ,  32.71897655,  28.42735376,  28.42999168,\n",
        "        27.2913215 ,  23.74446671,  24.11878941,  27.40241209,\n",
        "        16.32993575,  13.39695213,  20.01655581,  19.86205904,\n",
        "        21.28604604,  24.07796482,  24.20603792,  25.04201534,\n",
        "        24.91709097,  29.93762975,  23.97709054,  21.69931969,\n",
        "        37.51051381,  43.29459357,  36.48121427,  34.99129701,\n",
        "        34.80865729,  37.16296374,  40.9823638 ,  34.44211691,\n",
        "        35.83178068,  28.24913647,  31.22022312,  40.83256202,\n",
        "        39.31768808,  25.71099424,  22.30344878,  27.20551341,\n",
        "        28.51386352,  35.47494122,  36.11110647,  33.80004807,\n",
        "        35.61141951,  34.84311742,  30.35359323,  35.31260262,\n",
        "        38.79684808,  34.33296541,  40.34038636,  44.67339923,\n",
        "        31.5955473 ,  27.35994642,  20.09520596,  27.04518524,\n",
        "        27.21674397,  26.91105226,  33.43602979,  34.40228785,\n",
        "        31.83374181,  25.82416035,  24.43687139,  28.46348891,\n",
        "        27.36916176,  19.54441878,  29.11480679,  31.90852699,\n",
        "        30.77325183,  28.9430835 ,  28.88108106,  32.79876794,\n",
        "        33.20356949,  30.76568546,  35.55843485,  32.70725436,\n",
        "        28.64759861,  23.59388439,  18.5461558 ,  26.88429024,\n",
        "        23.28485442,  25.55002201,  25.48337323,  20.54343769,\n",
        "        17.61406384,  18.37627933,  24.29187594,  21.3257202 ,\n",
        "        24.88826131,  24.87143049,  22.87255605,  19.4540234 ,\n",
        "        25.11948741,  24.66816374,  23.68209656,  19.33951725,\n",
        "        21.17636041,  24.25306588,  21.59311197,  19.98766667,\n",
        "        23.34079584,  22.13973959,  21.55349196,  20.61808868,\n",
        "        20.1607571 ,  19.28455466,  22.16593919,  21.24893735,\n",
        "        21.42985456,  30.32874523,  22.04915396,  27.70610125,\n",
        "        28.54595004,  16.54657063,  14.78278261,  25.27336772,\n",
        "        27.54088054,  22.14633467,  20.46081206,  20.54472332,\n",
        "        16.88194391,  25.40066956,  14.32299547,  16.5927403 ,\n",
        "        19.63224597,  22.7117302 ,  22.19946949,  19.1989151 ,\n",
        "        22.66091019,  18.92059374,  18.22715359,  20.22444386,\n",
        "        37.47946099,  14.29172583,  15.53697148,  10.82825817,\n",
        "        23.81134987,  32.64787163,  34.61163401,  24.94604102,\n",
        "        26.00259724,   6.12085728,   0.78021126,  25.311373  ,\n",
        "        17.73465914,  20.22593282,  15.83834861,  16.83742401,\n",
        "        14.43123608,  18.47647773,  13.42427933,  13.05677824,\n",
        "         3.27646485,   8.05936467,   6.13903114,   5.62271213,\n",
        "         6.44935154,  14.20597451,  17.21022671,  17.29035065,\n",
        "         9.89064351,  20.21972222,  17.94511052,  20.30017588,\n",
        "        19.28790318,  16.33300008,   6.56843662,  10.87541577,\n",
        "        11.88704097,  17.81098929,  18.25461066,  12.99282707,\n",
        "         7.39319053,   8.25609561,   8.07899971,  19.98563715,\n",
        "        13.69651744,  19.83511412,  15.2345378 ,  16.93112419,\n",
        "         1.69347406,  11.81116263,  -4.28300934,   9.55007844,\n",
        "        13.32635521,   6.88351077,   6.16827417,  14.56933235,\n",
        "        19.59292932,  18.1151686 ,  18.52011987,  13.13707457,\n",
        "        14.59662601,   9.8923749 ,  16.31998048,  14.06750301,\n",
        "        14.22573568,  13.00752251,  18.13277547,  18.66645496,\n",
        "        21.50283795,  17.00039379,  15.93926602,  13.32952716,\n",
        "        14.48949211,   8.78366731,   4.8300317 ,  13.06115528,\n",
        "        12.71101472,  17.2887624 ,  18.73424906,  18.05271013,\n",
        "        11.49855612,  13.00841512,  17.66975577,  18.12342294,\n",
        "        17.51503231,  17.21307203,  16.48238543,  19.40079737,\n",
        "        18.57392951,  22.47833186,  15.24179836,  15.78327609,\n",
        "        12.64853778,  12.84121049,  17.17173661,  18.50906858,\n",
        "        19.02803874,  20.16441773,  19.76975335,  22.42614937,\n",
        "        20.31750314,  17.87618837,  14.3391341 ,  16.93715603,\n",
        "        16.98716629,  18.59431701,  20.16395155,  22.97743546,\n",
        "        22.45110639,  25.5707207 ,  16.39091112,  16.09765427,\n",
        "        20.52835689,  11.5429045 ,  19.20387482,  21.86820603,\n",
        "        23.47052203,  27.10034494,  28.57064813,  21.0839881 ,\n",
        "        19.4490529 ,  22.2189221 ,  19.65423066,  21.324671  ,\n",
        "        11.86231364,   8.22260592,   3.65825168,  13.76275951,\n",
        "        15.93780944,  20.62730097,  20.61035443,  16.88048035,\n",
        "        14.01017244,  19.10825534,  21.29720741,  18.45524217,\n",
        "        20.46764235,  23.53261729,  22.37869798,  27.62934247,\n",
        "        26.12983844,  22.34870269])"
       ]
      }
     ],
     "prompt_number": 37
    },
    {
     "cell_type": "code",
     "collapsed": false,
     "input": [
      "e = p-y"
     ],
     "language": "python",
     "metadata": {},
     "outputs": [],
     "prompt_number": 38
    },
    {
     "cell_type": "code",
     "collapsed": false,
     "input": [
      "e"
     ],
     "language": "python",
     "metadata": {},
     "outputs": [
      {
       "metadata": {},
       "output_type": "pyout",
       "prompt_number": 39,
       "text": [
        "array([  6.00821269e+00,   3.42986060e+00,  -4.12976830e+00,\n",
        "        -4.79185945e+00,  -8.25711768e+00,  -3.44059952e+00,\n",
        "         1.04339941e-01,  -7.56524420e+00,  -4.98303461e+00,\n",
        "         1.98148310e-02,   3.99582660e+00,   2.68970854e+00,\n",
        "        -7.94651488e-01,  -8.44640693e-01,   1.08379570e+00,\n",
        "        -5.99998256e-01,  -2.57110007e+00,  -5.90325101e-01,\n",
        "        -4.02932589e+00,   2.07816357e-01,  -1.07959546e+00,\n",
        "        -1.92895435e+00,   6.29348907e-01,  -6.96316828e-01,\n",
        "         7.70813834e-02,  -5.20835501e-01,  -1.13741171e+00,\n",
        "        -1.01363929e-01,   1.14518512e+00,  -1.26900546e-01,\n",
        "        -1.25193175e+00,   3.55900412e+00,  -4.41158334e+00,\n",
        "         1.17882319e+00,   1.90971317e-01,   4.91755469e+00,\n",
        "         2.34216285e+00,   2.11123204e+00,  -1.78505843e+00,\n",
        "         5.58262157e-01,  -6.85146149e-01,   1.42071320e+00,\n",
        "        -9.35342804e-02,  -8.80714949e-02,   1.74438953e+00,\n",
        "         2.80150945e+00,   4.24674174e-01,   1.43614022e+00,\n",
        "        -5.29823802e+00,  -2.19143429e+00,   1.58259372e+00,\n",
        "         3.47621248e+00,   2.65853521e+00,   6.52108797e-01,\n",
        "        -3.54010868e+00,  -4.25182997e+00,   1.58787464e-01,\n",
        "         1.51017111e+00,  -1.52541964e+00,   1.48526739e+00,\n",
        "        -8.27964625e-01,   2.50881381e+00,   1.78798090e+00,\n",
        "        -2.45055902e+00,  -9.62931597e+00,   6.86557584e+00,\n",
        "         6.13407332e+00,  -8.82414962e-01,   2.46822319e-02,\n",
        "        -1.10691396e-01,   1.00349174e+00,   4.49059486e-02,\n",
        "         1.76275612e+00,   6.44795192e-01,   1.40911570e+00,\n",
        "         2.57076758e+00,   2.94823519e+00,   2.56106095e+00,\n",
        "         6.43254889e-02,   2.13453760e+00,   4.06999367e-01,\n",
        "         3.09734716e+00,   1.23807246e+00,   2.16152125e+00,\n",
        "         8.85861304e-01,   1.19291889e+00,  -3.30729274e-01,\n",
        "         3.69685664e+00,   7.07771522e+00,   2.13225886e+00,\n",
        "         4.52127354e+00,   5.41597825e+00,   6.04564780e+00,\n",
        "         4.08668003e+00,   6.44501726e+00,   2.25067052e-01,\n",
        "         3.33038218e+00,  -2.91937622e+00,  -8.68730485e+00,\n",
        "        -9.48845321e-01,  -2.92053214e+00,  -9.06137851e-01,\n",
        "         1.16439137e+00,   1.01157117e+00,   1.33536350e+00,\n",
        "        -9.60280317e-01,  -2.31427389e+00,   3.49349494e-01,\n",
        "         2.84791346e+00,   3.70009771e-01,  -1.05254651e+00,\n",
        "         3.72652691e+00,   1.97440554e+00,   2.01546432e+00,\n",
        "         6.67461484e+00,   2.12736520e+00,   2.17862521e+00,\n",
        "         4.49454145e+00,  -6.79776135e-02,   1.49378139e+00,\n",
        "        -7.97558587e-02,   2.17432006e+00,   5.88463520e-02,\n",
        "        -9.36992356e-01,   1.76342111e+00,   1.08570454e+00,\n",
        "        -1.08735161e+00,  -1.01973930e+00,   9.38284433e-01,\n",
        "        -2.42504502e-01,   8.36519590e-01,  -1.86937120e-01,\n",
        "        -2.93598966e+00,  -2.63994228e+00,  -2.35228423e+00,\n",
        "        -8.38322710e-01,  -1.52240328e+00,   2.26145104e+00,\n",
        "         5.12708138e-01,  -1.35217066e+00,  -4.34888989e-01,\n",
        "        -1.04165603e+01,   1.19241207e+00,  -3.45496907e+00,\n",
        "        -3.07592892e+00,  -1.79184341e+00,   2.03085863e-01,\n",
        "        -6.09036071e+00,  -8.09034488e+00,  -6.01519327e-01,\n",
        "        -6.64019038e-01,  -1.29982987e+00,   4.82575267e+00,\n",
        "        -2.12414319e+00,   5.35997992e+00,   4.47985184e+00,\n",
        "         4.99037441e-01,  -8.03364779e+00,   4.73938379e+00,\n",
        "         2.26694529e+00,   5.71732164e+00,  -1.32188861e+01,\n",
        "        -9.43384467e+00,  -8.14877729e+00,   2.09875684e+00,\n",
        "         3.77154499e-01,  -1.27933781e+01,  -7.17553923e-01,\n",
        "         2.60326834e+00,   4.35647433e+00,   5.15412919e+00,\n",
        "         5.19709480e+00,  -1.19751980e-01,   5.47488389e+00,\n",
        "         3.92620066e+00,   1.32351225e+00,   2.41835359e+00,\n",
        "         4.54203283e+00,   1.53690634e+00,  -4.27670620e+00,\n",
        "        -5.07903513e+00,  -8.43207267e+00,  -4.01007101e+00,\n",
        "        -1.50274195e+00,  -3.67875712e+00,  -4.83432317e+00,\n",
        "        -1.41186828e+01,   1.42696242e+00,   2.61513625e+00,\n",
        "        -3.83881817e-01,  -6.23942334e+00,  -2.08301073e-01,\n",
        "        -3.47959779e+00,   1.01459912e+00,   2.46133385e+00,\n",
        "        -9.15725397e+00,   2.83046343e+00,   2.36639271e+00,\n",
        "         1.05586470e-01,  -4.80723772e+00,  -2.25860276e+00,\n",
        "         5.19189704e+00,  -5.22937377e+00,  -6.47120389e+00,\n",
        "        -6.81417278e+00,   9.23887977e-02,  -7.15794308e-01,\n",
        "        -4.64564705e+00,  -9.04561434e-01,  -2.99127582e+00,\n",
        "         6.95350660e-01,  -2.23847757e+00,   3.41068242e-01,\n",
        "        -2.88025748e+00,  -1.25939884e+01,  -4.86993833e-01,\n",
        "         3.30749026e+00,  -3.41975565e-01,   3.41860458e+00,\n",
        "         6.69254951e+00,   6.48492755e+00,   2.07145523e+00,\n",
        "         4.64086508e+00,  -3.51976378e-01,  -6.43394368e+00,\n",
        "        -1.01928354e+01,  -1.63745433e-02,   7.97697035e-01,\n",
        "        -1.12495174e+01,  -2.65535193e-01,   1.84783212e-01,\n",
        "         1.58615723e+00,  -3.65631836e+00,  -1.11426273e+01,\n",
        "         2.71297469e+00,   1.26658017e+00,   5.00151500e+00,\n",
        "         1.21897655e+00,   4.72735376e+00,   5.12999168e+00,\n",
        "         5.29132150e+00,   3.64446671e+00,   1.91878941e+00,\n",
        "         3.70241209e+00,  -1.27006425e+00,  -5.10304787e+00,\n",
        "        -4.28344419e+00,  -6.37940962e-01,  -3.21395396e+00,\n",
        "        -2.12203518e+00,  -1.93962076e-01,   2.42015338e-01,\n",
        "        -4.68290903e+00,  -1.28623702e+01,   2.07709054e+00,\n",
        "         7.99319690e-01,  -6.48948619e+00,  -6.70540643e+00,\n",
        "         4.81214265e-01,   4.89129701e+00,   1.00865729e+00,\n",
        "        -5.93703626e+00,  -7.81763620e+00,   3.44211691e+00,\n",
        "        -6.68219322e-01,   5.44913647e+00,   5.20223118e-01,\n",
        "        -9.16743798e+00,  -4.18231192e+00,   5.01099424e+00,\n",
        "         1.20344878e+00,   2.00551341e+00,   4.11386352e+00,\n",
        "         2.74941223e-01,   3.71110647e+00,   1.80004807e+00,\n",
        "         2.41141951e+00,   1.74311742e+00,   1.25359323e+00,\n",
        "         2.12602620e-01,  -6.60315192e+00,  -1.06703459e+00,\n",
        "        -5.65961364e+00,  -5.32660077e+00,  -6.04452704e-01,\n",
        "         5.35994642e+00,  -4.79403771e-03,   3.84518524e+00,\n",
        "         4.91674397e+00,   2.11105226e+00,   4.93602979e+00,\n",
        "        -2.89771215e+00,   3.93374181e+00,   1.92416035e+00,\n",
        "         2.73687139e+00,  -1.36511091e-01,   2.69161758e-01,\n",
        "        -7.55581223e-01,   6.61480679e+00,   2.90852699e+00,\n",
        "         5.97325183e+00,   6.94308350e+00,   2.48108106e+00,\n",
        "        -3.01232056e-01,  -2.89643051e+00,   2.36568546e+00,\n",
        "         2.15843485e+00,   4.50725436e+00,   5.84759861e+00,\n",
        "         3.29388439e+00,   2.44615580e+00,   4.78429024e+00,\n",
        "         3.88485442e+00,   3.95002201e+00,   1.68337323e+00,\n",
        "         4.34343769e+00,  -1.85936163e-01,  -1.42372067e+00,\n",
        "         1.19187594e+00,   3.25720195e-01,   1.08826131e+00,\n",
        "         1.77143049e+00,   2.47255605e+00,   9.54023399e-01,\n",
        "         1.19487412e-01,   6.81637420e-02,   6.82096563e-01,\n",
        "        -2.86048275e+00,   1.87636041e+00,   1.65306588e+00,\n",
        "         1.79311197e+00,   2.88766667e+00,   3.94079584e+00,\n",
        "        -6.02604148e-02,   8.53491963e-01,  -4.81911321e-01,\n",
        "         6.60757096e-01,   7.84554664e-01,   1.56593919e+00,\n",
        "         2.24893735e+00,   2.72985456e+00,  -2.37125477e+00,\n",
        "         5.54915396e+00,   3.80610125e+00,  -2.65404996e+00,\n",
        "        -9.53429369e-01,  -2.41721739e+00,   2.17336772e+00,\n",
        "         3.04088054e+00,  -4.45366533e+00,  -2.43918794e+00,\n",
        "        -3.55527668e+00,  -1.71805609e+00,  -4.69933044e+00,\n",
        "        -3.87700453e+00,  -4.00725970e+00,   1.83224597e+00,\n",
        "         1.01173020e+00,  -5.00530508e-01,  -3.40108490e+00,\n",
        "        -2.33908981e+00,  -9.79406257e-01,  -2.57284641e+00,\n",
        "         3.42444386e+00,   1.55794610e+01,  -1.32082742e+01,\n",
        "        -6.36302852e+00,  -1.22717418e+01,  -2.61886501e+01,\n",
        "        -1.73521284e+01,  -1.53883660e+01,  -2.50539590e+01,\n",
        "        -2.39974028e+01,  -7.67914272e+00,  -1.30197887e+01,\n",
        "         1.03113730e+01,   3.83465914e+00,   6.92593282e+00,\n",
        "         2.73834861e+00,   6.63742401e+00,   4.03123608e+00,\n",
        "         7.57647773e+00,   2.12427933e+00,   7.56778235e-01,\n",
        "        -5.52353515e+00,   8.59364673e-01,  -4.36096886e+00,\n",
        "        -1.77728787e+00,  -3.75064846e+00,   2.70597451e+00,\n",
        "         2.11022671e+00,  -5.90964935e+00,   1.90643515e-01,\n",
        "         6.41972222e+00,   5.24511052e+00,   7.20017588e+00,\n",
        "         6.78790318e+00,   7.83300008e+00,   1.56843662e+00,\n",
        "         4.57541577e+00,   6.28704097e+00,   1.06109893e+01,\n",
        "         6.15461066e+00,   4.69282707e+00,  -1.10680947e+00,\n",
        "         3.25609561e+00,  -3.82100029e+00,  -7.91436285e+00,\n",
        "        -3.50348256e+00,  -7.66488588e+00,   2.34537805e-01,\n",
        "        -2.68875810e-01,  -1.62065259e+01,  -4.48883737e+00,\n",
        "        -1.12830093e+01,   2.35007844e+00,   5.82635521e+00,\n",
        "        -3.51648923e+00,  -2.63172583e+00,   6.16933235e+00,\n",
        "         2.89292932e+00,   3.91516860e+00,  -2.27988013e+00,\n",
        "        -2.62925428e-01,   2.89662601e+00,   1.59237490e+00,\n",
        "         6.11998048e+00,   3.16750301e+00,   3.22573568e+00,\n",
        "         3.50752251e+00,   3.63277547e+00,   4.56645496e+00,\n",
        "         5.40283795e+00,   2.70039379e+00,   4.23926602e+00,\n",
        "        -7.04728399e-02,   4.88949211e+00,   8.36673082e-02,\n",
        "        -3.56996830e+00,   2.61155281e-01,   2.21101472e+00,\n",
        "         1.88762404e-01,   3.34249061e-01,   2.65271013e+00,\n",
        "         6.98556119e-01,   1.20841512e+00,   2.76975577e+00,\n",
        "         5.52342294e+00,   3.41503231e+00,   4.21307203e+00,\n",
        "         3.08238543e+00,   4.20079737e+00,   2.47392951e+00,\n",
        "         4.67833186e+00,   3.41798355e-01,   1.68327609e+00,\n",
        "        -5.14622246e-02,  -6.58789511e-01,   2.27173661e+00,\n",
        "        -1.49093142e+00,   2.62803874e+00,   2.46441773e+00,\n",
        "         2.69753352e-01,   2.22614937e+00,  -1.08249686e+00,\n",
        "        -2.02381163e+00,  -4.66086590e+00,  -2.16284397e+00,\n",
        "        -2.11283371e+00,  -1.50568299e+00,   2.63951546e-01,\n",
        "         3.37743546e+00,  -7.48893611e-01,  -4.22927930e+00,\n",
        "         2.59091112e+00,   2.79765427e+00,   3.82835689e+00,\n",
        "        -4.57095495e-01,   4.60387482e+00,   4.68206028e-01,\n",
        "         4.70522032e-01,   3.40034494e+00,   3.57064813e+00,\n",
        "        -7.16011898e-01,  -1.15094710e+00,   1.01892210e+00,\n",
        "         5.54230662e-01,   7.24670996e-01,  -3.33768636e+00,\n",
        "         1.22260592e+00,  -4.44174832e+00,   1.62759507e-01,\n",
        "        -4.16219056e+00,  -1.17269903e+00,  -3.88964557e+00,\n",
        "        -6.21951965e+00,  -5.68982756e+00,   8.08255342e-01,\n",
        "         9.72074095e-02,   9.55242174e-01,   3.66764235e+00,\n",
        "         1.13261729e+00,   1.77869798e+00,   3.72934247e+00,\n",
        "         4.12983844e+00,   1.04487027e+01])"
       ]
      }
     ],
     "prompt_number": 39
    },
    {
     "cell_type": "code",
     "collapsed": false,
     "input": [
      "total_error = np.sum(e*e)"
     ],
     "language": "python",
     "metadata": {},
     "outputs": [],
     "prompt_number": 40
    },
    {
     "cell_type": "code",
     "collapsed": false,
     "input": [
      "total_error"
     ],
     "language": "python",
     "metadata": {},
     "outputs": [
      {
       "metadata": {},
       "output_type": "pyout",
       "prompt_number": 41,
       "text": [
        "11080.276284149875"
       ]
      }
     ],
     "prompt_number": 41
    },
    {
     "cell_type": "code",
     "collapsed": false,
     "input": [
      "rmse_train = np.sqrt(total_error/len(p))"
     ],
     "language": "python",
     "metadata": {},
     "outputs": [],
     "prompt_number": 42
    },
    {
     "cell_type": "code",
     "collapsed": false,
     "input": [
      "print('RMSE on training: {}'.format(rmse_train))"
     ],
     "language": "python",
     "metadata": {},
     "outputs": [
      {
       "output_type": "stream",
       "stream": "stdout",
       "text": [
        "RMSE on training: 4.67950630064\n"
       ]
      }
     ],
     "prompt_number": 43
    },
    {
     "cell_type": "code",
     "collapsed": false,
     "input": [
      "#\u307e\u3068\u3081\u308b\u3068\n",
      "lr.fit(x,y)\n",
      "p = lr.predict(x)\n",
      "e = p-y\n",
      "total_error = np.sum(e*e) \n",
      "rmse_train = np.sqrt(total_error/len(p))\n",
      "print('RMSE on training: {}'.format(rmse_train))"
     ],
     "language": "python",
     "metadata": {},
     "outputs": [
      {
       "output_type": "stream",
       "stream": "stdout",
       "text": [
        "RMSE on training: 4.67950630064\n"
       ]
      }
     ],
     "prompt_number": 44
    },
    {
     "cell_type": "code",
     "collapsed": false,
     "input": [
      " #10 - fold cross validation"
     ],
     "language": "python",
     "metadata": {},
     "outputs": [],
     "prompt_number": 130
    },
    {
     "cell_type": "code",
     "collapsed": false,
     "input": [
      "from sklearn.cross_validation import KFold\n",
      "kf = KFold(len(x), n_folds=10)\n",
      "kf"
     ],
     "language": "python",
     "metadata": {},
     "outputs": [
      {
       "metadata": {},
       "output_type": "pyout",
       "prompt_number": 45,
       "text": [
        "sklearn.cross_validation.KFold(n=506, n_folds=10, shuffle=False, random_state=None)"
       ]
      }
     ],
     "prompt_number": 45
    },
    {
     "cell_type": "code",
     "collapsed": false,
     "input": [
      "err = 0\n",
      "for train, test in kf:\n",
      "    lr.fit(x[train],y[train])\n",
      "    p = lr.predict(x[test])\n",
      "    e = p-y[test]\n",
      "    err += np.sum(e*e)\n",
      "rmse_10cv = np.sqrt(err/len(x))\n",
      "print('RMSE on 10-fold CV: {}'.format(rmse_10cv))"
     ],
     "language": "python",
     "metadata": {},
     "outputs": [
      {
       "output_type": "stream",
       "stream": "stdout",
       "text": [
        "RMSE on 10-fold CV: 5.88192507243\n"
       ]
      }
     ],
     "prompt_number": 46
    },
    {
     "cell_type": "code",
     "collapsed": false,
     "input": [
      "#7.2.2 Lasso, ElasticNet"
     ],
     "language": "python",
     "metadata": {},
     "outputs": [],
     "prompt_number": 47
    },
    {
     "cell_type": "code",
     "collapsed": false,
     "input": [
      "#ElasticNet\n",
      "#class sklearn.linear_model.ElasticNet(alpha=1.0, l1_ratio=0.5, fit_intercept=True, normalize=False, precompute=False, max_iter=1000, copy_X=True, tol=0.0001, warm_start=False, positive=False, random_state=None, selection='cyclic')[source]\u00b6\n",
      "#1 / (2 * n_samples) * ||y - Xw||^2_2 +\n",
      "# + alpha * l1_ratio * ||w||_1\n",
      "# + 0.5 * alpha * (1 - l1_ratio) * ||w||^2_2\n",
      "from sklearn.linear_model import ElasticNet\n",
      "en = ElasticNet(fit_intercept=True, alpha=0.5)"
     ],
     "language": "python",
     "metadata": {},
     "outputs": [],
     "prompt_number": 48
    },
    {
     "cell_type": "code",
     "collapsed": false,
     "input": [
      "#\u8a13\u7df4\u8aa4\u5dee\n",
      "en.fit(x,y)\n",
      "p = en.predict(x)\n",
      "e = p-y\n",
      "total_error = np.sum(e*e)\n",
      "rmse_train = np.sqrt(total_error/len(p))\n",
      "print('RMSE on training: {}'.format(rmse_train))"
     ],
     "language": "python",
     "metadata": {},
     "outputs": [
      {
       "output_type": "stream",
       "stream": "stdout",
       "text": [
        "RMSE on training: 4.98547427243\n"
       ]
      }
     ],
     "prompt_number": 49
    },
    {
     "cell_type": "code",
     "collapsed": false,
     "input": [
      "#\u4ea4\u5dee\u691c\u5b9a\n",
      "err = 0\n",
      "for train, test in kf:\n",
      "    en.fit(x[train],y[train]) \n",
      "    p = en.predict( x[test])\n",
      "    e = p-y[test]\n",
      "    err += np.sum(e*e)\n",
      "rmse_10cv = np.sqrt(err/len(x))\n",
      "print('RMSE on 10-fold CV: {}'.format(rmse_10cv))"
     ],
     "language": "python",
     "metadata": {},
     "outputs": [
      {
       "output_type": "stream",
       "stream": "stdout",
       "text": [
        "RMSE on 10-fold CV: 5.47790646659\n"
       ]
      }
     ],
     "prompt_number": 50
    },
    {
     "cell_type": "code",
     "collapsed": false,
     "input": [
      "#7.3.1 \u30c6\u30ad\u30b9\u30c8\u306b\u57fa\u3065\u3044\u305f\u30b5\u30f3\u30d7\u30eb\u30c7\u30fc\u30bf\n",
      "#\u30c7\u30fc\u30bf 180MB\n",
      "#cd data\n",
      "#curl -O http://www.csie.ntu.edu.tw/~cjlin/libsvmtools/datasets/regression/E2006.train.bz2\n",
      "#bunzip2 E2006.train.bz2"
     ],
     "language": "python",
     "metadata": {},
     "outputs": [],
     "prompt_number": 323
    },
    {
     "cell_type": "code",
     "collapsed": false,
     "input": [
      "#\u30c7\u30fc\u30bf\u306e\u8aad\u307f\u8fbc\u307f\n",
      "#http://localhost:8888/notebooks/ML/Machine_Learning_Python_chap7/ML_chap7.ipynb\n",
      "from sklearn.datasets import load_svmlight_file\n",
      "data,target = load_svmlight_file('data/E2006.train')"
     ],
     "language": "python",
     "metadata": {},
     "outputs": [],
     "prompt_number": 51
    },
    {
     "cell_type": "code",
     "collapsed": false,
     "input": [
      "#target\u306e\u8981\u7d20\u78ba\u8a8d\n",
      "print('Min target value: {}'.format(target.min()))\n",
      "print('Max target value: {}'.format(target.max()))\n",
      "print('Mean target value: {}'.format(target.mean()))\n",
      "print('Std. dev. target: {}'.format(target.std()))"
     ],
     "language": "python",
     "metadata": {},
     "outputs": [
      {
       "output_type": "stream",
       "stream": "stdout",
       "text": [
        "Min target value: -7.89957807347\n",
        "Max target value: -0.51940952694\n",
        "Mean target value: -3.51405313669\n",
        "Std. dev. target: 0.632278353911\n"
       ]
      }
     ],
     "prompt_number": 52
    },
    {
     "cell_type": "code",
     "collapsed": false,
     "input": [
      "#\u6700\u5c0f\u4e8c\u4e57\u6cd5\n",
      "import numpy as np\n",
      "from sklearn.linear_model import LinearRegression\n",
      "lr = LinearRegression()\n",
      "#\u8a13\u7df4\u8aa4\u5dee\n",
      "lr.fit(data,target)\n",
      "p = np.array(lr.predict(data)) #map\u4f7f\u308f\u306a\u3051\u308c\u3070ravel\u3082\u5fc5\u8981\u306a\u3044\n",
      "e = p-target\n",
      "total_sq_error = np.sum(e*e)\n",
      "rmse_train = np.sqrt(total_sq_error/len(p))\n",
      "print('RMSE on training: {}'.format(rmse_train))"
     ],
     "language": "python",
     "metadata": {},
     "outputs": [
      {
       "output_type": "stream",
       "stream": "stdout",
       "text": [
        "RMSE on training: 0.00237866684485\n"
       ]
      }
     ],
     "prompt_number": 53
    },
    {
     "cell_type": "code",
     "collapsed": false,
     "input": [
      "#\u5225\u306e\u8aa4\u5dee\u306e\u51fa\u529b\u6cd5 (\u3053\u3063\u3061\u306e\u65b9\u304c\u697d)\n",
      "import numpy as np\n",
      "from sklearn.metrics import mean_squared_error #\u4e00\u767a\u3067\u5e73\u5747\u4e8c\u4e57\u8aa4\u5dee\n",
      "from sklearn.linear_model import LinearRegression\n",
      "#\u8a13\u7df4\u8aa4\u5dee\n",
      "lr = LinearRegression()\n",
      "lr.fit(data, target)\n",
      "pred = lr.predict(data)\n",
      "print('RMSE on training, {:.2}'.format(np.sqrt(mean_squared_error(target, pred))))"
     ],
     "language": "python",
     "metadata": {},
     "outputs": [
      {
       "output_type": "stream",
       "stream": "stdout",
       "text": [
        "RMSE on training, 0.0024\n"
       ]
      }
     ],
     "prompt_number": 5
    },
    {
     "cell_type": "code",
     "collapsed": false,
     "input": [
      "#\u4ea4\u5dee\u691c\u5b9a\n",
      "from sklearn.cross_validation import KFold\n",
      "from sklearn.linear_model import LinearRegression\n",
      "lr = LinearRegression()\n",
      "pred = np.zeros_like(target)\n",
      "kf = KFold(len(target), n_folds=5)\n",
      "for train, test in kf:\n",
      "    lr.fit(data[train], target[train])\n",
      "    pred[test] = lr.predict(data[test])\n",
      "\n",
      "print('RMSE on testing (5 fold), {:.2}'.format(np.sqrt(mean_squared_error(target, pred))))"
     ],
     "language": "python",
     "metadata": {},
     "outputs": [
      {
       "ename": "NameError",
       "evalue": "name 'LinearRegression' is not defined",
       "output_type": "pyerr",
       "traceback": [
        "\u001b[0;31m---------------------------------------------------------------------------\u001b[0m\n\u001b[0;31mNameError\u001b[0m                                 Traceback (most recent call last)",
        "\u001b[0;32m<ipython-input-1-9abcb70fe855>\u001b[0m in \u001b[0;36m<module>\u001b[0;34m()\u001b[0m\n\u001b[1;32m      1\u001b[0m \u001b[0;31m#\u4ea4\u5dee\u691c\u5b9a\u001b[0m\u001b[0;34m\u001b[0m\u001b[0;34m\u001b[0m\u001b[0m\n\u001b[1;32m      2\u001b[0m \u001b[0;32mfrom\u001b[0m \u001b[0msklearn\u001b[0m\u001b[0;34m.\u001b[0m\u001b[0mcross_validation\u001b[0m \u001b[0;32mimport\u001b[0m \u001b[0mKFold\u001b[0m\u001b[0;34m\u001b[0m\u001b[0m\n\u001b[0;32m----> 3\u001b[0;31m \u001b[0mlr\u001b[0m \u001b[0;34m=\u001b[0m \u001b[0mLinearRegression\u001b[0m\u001b[0;34m(\u001b[0m\u001b[0;34m)\u001b[0m\u001b[0;34m\u001b[0m\u001b[0m\n\u001b[0m\u001b[1;32m      4\u001b[0m \u001b[0mpred\u001b[0m \u001b[0;34m=\u001b[0m \u001b[0mnp\u001b[0m\u001b[0;34m.\u001b[0m\u001b[0mzeros_like\u001b[0m\u001b[0;34m(\u001b[0m\u001b[0mtarget\u001b[0m\u001b[0;34m)\u001b[0m\u001b[0;34m\u001b[0m\u001b[0m\n\u001b[1;32m      5\u001b[0m \u001b[0mkf\u001b[0m \u001b[0;34m=\u001b[0m \u001b[0mKFold\u001b[0m\u001b[0;34m(\u001b[0m\u001b[0mlen\u001b[0m\u001b[0;34m(\u001b[0m\u001b[0mtarget\u001b[0m\u001b[0;34m)\u001b[0m\u001b[0;34m,\u001b[0m \u001b[0mn_folds\u001b[0m\u001b[0;34m=\u001b[0m\u001b[0;36m5\u001b[0m\u001b[0;34m)\u001b[0m\u001b[0;34m\u001b[0m\u001b[0m\n",
        "\u001b[0;31mNameError\u001b[0m: name 'LinearRegression' is not defined"
       ]
      }
     ],
     "prompt_number": 1
    },
    {
     "cell_type": "code",
     "collapsed": false,
     "input": [
      "#elastic net\n",
      "#\u4ea4\u5dee\u691c\u5b9a\n",
      "\n",
      "from sklearn.linear_model import ElasticNet\n",
      "met = ElasticNet(alpha=0.1)\n",
      "\n",
      "kf = KFold(len(target), n_folds=5)\n",
      "pred = np.zeros_like(target)\n",
      "for train, test in kf:\n",
      "    met.fit(data[train], target[train])\n",
      "    pred[test] = met.predict(data[test])\n",
      "    \n",
      "print('[EN 0.1] RMSE on testing (5 fold), {:.2}'.format(np.sqrt(mean_squared_error(target, pred))))"
     ],
     "language": "python",
     "metadata": {},
     "outputs": [
      {
       "output_type": "stream",
       "stream": "stdout",
       "text": [
        "[EN 0.1] RMSE on testing (5 fold), 0.4\n"
       ]
      }
     ],
     "prompt_number": 393
    },
    {
     "cell_type": "code",
     "collapsed": false,
     "input": [
      "#\u4e8c\u6bb5\u968e\u306e\u4ea4\u5dee\u691c\u5b9a\n",
      "#ElasticNetCV\n",
      "#\u6642\u9593\u304b\u304b\u308b\n",
      "from sklearn.cross_validation import KFold\n",
      "from sklearn.linear_model import ElasticNetCV\n",
      "met = ElasticNetCV(n_jobs=-1)\n",
      "\n",
      "kf = KFold(len(target), n_folds=5)\n",
      "pred = np.zeros_like(target)\n",
      "for train, test in kf:\n",
      "    met.fit(data[train], target[train])\n",
      "    pred[test] = met.predict(data[test])\n",
      "\n",
      "print('[EN CV] RMSE on testing (5 fold), {:.2}'.format(np.sqrt(mean_squared_error(target, pred))))"
     ],
     "language": "python",
     "metadata": {},
     "outputs": [
      {
       "output_type": "stream",
       "stream": "stdout",
       "text": [
        "[EN CV] RMSE on testing (5 fold), 0.37\n"
       ]
      }
     ],
     "prompt_number": 7
    },
    {
     "cell_type": "code",
     "collapsed": false,
     "input": [
      "#7.3.3 \u30ec\u30fc\u30c6\u30a3\u30f3\u30af\u3099\u4e88\u6e2c\u3068\u30ec\u30b3\u30e1\u30f3\u30c8\u3099\n",
      "\n",
      "#\u6620\u753b\u306e\u30ec\u30d3\u30e5\u30fc\u30c7\u30fc\u30bf\u30bb\u30c3\u30c8 : https://github.com/wrichert/BuildingMachineLearningSystemsWithPython/blob/master/ch07/data/download.sh\n",
      "#wget http://www.grouplens.org/system/files/ml-100k.zip\n",
      "#unzip ml-100k.zip\n",
      "\n",
      "#\u53c2\u8003 : https://github.com/wrichert/BuildingMachineLearningSystemsWithPython/blob/master/ch07/usermodel.py"
     ],
     "language": "python",
     "metadata": {},
     "outputs": [],
     "prompt_number": 1
    },
    {
     "cell_type": "code",
     "collapsed": false,
     "input": [
      "import numpy as np\n",
      "from scipy import sparse \n",
      "from sklearn.cross_validation import KFold"
     ],
     "language": "python",
     "metadata": {},
     "outputs": [],
     "prompt_number": 94
    },
    {
     "cell_type": "code",
     "collapsed": false,
     "input": [
      "#\u56de\u5e30\u30e2\u30c7\u30eb  LassoCV\n",
      "from sklearn.linear_model import LassoCV\n",
      "#\u30b3\u30f3\u30b9\u30c8\u30e9\u30af\u30bf\u306b\u304a\u3044\u3066\u3001alpha \u306e\u5019\u88dc\u3092\u6307\u5b9a\u3059\u308b\u3053\u3068\u3066\u3099\u3001\u4ea4\u5dee\u691c\u5b9a\u3066\u3099\u7528\u3044\u308b\u5024\u3092\u5236\u9650\n",
      "#\u3053\u3053\u3066\u3099\u5019\u88dc\u3068\u3057\u305f alpha \u306e\u5024\u306f\u30011/8 \u304b\u3089\u9806\u306b 2 \u500d\u3059\u3099\u3064\u3057\u305f\u5024 \u3066\u3099\u3001\u4e0a\u9650\u3092 4\n",
      "reg = LassoCV(fit_intercept=True, alphas=[.125,.25,.5,1.,2.,4.])"
     ],
     "language": "python",
     "metadata": {},
     "outputs": [],
     "prompt_number": 95
    },
    {
     "cell_type": "code",
     "collapsed": false,
     "input": [
      "# ml-100k/u.data\n",
      "# \u30e6\u30fc\u30b6\u306e\u30d5\u30eb\u30c7\u30fc\u30bf\u30bb\u30c3\u30c8\n",
      "# \u30e6\u30fc\u30b6\u6570\uff1a943\u3001\u6620\u753b\u6570\uff1a1682\u3000\u306b\u5bfe\u3057\u3066 100000 \u30ec\u30d3\u30e5\u30fc\u3000\n",
      "# \u5404\u30e6\u30fc\u30b6\u306f\u6700\u4f4e 20 \u306e\u6620\u753b\u3092\u30ec\u30d3\u30e5\u30fc\n",
      "#  \u30e6\u30fc\u30b6\u3068\u6620\u753b\u306f 1 \u304b\u3089id\u4ed8\u3055\u308c\u308b \n",
      "# \u30c7\u30fc\u30bf\u306f\u30e9\u30f3\u30c0\u30e0\u4e26\u3073\n",
      "#  TAB\u533a\u5207\u308a\u3067\u3001 [user id, item id, rating, timestamp  ]"
     ],
     "language": "python",
     "metadata": {},
     "outputs": []
    },
    {
     "cell_type": "code",
     "collapsed": false,
     "input": [
      "#\u30c7\u30fc\u30bf\u306e\u8aad\u307f\u8fbc\u307f\n",
      "#timestamp\u4ee5\u5916\u3092TAB\u533a\u5207\u308a\u3067\u5404\u30e9\u30a4\u30f3\u6bce\u306b\u30ea\u30b9\u30c8\u306b\u683c\u7d0d\n",
      "data = np.array([[int(tok) for tok in line.split('\\t')[:3]] for line in open('ml-100k/u.data')])\n",
      "ij = data[:, :2] #user id, item id \u306e\u7d44\u3092\u62bd\u51fa\n",
      "ij -= 1  # original data is in 1-based system \u306a\u306e\u3067\u3001\u5168\u3066\u306e\u8981\u7d20\u304b\u30891\u5f15\u304f\n",
      "values = data[:, 2]\n",
      "# reviews \u306b\u5404\u30e6\u30fc\u30b6\u306e\u30ec\u30d3\u30e5\u30fc\u304c\u683c\u7d0d\u3055\u308c\u308b\n",
      "reviews = sparse.csc_matrix((values, ij.T)).astype(float)"
     ],
     "language": "python",
     "metadata": {},
     "outputs": [],
     "prompt_number": 32
    },
    {
     "cell_type": "code",
     "collapsed": false,
     "input": [
      "data = np.array([[int(tok) for tok in line.split('\\t')[:3]] for line in open('ml-100k/u.data')])"
     ],
     "language": "python",
     "metadata": {},
     "outputs": [],
     "prompt_number": 33
    },
    {
     "cell_type": "code",
     "collapsed": false,
     "input": [
      "data"
     ],
     "language": "python",
     "metadata": {},
     "outputs": [
      {
       "metadata": {},
       "output_type": "pyout",
       "prompt_number": 34,
       "text": [
        "array([[ 196,  242,    3],\n",
        "       [ 186,  302,    3],\n",
        "       [  22,  377,    1],\n",
        "       ..., \n",
        "       [ 276, 1090,    1],\n",
        "       [  13,  225,    2],\n",
        "       [  12,  203,    3]])"
       ]
      }
     ],
     "prompt_number": 34
    },
    {
     "cell_type": "code",
     "collapsed": false,
     "input": [
      "ij"
     ],
     "language": "python",
     "metadata": {},
     "outputs": [
      {
       "metadata": {},
       "output_type": "pyout",
       "prompt_number": 35,
       "text": [
        "array([[ 195,  241],\n",
        "       [ 185,  301],\n",
        "       [  21,  376],\n",
        "       ..., \n",
        "       [ 275, 1089],\n",
        "       [  12,  224],\n",
        "       [  11,  202]])"
       ]
      }
     ],
     "prompt_number": 35
    },
    {
     "cell_type": "code",
     "collapsed": false,
     "input": [
      "values"
     ],
     "language": "python",
     "metadata": {},
     "outputs": [
      {
       "metadata": {},
       "output_type": "pyout",
       "prompt_number": 42,
       "text": [
        "array([3, 3, 1, ..., 1, 2, 3])"
       ]
      }
     ],
     "prompt_number": 42
    },
    {
     "cell_type": "code",
     "collapsed": false,
     "input": [
      "ij.T  #\u8ee2\u7f6e"
     ],
     "language": "python",
     "metadata": {},
     "outputs": [
      {
       "metadata": {},
       "output_type": "pyout",
       "prompt_number": 22,
       "text": [
        "array([[ 195,  185,   21, ...,  275,   12,   11],\n",
        "       [ 241,  301,  376, ..., 1089,  224,  202]])"
       ]
      }
     ],
     "prompt_number": 22
    },
    {
     "cell_type": "code",
     "collapsed": false,
     "input": [
      "#\u5404user id, item id \u306e\u5168\u3066\u306e\u7d44\u306b\u5bfe\u3057\u3066\u306e rating \u304c\u4e8c\u6b21\u5143\u914d\u5217\u3067\u683c\u7d0d, \u30b9\u30d1\u30fc\u30b9\u884c\u5217\n",
      "reviews[195,241] "
     ],
     "language": "python",
     "metadata": {},
     "outputs": [
      {
       "metadata": {},
       "output_type": "pyout",
       "prompt_number": 29,
       "text": [
        "3.0"
       ]
      }
     ],
     "prompt_number": 29
    },
    {
     "cell_type": "code",
     "collapsed": false,
     "input": [
      "#\u6620\u753b\u3054\u3068\u306b\u6b63\u898f\u5316\u3092\u884c\u3046\u95a2\u6570\n",
      "#\u512a\u308c\u305f\u6620\u753b\u306f\u3044\u304f\u3064\u304b\u5b58\u5728\u3057\u3066\u304a\u308a\u3001\u305d\u306e\u3088\u3046\u306a\u6620\u753b\u306e\u8a55\u4fa1\u306b\u3064\u3044\u3066\u306f\u5e73\u5747\u5024\u304c\u9ad8\u304f\u306a\u308b\n",
      "def movie_norm(xc):\n",
      "    xc = xc.copy().toarray()\n",
      "    #\u5024\u304c0\u306e\u8981\u7d20\u3092\u9664\u3044\u3066\u3001\u8a55\u4fa1\u3055\u308c\u305f\u8981\u7d20\u306e\u307f\u306e\u5e73\u5747\u3092\u6c42\u3081\u305f\u3044\u3002xc.mean(1)\u306f\u4f7f\u3048\u306a\u3044\n",
      "    x1 = np.array([xi[xi > 0].mean() for xi in xc])\n",
      "    #\u6620\u753b\u306b\u3072\u3068\u3064\u3082\u8a55\u4fa1\u304b\u3099\u4ed8\u3051\u3089\u308c\u3066\u306a\u304f\u3066\u8a08\u7b97\u7d50\u679c\u304b\u3099 NAN\u306e\u5834\u5408\u3001 0 \u306b\u7f6e\u304d\u63db\u3048\n",
      "    x1 = np.nan_to_num(x1)\n",
      "    #0 \u4ee5\u5916\u306e\u8981\u7d20\u3092\u5bfe\u8c61\u306b\u3057\u3066\u3001\u6620\u753b\u306b\u5bfe\u3059\u308b\u8a55\u4fa1\u306e\u5e73\u5747\u5024\u3092\u5f15\u304f\u3053\u3068\u3066\u3099\u3001\u6b63\u898f\u5316\n",
      "    for i in range(xc.shape[0]):\n",
      "        xc[i] -= (xc[i] > 0) * x1[i]\n",
      "    #\u6b63\u898f\u5316\u3057\u305f\u914d\u5217 , \u5e73\u5747\u5024\u3092\u8fd4\u3059\n",
      "    return xc, x1"
     ],
     "language": "python",
     "metadata": {},
     "outputs": [],
     "prompt_number": 108
    },
    {
     "cell_type": "code",
     "collapsed": false,
     "input": [
      "#\u30a4\u30f3\u30c6\u3099\u30c3\u30af\u30b9\u304b\u3099 i \u756a\u76ee\u306e\u30e6\u30fc\u30b5\u3099\u306b\u5bfe\u3057\u3066\u3001\u30e2\u30c6\u3099\u30eb\u3092\u5b66\u7fd2\u3059\u308b\u95a2\u6570\n",
      "#\u5bfe\u8c61\u3068\u3059\u308b\u30e6\u30fc\u30b5\u3099\u3092 u \u3068\u3057\u305f\u5834\u5408\u3001\u305d\u306e\u30e6\u30fc\u30b5\u3099\u306e\u305f\u3081\u306e\u6620\u753b\u306e\u8a55\u4fa1\u65b9\u6cd5\u3092\u30e2\u30c6\u3099\u30eb\u5316 \n",
      "def learn_for(i):\n",
      "    u = reviews[i]\n",
      "    #u.toarray()\u3066\u3099\u30b9\u30cf\u309a\u30fc\u30b9\u884c\u5217\u3092\u901a\u5e38\u306e\u914d\u5217\u306b\u5909\u63db\n",
      "    #ravel()\u3092\u7528\u3044\u3066\u4e8c\u6b21\u5143\u914d\u5217(\u3053\u3053\u3066\u3099\u306f\u3001\u6700\u521d\u306e\u6b21\u5143\u306e\u6570\u304b\u3099 1 \u306e\u914d\u5217)\u3092\u4e00\u6b21\u5143\u914d\u5217\u306b\u4e26\u3072\u3099\u66ff\u3048\n",
      "    u = u.toarray().ravel() \n",
      "    # user id : i  \u3092\u9664\u3044\u305fuser id \u306e\u914d\u5217\u3092\u4f5c\u6210\n",
      "    us = np.delete(np.arange(reviews.shape[0]), i)\n",
      "    #ps \u306b\u8a55\u4fa1\u304c\u884c\u308f\u308c\u305f item id \u304c\u683c\u7d0d\u3055\u308c\u308b\n",
      "    ps, = np.where(u > 0)\n",
      "    #userid : i \u304c\u8a55\u4fa1\u3057\u305fitem \u306e\u4ed6\u306e\u30e6\u30fc\u30b6\u306e\u8a55\u4fa1\n",
      "    x = reviews[us][:, ps].T\n",
      "    #userid : i \u304c\u8a55\u4fa1\u3057\u305fitem \u306e\u8a55\u4fa1\u5024\n",
      "    y = u.data\n",
      "    err = 0\n",
      "    eb = 0\n",
      "    #\u4ea4\u5dee\u691c\u5b9a\u3001\u30e6\u30fc\u30b5\u3099\u306e\u6570\u304b\u3099\u591a\u3044\u305f\u3081\u30014 \u5206\u5272\n",
      "    kf = KFold(len(y), n_folds=4)\n",
      "    for train, test in kf:\n",
      "        # \u5404\u6620\u753b\u3054\u3068\u306b\u6b63\u898f\u5316\n",
      "        xc, x1 = movie_norm(x[train])\n",
      "        reg.fit(xc, y[train] - x1)\n",
      "        # \u30c6\u30b9\u30c8\u306e\u3068\u304d\u3082\u540c\u69d8\u306b\u6b63\u898f\u5316\n",
      "        xc, x1 = movie_norm(x[test])\n",
      "        p = np.array([reg.predict(xi) for xi in xc]).ravel()\n",
      "        e = (p + x1) - y[test]\n",
      "        err += np.sum(e * e)\n",
      "        eb += np.sum((y[train].mean() - y[test]) ** 2)\n",
      "    return np.sqrt(err / float(len(y))), np.sqrt(eb / float(len(y)))"
     ],
     "language": "python",
     "metadata": {},
     "outputs": [],
     "prompt_number": 107
    },
    {
     "cell_type": "code",
     "collapsed": false,
     "input": [
      "# example user id : i = 3 \n",
      "i = 3 \n",
      "u = reviews[i] #\u4e8c\u6b21\u5143\u914d\u5217 \n",
      "print u  #\u30d7\u30ea\u30f3\u30c8\u3055\u308c\u308b\u306e\u306f value\u304c 0 \u4ee5\u5916\u306e\u3068\u3053\u308d"
     ],
     "language": "python",
     "metadata": {},
     "outputs": [
      {
       "output_type": "stream",
       "stream": "stdout",
       "text": [
        "  (0, 10)\t4.0\n",
        "  (0, 49)\t5.0\n",
        "  (0, 209)\t3.0\n",
        "  (0, 257)\t5.0\n",
        "  (0, 259)\t4.0\n",
        "  (0, 263)\t3.0\n",
        "  (0, 270)\t4.0\n",
        "  (0, 287)\t4.0\n",
        "  (0, 293)\t5.0\n",
        "  (0, 299)\t5.0\n",
        "  (0, 300)\t5.0\n",
        "  (0, 302)\t5.0\n",
        "  (0, 323)\t5.0\n",
        "  (0, 326)\t5.0\n",
        "  (0, 327)\t3.0\n",
        "  (0, 328)\t5.0\n",
        "  (0, 353)\t5.0\n",
        "  (0, 355)\t3.0\n",
        "  (0, 356)\t4.0\n",
        "  (0, 357)\t2.0\n",
        "  (0, 358)\t5.0\n",
        "  (0, 359)\t5.0\n",
        "  (0, 360)\t5.0\n",
        "  (0, 361)\t5.0\n"
       ]
      }
     ],
     "prompt_number": 66
    },
    {
     "cell_type": "code",
     "collapsed": false,
     "input": [
      "u = u.toarray().ravel() #0 \u3082\u542b\u3081\u3066\u4e00\u6b21\u5143\u306b\u3059\u308b\n",
      "print u"
     ],
     "language": "python",
     "metadata": {},
     "outputs": [
      {
       "output_type": "stream",
       "stream": "stdout",
       "text": [
        "[ 0.  0.  0. ...,  0.  0.  0.]\n"
       ]
      }
     ],
     "prompt_number": 67
    },
    {
     "cell_type": "code",
     "collapsed": false,
     "input": [
      "print reviews.shape[0] #user id \u6570\n",
      "print reviews.shape[1] #item id \u6570"
     ],
     "language": "python",
     "metadata": {},
     "outputs": [
      {
       "output_type": "stream",
       "stream": "stdout",
       "text": [
        "943\n",
        "1682\n"
       ]
      }
     ],
     "prompt_number": 71
    },
    {
     "cell_type": "code",
     "collapsed": false,
     "input": [
      "# user id : i  \u3092\u9664\u3044\u305fuser id \u306e\u914d\u5217\u3092\u4f5c\u6210\n",
      "us = np.delete(np.arange(reviews.shape[0]), i)"
     ],
     "language": "python",
     "metadata": {},
     "outputs": [],
     "prompt_number": 74
    },
    {
     "cell_type": "code",
     "collapsed": false,
     "input": [
      "#\u30e6\u30fc\u30b6 i \u306e\u8a55\u4fa1\u306e\u914d\u5217 u \u306e\u5404\u8981\u7d20\u304b\u3099 0 \u3088\u308a\u5927\u304d\u3044\u304b\u3068\u3099\u3046\u304b\u304c\u3001ps \u306b\u683c\u7d0d\n",
      "#\u3064\u307e\u308a\u3001\u8a55\u4fa1\u3055\u308c\u305fitem id \u306e\u914d\u5217\u3092\u4f5c\u6210\n",
      "ps, = np.where(u > 0)\n",
      "ps"
     ],
     "language": "python",
     "metadata": {},
     "outputs": [
      {
       "metadata": {},
       "output_type": "pyout",
       "prompt_number": 84,
       "text": [
        "array([ 10,  49, 209, 257, 259, 263, 270, 287, 293, 299, 300, 302, 323,\n",
        "       326, 327, 328, 353, 355, 356, 357, 358, 359, 360, 361])"
       ]
      }
     ],
     "prompt_number": 84
    },
    {
     "cell_type": "code",
     "collapsed": false,
     "input": [
      " #userid : i \u304c\u8a55\u4fa1\u3057\u305fitem \u306e\u4ed6\u306e\u30e6\u30fc\u30b6\u306e\u8a55\u4fa1\n",
      "x = reviews[us][:, ps].T\n",
      "print x"
     ],
     "language": "python",
     "metadata": {},
     "outputs": [
      {
       "output_type": "stream",
       "stream": "stdout",
       "text": [
        "  (0, 0)\t2.0\n",
        "  (0, 5)\t3.0\n",
        "  (0, 6)\t3.0\n",
        "  (0, 8)\t4.0\n",
        "  (0, 9)\t2.0\n",
        "  (0, 11)\t1.0\n",
        "  (0, 14)\t5.0\n",
        "  (0, 18)\t2.0\n",
        "  (0, 22)\t5.0\n",
        "  (0, 26)\t4.0\n",
        "  (0, 35)\t4.0\n",
        "  (0, 41)\t5.0\n",
        "  (0, 42)\t3.0\n",
        "  (0, 47)\t3.0\n",
        "  (0, 54)\t4.0\n",
        "  (0, 55)\t3.0\n",
        "  (0, 56)\t5.0\n",
        "  (0, 57)\t5.0\n",
        "  (0, 62)\t4.0\n",
        "  (0, 80)\t4.0\n",
        "  (0, 88)\t4.0\n",
        "  (0, 90)\t4.0\n",
        "  (0, 92)\t5.0\n",
        "  (0, 97)\t5.0\n",
        "  (0, 100)\t3.0\n",
        "  :\t:\n",
        "  (23, 177)\t1.0\n",
        "  (23, 191)\t3.0\n",
        "  (23, 195)\t4.0\n",
        "  (23, 204)\t1.0\n",
        "  (23, 258)\t5.0\n",
        "  (23, 391)\t3.0\n",
        "  (23, 416)\t1.0\n",
        "  (23, 423)\t3.0\n",
        "  (23, 461)\t1.0\n",
        "  (23, 470)\t5.0\n",
        "  (23, 513)\t4.0\n",
        "  (23, 559)\t2.0\n",
        "  (23, 586)\t3.0\n",
        "  (23, 614)\t3.0\n",
        "  (23, 658)\t2.0\n",
        "  (23, 680)\t2.0\n",
        "  (23, 706)\t1.0\n",
        "  (23, 711)\t1.0\n",
        "  (23, 727)\t4.0\n",
        "  (23, 756)\t5.0\n",
        "  (23, 785)\t3.0\n",
        "  (23, 840)\t3.0\n",
        "  (23, 861)\t1.0\n",
        "  (23, 929)\t3.0\n",
        "  (23, 940)\t3.0\n"
       ]
      }
     ],
     "prompt_number": 87
    },
    {
     "cell_type": "code",
     "collapsed": false,
     "input": [
      "#userid : i \u304c\u8a55\u4fa1\u3057\u305fitem \u306e\u8a55\u4fa1\u5024\n",
      "y = u[ps]\n",
      "y"
     ],
     "language": "python",
     "metadata": {},
     "outputs": [
      {
       "metadata": {},
       "output_type": "pyout",
       "prompt_number": 91,
       "text": [
        "array([ 4.,  5.,  3.,  5.,  4.,  3.,  4.,  4.,  5.,  5.,  5.,  5.,  5.,\n",
        "        5.,  3.,  5.,  5.,  3.,  4.,  2.,  5.,  5.,  5.,  5.])"
       ]
      }
     ],
     "prompt_number": 91
    },
    {
     "cell_type": "code",
     "collapsed": false,
     "input": [
      "err = 0\n",
      "eb = 0\n",
      "#\u4ea4\u5dee\u691c\u5b9a\u30014 \u5206\u5272\n",
      "kf = KFold(len(y), n_folds=4)\n",
      "for train, test in kf:\n",
      "    # \u5404\u6620\u753b\u3054\u3068\u306b\u6b63\u898f\u5316\n",
      "    xc, x1 = movie_norm(x[train])\n",
      "    reg.fit(xc, y[train] - x1)\n",
      "    # \u30c6\u30b9\u30c8\u306e\u3068\u304d\u3082\u540c\u69d8\u306b\u6b63\u898f\u5316\n",
      "    xc, x1 = movie_norm(x[test])\n",
      "    p = np.array([reg.predict(xi) for xi in xc]).ravel()\n",
      "    e = (p + x1) - y[test]\n",
      "    err += np.sum(e * e)\n",
      "    eb += np.sum((y[train].mean() - y[test]) ** 2)\n",
      "np.sqrt(err / float(len(y))), np.sqrt(eb / float(len(y)))"
     ],
     "language": "python",
     "metadata": {},
     "outputs": [
      {
       "metadata": {},
       "output_type": "pyout",
       "prompt_number": 106,
       "text": [
        "(0.98059833137775132, 0.921284663987611)"
       ]
      }
     ],
     "prompt_number": 106
    },
    {
     "cell_type": "code",
     "collapsed": false,
     "input": [
      "reviews.shape[0]"
     ],
     "language": "python",
     "metadata": {},
     "outputs": [
      {
       "metadata": {},
       "output_type": "pyout",
       "prompt_number": 104,
       "text": [
        "943"
       ]
      }
     ],
     "prompt_number": 104
    },
    {
     "cell_type": "code",
     "collapsed": false,
     "input": [
      "import numpy as np\n",
      "from scipy import sparse\n",
      "from sklearn.linear_model import LassoCV, RidgeCV, ElasticNetCV\n",
      "from sklearn.cross_validation import KFold\n",
      "\n",
      "data = np.array([[int(tok) for tok in line.split('\\t')[:3]]\n",
      "                for line in open('ml-100k/u.data')])\n",
      "ij = data[:, :2]\n",
      "ij -= 1  # original data is in 1-based system\n",
      "values = data[:, 2]\n",
      "reviews = sparse.csc_matrix((values, ij.T)).astype(float)\n",
      "\n",
      "reg = LassoCV(fit_intercept=True, alphas=[.125,.25,.5,1.,2.,4.])\n",
      "\n",
      "\n",
      "def movie_norm(xc):\n",
      "    xc = xc.copy().toarray()\n",
      "    x1 = np.array([xi[xi > 0].mean() for xi in xc])\n",
      "    x1 = np.nan_to_num(x1)\n",
      "\n",
      "    for i in range(xc.shape[0]):\n",
      "        xc[i] -= (xc[i] > 0) * x1[i]\n",
      "    return xc, x1\n",
      "\n",
      "\n",
      "def learn_for(i):\n",
      "    u = reviews[i]\n",
      "    us = np.delete(np.arange(reviews.shape[0]), i)\n",
      "    ps, = np.where(u.toarray().ravel() > 0)\n",
      "    x = reviews[us][:, ps].T\n",
      "    y = u.data\n",
      "    err = 0\n",
      "    eb = 0\n",
      "    kf = KFold(len(y), n_folds=4)\n",
      "    for train, test in kf:\n",
      "        xc, x1 = movie_norm(x[train])\n",
      "        reg.fit(xc, y[train] - x1)\n",
      "\n",
      "        xc, x1 = movie_norm(x[test])\n",
      "        p = np.array([reg.predict(xi) for xi in xc]).ravel()\n",
      "        e = (p + x1) - y[test]\n",
      "        err += np.sum(e * e) #\u4e8c\u4e57\u548c\u8aa4\u5dee\u306e\u7dcf\u548c\n",
      "        eb += np.sum((y[train].mean() - y[test]) ** 2)  \n",
      "    return np.sqrt(err / float(len(y))), np.sqrt(eb / float(len(y)))\n",
      "\n",
      "whole_data = []\n",
      "for i in range(reviews.shape[0]):\n",
      "    s = learn_for(i)\n",
      "    print(s[0] < s[1])\n",
      "    print(s)\n",
      "    whole_data.append(s)"
     ],
     "language": "python",
     "metadata": {},
     "outputs": [
      {
       "output_type": "stream",
       "stream": "stdout",
       "text": [
        "True\n",
        "(1.0106501739760383, 1.2745427974613304)\n",
        "True"
       ]
      },
      {
       "output_type": "stream",
       "stream": "stdout",
       "text": [
        "\n",
        "(0.84022935457628944, 1.0636153778794128)\n",
        "True"
       ]
      },
      {
       "output_type": "stream",
       "stream": "stdout",
       "text": [
        "\n",
        "(1.2315553164214008, 1.2563629171742379)\n",
        "False"
       ]
      },
      {
       "output_type": "stream",
       "stream": "stdout",
       "text": [
        "\n",
        "(0.98059833137775132, 0.921284663987611)\n",
        "True"
       ]
      },
      {
       "output_type": "stream",
       "stream": "stdout",
       "text": [
        "\n",
        "(1.1798214761399981, 1.3929782601193734)\n",
        "True"
       ]
      },
      {
       "output_type": "stream",
       "stream": "stdout",
       "text": [
        "\n",
        "(0.89834623531178304, 1.0612448056230726)\n",
        "True"
       ]
      },
      {
       "output_type": "stream",
       "stream": "stdout",
       "text": [
        "\n",
        "(0.97362934592910355, 1.0717574700032142)\n",
        "True"
       ]
      },
      {
       "output_type": "stream",
       "stream": "stdout",
       "text": [
        "\n",
        "(0.96727216994550091, 1.376908479158343)\n",
        "False"
       ]
      },
      {
       "output_type": "stream",
       "stream": "stdout",
       "text": [
        "\n",
        "(1.1017458614868274, 1.0021155420066585)\n",
        "False"
       ]
      },
      {
       "output_type": "stream",
       "stream": "stdout",
       "text": [
        "\n",
        "(0.60173625321022306, 0.58284929057703239)\n",
        "True"
       ]
      },
      {
       "output_type": "stream",
       "stream": "stdout",
       "text": [
        "\n",
        "(0.88746308609199387, 0.93778183656045444)\n",
        "False"
       ]
      },
      {
       "output_type": "stream",
       "stream": "stdout",
       "text": [
        "\n",
        "(0.78237476237487413, 0.77935726122954507)\n",
        "True"
       ]
      },
      {
       "output_type": "stream",
       "stream": "stdout",
       "text": [
        "\n",
        "(1.2454905007212587, 1.444851351314753)\n",
        "False"
       ]
      },
      {
       "output_type": "stream",
       "stream": "stdout",
       "text": [
        "\n",
        "(1.0577027640043564, 1.0337066589587227)\n",
        "True"
       ]
      },
      {
       "output_type": "stream",
       "stream": "stdout",
       "text": [
        "\n",
        "(1.2457670247254011, 1.3575978757019525)\n",
        "True"
       ]
      },
      {
       "output_type": "stream",
       "stream": "stdout",
       "text": [
        "\n",
        "(0.92261465047928759, 1.0907152992167928)\n",
        "True"
       ]
      },
      {
       "output_type": "stream",
       "stream": "stdout",
       "text": [
        "\n",
        "(1.0133268173249568, 1.1571526552593205)\n",
        "True"
       ]
      },
      {
       "output_type": "stream",
       "stream": "stdout",
       "text": [
        "\n",
        "(0.78701546035103365, 0.8621849830073921)\n",
        "False"
       ]
      },
      {
       "output_type": "stream",
       "stream": "stdout",
       "text": [
        "\n",
        "(0.9411488150191909, 0.84590516936330151)\n",
        "False"
       ]
      },
      {
       "output_type": "stream",
       "stream": "stdout",
       "text": [
        "\n",
        "(1.2437279357527562, 1.1460647914375695)\n",
        "True"
       ]
      },
      {
       "output_type": "stream",
       "stream": "stdout",
       "text": [
        "\n",
        "(0.99861347191000016, 1.3819520035040647)\n",
        "True"
       ]
      },
      {
       "output_type": "stream",
       "stream": "stdout",
       "text": [
        "\n",
        "(1.1943102083721584, 1.6318382427027571)\n",
        "True"
       ]
      },
      {
       "output_type": "stream",
       "stream": "stdout",
       "text": [
        "\n",
        "(0.80835321178079844, 0.95675757433128683)\n",
        "True"
       ]
      },
      {
       "output_type": "stream",
       "stream": "stdout",
       "text": [
        "\n",
        "(0.76547807410617474, 0.83084981716620787)\n",
        "True"
       ]
      },
      {
       "output_type": "stream",
       "stream": "stdout",
       "text": [
        "\n",
        "(0.58073387004670085, 0.62366833545304956)\n",
        "True"
       ]
      },
      {
       "output_type": "stream",
       "stream": "stdout",
       "text": [
        "\n",
        "(0.61952523508696122, 0.90299735283595794)\n",
        "True"
       ]
      },
      {
       "output_type": "stream",
       "stream": "stdout",
       "text": [
        "\n",
        "(0.83025012033269874, 0.94923792148172603)\n",
        "True"
       ]
      },
      {
       "output_type": "stream",
       "stream": "stdout",
       "text": [
        "\n",
        "(0.82600730648741727, 0.98623239857327449)\n",
        "True"
       ]
      },
      {
       "output_type": "stream",
       "stream": "stdout",
       "text": [
        "\n",
        "(0.69532275099419993, 0.93662605163356272)\n",
        "True"
       ]
      },
      {
       "output_type": "stream",
       "stream": "stdout",
       "text": [
        "\n",
        "(0.81913112376684627, 1.0350403570774867)\n",
        "True\n",
        "(0.7053755173704308, 1.008536948458526)\n",
        "True"
       ]
      },
      {
       "output_type": "stream",
       "stream": "stdout",
       "text": [
        "\n",
        "(0.80542568291029792, 0.90334867034922284)\n",
        "True\n",
        "(0.55724298140570883, 0.5713045500334204)\n",
        "True"
       ]
      },
      {
       "output_type": "stream",
       "stream": "stdout",
       "text": [
        "\n",
        "(1.2243562708171005, 1.4817407180595246)\n",
        "True"
       ]
      },
      {
       "output_type": "stream",
       "stream": "stdout",
       "text": [
        "\n",
        "(0.95756928244946837, 0.98572607458729022)\n",
        "False"
       ]
      },
      {
       "output_type": "stream",
       "stream": "stdout",
       "text": [
        "\n",
        "(1.7280184214502941, 1.4071247279470289)\n",
        "True"
       ]
      },
      {
       "output_type": "stream",
       "stream": "stdout",
       "text": [
        "\n",
        "(0.92884066465632431, 1.0273680859485097)\n",
        "False"
       ]
      },
      {
       "output_type": "stream",
       "stream": "stdout",
       "text": [
        "\n",
        "(1.6761886016386058, 1.6199611862675924)\n",
        "False"
       ]
      },
      {
       "output_type": "stream",
       "stream": "stdout",
       "text": [
        "\n",
        "(1.2661352560686419, 0.96160552718784498)\n",
        "False"
       ]
      },
      {
       "output_type": "stream",
       "stream": "stdout",
       "text": [
        "\n",
        "(1.0287741337706848, 0.96014279390864432)\n",
        "True"
       ]
      },
      {
       "output_type": "stream",
       "stream": "stdout",
       "text": [
        "\n",
        "(0.76467057287915041, 0.84284512378941545)\n",
        "True"
       ]
      },
      {
       "output_type": "stream",
       "stream": "stdout",
       "text": [
        "\n",
        "(0.9731235240034497, 1.0851158231728615)\n",
        "True"
       ]
      },
      {
       "output_type": "stream",
       "stream": "stdout",
       "text": [
        "\n",
        "(0.88790233744730318, 1.0331202261511743)\n",
        "True"
       ]
      },
      {
       "output_type": "stream",
       "stream": "stdout",
       "text": [
        "\n",
        "(0.90191591915929659, 1.027363090449136)\n",
        "True"
       ]
      },
      {
       "output_type": "stream",
       "stream": "stdout",
       "text": [
        "\n",
        "(0.81322100799497676, 1.0022159090710254)\n",
        "False"
       ]
      },
      {
       "output_type": "stream",
       "stream": "stdout",
       "text": [
        "\n",
        "(1.0271228377249382, 0.99516530960902738)\n",
        "True"
       ]
      },
      {
       "output_type": "stream",
       "stream": "stdout",
       "text": [
        "\n",
        "(0.82740674252298851, 0.93983049084766634)\n",
        "True"
       ]
      },
      {
       "output_type": "stream",
       "stream": "stdout",
       "text": [
        "\n",
        "(0.91912169283228018, 1.0631637578116424)\n",
        "True"
       ]
      },
      {
       "output_type": "stream",
       "stream": "stdout",
       "text": [
        "\n",
        "(1.0163695310548697, 1.2647162008542028)\n",
        "False"
       ]
      },
      {
       "output_type": "stream",
       "stream": "stdout",
       "text": [
        "\n",
        "(1.7603466092197106, 1.48786241564912)\n",
        "True\n",
        "(1.142115962603899, 1.3067164887150844)\n",
        "True"
       ]
      },
      {
       "output_type": "stream",
       "stream": "stdout",
       "text": [
        "\n",
        "(0.62269649549157258, 0.73356907157161411)\n",
        "False"
       ]
      },
      {
       "output_type": "stream",
       "stream": "stdout",
       "text": [
        "\n",
        "(0.94828088644970832, 0.93798645731391472)\n",
        "True"
       ]
      },
      {
       "output_type": "stream",
       "stream": "stdout",
       "text": [
        "\n",
        "(1.0680836916126024, 1.1637923029599928)\n",
        "True"
       ]
      },
      {
       "output_type": "stream",
       "stream": "stdout",
       "text": [
        "\n",
        "(1.3226340670059857, 1.7322355154402016)\n",
        "True"
       ]
      },
      {
       "output_type": "stream",
       "stream": "stdout",
       "text": [
        "\n",
        "(0.82837592090690737, 0.95476713524885748)\n",
        "True"
       ]
      },
      {
       "output_type": "stream",
       "stream": "stdout",
       "text": [
        "\n",
        "(0.8596695253141412, 1.1007779248630074)\n",
        "True"
       ]
      },
      {
       "output_type": "stream",
       "stream": "stdout",
       "text": [
        "\n",
        "(1.1179476237586312, 1.2695506946969628)\n",
        "True"
       ]
      },
      {
       "output_type": "stream",
       "stream": "stdout",
       "text": [
        "\n",
        "(0.96527227107654512, 1.0714764310264178)\n",
        "False"
       ]
      },
      {
       "output_type": "stream",
       "stream": "stdout",
       "text": [
        "\n",
        "(0.67708068641887886, 0.63666788004469399)\n",
        "True"
       ]
      },
      {
       "output_type": "stream",
       "stream": "stdout",
       "text": [
        "\n",
        "(1.0382593035009138, 1.2329944434664122)\n",
        "True"
       ]
      },
      {
       "output_type": "stream",
       "stream": "stdout",
       "text": [
        "\n",
        "(0.97784808059681871, 1.1417777198187198)\n",
        "True"
       ]
      },
      {
       "output_type": "stream",
       "stream": "stdout",
       "text": [
        "\n",
        "(0.87333467998265701, 0.99334145995162992)\n",
        "True"
       ]
      },
      {
       "output_type": "stream",
       "stream": "stdout",
       "text": [
        "\n",
        "(0.86481402280222985, 1.0122088058630327)\n",
        "True"
       ]
      },
      {
       "output_type": "stream",
       "stream": "stdout",
       "text": [
        "\n",
        "(0.8492114014745874, 0.90550016872199168)\n",
        "True"
       ]
      },
      {
       "output_type": "stream",
       "stream": "stdout",
       "text": [
        "\n",
        "(0.97039278951471719, 1.0388719127369201)\n",
        "True"
       ]
      },
      {
       "output_type": "stream",
       "stream": "stdout",
       "text": [
        "\n",
        "(0.80741453143184772, 0.92598047451837806)\n",
        "True"
       ]
      },
      {
       "output_type": "stream",
       "stream": "stdout",
       "text": [
        "\n",
        "(1.5309095643731774, 1.7749265781474262)\n",
        "True"
       ]
      },
      {
       "output_type": "stream",
       "stream": "stdout",
       "text": [
        "\n",
        "(0.94754752123772423, 1.1045532794535762)\n",
        "True"
       ]
      },
      {
       "output_type": "stream",
       "stream": "stdout",
       "text": [
        "\n",
        "(0.61018460915541151, 0.84558688235779866)\n",
        "False"
       ]
      },
      {
       "output_type": "stream",
       "stream": "stdout",
       "text": [
        "\n",
        "(1.1378943327891768, 1.1238821281418732)\n",
        "True"
       ]
      },
      {
       "output_type": "stream",
       "stream": "stdout",
       "text": [
        "\n",
        "(0.99185151762384549, 1.0501112605459588)\n",
        "True"
       ]
      },
      {
       "output_type": "stream",
       "stream": "stdout",
       "text": [
        "\n",
        "(0.97955113583723996, 1.181116202026834)\n",
        "True"
       ]
      },
      {
       "output_type": "stream",
       "stream": "stdout",
       "text": [
        "\n",
        "(0.63042326616481614, 0.71223448792630084)\n",
        "True"
       ]
      },
      {
       "output_type": "stream",
       "stream": "stdout",
       "text": [
        "\n",
        "(1.2716551953267423, 1.4404055984500685)\n",
        "True"
       ]
      },
      {
       "output_type": "stream",
       "stream": "stdout",
       "text": [
        "\n",
        "(1.0377105533714941, 1.1730000578386639)\n",
        "True"
       ]
      },
      {
       "output_type": "stream",
       "stream": "stdout",
       "text": [
        "\n",
        "(1.0828325605329929, 1.1972046774802216)\n",
        "True"
       ]
      },
      {
       "output_type": "stream",
       "stream": "stdout",
       "text": [
        "\n",
        "(1.3076958410929196, 1.3289390012516071)\n",
        "True"
       ]
      },
      {
       "output_type": "stream",
       "stream": "stdout",
       "text": [
        "\n",
        "(0.9925931949751865, 1.0635017126484083)\n",
        "True"
       ]
      },
      {
       "output_type": "stream",
       "stream": "stdout",
       "text": [
        "\n",
        "(0.94873711979371422, 1.0543406581211396)\n",
        "True"
       ]
      },
      {
       "output_type": "stream",
       "stream": "stdout",
       "text": [
        "\n",
        "(1.016567583998724, 1.1607442043907794)\n",
        "True"
       ]
      },
      {
       "output_type": "stream",
       "stream": "stdout",
       "text": [
        "\n",
        "(0.8909737790817237, 1.2024791724773758)\n",
        "True"
       ]
      },
      {
       "output_type": "stream",
       "stream": "stdout",
       "text": [
        "\n",
        "(0.9620308818383797, 1.1241622392616373)\n",
        "True"
       ]
      },
      {
       "output_type": "stream",
       "stream": "stdout",
       "text": [
        "\n",
        "(0.68577939393282339, 0.83269872029749303)\n",
        "True"
       ]
      },
      {
       "output_type": "stream",
       "stream": "stdout",
       "text": [
        "\n",
        "(0.7133342867014365, 0.8289138208692044)\n",
        "False"
       ]
      },
      {
       "output_type": "stream",
       "stream": "stdout",
       "text": [
        "\n",
        "(1.3139396390640188, 1.2680800499265601)\n",
        "True"
       ]
      },
      {
       "output_type": "stream",
       "stream": "stdout",
       "text": [
        "\n",
        "(0.76862022230072691, 0.96014682281944541)\n",
        "False"
       ]
      },
      {
       "output_type": "stream",
       "stream": "stdout",
       "text": [
        "\n",
        "(1.3841537651752263, 1.2284471259561158)\n",
        "True"
       ]
      },
      {
       "output_type": "stream",
       "stream": "stdout",
       "text": [
        "\n",
        "(1.1536419566235521, 1.1938851074280059)\n",
        "True"
       ]
      },
      {
       "output_type": "stream",
       "stream": "stdout",
       "text": [
        "\n",
        "(0.88182139224049461, 0.94093203071197073)\n",
        "True"
       ]
      },
      {
       "output_type": "stream",
       "stream": "stdout",
       "text": [
        "\n",
        "(1.002700298335135, 1.0506938618881858)\n",
        "True"
       ]
      },
      {
       "output_type": "stream",
       "stream": "stdout",
       "text": [
        "\n",
        "(0.7495664240078953, 0.99971063703535334)\n",
        "True"
       ]
      },
      {
       "output_type": "stream",
       "stream": "stdout",
       "text": [
        "\n",
        "(1.242278979312081, 1.254325848148452)\n",
        "True"
       ]
      },
      {
       "output_type": "stream",
       "stream": "stdout",
       "text": [
        "\n",
        "(0.80855074306916153, 1.0332755360180232)\n",
        "True"
       ]
      },
      {
       "output_type": "stream",
       "stream": "stdout",
       "text": [
        "\n",
        "(0.96083612411658947, 1.1631902106694381)\n",
        "False"
       ]
      },
      {
       "output_type": "stream",
       "stream": "stdout",
       "text": [
        "\n",
        "(1.00911468558966, 0.94618520381017213)\n",
        "False"
       ]
      },
      {
       "output_type": "stream",
       "stream": "stdout",
       "text": [
        "\n",
        "(1.1921247606467065, 1.1423131781588867)\n",
        "True"
       ]
      },
      {
       "output_type": "stream",
       "stream": "stdout",
       "text": [
        "\n",
        "(1.3337922844513164, 1.3561246528524116)\n",
        "True"
       ]
      },
      {
       "output_type": "stream",
       "stream": "stdout",
       "text": [
        "\n",
        "(0.97501707645781777, 1.1057263309491405)\n",
        "False"
       ]
      },
      {
       "output_type": "stream",
       "stream": "stdout",
       "text": [
        "\n",
        "(1.0941637958994888, 1.0725909722501987)\n",
        "True"
       ]
      },
      {
       "output_type": "stream",
       "stream": "stdout",
       "text": [
        "\n",
        "(0.76154781994055309, 0.89037873017061608)\n",
        "True"
       ]
      },
      {
       "output_type": "stream",
       "stream": "stdout",
       "text": [
        "\n",
        "(0.66697361397361765, 0.76898939414643996)\n",
        "True"
       ]
      },
      {
       "output_type": "stream",
       "stream": "stdout",
       "text": [
        "\n",
        "(0.7694785286634066, 0.94181131891157821)\n",
        "True"
       ]
      },
      {
       "output_type": "stream",
       "stream": "stdout",
       "text": [
        "\n",
        "(1.015374593310493, 1.1817205943462898)\n",
        "True"
       ]
      },
      {
       "output_type": "stream",
       "stream": "stdout",
       "text": [
        "\n",
        "(0.97203810455439932, 1.1408342821641717)\n",
        "True"
       ]
      },
      {
       "output_type": "stream",
       "stream": "stdout",
       "text": [
        "\n",
        "(0.69151773379336179, 0.72938984679738383)\n",
        "True"
       ]
      },
      {
       "output_type": "stream",
       "stream": "stdout",
       "text": [
        "\n",
        "(1.3231547037772833, 1.3752859378402054)\n",
        "True"
       ]
      },
      {
       "output_type": "stream",
       "stream": "stdout",
       "text": [
        "\n",
        "(0.87708188108001528, 0.9849796183093581)\n",
        "True"
       ]
      },
      {
       "output_type": "stream",
       "stream": "stdout",
       "text": [
        "\n",
        "(1.0916247183924486, 1.1558429143610329)\n",
        "True"
       ]
      },
      {
       "output_type": "stream",
       "stream": "stdout",
       "text": [
        "\n",
        "(0.83705480131794807, 0.87351381178883991)\n",
        "True\n",
        "(0.94822724719992024, 0.97697252194827644)\n",
        "True"
       ]
      },
      {
       "output_type": "stream",
       "stream": "stdout",
       "text": [
        "\n",
        "(0.9612197000530438, 1.067737385780906)\n",
        "False"
       ]
      },
      {
       "output_type": "stream",
       "stream": "stdout",
       "text": [
        "\n",
        "(1.2350785457988811, 1.110237874950629)\n",
        "False"
       ]
      },
      {
       "output_type": "stream",
       "stream": "stdout",
       "text": [
        "\n",
        "(0.97511063775081275, 0.92806465957156192)\n",
        "True"
       ]
      },
      {
       "output_type": "stream",
       "stream": "stdout",
       "text": [
        "\n",
        "(1.0413054053414401, 1.1898188841607997)\n",
        "True"
       ]
      },
      {
       "output_type": "stream",
       "stream": "stdout",
       "text": [
        "\n",
        "(0.85301978141673129, 1.0373850334748698)\n",
        "True"
       ]
      },
      {
       "output_type": "stream",
       "stream": "stdout",
       "text": [
        "\n",
        "(0.79233705274688193, 1.0918434348862007)\n",
        "True"
       ]
      },
      {
       "output_type": "stream",
       "stream": "stdout",
       "text": [
        "\n",
        "(0.66134480454935241, 0.76783145153238375)\n",
        "True"
       ]
      },
      {
       "output_type": "stream",
       "stream": "stdout",
       "text": [
        "\n",
        "(0.94866730446390757, 1.0272500198514001)\n",
        "True"
       ]
      },
      {
       "output_type": "stream",
       "stream": "stdout",
       "text": [
        "\n",
        "(0.7130712361176974, 0.97376490528951221)\n",
        "True"
       ]
      },
      {
       "output_type": "stream",
       "stream": "stdout",
       "text": [
        "\n",
        "(1.1887048281040471, 1.3259000605137576)\n",
        "False"
       ]
      },
      {
       "output_type": "stream",
       "stream": "stdout",
       "text": [
        "\n",
        "(1.051432968962744, 0.96773847125903656)\n",
        "True"
       ]
      },
      {
       "output_type": "stream",
       "stream": "stdout",
       "text": [
        "\n",
        "(1.0300312723462466, 1.1058516417541757)\n",
        "False"
       ]
      },
      {
       "output_type": "stream",
       "stream": "stdout",
       "text": [
        "\n",
        "(1.0542829659592541, 1.0160745087873269)\n",
        "True"
       ]
      },
      {
       "output_type": "stream",
       "stream": "stdout",
       "text": [
        "\n",
        "(1.1426691017552846, 1.3364122542062924)\n",
        "False"
       ]
      },
      {
       "output_type": "stream",
       "stream": "stdout",
       "text": [
        "\n",
        "(1.3840095257395202, 1.1779946105643857)\n",
        "False"
       ]
      },
      {
       "output_type": "stream",
       "stream": "stdout",
       "text": [
        "\n",
        "(1.8392845237852935, 1.5636322853563009)\n",
        "True"
       ]
      },
      {
       "output_type": "stream",
       "stream": "stdout",
       "text": [
        "\n",
        "(0.95095426490449686, 1.0346471108461843)\n",
        "True"
       ]
      },
      {
       "output_type": "stream",
       "stream": "stdout",
       "text": [
        "\n",
        "(1.0731351574622117, 1.1954196792652758)\n",
        "True"
       ]
      },
      {
       "output_type": "stream",
       "stream": "stdout",
       "text": [
        "\n",
        "(0.88865460098743077, 1.0113356621463943)\n",
        "False"
       ]
      },
      {
       "output_type": "stream",
       "stream": "stdout",
       "text": [
        "\n",
        "(1.1150220747796915, 1.1088615631182319)\n",
        "False"
       ]
      },
      {
       "output_type": "stream",
       "stream": "stdout",
       "text": [
        "\n",
        "(0.70394803802038663, 0.69223433523774192)\n",
        "True"
       ]
      },
      {
       "output_type": "stream",
       "stream": "stdout",
       "text": [
        "\n",
        "(0.95352265068231845, 1.116384905292702)\n",
        "False"
       ]
      },
      {
       "output_type": "stream",
       "stream": "stdout",
       "text": [
        "\n",
        "(1.3180003060422205, 1.0835263143849525)\n",
        "True"
       ]
      },
      {
       "output_type": "stream",
       "stream": "stdout",
       "text": [
        "\n",
        "(0.59358524141682523, 0.78902875776508796)\n",
        "False"
       ]
      },
      {
       "output_type": "stream",
       "stream": "stdout",
       "text": [
        "\n",
        "(0.75459657991170825, 0.71967888830240578)\n",
        "True"
       ]
      },
      {
       "output_type": "stream",
       "stream": "stdout",
       "text": [
        "\n",
        "(1.117804489417104, 1.1262903906237061)\n",
        "True\n",
        "(0.63577855406332595, 0.66397805863742798)\n",
        "False"
       ]
      },
      {
       "output_type": "stream",
       "stream": "stdout",
       "text": [
        "\n",
        "(0.89466930336452244, 0.82308513277939188)\n",
        "True\n",
        "(0.69796182995739064, 0.85630539445423826)\n",
        "True"
       ]
      },
      {
       "output_type": "stream",
       "stream": "stdout",
       "text": [
        "\n",
        "(1.2949305837040834, 1.3621298635409396)\n",
        "True"
       ]
      },
      {
       "output_type": "stream",
       "stream": "stdout",
       "text": [
        "\n",
        "(0.96096318976498529, 1.1853801120741863)\n",
        "False"
       ]
      },
      {
       "output_type": "stream",
       "stream": "stdout",
       "text": [
        "\n",
        "(1.1421324894397977, 1.0370899457402698)\n",
        "True"
       ]
      },
      {
       "output_type": "stream",
       "stream": "stdout",
       "text": [
        "\n",
        "(0.82676816826288091, 0.95022218904618971)\n",
        "True"
       ]
      },
      {
       "output_type": "stream",
       "stream": "stdout",
       "text": [
        "\n",
        "(1.1473787794335217, 1.3893458273787058)\n",
        "True"
       ]
      },
      {
       "output_type": "stream",
       "stream": "stdout",
       "text": [
        "\n",
        "(1.0627610960279452, 1.1875505175380132)\n",
        "False"
       ]
      },
      {
       "output_type": "stream",
       "stream": "stdout",
       "text": [
        "\n",
        "(0.93320506321359753, 0.82192186706253012)\n",
        "True"
       ]
      },
      {
       "output_type": "stream",
       "stream": "stdout",
       "text": [
        "\n",
        "(1.2831147799487079, 1.2919167579470288)\n",
        "True"
       ]
      },
      {
       "output_type": "stream",
       "stream": "stdout",
       "text": [
        "\n",
        "(1.0648203871014659, 1.1941214033447043)\n",
        "False"
       ]
      },
      {
       "output_type": "stream",
       "stream": "stdout",
       "text": [
        "\n",
        "(1.0266245099534659, 1.0165727415629877)\n",
        "True"
       ]
      },
      {
       "output_type": "stream",
       "stream": "stdout",
       "text": [
        "\n",
        "(0.90786159408526246, 1.0586520635393821)\n",
        "True"
       ]
      },
      {
       "output_type": "stream",
       "stream": "stdout",
       "text": [
        "\n",
        "(0.94368269709368557, 0.99140968657344064)\n",
        "True"
       ]
      },
      {
       "output_type": "stream",
       "stream": "stdout",
       "text": [
        "\n",
        "(1.3837161771250162, 1.5519227521800256)\n",
        "True"
       ]
      },
      {
       "output_type": "stream",
       "stream": "stdout",
       "text": [
        "\n",
        "(0.84009876575668208, 0.93064859716938164)\n",
        "True\n",
        "(0.76467432021987225, 0.87479143584535268)\n",
        "True"
       ]
      },
      {
       "output_type": "stream",
       "stream": "stdout",
       "text": [
        "\n",
        "(0.79576818897361501, 0.87378930202186056)\n",
        "True"
       ]
      },
      {
       "output_type": "stream",
       "stream": "stdout",
       "text": [
        "\n",
        "(1.1289252714461202, 1.2558788319871181)\n",
        "True"
       ]
      },
      {
       "output_type": "stream",
       "stream": "stdout",
       "text": [
        "\n",
        "(0.8626554082952278, 1.0075587791958649)\n",
        "True"
       ]
      },
      {
       "output_type": "stream",
       "stream": "stdout",
       "text": [
        "\n",
        "(1.2734697342047978, 1.3446401036219904)\n",
        "True"
       ]
      },
      {
       "output_type": "stream",
       "stream": "stdout",
       "text": [
        "\n",
        "(0.88559790860336562, 1.0339902332561637)\n",
        "True"
       ]
      },
      {
       "output_type": "stream",
       "stream": "stdout",
       "text": [
        "\n",
        "(1.1359033498958493, 1.1516447968394514)\n",
        "False"
       ]
      },
      {
       "output_type": "stream",
       "stream": "stdout",
       "text": [
        "\n",
        "(0.77812922576797128, 0.75217135083004139)\n",
        "True"
       ]
      },
      {
       "output_type": "stream",
       "stream": "stdout",
       "text": [
        "\n",
        "(0.81481886365904088, 0.89288859089677108)\n",
        "True"
       ]
      },
      {
       "output_type": "stream",
       "stream": "stdout",
       "text": [
        "\n",
        "(0.8945157402015107, 0.96630030701704617)\n",
        "True"
       ]
      },
      {
       "output_type": "stream",
       "stream": "stdout",
       "text": [
        "\n",
        "(0.84272438451430498, 0.86810873351428053)\n",
        "False"
       ]
      },
      {
       "output_type": "stream",
       "stream": "stdout",
       "text": [
        "\n",
        "(1.5877931297101198, 1.5151090903151347)\n",
        "True"
       ]
      },
      {
       "output_type": "stream",
       "stream": "stdout",
       "text": [
        "\n",
        "(1.4415279879926064, 1.4698341442605163)\n",
        "True"
       ]
      },
      {
       "output_type": "stream",
       "stream": "stdout",
       "text": [
        "\n",
        "(1.2923142356023345, 1.41353272226838)\n",
        "True"
       ]
      },
      {
       "output_type": "stream",
       "stream": "stdout",
       "text": [
        "\n",
        "(0.95873470842163244, 1.0391260364989465)\n",
        "True\n",
        "(0.90883234797851087, 0.93478820335776347)\n",
        "True"
       ]
      },
      {
       "output_type": "stream",
       "stream": "stdout",
       "text": [
        "\n",
        "(0.68209629105080161, 0.78535345249860211)\n",
        "True\n",
        "(0.84721987993339487, 0.8941165720667773)\n",
        "True"
       ]
      },
      {
       "output_type": "stream",
       "stream": "stdout",
       "text": [
        "\n",
        "(0.67793187895172335, 0.84295091484303564)\n",
        "True"
       ]
      },
      {
       "output_type": "stream",
       "stream": "stdout",
       "text": [
        "\n",
        "(1.1957003908949828, 1.5995927123344067)\n",
        "True"
       ]
      },
      {
       "output_type": "stream",
       "stream": "stdout",
       "text": [
        "\n",
        "(1.0044101313431413, 1.1580211351240697)\n",
        "True"
       ]
      },
      {
       "output_type": "stream",
       "stream": "stdout",
       "text": [
        "\n",
        "(1.0404579983019293, 1.0677071993534113)\n",
        "True"
       ]
      },
      {
       "output_type": "stream",
       "stream": "stdout",
       "text": [
        "\n",
        "(0.80292652700985556, 1.0421603493522238)\n",
        "True"
       ]
      },
      {
       "output_type": "stream",
       "stream": "stdout",
       "text": [
        "\n",
        "(0.80163958169976468, 0.96523146452624276)\n",
        "True"
       ]
      },
      {
       "output_type": "stream",
       "stream": "stdout",
       "text": [
        "\n",
        "(1.5406300624224931, 1.6138949643981504)\n",
        "True"
       ]
      },
      {
       "output_type": "stream",
       "stream": "stdout",
       "text": [
        "\n",
        "(1.2940703192309164, 1.3356095100091623)\n",
        "False"
       ]
      },
      {
       "output_type": "stream",
       "stream": "stdout",
       "text": [
        "\n",
        "(1.0316532965634309, 0.89455066338386491)\n",
        "True"
       ]
      },
      {
       "output_type": "stream",
       "stream": "stdout",
       "text": [
        "\n",
        "(0.99397396873578658, 1.0174219342486428)\n",
        "True"
       ]
      },
      {
       "output_type": "stream",
       "stream": "stdout",
       "text": [
        "\n",
        "(0.96701007191113386, 1.0081900190982382)\n",
        "True"
       ]
      },
      {
       "output_type": "stream",
       "stream": "stdout",
       "text": [
        "\n",
        "(0.6851815898165432, 0.83987914190346469)\n",
        "False"
       ]
      },
      {
       "output_type": "stream",
       "stream": "stdout",
       "text": [
        "\n",
        "(0.80138517556509159, 0.74768160187193178)\n",
        "False"
       ]
      },
      {
       "output_type": "stream",
       "stream": "stdout",
       "text": [
        "\n",
        "(1.2777164331302879, 1.2462925485503591)\n",
        "True"
       ]
      },
      {
       "output_type": "stream",
       "stream": "stdout",
       "text": [
        "\n",
        "(0.85753896728731949, 0.91658935975810274)\n",
        "True"
       ]
      },
      {
       "output_type": "stream",
       "stream": "stdout",
       "text": [
        "\n",
        "(0.8840610751528466, 0.99199602945222498)\n",
        "True"
       ]
      },
      {
       "output_type": "stream",
       "stream": "stdout",
       "text": [
        "\n",
        "(0.84425143934720903, 1.0799119272424127)\n",
        "True"
       ]
      },
      {
       "output_type": "stream",
       "stream": "stdout",
       "text": [
        "\n",
        "(0.84052508161666717, 1.0559611215436984)\n",
        "True\n",
        "(0.64949850387206676, 0.83725043099575047)\n",
        "True"
       ]
      },
      {
       "output_type": "stream",
       "stream": "stdout",
       "text": [
        "\n",
        "(1.0896614008405825, 1.1184288058524274)\n",
        "True"
       ]
      },
      {
       "output_type": "stream",
       "stream": "stdout",
       "text": [
        "\n",
        "(1.0106264367331785, 1.1096638979403906)\n",
        "True"
       ]
      },
      {
       "output_type": "stream",
       "stream": "stdout",
       "text": [
        "\n",
        "(0.82353242070977417, 1.0441675267059631)\n",
        "True"
       ]
      },
      {
       "output_type": "stream",
       "stream": "stdout",
       "text": [
        "\n",
        "(0.73066183124159434, 1.0673229317974671)\n",
        "False"
       ]
      },
      {
       "output_type": "stream",
       "stream": "stdout",
       "text": [
        "\n",
        "(1.0679144894447534, 1.0376759832837665)\n",
        "True"
       ]
      },
      {
       "output_type": "stream",
       "stream": "stdout",
       "text": [
        "\n",
        "(1.1161389101000554, 1.2357577186813049)\n",
        "True"
       ]
      },
      {
       "output_type": "stream",
       "stream": "stdout",
       "text": [
        "\n",
        "(0.82428171490000279, 0.98926528694460247)\n",
        "True"
       ]
      },
      {
       "output_type": "stream",
       "stream": "stdout",
       "text": [
        "\n",
        "(1.2129164035197841, 1.7021228575582381)\n",
        "True"
       ]
      },
      {
       "output_type": "stream",
       "stream": "stdout",
       "text": [
        "\n",
        "(0.78958582012146317, 0.89862530280548492)\n",
        "True"
       ]
      },
      {
       "output_type": "stream",
       "stream": "stdout",
       "text": [
        "\n",
        "(0.99501476887655493, 1.0576339159284176)\n",
        "False"
       ]
      },
      {
       "output_type": "stream",
       "stream": "stdout",
       "text": [
        "\n",
        "(1.2802111390381621, 1.2797569213634976)\n",
        "True"
       ]
      },
      {
       "output_type": "stream",
       "stream": "stdout",
       "text": [
        "\n",
        "(0.99643035135238289, 1.0743681236444047)\n",
        "True"
       ]
      },
      {
       "output_type": "stream",
       "stream": "stdout",
       "text": [
        "\n",
        "(1.1772253941836639, 1.3561377772043901)\n",
        "True"
       ]
      },
      {
       "output_type": "stream",
       "stream": "stdout",
       "text": [
        "\n",
        "(1.076707595844393, 1.16039209342144)\n",
        "True"
       ]
      },
      {
       "output_type": "stream",
       "stream": "stdout",
       "text": [
        "\n",
        "(1.4712281000434611, 1.5522231480650226)\n",
        "True"
       ]
      },
      {
       "output_type": "stream",
       "stream": "stdout",
       "text": [
        "\n",
        "(0.83304275683321427, 0.83351124041693958)\n",
        "False"
       ]
      },
      {
       "output_type": "stream",
       "stream": "stdout",
       "text": [
        "\n",
        "(1.1231710448028347, 1.0253113594603269)\n",
        "True"
       ]
      },
      {
       "output_type": "stream",
       "stream": "stdout",
       "text": [
        "\n",
        "(1.0854502425545061, 1.2863176634537563)\n",
        "True"
       ]
      },
      {
       "output_type": "stream",
       "stream": "stdout",
       "text": [
        "\n",
        "(0.66717478240652195, 0.83950879861788297)\n",
        "False"
       ]
      },
      {
       "output_type": "stream",
       "stream": "stdout",
       "text": [
        "\n",
        "(1.1765583606898591, 1.1739894260866841)\n",
        "False"
       ]
      },
      {
       "output_type": "stream",
       "stream": "stdout",
       "text": [
        "\n",
        "(1.4367804066470382, 1.3798258935812313)\n",
        "True"
       ]
      },
      {
       "output_type": "stream",
       "stream": "stdout",
       "text": [
        "\n",
        "(0.77055885205444352, 0.89761925846804447)\n",
        "True"
       ]
      },
      {
       "output_type": "stream",
       "stream": "stdout",
       "text": [
        "\n",
        "(0.79094871352155594, 0.84251130782882933)\n",
        "True"
       ]
      },
      {
       "output_type": "stream",
       "stream": "stdout",
       "text": [
        "\n",
        "(0.82520831176141585, 0.89532967461590685)\n",
        "True"
       ]
      },
      {
       "output_type": "stream",
       "stream": "stdout",
       "text": [
        "\n",
        "(0.81278436108900509, 1.0180930458232171)\n",
        "True"
       ]
      },
      {
       "output_type": "stream",
       "stream": "stdout",
       "text": [
        "\n",
        "(1.3263402415215035, 1.3876849198394314)\n",
        "True"
       ]
      },
      {
       "output_type": "stream",
       "stream": "stdout",
       "text": [
        "\n",
        "(0.69719639383304433, 0.82232026260635216)\n",
        "True"
       ]
      },
      {
       "output_type": "stream",
       "stream": "stdout",
       "text": [
        "\n",
        "(1.5769531984521095, 1.6731167705486536)\n",
        "True"
       ]
      },
      {
       "output_type": "stream",
       "stream": "stdout",
       "text": [
        "\n",
        "(0.88969635718596052, 0.97927465276546133)\n",
        "True"
       ]
      },
      {
       "output_type": "stream",
       "stream": "stdout",
       "text": [
        "\n",
        "(0.86249257001625412, 0.91906612246833541)\n",
        "True"
       ]
      },
      {
       "output_type": "stream",
       "stream": "stdout",
       "text": [
        "\n",
        "(0.93458337152682824, 1.2231636028055697)\n",
        "True"
       ]
      },
      {
       "output_type": "stream",
       "stream": "stdout",
       "text": [
        "\n",
        "(1.2332720746340338, 1.3202160357883661)\n",
        "True"
       ]
      },
      {
       "output_type": "stream",
       "stream": "stdout",
       "text": [
        "\n",
        "(0.98873578619438895, 1.1322579361407363)\n",
        "True"
       ]
      },
      {
       "output_type": "stream",
       "stream": "stdout",
       "text": [
        "\n",
        "(0.75196064945514351, 0.84991996421912064)\n",
        "True"
       ]
      },
      {
       "output_type": "stream",
       "stream": "stdout",
       "text": [
        "\n",
        "(0.86258998764695427, 0.93007562108408615)\n",
        "True"
       ]
      },
      {
       "output_type": "stream",
       "stream": "stdout",
       "text": [
        "\n",
        "(0.92621609183596154, 1.0827441922546281)\n",
        "False"
       ]
      },
      {
       "output_type": "stream",
       "stream": "stdout",
       "text": [
        "\n",
        "(1.5899177244271436, 1.5202722383084644)\n",
        "True"
       ]
      },
      {
       "output_type": "stream",
       "stream": "stdout",
       "text": [
        "\n",
        "(1.2211334682660926, 1.449575486950307)\n",
        "True"
       ]
      },
      {
       "output_type": "stream",
       "stream": "stdout",
       "text": [
        "\n",
        "(1.1380133302004232, 1.1444391812342278)\n",
        "False"
       ]
      },
      {
       "output_type": "stream",
       "stream": "stdout",
       "text": [
        "\n",
        "(0.96727496911172994, 0.91916191770132694)\n",
        "True"
       ]
      },
      {
       "output_type": "stream",
       "stream": "stdout",
       "text": [
        "\n",
        "(0.8862010747179202, 0.90539159445525008)\n",
        "False"
       ]
      },
      {
       "output_type": "stream",
       "stream": "stdout",
       "text": [
        "\n",
        "(0.8303382342602369, 0.80100672784610394)\n",
        "False"
       ]
      },
      {
       "output_type": "stream",
       "stream": "stdout",
       "text": [
        "\n",
        "(0.92922213114332253, 0.92912722055448826)\n",
        "True"
       ]
      },
      {
       "output_type": "stream",
       "stream": "stdout",
       "text": [
        "\n",
        "(0.79810987664843513, 0.83271391444285747)\n",
        "True"
       ]
      },
      {
       "output_type": "stream",
       "stream": "stdout",
       "text": [
        "\n",
        "(1.1776108025901306, 1.1916093907922611)\n",
        "True"
       ]
      },
      {
       "output_type": "stream",
       "stream": "stdout",
       "text": [
        "\n",
        "(0.63864125616619594, 0.6912426187849614)\n",
        "True"
       ]
      },
      {
       "output_type": "stream",
       "stream": "stdout",
       "text": [
        "\n",
        "(0.80995925378895006, 0.91924406862681607)\n",
        "True"
       ]
      },
      {
       "output_type": "stream",
       "stream": "stdout",
       "text": [
        "\n",
        "(1.2738923024358901, 1.298369907947968)\n",
        "True"
       ]
      },
      {
       "output_type": "stream",
       "stream": "stdout",
       "text": [
        "\n",
        "(1.1707664857015527, 1.5441046788541442)\n",
        "True"
       ]
      },
      {
       "output_type": "stream",
       "stream": "stdout",
       "text": [
        "\n",
        "(0.99908006122269288, 1.1411712379770318)\n",
        "False"
       ]
      },
      {
       "output_type": "stream",
       "stream": "stdout",
       "text": [
        "\n",
        "(1.1084542096808025, 0.75424723326565057)\n",
        "True"
       ]
      },
      {
       "output_type": "stream",
       "stream": "stdout",
       "text": [
        "\n",
        "(0.84046598126420791, 0.84686422504644632)\n",
        "True"
       ]
      },
      {
       "output_type": "stream",
       "stream": "stdout",
       "text": [
        "\n",
        "(1.0048918391199817, 1.0743428757027502)\n",
        "False\n",
        "(1.2388586851657719, 1.1055650607230965)\n",
        "True"
       ]
      },
      {
       "output_type": "stream",
       "stream": "stdout",
       "text": [
        "\n",
        "(1.1268571471343347, 1.3446839240884321)\n",
        "True"
       ]
      },
      {
       "output_type": "stream",
       "stream": "stdout",
       "text": [
        "\n",
        "(0.85279834820367095, 0.94976726208065265)\n",
        "True"
       ]
      },
      {
       "output_type": "stream",
       "stream": "stdout",
       "text": [
        "\n",
        "(1.1811760004945708, 1.2005525938551151)\n",
        "True"
       ]
      },
      {
       "output_type": "stream",
       "stream": "stdout",
       "text": [
        "\n",
        "(0.71392501186635715, 0.87822365574593297)\n",
        "True"
       ]
      },
      {
       "output_type": "stream",
       "stream": "stdout",
       "text": [
        "\n",
        "(0.95705784933272631, 1.0848417732154345)\n",
        "True"
       ]
      },
      {
       "output_type": "stream",
       "stream": "stdout",
       "text": [
        "\n",
        "(0.74887380366391532, 0.94104796070770558)\n",
        "True"
       ]
      },
      {
       "output_type": "stream",
       "stream": "stdout",
       "text": [
        "\n",
        "(0.6500304024800756, 0.68844631841076287)\n",
        "True"
       ]
      },
      {
       "output_type": "stream",
       "stream": "stdout",
       "text": [
        "\n",
        "(0.88679732371960618, 0.99240056727738368)\n",
        "True"
       ]
      },
      {
       "output_type": "stream",
       "stream": "stdout",
       "text": [
        "\n",
        "(0.92151543631476862, 1.0467818023705842)\n",
        "True"
       ]
      },
      {
       "output_type": "stream",
       "stream": "stdout",
       "text": [
        "\n",
        "(1.192792040430424, 1.355414581025131)\n",
        "True"
       ]
      },
      {
       "output_type": "stream",
       "stream": "stdout",
       "text": [
        "\n",
        "(0.90224314861288391, 0.96994159072856401)\n",
        "True"
       ]
      },
      {
       "output_type": "stream",
       "stream": "stdout",
       "text": [
        "\n",
        "(0.96374322261028, 0.96784362267006385)\n",
        "True"
       ]
      },
      {
       "output_type": "stream",
       "stream": "stdout",
       "text": [
        "\n",
        "(1.379886149443041, 1.429078685053248)\n",
        "True"
       ]
      },
      {
       "output_type": "stream",
       "stream": "stdout",
       "text": [
        "\n",
        "(0.6817351368191662, 0.77978878088564674)\n",
        "False"
       ]
      },
      {
       "output_type": "stream",
       "stream": "stdout",
       "text": [
        "\n",
        "(1.4401794076230592, 1.2300883236380293)\n",
        "False"
       ]
      },
      {
       "output_type": "stream",
       "stream": "stdout",
       "text": [
        "\n",
        "(1.0317119866058335, 0.88123333143346738)\n",
        "True"
       ]
      },
      {
       "output_type": "stream",
       "stream": "stdout",
       "text": [
        "\n",
        "(0.77730043777104008, 0.82612507460365159)\n",
        "True"
       ]
      },
      {
       "output_type": "stream",
       "stream": "stdout",
       "text": [
        "\n",
        "(0.87943121571280236, 1.0009875687777285)\n",
        "True"
       ]
      },
      {
       "output_type": "stream",
       "stream": "stdout",
       "text": [
        "\n",
        "(0.90545916040006813, 1.0718623460542349)\n",
        "False"
       ]
      },
      {
       "output_type": "stream",
       "stream": "stdout",
       "text": [
        "\n",
        "(1.1949384941670698, 1.1641319409326059)\n",
        "True"
       ]
      },
      {
       "output_type": "stream",
       "stream": "stdout",
       "text": [
        "\n",
        "(0.82636074554014227, 1.1508887467853084)\n",
        "True"
       ]
      },
      {
       "output_type": "stream",
       "stream": "stdout",
       "text": [
        "\n",
        "(0.61681093053469949, 0.93414100712156711)\n",
        "True"
       ]
      },
      {
       "output_type": "stream",
       "stream": "stdout",
       "text": [
        "\n",
        "(0.83601638826092417, 1.1701934597157335)\n",
        "True"
       ]
      },
      {
       "output_type": "stream",
       "stream": "stdout",
       "text": [
        "\n",
        "(1.1591169095539673, 1.4335825504325939)\n",
        "False"
       ]
      },
      {
       "output_type": "stream",
       "stream": "stdout",
       "text": [
        "\n",
        "(1.0200703438642069, 0.99225586030123658)\n",
        "True"
       ]
      },
      {
       "output_type": "stream",
       "stream": "stdout",
       "text": [
        "\n",
        "(0.8291705413461955, 1.0095189372775184)\n",
        "True"
       ]
      },
      {
       "output_type": "stream",
       "stream": "stdout",
       "text": [
        "\n",
        "(0.73994584483122128, 0.88663132384017107)\n",
        "True"
       ]
      },
      {
       "output_type": "stream",
       "stream": "stdout",
       "text": [
        "\n",
        "(0.73402373913833463, 0.75335929807177149)\n",
        "True"
       ]
      },
      {
       "output_type": "stream",
       "stream": "stdout",
       "text": [
        "\n",
        "(0.78431683796516471, 1.0071972081377858)\n",
        "True"
       ]
      },
      {
       "output_type": "stream",
       "stream": "stdout",
       "text": [
        "\n",
        "(0.54628659275683378, 0.61154358676318121)\n",
        "True"
       ]
      },
      {
       "output_type": "stream",
       "stream": "stdout",
       "text": [
        "\n",
        "(0.7427094892971331, 1.075761405236864)\n",
        "True"
       ]
      },
      {
       "output_type": "stream",
       "stream": "stdout",
       "text": [
        "\n",
        "(0.81436285173835909, 0.83870315311608523)\n",
        "True\n",
        "(0.82686191866109904, 0.91281344979851331)\n",
        "False"
       ]
      },
      {
       "output_type": "stream",
       "stream": "stdout",
       "text": [
        "\n",
        "(1.332352404993129, 1.2099483630977674)\n",
        "False"
       ]
      },
      {
       "output_type": "stream",
       "stream": "stdout",
       "text": [
        "\n",
        "(1.0195620625609412, 1.0011965145601063)\n",
        "True"
       ]
      },
      {
       "output_type": "stream",
       "stream": "stdout",
       "text": [
        "\n",
        "(1.1761936153285215, 1.2330504375864835)\n",
        "True"
       ]
      },
      {
       "output_type": "stream",
       "stream": "stdout",
       "text": [
        "\n",
        "(0.92582676899281069, 1.0684853066389368)\n",
        "True"
       ]
      },
      {
       "output_type": "stream",
       "stream": "stdout",
       "text": [
        "\n",
        "(0.73173576940144125, 0.8629110709788973)\n",
        "True"
       ]
      },
      {
       "output_type": "stream",
       "stream": "stdout",
       "text": [
        "\n",
        "(0.63201878157427061, 0.8250761853502806)\n",
        "False"
       ]
      },
      {
       "output_type": "stream",
       "stream": "stdout",
       "text": [
        "\n",
        "(0.87065011257734803, 0.83593344365578659)\n",
        "True"
       ]
      },
      {
       "output_type": "stream",
       "stream": "stdout",
       "text": [
        "\n",
        "(1.1594927452786834, 1.1608167378924175)\n",
        "True"
       ]
      },
      {
       "output_type": "stream",
       "stream": "stdout",
       "text": [
        "\n",
        "(0.92392747463290248, 1.0511691734016606)\n",
        "True"
       ]
      },
      {
       "output_type": "stream",
       "stream": "stdout",
       "text": [
        "\n",
        "(1.2009452460059822, 1.2095566255920502)\n",
        "False"
       ]
      },
      {
       "output_type": "stream",
       "stream": "stdout",
       "text": [
        "\n",
        "(1.2146334020517555, 1.1616160518225684)\n",
        "True"
       ]
      },
      {
       "output_type": "stream",
       "stream": "stdout",
       "text": [
        "\n",
        "(0.86870814521655193, 0.92747397334258574)\n",
        "True"
       ]
      },
      {
       "output_type": "stream",
       "stream": "stdout",
       "text": [
        "\n",
        "(0.83963359302391205, 1.0616998627156276)\n",
        "True"
       ]
      },
      {
       "output_type": "stream",
       "stream": "stdout",
       "text": [
        "\n",
        "(0.63593180385531278, 0.81088387746679025)\n",
        "True"
       ]
      },
      {
       "output_type": "stream",
       "stream": "stdout",
       "text": [
        "\n",
        "(0.80799925246077808, 1.0743600315772492)\n",
        "True"
       ]
      },
      {
       "output_type": "stream",
       "stream": "stdout",
       "text": [
        "\n",
        "(0.75479135247263307, 0.99642592981710554)\n",
        "False"
       ]
      },
      {
       "output_type": "stream",
       "stream": "stdout",
       "text": [
        "\n",
        "(0.79134044819129878, 0.78822081565806212)\n",
        "True"
       ]
      },
      {
       "output_type": "stream",
       "stream": "stdout",
       "text": [
        "\n",
        "(0.97831723889329836, 1.1852478210429032)\n",
        "True"
       ]
      },
      {
       "output_type": "stream",
       "stream": "stdout",
       "text": [
        "\n",
        "(0.92917176215146013, 1.0732818059002693)\n",
        "True"
       ]
      },
      {
       "output_type": "stream",
       "stream": "stdout",
       "text": [
        "\n",
        "(0.73067811612355404, 0.8255252397256162)\n",
        "True"
       ]
      },
      {
       "output_type": "stream",
       "stream": "stdout",
       "text": [
        "\n",
        "(0.79427676947614645, 0.9132372460503877)\n",
        "False"
       ]
      },
      {
       "output_type": "stream",
       "stream": "stdout",
       "text": [
        "\n",
        "(1.6803456646095674, 1.1145502331533659)\n",
        "True"
       ]
      },
      {
       "output_type": "stream",
       "stream": "stdout",
       "text": [
        "\n",
        "(0.92109840506438645, 0.97877291692094281)\n",
        "False"
       ]
      },
      {
       "output_type": "stream",
       "stream": "stdout",
       "text": [
        "\n",
        "(0.8835257432655832, 0.87945295496689302)\n",
        "True"
       ]
      },
      {
       "output_type": "stream",
       "stream": "stdout",
       "text": [
        "\n",
        "(0.93028477554470712, 1.3004184681152311)\n",
        "True"
       ]
      },
      {
       "output_type": "stream",
       "stream": "stdout",
       "text": [
        "\n",
        "(0.97172773639192522, 1.0485586690001629)\n",
        "True"
       ]
      },
      {
       "output_type": "stream",
       "stream": "stdout",
       "text": [
        "\n",
        "(1.025747528537458, 1.0852495469300698)\n",
        "True"
       ]
      },
      {
       "output_type": "stream",
       "stream": "stdout",
       "text": [
        "\n",
        "(0.93171005434357168, 1.0551214385083834)\n",
        "True"
       ]
      },
      {
       "output_type": "stream",
       "stream": "stdout",
       "text": [
        "\n",
        "(0.92931126474522918, 1.0387714868122147)\n",
        "False"
       ]
      },
      {
       "output_type": "stream",
       "stream": "stdout",
       "text": [
        "\n",
        "(0.78440551344400622, 0.76621410022439185)\n",
        "False"
       ]
      },
      {
       "output_type": "stream",
       "stream": "stdout",
       "text": [
        "\n",
        "(1.0790538284563205, 1.0434983894999019)\n",
        "True"
       ]
      },
      {
       "output_type": "stream",
       "stream": "stdout",
       "text": [
        "\n",
        "(1.1495132179940684, 1.4444062876523087)\n",
        "True"
       ]
      },
      {
       "output_type": "stream",
       "stream": "stdout",
       "text": [
        "\n",
        "(0.84603318134343208, 0.88616656792026993)\n",
        "True"
       ]
      },
      {
       "output_type": "stream",
       "stream": "stdout",
       "text": [
        "\n",
        "(0.89636287625853162, 0.93485469582261738)\n",
        "True"
       ]
      },
      {
       "output_type": "stream",
       "stream": "stdout",
       "text": [
        "\n",
        "(0.84546453930533916, 1.0133040340425847)\n",
        "True"
       ]
      },
      {
       "output_type": "stream",
       "stream": "stdout",
       "text": [
        "\n",
        "(1.1125690644565724, 1.1601015597835591)\n",
        "True"
       ]
      },
      {
       "output_type": "stream",
       "stream": "stdout",
       "text": [
        "\n",
        "(0.84293462817274978, 0.93698834821817412)\n",
        "True"
       ]
      },
      {
       "output_type": "stream",
       "stream": "stdout",
       "text": [
        "\n",
        "(1.2893270865322408, 1.4579174964175396)\n",
        "False"
       ]
      },
      {
       "output_type": "stream",
       "stream": "stdout",
       "text": [
        "\n",
        "(0.90391705273231271, 0.87576360874137837)\n",
        "True"
       ]
      },
      {
       "output_type": "stream",
       "stream": "stdout",
       "text": [
        "\n",
        "(0.96031243875715633, 1.0429347157872575)\n",
        "True\n",
        "(0.69155902124102453, 0.89258900084635195)\n",
        "True"
       ]
      },
      {
       "output_type": "stream",
       "stream": "stdout",
       "text": [
        "\n",
        "(0.78731068312165742, 0.86540179095197134)\n",
        "True"
       ]
      },
      {
       "output_type": "stream",
       "stream": "stdout",
       "text": [
        "\n",
        "(0.70481455922419378, 0.74638641951274365)\n",
        "True"
       ]
      },
      {
       "output_type": "stream",
       "stream": "stdout",
       "text": [
        "\n",
        "(0.74808625565125619, 0.84098799393537693)\n",
        "True"
       ]
      },
      {
       "output_type": "stream",
       "stream": "stdout",
       "text": [
        "\n",
        "(0.72919799489401427, 1.0105050069749095)\n",
        "False"
       ]
      },
      {
       "output_type": "stream",
       "stream": "stdout",
       "text": [
        "\n",
        "(0.85331674700327365, 0.82153230656706766)\n",
        "True"
       ]
      },
      {
       "output_type": "stream",
       "stream": "stdout",
       "text": [
        "\n",
        "(0.98220675964839221, 1.1377632591322586)\n",
        "True"
       ]
      },
      {
       "output_type": "stream",
       "stream": "stdout",
       "text": [
        "\n",
        "(1.1728153048204919, 1.2417609930174267)\n",
        "True"
       ]
      },
      {
       "output_type": "stream",
       "stream": "stdout",
       "text": [
        "\n",
        "(0.8781269216614388, 0.92106765446657868)\n",
        "True"
       ]
      },
      {
       "output_type": "stream",
       "stream": "stdout",
       "text": [
        "\n",
        "(0.62756888720515291, 0.92342882981999119)\n",
        "True"
       ]
      },
      {
       "output_type": "stream",
       "stream": "stdout",
       "text": [
        "\n",
        "(0.64601604211418751, 0.82786155849627563)\n",
        "True"
       ]
      },
      {
       "output_type": "stream",
       "stream": "stdout",
       "text": [
        "\n",
        "(0.73116990908714963, 0.73257329421609829)\n",
        "False"
       ]
      },
      {
       "output_type": "stream",
       "stream": "stdout",
       "text": [
        "\n",
        "(1.1030920566448752, 1.0756768953029217)\n",
        "True"
       ]
      },
      {
       "output_type": "stream",
       "stream": "stdout",
       "text": [
        "\n",
        "(0.80194815740706671, 0.95931687225102524)\n",
        "True"
       ]
      },
      {
       "output_type": "stream",
       "stream": "stdout",
       "text": [
        "\n",
        "(0.99126569068958093, 1.0051174195394192)\n",
        "True"
       ]
      },
      {
       "output_type": "stream",
       "stream": "stdout",
       "text": [
        "\n",
        "(0.83179643250405677, 0.91821987280304396)\n",
        "True"
       ]
      },
      {
       "output_type": "stream",
       "stream": "stdout",
       "text": [
        "\n",
        "(1.234381468603138, 1.2571784872877141)\n",
        "True"
       ]
      },
      {
       "output_type": "stream",
       "stream": "stdout",
       "text": [
        "\n",
        "(1.1412192733212567, 1.318856435406274)\n",
        "True"
       ]
      },
      {
       "output_type": "stream",
       "stream": "stdout",
       "text": [
        "\n",
        "(0.9808568619731407, 1.1135863800472159)\n",
        "True"
       ]
      },
      {
       "output_type": "stream",
       "stream": "stdout",
       "text": [
        "\n",
        "(0.93173948080973734, 0.96191999536378747)\n",
        "True"
       ]
      },
      {
       "output_type": "stream",
       "stream": "stdout",
       "text": [
        "\n",
        "(0.77171900563081841, 0.9189478771036903)\n",
        "False"
       ]
      },
      {
       "output_type": "stream",
       "stream": "stdout",
       "text": [
        "\n",
        "(1.3026227531525956, 1.2077572959624021)\n",
        "True"
       ]
      },
      {
       "output_type": "stream",
       "stream": "stdout",
       "text": [
        "\n",
        "(1.0209639515120552, 1.1788006330757048)\n",
        "True"
       ]
      },
      {
       "output_type": "stream",
       "stream": "stdout",
       "text": [
        "\n",
        "(1.1936700709228436, 1.360915581744931)\n",
        "True"
       ]
      },
      {
       "output_type": "stream",
       "stream": "stdout",
       "text": [
        "\n",
        "(0.92857023566207986, 1.101604214014777)\n",
        "True"
       ]
      },
      {
       "output_type": "stream",
       "stream": "stdout",
       "text": [
        "\n",
        "(0.78541114587526306, 1.0461629801323351)\n",
        "True"
       ]
      },
      {
       "output_type": "stream",
       "stream": "stdout",
       "text": [
        "\n",
        "(0.73795928077943151, 0.95449026086126554)\n",
        "True"
       ]
      },
      {
       "output_type": "stream",
       "stream": "stdout",
       "text": [
        "\n",
        "(1.0304596165228488, 1.1829244072069471)\n",
        "True"
       ]
      },
      {
       "output_type": "stream",
       "stream": "stdout",
       "text": [
        "\n",
        "(1.2040275151788651, 1.3524399785107648)\n",
        "True"
       ]
      },
      {
       "output_type": "stream",
       "stream": "stdout",
       "text": [
        "\n",
        "(0.6851968246155532, 0.70957317874734072)\n",
        "True"
       ]
      },
      {
       "output_type": "stream",
       "stream": "stdout",
       "text": [
        "\n",
        "(1.0095517152054454, 1.0919972799600353)\n",
        "True"
       ]
      },
      {
       "output_type": "stream",
       "stream": "stdout",
       "text": [
        "\n",
        "(0.2642090595152321, 0.85054455521149031)\n",
        "False"
       ]
      },
      {
       "output_type": "stream",
       "stream": "stdout",
       "text": [
        "\n",
        "(0.97252783336425586, 0.93375629928064263)\n",
        "True"
       ]
      },
      {
       "output_type": "stream",
       "stream": "stdout",
       "text": [
        "\n",
        "(1.1192303084454334, 1.2020816471729145)\n",
        "True"
       ]
      },
      {
       "output_type": "stream",
       "stream": "stdout",
       "text": [
        "\n",
        "(1.0580746624173731, 1.3491672933144128)\n",
        "True"
       ]
      },
      {
       "output_type": "stream",
       "stream": "stdout",
       "text": [
        "\n",
        "(0.86427325701879754, 0.86552974003416749)\n",
        "False\n",
        "(0.75126083354312578, 0.47904912830974622)\n",
        "True"
       ]
      },
      {
       "output_type": "stream",
       "stream": "stdout",
       "text": [
        "\n",
        "(0.997259780509683, 1.1269701541722663)\n",
        "True"
       ]
      },
      {
       "output_type": "stream",
       "stream": "stdout",
       "text": [
        "\n",
        "(0.72878535988254323, 0.94427695724897476)\n",
        "False"
       ]
      },
      {
       "output_type": "stream",
       "stream": "stdout",
       "text": [
        "\n",
        "(1.2828788418374588, 1.1969134458012667)\n",
        "True\n",
        "(0.59429766491350156, 0.79108036132244031)\n",
        "True"
       ]
      },
      {
       "output_type": "stream",
       "stream": "stdout",
       "text": [
        "\n",
        "(0.67432637537768536, 0.8533593883714069)\n",
        "True"
       ]
      },
      {
       "output_type": "stream",
       "stream": "stdout",
       "text": [
        "\n",
        "(0.8217257486745343, 0.98086485854605343)\n",
        "True"
       ]
      },
      {
       "output_type": "stream",
       "stream": "stdout",
       "text": [
        "\n",
        "(1.4234121866767031, 1.5464592458815056)\n",
        "True"
       ]
      },
      {
       "output_type": "stream",
       "stream": "stdout",
       "text": [
        "\n",
        "(1.1543316567313509, 1.2889713989927538)\n",
        "True"
       ]
      },
      {
       "output_type": "stream",
       "stream": "stdout",
       "text": [
        "\n",
        "(0.92918770431380238, 1.1025223605694152)\n",
        "True"
       ]
      },
      {
       "output_type": "stream",
       "stream": "stdout",
       "text": [
        "\n",
        "(0.99480355279557775, 1.1874631252186998)\n",
        "False"
       ]
      },
      {
       "output_type": "stream",
       "stream": "stdout",
       "text": [
        "\n",
        "(1.2200102092366023, 1.1296696576227649)\n",
        "True"
       ]
      },
      {
       "output_type": "stream",
       "stream": "stdout",
       "text": [
        "\n",
        "(0.56517923732149145, 0.82193217967197829)\n",
        "True"
       ]
      },
      {
       "output_type": "stream",
       "stream": "stdout",
       "text": [
        "\n",
        "(0.94759277471036663, 1.1349370654781439)\n",
        "True"
       ]
      },
      {
       "output_type": "stream",
       "stream": "stdout",
       "text": [
        "\n",
        "(0.7219880985282735, 1.115954865166326)\n",
        "True"
       ]
      },
      {
       "output_type": "stream",
       "stream": "stdout",
       "text": [
        "\n",
        "(0.90495249788669818, 0.96098028115341616)\n",
        "False"
       ]
      },
      {
       "output_type": "stream",
       "stream": "stdout",
       "text": [
        "\n",
        "(1.0110111513301774, 0.98072892011009283)\n",
        "False"
       ]
      },
      {
       "output_type": "stream",
       "stream": "stdout",
       "text": [
        "\n",
        "(0.89873347255260339, 0.70218447854844657)\n",
        "True"
       ]
      },
      {
       "output_type": "stream",
       "stream": "stdout",
       "text": [
        "\n",
        "(0.88650408370098654, 0.96534050874779875)\n",
        "True"
       ]
      },
      {
       "output_type": "stream",
       "stream": "stdout",
       "text": [
        "\n",
        "(1.2153933722814825, 1.319608487955122)\n",
        "True"
       ]
      },
      {
       "output_type": "stream",
       "stream": "stdout",
       "text": [
        "\n",
        "(0.77838834767926213, 0.9547589359887344)\n",
        "True"
       ]
      },
      {
       "output_type": "stream",
       "stream": "stdout",
       "text": [
        "\n",
        "(0.57938244589941168, 0.73420679063109484)\n",
        "True"
       ]
      },
      {
       "output_type": "stream",
       "stream": "stdout",
       "text": [
        "\n",
        "(0.73712664198028044, 1.0374291992393232)\n",
        "True"
       ]
      },
      {
       "output_type": "stream",
       "stream": "stdout",
       "text": [
        "\n",
        "(0.6733451337948444, 0.83317900589786464)\n",
        "True"
       ]
      },
      {
       "output_type": "stream",
       "stream": "stdout",
       "text": [
        "\n",
        "(0.73819871490090838, 0.95525562266944253)\n",
        "True"
       ]
      },
      {
       "output_type": "stream",
       "stream": "stdout",
       "text": [
        "\n",
        "(0.76219408181522297, 0.91650847687622006)\n",
        "True"
       ]
      },
      {
       "output_type": "stream",
       "stream": "stdout",
       "text": [
        "\n",
        "(0.79138526185406999, 1.1391936742671758)\n",
        "False"
       ]
      },
      {
       "output_type": "stream",
       "stream": "stdout",
       "text": [
        "\n",
        "(1.2792678200534546, 1.0532539811777633)\n",
        "True"
       ]
      },
      {
       "output_type": "stream",
       "stream": "stdout",
       "text": [
        "\n",
        "(0.8490146406405521, 0.8539915598476292)\n",
        "True"
       ]
      },
      {
       "output_type": "stream",
       "stream": "stdout",
       "text": [
        "\n",
        "(0.52420603926675491, 0.58192428384593176)\n",
        "True"
       ]
      },
      {
       "output_type": "stream",
       "stream": "stdout",
       "text": [
        "\n",
        "(1.1953570406172871, 1.2376557202943235)\n",
        "False"
       ]
      },
      {
       "output_type": "stream",
       "stream": "stdout",
       "text": [
        "\n",
        "(0.89995021537349051, 0.81837592611062093)\n",
        "True"
       ]
      },
      {
       "output_type": "stream",
       "stream": "stdout",
       "text": [
        "\n",
        "(1.0746004731333294, 1.2185841339334349)\n",
        "False"
       ]
      },
      {
       "output_type": "stream",
       "stream": "stdout",
       "text": [
        "\n",
        "(0.94233944411251636, 0.86384002707297525)\n",
        "True"
       ]
      },
      {
       "output_type": "stream",
       "stream": "stdout",
       "text": [
        "\n",
        "(0.80241247000508897, 1.0465661651468356)\n",
        "True"
       ]
      },
      {
       "output_type": "stream",
       "stream": "stdout",
       "text": [
        "\n",
        "(1.177371782014238, 1.2340133331958529)\n",
        "True"
       ]
      },
      {
       "output_type": "stream",
       "stream": "stdout",
       "text": [
        "\n",
        "(0.88265348596551485, 1.0158779810297458)\n",
        "True"
       ]
      },
      {
       "output_type": "stream",
       "stream": "stdout",
       "text": [
        "\n",
        "(0.9518556668539716, 1.1750662642127319)\n",
        "False"
       ]
      },
      {
       "output_type": "stream",
       "stream": "stdout",
       "text": [
        "\n",
        "(0.88269763152003922, 0.82075568756347983)\n",
        "True"
       ]
      },
      {
       "output_type": "stream",
       "stream": "stdout",
       "text": [
        "\n",
        "(0.76611127887846575, 0.98941182161909524)\n",
        "True"
       ]
      },
      {
       "output_type": "stream",
       "stream": "stdout",
       "text": [
        "\n",
        "(0.93741373374025416, 1.1279908176869948)\n",
        "True"
       ]
      },
      {
       "output_type": "stream",
       "stream": "stdout",
       "text": [
        "\n",
        "(0.80152326935236606, 0.80918667432046376)\n",
        "True"
       ]
      },
      {
       "output_type": "stream",
       "stream": "stdout",
       "text": [
        "\n",
        "(0.83185394962046744, 1.4130991694908963)\n",
        "True"
       ]
      },
      {
       "output_type": "stream",
       "stream": "stdout",
       "text": [
        "\n",
        "(0.80691750091782288, 0.95292098830455252)\n",
        "False"
       ]
      },
      {
       "output_type": "stream",
       "stream": "stdout",
       "text": [
        "\n",
        "(0.87387902302968934, 0.79744893194467648)\n",
        "True"
       ]
      },
      {
       "output_type": "stream",
       "stream": "stdout",
       "text": [
        "\n",
        "(0.67094562345594577, 0.81421392896085509)\n",
        "True"
       ]
      },
      {
       "output_type": "stream",
       "stream": "stdout",
       "text": [
        "\n",
        "(1.0817443004011469, 1.1132488544698509)\n",
        "True"
       ]
      },
      {
       "output_type": "stream",
       "stream": "stdout",
       "text": [
        "\n",
        "(0.76527955697726591, 1.0017286097603766)\n",
        "True"
       ]
      },
      {
       "output_type": "stream",
       "stream": "stdout",
       "text": [
        "\n",
        "(1.1316850106982352, 1.2791534770155248)\n",
        "True"
       ]
      },
      {
       "output_type": "stream",
       "stream": "stdout",
       "text": [
        "\n",
        "(1.126753370759392, 1.1307944337603206)\n",
        "True"
       ]
      },
      {
       "output_type": "stream",
       "stream": "stdout",
       "text": [
        "\n",
        "(1.4091313576290865, 1.4092420356095305)\n",
        "True"
       ]
      },
      {
       "output_type": "stream",
       "stream": "stdout",
       "text": [
        "\n",
        "(0.98449148712638967, 1.0735335821908185)\n",
        "True"
       ]
      },
      {
       "output_type": "stream",
       "stream": "stdout",
       "text": [
        "\n",
        "(0.72295770727463338, 0.89201900948320312)\n",
        "True"
       ]
      },
      {
       "output_type": "stream",
       "stream": "stdout",
       "text": [
        "\n",
        "(1.0088549242657963, 1.1017593982947977)\n",
        "True"
       ]
      },
      {
       "output_type": "stream",
       "stream": "stdout",
       "text": [
        "\n",
        "(1.0303742335874559, 1.1997680092513807)\n",
        "True"
       ]
      },
      {
       "output_type": "stream",
       "stream": "stdout",
       "text": [
        "\n",
        "(0.93533319733823306, 1.0530163994045705)\n",
        "True"
       ]
      },
      {
       "output_type": "stream",
       "stream": "stdout",
       "text": [
        "\n",
        "(0.71629078466290663, 0.79609409631728822)\n",
        "True"
       ]
      },
      {
       "output_type": "stream",
       "stream": "stdout",
       "text": [
        "\n",
        "(0.66519713448390161, 0.74233602981284197)\n",
        "True"
       ]
      },
      {
       "output_type": "stream",
       "stream": "stdout",
       "text": [
        "\n",
        "(0.81126054343011622, 1.0110351070068673)\n",
        "True"
       ]
      },
      {
       "output_type": "stream",
       "stream": "stdout",
       "text": [
        "\n",
        "(0.85936257802142324, 1.1565436029700502)\n",
        "True"
       ]
      },
      {
       "output_type": "stream",
       "stream": "stdout",
       "text": [
        "\n",
        "(0.83336815247877583, 1.0736748938937604)\n",
        "True"
       ]
      },
      {
       "output_type": "stream",
       "stream": "stdout",
       "text": [
        "\n",
        "(0.88889664701463023, 1.1115077753707061)\n",
        "True"
       ]
      },
      {
       "output_type": "stream",
       "stream": "stdout",
       "text": [
        "\n",
        "(0.82892709891928851, 0.9575380364058641)\n",
        "True"
       ]
      },
      {
       "output_type": "stream",
       "stream": "stdout",
       "text": [
        "\n",
        "(1.4881353054026361, 1.5888500383750646)\n",
        "True"
       ]
      },
      {
       "output_type": "stream",
       "stream": "stdout",
       "text": [
        "\n",
        "(0.77199398554429188, 0.89680180208462013)\n",
        "True"
       ]
      },
      {
       "output_type": "stream",
       "stream": "stdout",
       "text": [
        "\n",
        "(0.81183860042883049, 0.87410546083007001)\n",
        "True"
       ]
      },
      {
       "output_type": "stream",
       "stream": "stdout",
       "text": [
        "\n",
        "(1.0088624584365489, 1.0530400032215366)\n",
        "True"
       ]
      },
      {
       "output_type": "stream",
       "stream": "stdout",
       "text": [
        "\n",
        "(0.83400737243299239, 0.9373990870337866)\n",
        "True"
       ]
      },
      {
       "output_type": "stream",
       "stream": "stdout",
       "text": [
        "\n",
        "(0.82998765566428101, 0.94974640255526466)\n",
        "False"
       ]
      },
      {
       "output_type": "stream",
       "stream": "stdout",
       "text": [
        "\n",
        "(1.5820151103669224, 1.3243499020249792)\n",
        "True"
       ]
      },
      {
       "output_type": "stream",
       "stream": "stdout",
       "text": [
        "\n",
        "(1.0676515928781904, 1.1262236381056363)\n",
        "True"
       ]
      },
      {
       "output_type": "stream",
       "stream": "stdout",
       "text": [
        "\n",
        "(0.74822365644769862, 0.81598559206761889)\n",
        "False"
       ]
      },
      {
       "output_type": "stream",
       "stream": "stdout",
       "text": [
        "\n",
        "(1.1961182303830973, 0.85214130412146749)\n",
        "False"
       ]
      },
      {
       "output_type": "stream",
       "stream": "stdout",
       "text": [
        "\n",
        "(0.85457281790539652, 0.81227032981034208)\n",
        "True"
       ]
      },
      {
       "output_type": "stream",
       "stream": "stdout",
       "text": [
        "\n",
        "(0.73701613338686056, 0.93553768987416697)\n",
        "True"
       ]
      },
      {
       "output_type": "stream",
       "stream": "stdout",
       "text": [
        "\n",
        "(0.91526400116762741, 0.97941148766680419)\n",
        "True"
       ]
      },
      {
       "output_type": "stream",
       "stream": "stdout",
       "text": [
        "\n",
        "(0.73024091562371196, 0.77996203356927818)\n",
        "False"
       ]
      },
      {
       "output_type": "stream",
       "stream": "stdout",
       "text": [
        "\n",
        "(1.1374881526499621, 1.117537909045581)\n",
        "True"
       ]
      },
      {
       "output_type": "stream",
       "stream": "stdout",
       "text": [
        "\n",
        "(1.0747890259023283, 1.476599705982746)\n",
        "False"
       ]
      },
      {
       "output_type": "stream",
       "stream": "stdout",
       "text": [
        "\n",
        "(1.4884415926645336, 1.4461563635139405)\n",
        "True"
       ]
      },
      {
       "output_type": "stream",
       "stream": "stdout",
       "text": [
        "\n",
        "(0.92900669035613548, 1.1058253311016988)\n",
        "True"
       ]
      },
      {
       "output_type": "stream",
       "stream": "stdout",
       "text": [
        "\n",
        "(0.89305321716242581, 0.90504433186973887)\n",
        "True"
       ]
      },
      {
       "output_type": "stream",
       "stream": "stdout",
       "text": [
        "\n",
        "(1.1316648763843611, 1.1694329939340811)\n",
        "False"
       ]
      },
      {
       "output_type": "stream",
       "stream": "stdout",
       "text": [
        "\n",
        "(0.93803507764949035, 0.926686695881209)\n",
        "False"
       ]
      },
      {
       "output_type": "stream",
       "stream": "stdout",
       "text": [
        "\n",
        "(0.8995887317231902, 0.87277729949381988)\n",
        "True"
       ]
      },
      {
       "output_type": "stream",
       "stream": "stdout",
       "text": [
        "\n",
        "(1.0016746394281109, 1.196034364206126)\n",
        "True"
       ]
      },
      {
       "output_type": "stream",
       "stream": "stdout",
       "text": [
        "\n",
        "(0.72444783099911891, 0.767390962214756)\n",
        "True"
       ]
      },
      {
       "output_type": "stream",
       "stream": "stdout",
       "text": [
        "\n",
        "(0.81834863597079643, 0.94264844830385741)\n",
        "True"
       ]
      },
      {
       "output_type": "stream",
       "stream": "stdout",
       "text": [
        "\n",
        "(1.4217136875107346, 1.6318114603027241)\n",
        "True"
       ]
      },
      {
       "output_type": "stream",
       "stream": "stdout",
       "text": [
        "\n",
        "(0.97268812794122317, 1.181453906563152)\n",
        "True"
       ]
      },
      {
       "output_type": "stream",
       "stream": "stdout",
       "text": [
        "\n",
        "(1.0261942939061095, 1.1161235017082463)\n",
        "True"
       ]
      },
      {
       "output_type": "stream",
       "stream": "stdout",
       "text": [
        "\n",
        "(0.91350365914190013, 0.92370103061777231)\n",
        "True"
       ]
      },
      {
       "output_type": "stream",
       "stream": "stdout",
       "text": [
        "\n",
        "(0.8225942494734334, 1.0127830047533528)\n",
        "True"
       ]
      },
      {
       "output_type": "stream",
       "stream": "stdout",
       "text": [
        "\n",
        "(1.3535239079649459, 1.4088310731870981)\n",
        "True"
       ]
      },
      {
       "output_type": "stream",
       "stream": "stdout",
       "text": [
        "\n",
        "(0.97095672000300426, 1.1538349249410009)\n",
        "True"
       ]
      },
      {
       "output_type": "stream",
       "stream": "stdout",
       "text": [
        "\n",
        "(0.76255331772409962, 0.87452907178303108)\n",
        "True"
       ]
      },
      {
       "output_type": "stream",
       "stream": "stdout",
       "text": [
        "\n",
        "(1.3628733371189936, 1.4051116248217856)\n",
        "True"
       ]
      },
      {
       "output_type": "stream",
       "stream": "stdout",
       "text": [
        "\n",
        "(1.1366261145009726, 1.2499704376539362)\n",
        "True"
       ]
      },
      {
       "output_type": "stream",
       "stream": "stdout",
       "text": [
        "\n",
        "(0.78197586381041195, 1.0984485569339413)\n",
        "True"
       ]
      },
      {
       "output_type": "stream",
       "stream": "stdout",
       "text": [
        "\n",
        "(0.92566835879657272, 0.95155399727781542)\n",
        "True"
       ]
      },
      {
       "output_type": "stream",
       "stream": "stdout",
       "text": [
        "\n",
        "(0.66224048690511605, 0.76069039060380317)\n",
        "False"
       ]
      },
      {
       "output_type": "stream",
       "stream": "stdout",
       "text": [
        "\n",
        "(0.86424332473723664, 0.85475657940031569)\n",
        "True"
       ]
      },
      {
       "output_type": "stream",
       "stream": "stdout",
       "text": [
        "\n",
        "(0.60894193102454186, 0.9932276860192627)\n",
        "True"
       ]
      },
      {
       "output_type": "stream",
       "stream": "stdout",
       "text": [
        "\n",
        "(1.0174805121350508, 1.1066921016072038)\n",
        "True"
       ]
      },
      {
       "output_type": "stream",
       "stream": "stdout",
       "text": [
        "\n",
        "(1.0329537157055484, 1.0556329900376331)\n",
        "True"
       ]
      },
      {
       "output_type": "stream",
       "stream": "stdout",
       "text": [
        "\n",
        "(0.63773326197331004, 0.89285686823744881)\n",
        "True"
       ]
      },
      {
       "output_type": "stream",
       "stream": "stdout",
       "text": [
        "\n",
        "(1.0483129561985711, 1.1293827222540214)\n",
        "True"
       ]
      },
      {
       "output_type": "stream",
       "stream": "stdout",
       "text": [
        "\n",
        "(1.3236272992570386, 1.3726795847626796)\n",
        "True"
       ]
      },
      {
       "output_type": "stream",
       "stream": "stdout",
       "text": [
        "\n",
        "(1.1569667438196389, 1.3449422693991731)\n",
        "True"
       ]
      },
      {
       "output_type": "stream",
       "stream": "stdout",
       "text": [
        "\n",
        "(0.6839613418902033, 0.87106256950921723)\n",
        "True"
       ]
      },
      {
       "output_type": "stream",
       "stream": "stdout",
       "text": [
        "\n",
        "(0.73005499785738637, 0.81543274128253862)\n",
        "True"
       ]
      },
      {
       "output_type": "stream",
       "stream": "stdout",
       "text": [
        "\n",
        "(1.0931377903715316, 1.1230911261732499)\n",
        "True"
       ]
      },
      {
       "output_type": "stream",
       "stream": "stdout",
       "text": [
        "\n",
        "(0.96069313329165618, 1.039619199903542)\n",
        "True"
       ]
      },
      {
       "output_type": "stream",
       "stream": "stdout",
       "text": [
        "\n",
        "(0.7511969465414492, 0.92554783911063521)\n",
        "True"
       ]
      },
      {
       "output_type": "stream",
       "stream": "stdout",
       "text": [
        "\n",
        "(0.56652489426721941, 0.57569552532508173)\n",
        "False"
       ]
      },
      {
       "output_type": "stream",
       "stream": "stdout",
       "text": [
        "\n",
        "(0.84935433028569729, 0.81141256774148784)\n",
        "False"
       ]
      },
      {
       "output_type": "stream",
       "stream": "stdout",
       "text": [
        "\n",
        "(1.7705239300834645, 1.5638873498129766)\n",
        "True"
       ]
      },
      {
       "output_type": "stream",
       "stream": "stdout",
       "text": [
        "\n",
        "(0.92084342479000425, 0.92954098245363903)\n",
        "True"
       ]
      },
      {
       "output_type": "stream",
       "stream": "stdout",
       "text": [
        "\n",
        "(0.8887966292256213, 0.93543174750210045)\n",
        "True"
       ]
      },
      {
       "output_type": "stream",
       "stream": "stdout",
       "text": [
        "\n",
        "(0.71103992963359552, 0.83969928543317807)\n",
        "False"
       ]
      },
      {
       "output_type": "stream",
       "stream": "stdout",
       "text": [
        "\n",
        "(1.3850003873257017, 1.3597385369580761)\n",
        "True"
       ]
      },
      {
       "output_type": "stream",
       "stream": "stdout",
       "text": [
        "\n",
        "(0.80383094486640372, 1.0697535537482448)\n",
        "False"
       ]
      },
      {
       "output_type": "stream",
       "stream": "stdout",
       "text": [
        "\n",
        "(0.56974372928365824, 0.50130082511096397)\n",
        "True"
       ]
      },
      {
       "output_type": "stream",
       "stream": "stdout",
       "text": [
        "\n",
        "(1.125925499059927, 1.2577138229234492)\n",
        "True"
       ]
      },
      {
       "output_type": "stream",
       "stream": "stdout",
       "text": [
        "\n",
        "(0.95670020021927615, 1.1985473019951798)\n",
        "True"
       ]
      },
      {
       "output_type": "stream",
       "stream": "stdout",
       "text": [
        "\n",
        "(0.89015410562820374, 0.95465073440047077)\n",
        "True"
       ]
      },
      {
       "output_type": "stream",
       "stream": "stdout",
       "text": [
        "\n",
        "(0.86443298879337804, 0.91092823506196496)\n",
        "True"
       ]
      },
      {
       "output_type": "stream",
       "stream": "stdout",
       "text": [
        "\n",
        "(0.76578255661963635, 0.77350620387450419)\n",
        "False"
       ]
      },
      {
       "output_type": "stream",
       "stream": "stdout",
       "text": [
        "\n",
        "(0.98816541898691657, 0.94412672828940236)\n",
        "True"
       ]
      },
      {
       "output_type": "stream",
       "stream": "stdout",
       "text": [
        "\n",
        "(0.86899108040531958, 1.0020971614997847)\n",
        "True"
       ]
      },
      {
       "output_type": "stream",
       "stream": "stdout",
       "text": [
        "\n",
        "(1.0450611699441728, 1.1294745520332024)\n",
        "True"
       ]
      },
      {
       "output_type": "stream",
       "stream": "stdout",
       "text": [
        "\n",
        "(0.9547791791395881, 0.99850426748215471)\n",
        "True"
       ]
      },
      {
       "output_type": "stream",
       "stream": "stdout",
       "text": [
        "\n",
        "(0.99952827196849192, 1.1735575743270372)\n",
        "True"
       ]
      },
      {
       "output_type": "stream",
       "stream": "stdout",
       "text": [
        "\n",
        "(0.86111009034976926, 0.91400280381045407)\n",
        "True"
       ]
      },
      {
       "output_type": "stream",
       "stream": "stdout",
       "text": [
        "\n",
        "(1.1156327456218595, 1.1249950071642689)\n",
        "True"
       ]
      },
      {
       "output_type": "stream",
       "stream": "stdout",
       "text": [
        "\n",
        "(1.2203011849117504, 1.2449237315133204)\n",
        "True"
       ]
      },
      {
       "output_type": "stream",
       "stream": "stdout",
       "text": [
        "\n",
        "(1.0595021449985937, 1.2583999580997507)\n",
        "True"
       ]
      },
      {
       "output_type": "stream",
       "stream": "stdout",
       "text": [
        "\n",
        "(0.98464119279648232, 1.0508982440080576)\n",
        "True"
       ]
      },
      {
       "output_type": "stream",
       "stream": "stdout",
       "text": [
        "\n",
        "(1.0978530965300357, 1.2208293124356648)\n",
        "True"
       ]
      },
      {
       "output_type": "stream",
       "stream": "stdout",
       "text": [
        "\n",
        "(1.0170879411569638, 1.1718568885979395)\n",
        "True"
       ]
      },
      {
       "output_type": "stream",
       "stream": "stdout",
       "text": [
        "\n",
        "(1.1016173268915193, 1.1581028961517701)\n",
        "True"
       ]
      },
      {
       "output_type": "stream",
       "stream": "stdout",
       "text": [
        "\n",
        "(1.2479370799581544, 1.2955611981841577)\n",
        "True"
       ]
      },
      {
       "output_type": "stream",
       "stream": "stdout",
       "text": [
        "\n",
        "(0.79659384431146907, 0.94010986459934287)\n",
        "True"
       ]
      },
      {
       "output_type": "stream",
       "stream": "stdout",
       "text": [
        "\n",
        "(0.88969616063722168, 0.9254969891796333)\n",
        "True"
       ]
      },
      {
       "output_type": "stream",
       "stream": "stdout",
       "text": [
        "\n",
        "(0.9544174499299366, 1.0205722109640507)\n",
        "True"
       ]
      },
      {
       "output_type": "stream",
       "stream": "stdout",
       "text": [
        "\n",
        "(1.0050014413783892, 1.0262465593770698)\n",
        "False"
       ]
      },
      {
       "output_type": "stream",
       "stream": "stdout",
       "text": [
        "\n",
        "(0.68915931803547303, 0.58811236303089465)\n",
        "False"
       ]
      },
      {
       "output_type": "stream",
       "stream": "stdout",
       "text": [
        "\n",
        "(1.252580775400475, 1.136387209647993)\n",
        "True"
       ]
      },
      {
       "output_type": "stream",
       "stream": "stdout",
       "text": [
        "\n",
        "(1.1568997619891881, 1.2765853433628671)\n",
        "True"
       ]
      },
      {
       "output_type": "stream",
       "stream": "stdout",
       "text": [
        "\n",
        "(0.77605994383242582, 0.82286413150510052)\n",
        "True"
       ]
      },
      {
       "output_type": "stream",
       "stream": "stdout",
       "text": [
        "\n",
        "(0.90140985091492254, 1.0054944012423468)\n",
        "True"
       ]
      },
      {
       "output_type": "stream",
       "stream": "stdout",
       "text": [
        "\n",
        "(0.90036029613188073, 1.100830382618841)\n",
        "False"
       ]
      },
      {
       "output_type": "stream",
       "stream": "stdout",
       "text": [
        "\n",
        "(1.0079383528321701, 0.77463339465353609)\n",
        "True"
       ]
      },
      {
       "output_type": "stream",
       "stream": "stdout",
       "text": [
        "\n",
        "(0.82949439753992771, 1.013908993746037)\n",
        "True"
       ]
      },
      {
       "output_type": "stream",
       "stream": "stdout",
       "text": [
        "\n",
        "(1.1349394046588075, 1.379522315217053)\n",
        "True"
       ]
      },
      {
       "output_type": "stream",
       "stream": "stdout",
       "text": [
        "\n",
        "(0.97201636263214986, 1.165663065061457)\n",
        "True\n",
        "(1.153947172312825, 1.159368708594956)\n",
        "True"
       ]
      },
      {
       "output_type": "stream",
       "stream": "stdout",
       "text": [
        "\n",
        "(0.78421033210345714, 0.86708151701143821)\n",
        "False"
       ]
      },
      {
       "output_type": "stream",
       "stream": "stdout",
       "text": [
        "\n",
        "(0.77725229428818632, 0.73968940350128842)\n",
        "True"
       ]
      },
      {
       "output_type": "stream",
       "stream": "stdout",
       "text": [
        "\n",
        "(0.77524352336308844, 0.90388731480283069)\n",
        "False"
       ]
      },
      {
       "output_type": "stream",
       "stream": "stdout",
       "text": [
        "\n",
        "(1.0631018431828485, 0.95916630466254393)\n",
        "True"
       ]
      },
      {
       "output_type": "stream",
       "stream": "stdout",
       "text": [
        "\n",
        "(0.70638118730809074, 0.77220277325057118)\n",
        "False"
       ]
      },
      {
       "output_type": "stream",
       "stream": "stdout",
       "text": [
        "\n",
        "(1.3299451797022439, 1.2297099469072097)\n",
        "True"
       ]
      },
      {
       "output_type": "stream",
       "stream": "stdout",
       "text": [
        "\n",
        "(1.0745545709162234, 1.1312787078197741)\n",
        "False"
       ]
      },
      {
       "output_type": "stream",
       "stream": "stdout",
       "text": [
        "\n",
        "(1.5777217270988444, 1.4993675964027111)\n",
        "True"
       ]
      },
      {
       "output_type": "stream",
       "stream": "stdout",
       "text": [
        "\n",
        "(1.04950525851747, 1.3132729997090684)\n",
        "True"
       ]
      },
      {
       "output_type": "stream",
       "stream": "stdout",
       "text": [
        "\n",
        "(0.7740407027742594, 0.88372503632082222)\n",
        "False"
       ]
      },
      {
       "output_type": "stream",
       "stream": "stdout",
       "text": [
        "\n",
        "(0.90446831039599829, 0.81184333906897055)\n",
        "False"
       ]
      },
      {
       "output_type": "stream",
       "stream": "stdout",
       "text": [
        "\n",
        "(0.80145430203212598, 0.73545148642781932)\n",
        "True"
       ]
      },
      {
       "output_type": "stream",
       "stream": "stdout",
       "text": [
        "\n",
        "(1.0556350517685322, 1.0674228947248516)\n",
        "True\n",
        "(0.81593725938177808, 0.93553882125152776)\n",
        "True"
       ]
      },
      {
       "output_type": "stream",
       "stream": "stdout",
       "text": [
        "\n",
        "(0.97639549303302453, 1.2717163957860393)\n",
        "True"
       ]
      },
      {
       "output_type": "stream",
       "stream": "stdout",
       "text": [
        "\n",
        "(0.89180495152206629, 0.95443445795685489)\n",
        "True"
       ]
      },
      {
       "output_type": "stream",
       "stream": "stdout",
       "text": [
        "\n",
        "(0.98317807259437151, 1.1963308673057695)\n",
        "True"
       ]
      },
      {
       "output_type": "stream",
       "stream": "stdout",
       "text": [
        "\n",
        "(0.83279279682019236, 0.88143158001592803)\n",
        "True"
       ]
      },
      {
       "output_type": "stream",
       "stream": "stdout",
       "text": [
        "\n",
        "(0.73122095637085871, 0.76967287473806945)\n",
        "True"
       ]
      },
      {
       "output_type": "stream",
       "stream": "stdout",
       "text": [
        "\n",
        "(1.188565139157773, 1.6524956977458511)\n",
        "True"
       ]
      },
      {
       "output_type": "stream",
       "stream": "stdout",
       "text": [
        "\n",
        "(0.77525713480174629, 1.0498368820476622)\n",
        "True"
       ]
      },
      {
       "output_type": "stream",
       "stream": "stdout",
       "text": [
        "\n",
        "(0.93317528407681194, 1.0670302634738003)\n",
        "False"
       ]
      },
      {
       "output_type": "stream",
       "stream": "stdout",
       "text": [
        "\n",
        "(0.99588606739767305, 0.85813104412373342)\n",
        "False"
       ]
      },
      {
       "output_type": "stream",
       "stream": "stdout",
       "text": [
        "\n",
        "(0.86480712613468869, 0.84828056327297907)\n",
        "True"
       ]
      },
      {
       "output_type": "stream",
       "stream": "stdout",
       "text": [
        "\n",
        "(0.86201634312284003, 0.98769812975889193)\n",
        "True"
       ]
      },
      {
       "output_type": "stream",
       "stream": "stdout",
       "text": [
        "\n",
        "(0.79110924466076182, 0.98909789485284738)\n",
        "True"
       ]
      },
      {
       "output_type": "stream",
       "stream": "stdout",
       "text": [
        "\n",
        "(0.78714138428439429, 0.95041447793494183)\n",
        "False"
       ]
      },
      {
       "output_type": "stream",
       "stream": "stdout",
       "text": [
        "\n",
        "(0.96220507618094231, 0.89997165488243946)\n",
        "True"
       ]
      },
      {
       "output_type": "stream",
       "stream": "stdout",
       "text": [
        "\n",
        "(0.57657758004735127, 0.60766269653484029)\n",
        "True"
       ]
      },
      {
       "output_type": "stream",
       "stream": "stdout",
       "text": [
        "\n",
        "(0.92652263655094791, 1.1493139854922829)\n",
        "True"
       ]
      },
      {
       "output_type": "stream",
       "stream": "stdout",
       "text": [
        "\n",
        "(0.7250066910914138, 0.81061799977278748)\n",
        "True"
       ]
      },
      {
       "output_type": "stream",
       "stream": "stdout",
       "text": [
        "\n",
        "(0.64640160107355915, 0.74262649641293765)\n",
        "True\n",
        "(0.76722689286968893, 1.0304065985813087)\n",
        "True"
       ]
      },
      {
       "output_type": "stream",
       "stream": "stdout",
       "text": [
        "\n",
        "(0.76624657703280952, 0.84846409108289189)\n",
        "False"
       ]
      },
      {
       "output_type": "stream",
       "stream": "stdout",
       "text": [
        "\n",
        "(1.3127109389900358, 1.1687203672095212)\n",
        "True"
       ]
      },
      {
       "output_type": "stream",
       "stream": "stdout",
       "text": [
        "\n",
        "(0.97994148465929498, 1.0554257787949408)\n",
        "True"
       ]
      },
      {
       "output_type": "stream",
       "stream": "stdout",
       "text": [
        "\n",
        "(1.1180987678023078, 1.2268663065923222)\n",
        "True\n",
        "(0.58726231309417987, 0.90530905636397241)\n",
        "True"
       ]
      },
      {
       "output_type": "stream",
       "stream": "stdout",
       "text": [
        "\n",
        "(1.0604740084461455, 1.2257650672131262)\n",
        "True"
       ]
      },
      {
       "output_type": "stream",
       "stream": "stdout",
       "text": [
        "\n",
        "(1.217648827532243, 1.371061620522849)\n",
        "False"
       ]
      },
      {
       "output_type": "stream",
       "stream": "stdout",
       "text": [
        "\n",
        "(0.57415958972626002, 0.56633532618765947)\n",
        "True"
       ]
      },
      {
       "output_type": "stream",
       "stream": "stdout",
       "text": [
        "\n",
        "(0.73679033816501627, 0.77865981732147393)\n",
        "True"
       ]
      },
      {
       "output_type": "stream",
       "stream": "stdout",
       "text": [
        "\n",
        "(0.68173954822175298, 0.82417551779138709)\n",
        "False"
       ]
      },
      {
       "output_type": "stream",
       "stream": "stdout",
       "text": [
        "\n",
        "(0.77464816537823022, 0.69868854325326724)\n",
        "True"
       ]
      },
      {
       "output_type": "stream",
       "stream": "stdout",
       "text": [
        "\n",
        "(0.86665232338741161, 1.1889837161705121)\n",
        "True"
       ]
      },
      {
       "output_type": "stream",
       "stream": "stdout",
       "text": [
        "\n",
        "(1.0791238770325582, 1.1525558184547784)\n",
        "True"
       ]
      },
      {
       "output_type": "stream",
       "stream": "stdout",
       "text": [
        "\n",
        "(0.80451182394591947, 0.84063468086123272)\n",
        "False"
       ]
      },
      {
       "output_type": "stream",
       "stream": "stdout",
       "text": [
        "\n",
        "(1.1186932785683967, 1.092871217340633)\n",
        "True"
       ]
      },
      {
       "output_type": "stream",
       "stream": "stdout",
       "text": [
        "\n",
        "(0.77324306751138228, 0.94043675995287812)\n",
        "True"
       ]
      },
      {
       "output_type": "stream",
       "stream": "stdout",
       "text": [
        "\n",
        "(0.85506155412210849, 1.015890469877337)\n",
        "False"
       ]
      },
      {
       "output_type": "stream",
       "stream": "stdout",
       "text": [
        "\n",
        "(1.4779870942078623, 1.4677313288787872)\n",
        "True"
       ]
      },
      {
       "output_type": "stream",
       "stream": "stdout",
       "text": [
        "\n",
        "(0.81169785572208786, 1.1303014100817679)\n",
        "True\n",
        "(0.69748873506944808, 0.77553973884628224)\n",
        "False"
       ]
      },
      {
       "output_type": "stream",
       "stream": "stdout",
       "text": [
        "\n",
        "(0.82191248576776388, 0.70745987458385062)\n",
        "True"
       ]
      },
      {
       "output_type": "stream",
       "stream": "stdout",
       "text": [
        "\n",
        "(0.94290295479460384, 1.1447661461364249)\n",
        "True"
       ]
      },
      {
       "output_type": "stream",
       "stream": "stdout",
       "text": [
        "\n",
        "(0.9782811095258388, 1.0109509531547314)\n",
        "True"
       ]
      },
      {
       "output_type": "stream",
       "stream": "stdout",
       "text": [
        "\n",
        "(0.96977539914780309, 1.1535793547273603)\n",
        "True"
       ]
      },
      {
       "output_type": "stream",
       "stream": "stdout",
       "text": [
        "\n",
        "(0.75709426286174963, 0.94172779665929807)\n",
        "True"
       ]
      },
      {
       "output_type": "stream",
       "stream": "stdout",
       "text": [
        "\n",
        "(1.0967064442193817, 1.3158711518125099)\n",
        "True"
       ]
      },
      {
       "output_type": "stream",
       "stream": "stdout",
       "text": [
        "\n",
        "(0.70532761438173053, 0.78457348639598801)\n",
        "True"
       ]
      },
      {
       "output_type": "stream",
       "stream": "stdout",
       "text": [
        "\n",
        "(0.75684070467635289, 1.2101423240447566)\n",
        "True"
       ]
      },
      {
       "output_type": "stream",
       "stream": "stdout",
       "text": [
        "\n",
        "(0.58483337751014364, 0.62434525745780278)\n",
        "True"
       ]
      },
      {
       "output_type": "stream",
       "stream": "stdout",
       "text": [
        "\n",
        "(0.97401181032062878, 1.2941620118706842)\n",
        "False"
       ]
      },
      {
       "output_type": "stream",
       "stream": "stdout",
       "text": [
        "\n",
        "(1.5320270596105137, 1.4899964748255421)\n",
        "True"
       ]
      },
      {
       "output_type": "stream",
       "stream": "stdout",
       "text": [
        "\n",
        "(0.85005759503881062, 0.91512215560043231)\n",
        "True"
       ]
      },
      {
       "output_type": "stream",
       "stream": "stdout",
       "text": [
        "\n",
        "(0.80500569849656756, 0.85311514016700807)\n",
        "True"
       ]
      },
      {
       "output_type": "stream",
       "stream": "stdout",
       "text": [
        "\n",
        "(1.16218068755286, 1.205056220193548)\n",
        "True"
       ]
      },
      {
       "output_type": "stream",
       "stream": "stdout",
       "text": [
        "\n",
        "(0.77683151724108634, 0.91373442393046156)\n",
        "False"
       ]
      },
      {
       "output_type": "stream",
       "stream": "stdout",
       "text": [
        "\n",
        "(1.2372216601669306, 1.2342698623192132)\n",
        "False"
       ]
      },
      {
       "output_type": "stream",
       "stream": "stdout",
       "text": [
        "\n",
        "(1.1491568297307491, 1.0642617446965241)\n",
        "True"
       ]
      },
      {
       "output_type": "stream",
       "stream": "stdout",
       "text": [
        "\n",
        "(0.89690573220651915, 1.1865792589251967)\n",
        "True\n",
        "(0.60664079923560632, 0.72847156697094884)\n",
        "True"
       ]
      },
      {
       "output_type": "stream",
       "stream": "stdout",
       "text": [
        "\n",
        "(0.93003643358020105, 0.94892726958548457)\n",
        "True"
       ]
      },
      {
       "output_type": "stream",
       "stream": "stdout",
       "text": [
        "\n",
        "(0.92321801604408293, 0.93322171951673838)\n",
        "False"
       ]
      },
      {
       "output_type": "stream",
       "stream": "stdout",
       "text": [
        "\n",
        "(0.95972278693661517, 0.88322887267572192)\n",
        "True"
       ]
      },
      {
       "output_type": "stream",
       "stream": "stdout",
       "text": [
        "\n",
        "(0.85524654836961422, 1.1210183452940661)\n",
        "True"
       ]
      },
      {
       "output_type": "stream",
       "stream": "stdout",
       "text": [
        "\n",
        "(1.1626708060233761, 1.2095491434384873)\n",
        "False"
       ]
      },
      {
       "output_type": "stream",
       "stream": "stdout",
       "text": [
        "\n",
        "(1.5069357791456692, 1.4912112655276892)\n",
        "True"
       ]
      },
      {
       "output_type": "stream",
       "stream": "stdout",
       "text": [
        "\n",
        "(0.93535145742089265, 1.2365011868919435)\n",
        "True"
       ]
      },
      {
       "output_type": "stream",
       "stream": "stdout",
       "text": [
        "\n",
        "(0.64514637279452192, 0.7860749532961514)\n",
        "True"
       ]
      },
      {
       "output_type": "stream",
       "stream": "stdout",
       "text": [
        "\n",
        "(1.022784761956171, 1.4056165506698997)\n",
        "True"
       ]
      },
      {
       "output_type": "stream",
       "stream": "stdout",
       "text": [
        "\n",
        "(0.98108160248666076, 1.0958684922059778)\n",
        "True\n",
        "(0.51711132332748699, 0.65969059634875893)\n",
        "True"
       ]
      },
      {
       "output_type": "stream",
       "stream": "stdout",
       "text": [
        "\n",
        "(0.82375620342645794, 1.1041666666666667)\n",
        "False"
       ]
      },
      {
       "output_type": "stream",
       "stream": "stdout",
       "text": [
        "\n",
        "(0.9230720970165408, 0.90431066441670238)\n",
        "True"
       ]
      },
      {
       "output_type": "stream",
       "stream": "stdout",
       "text": [
        "\n",
        "(1.1308173696803792, 1.2225957533133285)\n",
        "True"
       ]
      },
      {
       "output_type": "stream",
       "stream": "stdout",
       "text": [
        "\n",
        "(0.9526269949672912, 1.0653673989170518)\n",
        "True"
       ]
      },
      {
       "output_type": "stream",
       "stream": "stdout",
       "text": [
        "\n",
        "(1.0703509357333489, 1.0784289489462955)\n",
        "True"
       ]
      },
      {
       "output_type": "stream",
       "stream": "stdout",
       "text": [
        "\n",
        "(0.73697246777935488, 1.0818905898799847)\n",
        "True"
       ]
      },
      {
       "output_type": "stream",
       "stream": "stdout",
       "text": [
        "\n",
        "(1.1839644201356212, 1.3480289488404087)\n",
        "True\n",
        "(0.74476168844436519, 0.81440467008635198)\n",
        "True"
       ]
      },
      {
       "output_type": "stream",
       "stream": "stdout",
       "text": [
        "\n",
        "(1.0980507322559858, 1.1009149275995627)\n",
        "False"
       ]
      },
      {
       "output_type": "stream",
       "stream": "stdout",
       "text": [
        "\n",
        "(1.4331121720859035, 1.301801666435866)\n",
        "True"
       ]
      },
      {
       "output_type": "stream",
       "stream": "stdout",
       "text": [
        "\n",
        "(1.0190085249365493, 1.2167079651588575)\n",
        "True"
       ]
      },
      {
       "output_type": "stream",
       "stream": "stdout",
       "text": [
        "\n",
        "(0.80128091288569481, 0.89165358934961092)\n",
        "True"
       ]
      },
      {
       "output_type": "stream",
       "stream": "stdout",
       "text": [
        "\n",
        "(0.60781496651278699, 0.68600187664848367)\n",
        "True"
       ]
      },
      {
       "output_type": "stream",
       "stream": "stdout",
       "text": [
        "\n",
        "(1.2401289612499045, 1.2457585184444706)\n",
        "True"
       ]
      },
      {
       "output_type": "stream",
       "stream": "stdout",
       "text": [
        "\n",
        "(1.5036248729446196, 1.9032732277820326)\n",
        "True"
       ]
      },
      {
       "output_type": "stream",
       "stream": "stdout",
       "text": [
        "\n",
        "(0.99239270382042422, 1.0625055215848742)\n",
        "True"
       ]
      },
      {
       "output_type": "stream",
       "stream": "stdout",
       "text": [
        "\n",
        "(1.0457649201133463, 1.1283059779980453)\n",
        "True"
       ]
      },
      {
       "output_type": "stream",
       "stream": "stdout",
       "text": [
        "\n",
        "(0.95865204755817512, 1.0107584543604988)\n",
        "True\n",
        "(0.62418254195827061, 0.91224971717466741)\n",
        "True"
       ]
      },
      {
       "output_type": "stream",
       "stream": "stdout",
       "text": [
        "\n",
        "(1.0539073089318312, 1.1276984129096652)\n",
        "True"
       ]
      },
      {
       "output_type": "stream",
       "stream": "stdout",
       "text": [
        "\n",
        "(0.80727888940098147, 1.148004792868629)\n",
        "True"
       ]
      },
      {
       "output_type": "stream",
       "stream": "stdout",
       "text": [
        "\n",
        "(0.77549933564866869, 0.80069471057410124)\n",
        "True"
       ]
      },
      {
       "output_type": "stream",
       "stream": "stdout",
       "text": [
        "\n",
        "(1.3283239520624555, 1.3362451059150215)\n",
        "True"
       ]
      },
      {
       "output_type": "stream",
       "stream": "stdout",
       "text": [
        "\n",
        "(0.83848235855617248, 1.0288199587608036)\n",
        "True"
       ]
      },
      {
       "output_type": "stream",
       "stream": "stdout",
       "text": [
        "\n",
        "(1.1922422151850784, 1.2968994786833548)\n",
        "False"
       ]
      },
      {
       "output_type": "stream",
       "stream": "stdout",
       "text": [
        "\n",
        "(1.0879278189737469, 1.0288321057753842)\n",
        "True"
       ]
      },
      {
       "output_type": "stream",
       "stream": "stdout",
       "text": [
        "\n",
        "(0.88722643581329341, 1.069474024674369)\n",
        "True"
       ]
      },
      {
       "output_type": "stream",
       "stream": "stdout",
       "text": [
        "\n",
        "(0.89839919928321266, 1.1976316928110484)\n",
        "True"
       ]
      },
      {
       "output_type": "stream",
       "stream": "stdout",
       "text": [
        "\n",
        "(0.94444913654977403, 1.0559539368891684)\n",
        "True"
       ]
      },
      {
       "output_type": "stream",
       "stream": "stdout",
       "text": [
        "\n",
        "(0.58919131006373693, 0.7733705767004796)\n",
        "True"
       ]
      },
      {
       "output_type": "stream",
       "stream": "stdout",
       "text": [
        "\n",
        "(0.69341084435274958, 0.74788950324349635)\n",
        "True"
       ]
      },
      {
       "output_type": "stream",
       "stream": "stdout",
       "text": [
        "\n",
        "(1.050001261155791, 1.5685992070067556)\n",
        "True"
       ]
      },
      {
       "output_type": "stream",
       "stream": "stdout",
       "text": [
        "\n",
        "(1.0128932584485155, 1.0980808309052659)\n",
        "False"
       ]
      },
      {
       "output_type": "stream",
       "stream": "stdout",
       "text": [
        "\n",
        "(1.143190284023776, 0.77676318664246258)\n",
        "True"
       ]
      },
      {
       "output_type": "stream",
       "stream": "stdout",
       "text": [
        "\n",
        "(0.80623161970673107, 1.020874392824171)\n",
        "False"
       ]
      },
      {
       "output_type": "stream",
       "stream": "stdout",
       "text": [
        "\n",
        "(1.1085471564518126, 1.0595009652576073)\n",
        "True"
       ]
      },
      {
       "output_type": "stream",
       "stream": "stdout",
       "text": [
        "\n",
        "(0.72542135609577285, 1.0530379332620878)\n",
        "True"
       ]
      },
      {
       "output_type": "stream",
       "stream": "stdout",
       "text": [
        "\n",
        "(0.87241636344325146, 1.0506332229181086)\n",
        "False"
       ]
      },
      {
       "output_type": "stream",
       "stream": "stdout",
       "text": [
        "\n",
        "(0.79305712173315523, 0.75655621683542873)\n",
        "True"
       ]
      },
      {
       "output_type": "stream",
       "stream": "stdout",
       "text": [
        "\n",
        "(0.87177738589323206, 0.98896868325182319)\n",
        "True"
       ]
      },
      {
       "output_type": "stream",
       "stream": "stdout",
       "text": [
        "\n",
        "(0.90512553926745809, 1.107672071207809)\n",
        "False"
       ]
      },
      {
       "output_type": "stream",
       "stream": "stdout",
       "text": [
        "\n",
        "(1.1011994208967231, 0.86409875978771478)\n",
        "True"
       ]
      },
      {
       "output_type": "stream",
       "stream": "stdout",
       "text": [
        "\n",
        "(1.1256053354821323, 1.2159058440916601)\n",
        "True"
       ]
      },
      {
       "output_type": "stream",
       "stream": "stdout",
       "text": [
        "\n",
        "(0.95867844708565342, 1.0729254076748922)\n",
        "True"
       ]
      },
      {
       "output_type": "stream",
       "stream": "stdout",
       "text": [
        "\n",
        "(1.058944660178484, 1.1637498757175839)\n",
        "True"
       ]
      },
      {
       "output_type": "stream",
       "stream": "stdout",
       "text": [
        "\n",
        "(0.66536554842069617, 0.85374458361285888)\n",
        "True"
       ]
      },
      {
       "output_type": "stream",
       "stream": "stdout",
       "text": [
        "\n",
        "(0.77046186099064684, 0.78651834759979455)\n",
        "True"
       ]
      },
      {
       "output_type": "stream",
       "stream": "stdout",
       "text": [
        "\n",
        "(1.1761801861267245, 1.1788543823023241)\n",
        "True"
       ]
      },
      {
       "output_type": "stream",
       "stream": "stdout",
       "text": [
        "\n",
        "(0.67925616640561504, 0.81580781877810171)\n",
        "False"
       ]
      },
      {
       "output_type": "stream",
       "stream": "stdout",
       "text": [
        "\n",
        "(0.80536895782780871, 0.62290518135059814)\n",
        "True"
       ]
      },
      {
       "output_type": "stream",
       "stream": "stdout",
       "text": [
        "\n",
        "(0.71307089411467461, 0.86377615529580443)\n",
        "True"
       ]
      },
      {
       "output_type": "stream",
       "stream": "stdout",
       "text": [
        "\n",
        "(0.69339585139822202, 0.69388242027689795)\n",
        "True"
       ]
      },
      {
       "output_type": "stream",
       "stream": "stdout",
       "text": [
        "\n",
        "(0.64334166324913522, 0.65984390195407749)\n",
        "True"
       ]
      },
      {
       "output_type": "stream",
       "stream": "stdout",
       "text": [
        "\n",
        "(1.1318773879820234, 1.3220742008537651)\n",
        "True"
       ]
      },
      {
       "output_type": "stream",
       "stream": "stdout",
       "text": [
        "\n",
        "(0.90458198942358947, 0.98640449469803915)\n",
        "True"
       ]
      },
      {
       "output_type": "stream",
       "stream": "stdout",
       "text": [
        "\n",
        "(0.68735572194957506, 0.79890157748280577)\n",
        "True"
       ]
      },
      {
       "output_type": "stream",
       "stream": "stdout",
       "text": [
        "\n",
        "(1.1960984373005406, 1.3908876490863495)\n",
        "True"
       ]
      },
      {
       "output_type": "stream",
       "stream": "stdout",
       "text": [
        "\n",
        "(1.0283570060507796, 1.0623490677913054)\n",
        "True"
       ]
      },
      {
       "output_type": "stream",
       "stream": "stdout",
       "text": [
        "\n",
        "(1.0822148967514744, 1.2412753177288067)\n",
        "True"
       ]
      },
      {
       "output_type": "stream",
       "stream": "stdout",
       "text": [
        "\n",
        "(0.970145464667445, 1.0891219317458207)\n",
        "False"
       ]
      },
      {
       "output_type": "stream",
       "stream": "stdout",
       "text": [
        "\n",
        "(0.99990722768366092, 0.73713201802736117)\n",
        "False"
       ]
      },
      {
       "output_type": "stream",
       "stream": "stdout",
       "text": [
        "\n",
        "(1.213803306055075, 1.1009956212559118)\n",
        "False"
       ]
      },
      {
       "output_type": "stream",
       "stream": "stdout",
       "text": [
        "\n",
        "(1.2466832304845969, 1.2342628693786504)\n",
        "True"
       ]
      },
      {
       "output_type": "stream",
       "stream": "stdout",
       "text": [
        "\n",
        "(0.67880665734569501, 0.85917085877282884)\n",
        "True"
       ]
      },
      {
       "output_type": "stream",
       "stream": "stdout",
       "text": [
        "\n",
        "(0.78973478487331983, 0.84856586921174781)\n",
        "True"
       ]
      },
      {
       "output_type": "stream",
       "stream": "stdout",
       "text": [
        "\n",
        "(0.79493838477564449, 0.99480029246180168)\n",
        "True"
       ]
      },
      {
       "output_type": "stream",
       "stream": "stdout",
       "text": [
        "\n",
        "(0.75611787666542518, 0.9332706774998365)\n",
        "False"
       ]
      },
      {
       "output_type": "stream",
       "stream": "stdout",
       "text": [
        "\n",
        "(1.240019858881469, 1.0168756337472884)\n",
        "True"
       ]
      },
      {
       "output_type": "stream",
       "stream": "stdout",
       "text": [
        "\n",
        "(0.78804001356958875, 0.93997190294990851)\n",
        "True"
       ]
      },
      {
       "output_type": "stream",
       "stream": "stdout",
       "text": [
        "\n",
        "(0.78552208968518944, 0.95133114839204724)\n",
        "False"
       ]
      },
      {
       "output_type": "stream",
       "stream": "stdout",
       "text": [
        "\n",
        "(0.80538565907657578, 0.78686116849343812)\n",
        "True"
       ]
      },
      {
       "output_type": "stream",
       "stream": "stdout",
       "text": [
        "\n",
        "(0.72728990293397111, 0.79546030626473208)\n",
        "True"
       ]
      },
      {
       "output_type": "stream",
       "stream": "stdout",
       "text": [
        "\n",
        "(0.95756107524087053, 1.0132256115089222)\n",
        "True"
       ]
      },
      {
       "output_type": "stream",
       "stream": "stdout",
       "text": [
        "\n",
        "(1.0050203538208373, 1.072956979013953)\n",
        "True"
       ]
      },
      {
       "output_type": "stream",
       "stream": "stdout",
       "text": [
        "\n",
        "(1.0098480151149194, 1.1806213053586092)\n",
        "True"
       ]
      },
      {
       "output_type": "stream",
       "stream": "stdout",
       "text": [
        "\n",
        "(1.0824348571429099, 1.0914892041131623)\n",
        "True"
       ]
      },
      {
       "output_type": "stream",
       "stream": "stdout",
       "text": [
        "\n",
        "(1.1895472539764804, 1.2048289933537484)\n",
        "True"
       ]
      },
      {
       "output_type": "stream",
       "stream": "stdout",
       "text": [
        "\n",
        "(1.1672847489497606, 1.1833345067617964)\n",
        "True"
       ]
      },
      {
       "output_type": "stream",
       "stream": "stdout",
       "text": [
        "\n",
        "(0.9817887493399643, 0.99572099334527531)\n",
        "True"
       ]
      },
      {
       "output_type": "stream",
       "stream": "stdout",
       "text": [
        "\n",
        "(0.88515323507688559, 1.0231173527680428)\n",
        "False"
       ]
      },
      {
       "output_type": "stream",
       "stream": "stdout",
       "text": [
        "\n",
        "(1.4948002393580007, 1.3973051483798471)\n",
        "True"
       ]
      },
      {
       "output_type": "stream",
       "stream": "stdout",
       "text": [
        "\n",
        "(1.181827795447453, 1.5393896299799124)\n",
        "False"
       ]
      },
      {
       "output_type": "stream",
       "stream": "stdout",
       "text": [
        "\n",
        "(1.5053691042866375, 1.3758490751638695)\n",
        "True"
       ]
      },
      {
       "output_type": "stream",
       "stream": "stdout",
       "text": [
        "\n",
        "(0.91830222953754637, 1.0112743134093001)\n",
        "True"
       ]
      },
      {
       "output_type": "stream",
       "stream": "stdout",
       "text": [
        "\n",
        "(0.88666976142890697, 0.96788375884950717)\n",
        "True"
       ]
      },
      {
       "output_type": "stream",
       "stream": "stdout",
       "text": [
        "\n",
        "(0.61277826195663698, 0.77213652573060321)\n",
        "False"
       ]
      },
      {
       "output_type": "stream",
       "stream": "stdout",
       "text": [
        "\n",
        "(1.6890324745167609, 1.5266760677956106)\n",
        "True"
       ]
      },
      {
       "output_type": "stream",
       "stream": "stdout",
       "text": [
        "\n",
        "(0.90979259470340523, 1.0467686009950667)\n",
        "True"
       ]
      },
      {
       "output_type": "stream",
       "stream": "stdout",
       "text": [
        "\n",
        "(0.91719093328899504, 1.0544239238475626)\n",
        "True"
       ]
      },
      {
       "output_type": "stream",
       "stream": "stdout",
       "text": [
        "\n",
        "(0.87186397603941357, 0.97245952427329962)\n",
        "False"
       ]
      },
      {
       "output_type": "stream",
       "stream": "stdout",
       "text": [
        "\n",
        "(0.99768571184007204, 0.80415587212098794)\n",
        "True"
       ]
      },
      {
       "output_type": "stream",
       "stream": "stdout",
       "text": [
        "\n",
        "(0.76476447327855002, 0.87964031084155025)\n",
        "True\n",
        "(0.72215492761419775, 0.92868474583297489)\n",
        "False"
       ]
      },
      {
       "output_type": "stream",
       "stream": "stdout",
       "text": [
        "\n",
        "(0.77937956683821308, 0.64907341364155136)\n",
        "True"
       ]
      },
      {
       "output_type": "stream",
       "stream": "stdout",
       "text": [
        "\n",
        "(1.1367011286316178, 1.2455682756148325)\n",
        "True"
       ]
      },
      {
       "output_type": "stream",
       "stream": "stdout",
       "text": [
        "\n",
        "(1.0071761659458278, 1.08850693373776)\n",
        "True"
       ]
      },
      {
       "output_type": "stream",
       "stream": "stdout",
       "text": [
        "\n",
        "(0.96895635529083601, 1.1446964056513462)\n",
        "False"
       ]
      },
      {
       "output_type": "stream",
       "stream": "stdout",
       "text": [
        "\n",
        "(0.98046096417447537, 0.91454299455459653)\n",
        "True"
       ]
      },
      {
       "output_type": "stream",
       "stream": "stdout",
       "text": [
        "\n",
        "(0.91709235704440961, 0.96878884146457345)\n",
        "True"
       ]
      },
      {
       "output_type": "stream",
       "stream": "stdout",
       "text": [
        "\n",
        "(0.59528558820780642, 0.65950513180442816)\n",
        "False"
       ]
      },
      {
       "output_type": "stream",
       "stream": "stdout",
       "text": [
        "\n",
        "(1.3685517933865634, 1.2989668539959005)\n",
        "True\n",
        "(1.1879282791539727, 1.2906918264709735)\n",
        "True"
       ]
      },
      {
       "output_type": "stream",
       "stream": "stdout",
       "text": [
        "\n",
        "(1.1953294114146404, 1.3596141755955176)\n",
        "True"
       ]
      },
      {
       "output_type": "stream",
       "stream": "stdout",
       "text": [
        "\n",
        "(1.1238214210412825, 1.1517149182524244)\n",
        "False"
       ]
      },
      {
       "output_type": "stream",
       "stream": "stdout",
       "text": [
        "\n",
        "(0.87340859465099752, 0.74672090423739412)\n",
        "True"
       ]
      },
      {
       "output_type": "stream",
       "stream": "stdout",
       "text": [
        "\n",
        "(0.68655838477303033, 0.74159811079621019)\n",
        "True\n",
        "(0.60460246513772831, 0.77368510155206971)\n",
        "True"
       ]
      },
      {
       "output_type": "stream",
       "stream": "stdout",
       "text": [
        "\n",
        "(1.4746998070919712, 1.6799257132756764)\n",
        "True\n",
        "(0.56039242766753106, 1.1097683786267456)\n",
        "True"
       ]
      },
      {
       "output_type": "stream",
       "stream": "stdout",
       "text": [
        "\n",
        "(0.91629953103497719, 1.0453398941366929)\n",
        "False"
       ]
      },
      {
       "output_type": "stream",
       "stream": "stdout",
       "text": [
        "\n",
        "(1.1553582077570388, 1.1413351609462301)\n",
        "True"
       ]
      },
      {
       "output_type": "stream",
       "stream": "stdout",
       "text": [
        "\n",
        "(1.1635850848862626, 1.2145036217448335)\n",
        "False"
       ]
      },
      {
       "output_type": "stream",
       "stream": "stdout",
       "text": [
        "\n",
        "(1.0394403564588865, 1.024469992727729)\n",
        "True"
       ]
      },
      {
       "output_type": "stream",
       "stream": "stdout",
       "text": [
        "\n",
        "(1.1570617731756707, 1.2832141061254654)\n",
        "True"
       ]
      },
      {
       "output_type": "stream",
       "stream": "stdout",
       "text": [
        "\n",
        "(0.90843115601585456, 1.0362313196704029)\n",
        "True"
       ]
      },
      {
       "output_type": "stream",
       "stream": "stdout",
       "text": [
        "\n",
        "(0.65329068827180425, 0.85065282937715347)\n",
        "True"
       ]
      },
      {
       "output_type": "stream",
       "stream": "stdout",
       "text": [
        "\n",
        "(0.85876695764073796, 1.0216376399351952)\n",
        "False"
       ]
      },
      {
       "output_type": "stream",
       "stream": "stdout",
       "text": [
        "\n",
        "(1.1388813057905756, 0.91344228745750067)\n",
        "False"
       ]
      },
      {
       "output_type": "stream",
       "stream": "stdout",
       "text": [
        "\n",
        "(0.9641669550759514, 0.92287595122592947)\n",
        "False"
       ]
      },
      {
       "output_type": "stream",
       "stream": "stdout",
       "text": [
        "\n",
        "(1.0761751930026817, 1.0400607455594251)\n",
        "True"
       ]
      },
      {
       "output_type": "stream",
       "stream": "stdout",
       "text": [
        "\n",
        "(0.8568846113667139, 1.1043791957347171)\n",
        "True"
       ]
      },
      {
       "output_type": "stream",
       "stream": "stdout",
       "text": [
        "\n",
        "(0.89726768897690623, 1.0466621132835254)\n",
        "True"
       ]
      },
      {
       "output_type": "stream",
       "stream": "stdout",
       "text": [
        "\n",
        "(0.98652715937201385, 1.1269663470686246)\n",
        "True"
       ]
      },
      {
       "output_type": "stream",
       "stream": "stdout",
       "text": [
        "\n",
        "(1.0330345466568749, 1.1382432209370037)\n",
        "True"
       ]
      },
      {
       "output_type": "stream",
       "stream": "stdout",
       "text": [
        "\n",
        "(1.0220953609116283, 1.2071259648286403)\n",
        "True\n",
        "(0.64654919030348668, 0.80964402178733241)\n",
        "True"
       ]
      },
      {
       "output_type": "stream",
       "stream": "stdout",
       "text": [
        "\n",
        "(0.92825906921964818, 1.0417554761839432)\n",
        "True\n",
        "(0.72996301859530432, 0.81958139747925518)\n",
        "True"
       ]
      },
      {
       "output_type": "stream",
       "stream": "stdout",
       "text": [
        "\n",
        "(0.85644984673631697, 1.0179044323466735)\n",
        "True"
       ]
      },
      {
       "output_type": "stream",
       "stream": "stdout",
       "text": [
        "\n",
        "(1.3216056629079944, 1.4079318289503209)\n",
        "True"
       ]
      },
      {
       "output_type": "stream",
       "stream": "stdout",
       "text": [
        "\n",
        "(0.86323508505699587, 0.97426409158915905)\n",
        "False"
       ]
      },
      {
       "output_type": "stream",
       "stream": "stdout",
       "text": [
        "\n",
        "(1.5822504637447337, 1.3613945283158717)\n",
        "True"
       ]
      },
      {
       "output_type": "stream",
       "stream": "stdout",
       "text": [
        "\n",
        "(0.85920157477068126, 1.0746866083552635)\n",
        "True\n",
        "(0.63431126571626006, 0.7918826270572924)\n",
        "True"
       ]
      },
      {
       "output_type": "stream",
       "stream": "stdout",
       "text": [
        "\n",
        "(1.1405245252833061, 1.2487672492731152)\n",
        "True"
       ]
      },
      {
       "output_type": "stream",
       "stream": "stdout",
       "text": [
        "\n",
        "(1.0493789172757229, 1.2770718130386385)\n",
        "True"
       ]
      },
      {
       "output_type": "stream",
       "stream": "stdout",
       "text": [
        "\n",
        "(1.4251494801464528, 1.4402898814230385)\n",
        "True"
       ]
      },
      {
       "output_type": "stream",
       "stream": "stdout",
       "text": [
        "\n",
        "(1.3535002623930601, 1.4267289706021797)\n",
        "True"
       ]
      },
      {
       "output_type": "stream",
       "stream": "stdout",
       "text": [
        "\n",
        "(0.89257725300824331, 1.0612728330268284)\n",
        "True"
       ]
      },
      {
       "output_type": "stream",
       "stream": "stdout",
       "text": [
        "\n",
        "(1.0148089250748746, 1.0307237714613724)\n",
        "True"
       ]
      },
      {
       "output_type": "stream",
       "stream": "stdout",
       "text": [
        "\n",
        "(0.84382633511792049, 0.98336473285434189)\n",
        "True"
       ]
      },
      {
       "output_type": "stream",
       "stream": "stdout",
       "text": [
        "\n",
        "(1.2896377598756601, 1.460382158677213)\n",
        "True"
       ]
      },
      {
       "output_type": "stream",
       "stream": "stdout",
       "text": [
        "\n",
        "(1.0486999388757021, 1.0508960822829134)\n",
        "True"
       ]
      },
      {
       "output_type": "stream",
       "stream": "stdout",
       "text": [
        "\n",
        "(0.68519946599109027, 0.85964075372722526)\n",
        "False"
       ]
      },
      {
       "output_type": "stream",
       "stream": "stdout",
       "text": [
        "\n",
        "(1.6886637018581099, 1.5391271792937318)\n",
        "True"
       ]
      },
      {
       "output_type": "stream",
       "stream": "stdout",
       "text": [
        "\n",
        "(0.93142679179176713, 1.0832051206181281)\n",
        "True"
       ]
      },
      {
       "output_type": "stream",
       "stream": "stdout",
       "text": [
        "\n",
        "(0.8285247427697493, 1.0461491327193968)\n",
        "True"
       ]
      },
      {
       "output_type": "stream",
       "stream": "stdout",
       "text": [
        "\n",
        "(0.94954510390586944, 1.1113393324582463)\n",
        "True"
       ]
      },
      {
       "output_type": "stream",
       "stream": "stdout",
       "text": [
        "\n",
        "(0.97645571553676613, 1.1424684370227056)\n",
        "True"
       ]
      },
      {
       "output_type": "stream",
       "stream": "stdout",
       "text": [
        "\n",
        "(0.76594268991499692, 0.86096041399539391)\n",
        "True"
       ]
      },
      {
       "output_type": "stream",
       "stream": "stdout",
       "text": [
        "\n",
        "(1.2868943577561616, 1.3323144254998751)\n",
        "True"
       ]
      },
      {
       "output_type": "stream",
       "stream": "stdout",
       "text": [
        "\n",
        "(0.93614721433541526, 1.0142234294214301)\n",
        "True"
       ]
      },
      {
       "output_type": "stream",
       "stream": "stdout",
       "text": [
        "\n",
        "(0.96381124871308821, 1.1821257024378435)\n",
        "True"
       ]
      },
      {
       "output_type": "stream",
       "stream": "stdout",
       "text": [
        "\n",
        "(0.7072191143414337, 0.78606209282625206)\n",
        "True"
       ]
      },
      {
       "output_type": "stream",
       "stream": "stdout",
       "text": [
        "\n",
        "(0.81222513864551316, 0.97220449740746151)\n",
        "True"
       ]
      },
      {
       "output_type": "stream",
       "stream": "stdout",
       "text": [
        "\n",
        "(0.75132075922902819, 1.0942580854513972)\n",
        "True"
       ]
      },
      {
       "output_type": "stream",
       "stream": "stdout",
       "text": [
        "\n",
        "(0.98596464869365052, 1.1084790253131012)\n",
        "False"
       ]
      },
      {
       "output_type": "stream",
       "stream": "stdout",
       "text": [
        "\n",
        "(1.2332374990356416, 1.2305568970326948)\n",
        "True"
       ]
      },
      {
       "output_type": "stream",
       "stream": "stdout",
       "text": [
        "\n",
        "(1.0842429650694085, 1.1900837237400241)\n",
        "True"
       ]
      },
      {
       "output_type": "stream",
       "stream": "stdout",
       "text": [
        "\n",
        "(0.81292839158048125, 0.89019800532678284)\n",
        "True"
       ]
      },
      {
       "output_type": "stream",
       "stream": "stdout",
       "text": [
        "\n",
        "(1.1656150867896047, 1.2739932951060522)\n",
        "True"
       ]
      },
      {
       "output_type": "stream",
       "stream": "stdout",
       "text": [
        "\n",
        "(0.86228880361988769, 0.98212768293453534)\n",
        "True"
       ]
      },
      {
       "output_type": "stream",
       "stream": "stdout",
       "text": [
        "\n",
        "(0.6164575375741459, 0.78478654840499551)\n",
        "True"
       ]
      },
      {
       "output_type": "stream",
       "stream": "stdout",
       "text": [
        "\n",
        "(0.93917683908543892, 1.0333608508119494)\n",
        "False"
       ]
      },
      {
       "output_type": "stream",
       "stream": "stdout",
       "text": [
        "\n",
        "(0.99702190638590793, 0.96690011548935773)\n",
        "False"
       ]
      },
      {
       "output_type": "stream",
       "stream": "stdout",
       "text": [
        "\n",
        "(1.4797783087332208, 1.2186315340022089)\n",
        "True"
       ]
      },
      {
       "output_type": "stream",
       "stream": "stdout",
       "text": [
        "\n",
        "(1.3599812656969803, 1.5168935998872897)\n",
        "False"
       ]
      },
      {
       "output_type": "stream",
       "stream": "stdout",
       "text": [
        "\n",
        "(1.8326258956093457, 1.7128185892969723)\n",
        "True"
       ]
      },
      {
       "output_type": "stream",
       "stream": "stdout",
       "text": [
        "\n",
        "(0.79789418898898512, 0.89777168764411619)\n",
        "True"
       ]
      },
      {
       "output_type": "stream",
       "stream": "stdout",
       "text": [
        "\n",
        "(0.69902775859245381, 0.88976746819041042)\n",
        "False"
       ]
      },
      {
       "output_type": "stream",
       "stream": "stdout",
       "text": [
        "\n",
        "(1.2315301661725038, 1.1345997379469386)\n",
        "True"
       ]
      },
      {
       "output_type": "stream",
       "stream": "stdout",
       "text": [
        "\n",
        "(0.7487440236871522, 0.84907089699152427)\n",
        "False\n",
        "(0.5622601905979514, 0.54991523200720205)\n",
        "True"
       ]
      },
      {
       "output_type": "stream",
       "stream": "stdout",
       "text": [
        "\n",
        "(1.0440650136219167, 1.2697656033693778)\n",
        "True"
       ]
      },
      {
       "output_type": "stream",
       "stream": "stdout",
       "text": [
        "\n",
        "(0.93282828244398486, 1.0770888226949251)\n",
        "True"
       ]
      },
      {
       "output_type": "stream",
       "stream": "stdout",
       "text": [
        "\n",
        "(0.83175121008311304, 0.87195651251781026)\n",
        "False"
       ]
      },
      {
       "output_type": "stream",
       "stream": "stdout",
       "text": [
        "\n",
        "(1.4766735199216339, 1.3619294515558911)\n",
        "True\n",
        "(0.79657437105012163, 0.89230648242958466)\n",
        "True"
       ]
      },
      {
       "output_type": "stream",
       "stream": "stdout",
       "text": [
        "\n",
        "(1.0478398563025291, 1.2281632617847142)\n",
        "True"
       ]
      },
      {
       "output_type": "stream",
       "stream": "stdout",
       "text": [
        "\n",
        "(1.0364445259851116, 1.1669437535386624)\n",
        "False"
       ]
      },
      {
       "output_type": "stream",
       "stream": "stdout",
       "text": [
        "\n",
        "(0.87076653392333836, 0.81510679850588996)\n",
        "True"
       ]
      },
      {
       "output_type": "stream",
       "stream": "stdout",
       "text": [
        "\n",
        "(0.89339813319371975, 1.1470213461537067)\n",
        "False"
       ]
      },
      {
       "output_type": "stream",
       "stream": "stdout",
       "text": [
        "\n",
        "(1.2772953313001836, 1.2439152313886419)\n",
        "True"
       ]
      },
      {
       "output_type": "stream",
       "stream": "stdout",
       "text": [
        "\n",
        "(1.2121638248582944, 1.3165133183769455)\n",
        "False\n",
        "(0.84168669566374943, 0.78297538656955001)\n",
        "True"
       ]
      },
      {
       "output_type": "stream",
       "stream": "stdout",
       "text": [
        "\n",
        "(1.0970440087960511, 1.0990934453422976)\n",
        "True"
       ]
      },
      {
       "output_type": "stream",
       "stream": "stdout",
       "text": [
        "\n",
        "(1.0776161204032482, 1.4239335367785961)\n",
        "False"
       ]
      },
      {
       "output_type": "stream",
       "stream": "stdout",
       "text": [
        "\n",
        "(1.1340317239773232, 0.90695864624331568)\n",
        "False\n",
        "(0.94651482100155782, 0.85719066654644183)\n",
        "True"
       ]
      },
      {
       "output_type": "stream",
       "stream": "stdout",
       "text": [
        "\n",
        "(0.66150611308283236, 0.66928166362343955)\n",
        "True"
       ]
      },
      {
       "output_type": "stream",
       "stream": "stdout",
       "text": [
        "\n",
        "(0.71631548744384643, 0.8629488107864759)\n",
        "True"
       ]
      },
      {
       "output_type": "stream",
       "stream": "stdout",
       "text": [
        "\n",
        "(0.76905845111357463, 0.9215521135655953)\n",
        "True"
       ]
      },
      {
       "output_type": "stream",
       "stream": "stdout",
       "text": [
        "\n",
        "(0.97209208183423224, 1.0927994813321329)\n",
        "True"
       ]
      },
      {
       "output_type": "stream",
       "stream": "stdout",
       "text": [
        "\n",
        "(0.63311999187529477, 0.92234315902735853)\n",
        "True"
       ]
      },
      {
       "output_type": "stream",
       "stream": "stdout",
       "text": [
        "\n",
        "(0.82192551811700598, 1.1070367216268406)\n",
        "True"
       ]
      },
      {
       "output_type": "stream",
       "stream": "stdout",
       "text": [
        "\n",
        "(0.88597631713765057, 1.0103621588139176)\n",
        "False"
       ]
      },
      {
       "output_type": "stream",
       "stream": "stdout",
       "text": [
        "\n",
        "(1.1822837278582372, 1.1607060207204545)\n",
        "False"
       ]
      },
      {
       "output_type": "stream",
       "stream": "stdout",
       "text": [
        "\n",
        "(0.87513605911639736, 0.86520939443963918)\n",
        "True"
       ]
      },
      {
       "output_type": "stream",
       "stream": "stdout",
       "text": [
        "\n",
        "(0.62617849168118622, 0.78149899489146191)\n",
        "True"
       ]
      },
      {
       "output_type": "stream",
       "stream": "stdout",
       "text": [
        "\n",
        "(0.59167737103902585, 0.74229081931329444)\n",
        "True"
       ]
      },
      {
       "output_type": "stream",
       "stream": "stdout",
       "text": [
        "\n",
        "(0.81606435939223509, 0.92193654328706565)\n",
        "True"
       ]
      },
      {
       "output_type": "stream",
       "stream": "stdout",
       "text": [
        "\n",
        "(0.99429693666264107, 1.0753795836621425)\n",
        "True"
       ]
      },
      {
       "output_type": "stream",
       "stream": "stdout",
       "text": [
        "\n",
        "(1.1727018177744537, 1.3902277965249277)\n",
        "False"
       ]
      },
      {
       "output_type": "stream",
       "stream": "stdout",
       "text": [
        "\n",
        "(0.99255918386271036, 0.9426849862906499)\n",
        "True"
       ]
      },
      {
       "output_type": "stream",
       "stream": "stdout",
       "text": [
        "\n",
        "(0.8148386247378715, 0.83610649684957838)\n",
        "True\n",
        "(0.51325628053143957, 0.67259270913454916)\n",
        "True"
       ]
      },
      {
       "output_type": "stream",
       "stream": "stdout",
       "text": [
        "\n",
        "(0.93533275164811258, 1.1902175578748255)\n",
        "False"
       ]
      },
      {
       "output_type": "stream",
       "stream": "stdout",
       "text": [
        "\n",
        "(1.0103067461224087, 0.98765368227269246)\n",
        "True"
       ]
      },
      {
       "output_type": "stream",
       "stream": "stdout",
       "text": [
        "\n",
        "(1.1128338591474576, 1.5413488615921163)\n",
        "True"
       ]
      },
      {
       "output_type": "stream",
       "stream": "stdout",
       "text": [
        "\n",
        "(0.74370935864050847, 0.83017983673028772)\n",
        "True"
       ]
      },
      {
       "output_type": "stream",
       "stream": "stdout",
       "text": [
        "\n",
        "(1.1349747517972877, 1.215757703974319)\n",
        "True"
       ]
      },
      {
       "output_type": "stream",
       "stream": "stdout",
       "text": [
        "\n",
        "(0.83061266624894492, 0.98604779267189002)\n",
        "False"
       ]
      },
      {
       "output_type": "stream",
       "stream": "stdout",
       "text": [
        "\n",
        "(0.84994412199930658, 0.8436437653735156)\n",
        "True"
       ]
      },
      {
       "output_type": "stream",
       "stream": "stdout",
       "text": [
        "\n",
        "(0.89461305877663155, 0.99393506729599523)\n",
        "True"
       ]
      },
      {
       "output_type": "stream",
       "stream": "stdout",
       "text": [
        "\n",
        "(1.105883777203253, 1.3711309200802089)\n",
        "True\n",
        "(0.67655734661371558, 0.7240337764494077)\n",
        "False"
       ]
      },
      {
       "output_type": "stream",
       "stream": "stdout",
       "text": [
        "\n",
        "(1.0142771339525904, 0.94981984507338979)\n",
        "True"
       ]
      },
      {
       "output_type": "stream",
       "stream": "stdout",
       "text": [
        "\n",
        "(1.1023644839720479, 1.4259499757471625)\n",
        "False"
       ]
      },
      {
       "output_type": "stream",
       "stream": "stdout",
       "text": [
        "\n",
        "(1.4005628706558813, 1.341445530867353)\n",
        "True\n",
        "(0.69200325061706369, 0.73024851314822858)\n",
        "True"
       ]
      },
      {
       "output_type": "stream",
       "stream": "stdout",
       "text": [
        "\n",
        "(0.99721582992308322, 1.1440432424344631)\n",
        "True"
       ]
      },
      {
       "output_type": "stream",
       "stream": "stdout",
       "text": [
        "\n",
        "(0.80331391294795462, 0.93737418361655522)\n",
        "True"
       ]
      },
      {
       "output_type": "stream",
       "stream": "stdout",
       "text": [
        "\n",
        "(0.68390825731953664, 0.92221478503620247)\n",
        "True"
       ]
      },
      {
       "output_type": "stream",
       "stream": "stdout",
       "text": [
        "\n",
        "(1.2160964310100599, 1.2826122742402499)\n",
        "True"
       ]
      },
      {
       "output_type": "stream",
       "stream": "stdout",
       "text": [
        "\n",
        "(0.93990987097779077, 1.0151907431108496)\n",
        "True"
       ]
      },
      {
       "output_type": "stream",
       "stream": "stdout",
       "text": [
        "\n",
        "(1.2630994688167976, 1.4775074530470307)\n",
        "True"
       ]
      },
      {
       "output_type": "stream",
       "stream": "stdout",
       "text": [
        "\n",
        "(0.71866074613077613, 0.86338389319623909)\n",
        "True"
       ]
      },
      {
       "output_type": "stream",
       "stream": "stdout",
       "text": [
        "\n",
        "(0.81696534525735842, 1.0422115841563)\n",
        "True"
       ]
      },
      {
       "output_type": "stream",
       "stream": "stdout",
       "text": [
        "\n",
        "(0.77637402530216859, 0.949836868594227)\n",
        "False"
       ]
      },
      {
       "output_type": "stream",
       "stream": "stdout",
       "text": [
        "\n",
        "(1.0085056856204704, 0.94162979278836911)\n",
        "True"
       ]
      },
      {
       "output_type": "stream",
       "stream": "stdout",
       "text": [
        "\n",
        "(1.0482470534740915, 1.0961541116919371)\n",
        "True"
       ]
      },
      {
       "output_type": "stream",
       "stream": "stdout",
       "text": [
        "\n",
        "(0.76137534637554027, 0.86374179791666605)\n",
        "True"
       ]
      },
      {
       "output_type": "stream",
       "stream": "stdout",
       "text": [
        "\n",
        "(0.63144499074564908, 0.66068747264340999)\n",
        "True"
       ]
      },
      {
       "output_type": "stream",
       "stream": "stdout",
       "text": [
        "\n",
        "(1.0101393309630304, 1.0959851422134621)\n",
        "True"
       ]
      },
      {
       "output_type": "stream",
       "stream": "stdout",
       "text": [
        "\n",
        "(0.63187846934796765, 0.81842126564230699)\n",
        "True"
       ]
      },
      {
       "output_type": "stream",
       "stream": "stdout",
       "text": [
        "\n",
        "(0.90420147607200019, 1.1624593367583078)\n",
        "True"
       ]
      },
      {
       "output_type": "stream",
       "stream": "stdout",
       "text": [
        "\n",
        "(0.92562630169367655, 1.2099567666269717)\n",
        "True\n",
        "(0.74500073477030015, 0.88214179078611399)\n",
        "True"
       ]
      },
      {
       "output_type": "stream",
       "stream": "stdout",
       "text": [
        "\n",
        "(1.1632895688149667, 1.274417082654886)\n",
        "True"
       ]
      },
      {
       "output_type": "stream",
       "stream": "stdout",
       "text": [
        "\n",
        "(0.83646064801590703, 0.92358823177306582)\n",
        "False"
       ]
      },
      {
       "output_type": "stream",
       "stream": "stdout",
       "text": [
        "\n",
        "(0.85858865785766658, 0.81621951457873498)\n",
        "True"
       ]
      },
      {
       "output_type": "stream",
       "stream": "stdout",
       "text": [
        "\n",
        "(1.010437577154315, 1.2663499452254312)\n",
        "True"
       ]
      },
      {
       "output_type": "stream",
       "stream": "stdout",
       "text": [
        "\n",
        "(1.2020178921917875, 1.357011919466103)\n",
        "False"
       ]
      },
      {
       "output_type": "stream",
       "stream": "stdout",
       "text": [
        "\n",
        "(0.71847684241225551, 0.71833437638495856)\n",
        "True"
       ]
      },
      {
       "output_type": "stream",
       "stream": "stdout",
       "text": [
        "\n",
        "(1.0842984026602152, 1.1268590794485323)\n",
        "False"
       ]
      },
      {
       "output_type": "stream",
       "stream": "stdout",
       "text": [
        "\n",
        "(0.83681969097640174, 0.83155158020505915)\n",
        "True"
       ]
      },
      {
       "output_type": "stream",
       "stream": "stdout",
       "text": [
        "\n",
        "(0.90605227834961, 1.0689635411557605)\n",
        "True"
       ]
      },
      {
       "output_type": "stream",
       "stream": "stdout",
       "text": [
        "\n",
        "(1.187465439842593, 1.2123947824828285)\n",
        "False"
       ]
      },
      {
       "output_type": "stream",
       "stream": "stdout",
       "text": [
        "\n",
        "(0.90972003135713342, 0.84244030575458506)\n",
        "True"
       ]
      },
      {
       "output_type": "stream",
       "stream": "stdout",
       "text": [
        "\n",
        "(0.72208634465925392, 0.85632207734710863)\n",
        "False"
       ]
      },
      {
       "output_type": "stream",
       "stream": "stdout",
       "text": [
        "\n",
        "(1.363390783547231, 1.0907608351096854)\n",
        "True"
       ]
      },
      {
       "output_type": "stream",
       "stream": "stdout",
       "text": [
        "\n",
        "(0.87280746399362918, 1.072095834714792)\n",
        "True"
       ]
      },
      {
       "output_type": "stream",
       "stream": "stdout",
       "text": [
        "\n",
        "(1.0415523900703245, 1.159498601731874)\n",
        "True"
       ]
      },
      {
       "output_type": "stream",
       "stream": "stdout",
       "text": [
        "\n",
        "(1.0605868293791112, 1.0739838513351894)\n",
        "False"
       ]
      },
      {
       "output_type": "stream",
       "stream": "stdout",
       "text": [
        "\n",
        "(0.58012546282565369, 0.39079580518387591)\n",
        "False"
       ]
      },
      {
       "output_type": "stream",
       "stream": "stdout",
       "text": [
        "\n",
        "(1.059922837194472, 1.0063882446124777)\n",
        "True"
       ]
      },
      {
       "output_type": "stream",
       "stream": "stdout",
       "text": [
        "\n",
        "(0.90378973430727549, 1.2024451938680201)\n",
        "True"
       ]
      },
      {
       "output_type": "stream",
       "stream": "stdout",
       "text": [
        "\n",
        "(0.70119782565821631, 0.82555170059079386)\n",
        "False"
       ]
      },
      {
       "output_type": "stream",
       "stream": "stdout",
       "text": [
        "\n",
        "(1.1322429027479362, 1.0882847030224299)\n",
        "True"
       ]
      },
      {
       "output_type": "stream",
       "stream": "stdout",
       "text": [
        "\n",
        "(0.85232692875308569, 1.0552507002474902)\n",
        "False"
       ]
      },
      {
       "output_type": "stream",
       "stream": "stdout",
       "text": [
        "\n",
        "(0.7077191720217415, 0.66134226041460076)\n",
        "True"
       ]
      },
      {
       "output_type": "stream",
       "stream": "stdout",
       "text": [
        "\n",
        "(0.92638579098025198, 1.1915673416124128)\n",
        "True"
       ]
      },
      {
       "output_type": "stream",
       "stream": "stdout",
       "text": [
        "\n",
        "(1.2169221787446196, 1.4698494133388014)\n",
        "True"
       ]
      },
      {
       "output_type": "stream",
       "stream": "stdout",
       "text": [
        "\n",
        "(0.95513825438757349, 1.0606215888628256)\n",
        "False"
       ]
      },
      {
       "output_type": "stream",
       "stream": "stdout",
       "text": [
        "\n",
        "(0.97329201328354487, 0.93952763460381161)\n",
        "True"
       ]
      },
      {
       "output_type": "stream",
       "stream": "stdout",
       "text": [
        "\n",
        "(0.73068301629159993, 0.89833944070785132)\n",
        "False"
       ]
      },
      {
       "output_type": "stream",
       "stream": "stdout",
       "text": [
        "\n",
        "(1.0388240766370762, 1.0332191383199876)\n",
        "True"
       ]
      },
      {
       "output_type": "stream",
       "stream": "stdout",
       "text": [
        "\n",
        "(0.77966198618172311, 0.80808395371359509)\n",
        "True"
       ]
      },
      {
       "output_type": "stream",
       "stream": "stdout",
       "text": [
        "\n",
        "(1.3154402311705824, 1.4441254527542839)\n",
        "True"
       ]
      },
      {
       "output_type": "stream",
       "stream": "stdout",
       "text": [
        "\n",
        "(0.78780613114046916, 1.0068880894245069)\n",
        "True"
       ]
      },
      {
       "output_type": "stream",
       "stream": "stdout",
       "text": [
        "\n",
        "(1.3691594761462376, 1.543459401518273)\n",
        "False"
       ]
      },
      {
       "output_type": "stream",
       "stream": "stdout",
       "text": [
        "\n",
        "(1.1235565335585074, 1.0466878978738388)\n",
        "True"
       ]
      },
      {
       "output_type": "stream",
       "stream": "stdout",
       "text": [
        "\n",
        "(0.89078908625620212, 0.97803381577874748)\n",
        "True"
       ]
      },
      {
       "output_type": "stream",
       "stream": "stdout",
       "text": [
        "\n",
        "(1.1325080873314206, 1.3668584798284813)\n",
        "True"
       ]
      },
      {
       "output_type": "stream",
       "stream": "stdout",
       "text": [
        "\n",
        "(1.2066462311988035, 1.3752386727284216)\n",
        "True"
       ]
      },
      {
       "output_type": "stream",
       "stream": "stdout",
       "text": [
        "\n",
        "(0.80904505145178807, 1.0019170313760373)\n",
        "True"
       ]
      },
      {
       "output_type": "stream",
       "stream": "stdout",
       "text": [
        "\n",
        "(0.96703261993418166, 0.98370380251658118)\n",
        "False"
       ]
      },
      {
       "output_type": "stream",
       "stream": "stdout",
       "text": [
        "\n",
        "(0.92865536443032448, 0.91756565319797678)\n",
        "True"
       ]
      },
      {
       "output_type": "stream",
       "stream": "stdout",
       "text": [
        "\n",
        "(1.2012996308901334, 1.4452988925785868)\n",
        "True\n",
        "(0.56927487455242654, 0.76632791640471398)\n",
        "True"
       ]
      },
      {
       "output_type": "stream",
       "stream": "stdout",
       "text": [
        "\n",
        "(0.74037965824626051, 0.79524256200319432)\n",
        "True\n",
        "(0.61603666756540221, 0.83505476961332792)\n",
        "True"
       ]
      },
      {
       "output_type": "stream",
       "stream": "stdout",
       "text": [
        "\n",
        "(0.8736361723903211, 0.90603944351844568)\n",
        "True"
       ]
      },
      {
       "output_type": "stream",
       "stream": "stdout",
       "text": [
        "\n",
        "(1.0194563641642109, 1.1532571869449071)\n",
        "True"
       ]
      },
      {
       "output_type": "stream",
       "stream": "stdout",
       "text": [
        "\n",
        "(0.74594663534921146, 0.92309592361409698)\n",
        "True"
       ]
      },
      {
       "output_type": "stream",
       "stream": "stdout",
       "text": [
        "\n",
        "(0.79511461414015849, 1.0075868077606429)\n",
        "True"
       ]
      },
      {
       "output_type": "stream",
       "stream": "stdout",
       "text": [
        "\n",
        "(0.96969188581539456, 1.1948087939738836)\n",
        "True"
       ]
      },
      {
       "output_type": "stream",
       "stream": "stdout",
       "text": [
        "\n",
        "(0.79766570345877552, 1.0519214681054079)\n",
        "False"
       ]
      },
      {
       "output_type": "stream",
       "stream": "stdout",
       "text": [
        "\n",
        "(0.94710278448299279, 0.89943864520499994)\n",
        "True"
       ]
      },
      {
       "output_type": "stream",
       "stream": "stdout",
       "text": [
        "\n",
        "(1.1250638025625892, 1.3273429593775323)\n",
        "True"
       ]
      },
      {
       "output_type": "stream",
       "stream": "stdout",
       "text": [
        "\n",
        "(0.86426063540010434, 1.0061099970584011)\n",
        "True"
       ]
      },
      {
       "output_type": "stream",
       "stream": "stdout",
       "text": [
        "\n",
        "(0.9828238148656242, 1.1475920845808378)\n",
        "False"
       ]
      },
      {
       "output_type": "stream",
       "stream": "stdout",
       "text": [
        "\n",
        "(1.4798306413513407, 1.3759318182454272)\n",
        "False\n",
        "(0.59638117679195013, 0.59066817155564499)\n",
        "True"
       ]
      },
      {
       "output_type": "stream",
       "stream": "stdout",
       "text": [
        "\n",
        "(0.77965154539157755, 0.8904601850445486)\n",
        "True"
       ]
      },
      {
       "output_type": "stream",
       "stream": "stdout",
       "text": [
        "\n",
        "(0.85800077483785209, 1.1182477695738555)\n",
        "True"
       ]
      },
      {
       "output_type": "stream",
       "stream": "stdout",
       "text": [
        "\n",
        "(0.83365201205678119, 0.85479217236360783)\n",
        "True"
       ]
      },
      {
       "output_type": "stream",
       "stream": "stdout",
       "text": [
        "\n",
        "(0.69832435381130131, 0.90422014382657634)\n",
        "True"
       ]
      },
      {
       "output_type": "stream",
       "stream": "stdout",
       "text": [
        "\n",
        "(0.64197300887328357, 0.94338406021336352)\n",
        "True"
       ]
      },
      {
       "output_type": "stream",
       "stream": "stdout",
       "text": [
        "\n",
        "(0.65816493453896008, 0.73180328700110797)\n",
        "True"
       ]
      },
      {
       "output_type": "stream",
       "stream": "stdout",
       "text": [
        "\n",
        "(0.70353748654163084, 1.06874796945876)\n",
        "True"
       ]
      },
      {
       "output_type": "stream",
       "stream": "stdout",
       "text": [
        "\n",
        "(0.96913378149332596, 1.1732805817904068)\n",
        "True"
       ]
      },
      {
       "output_type": "stream",
       "stream": "stdout",
       "text": [
        "\n",
        "(0.99106656846951358, 0.99595232089079788)\n",
        "True"
       ]
      },
      {
       "output_type": "stream",
       "stream": "stdout",
       "text": [
        "\n",
        "(1.0158188575313427, 1.0564717824829188)\n",
        "True"
       ]
      },
      {
       "output_type": "stream",
       "stream": "stdout",
       "text": [
        "\n",
        "(0.90101158260362246, 1.0395142489495759)\n",
        "True\n",
        "(0.91723779928546845, 1.112739226450207)\n",
        "False"
       ]
      },
      {
       "output_type": "stream",
       "stream": "stdout",
       "text": [
        "\n",
        "(1.1280927058696038, 1.069797910123697)\n",
        "True"
       ]
      },
      {
       "output_type": "stream",
       "stream": "stdout",
       "text": [
        "\n",
        "(1.0020071773196761, 1.2011572900979874)\n",
        "True"
       ]
      },
      {
       "output_type": "stream",
       "stream": "stdout",
       "text": [
        "\n",
        "(0.8471563344229196, 1.0233481546364596)\n",
        "False"
       ]
      },
      {
       "output_type": "stream",
       "stream": "stdout",
       "text": [
        "\n",
        "(1.0867085596898678, 0.97147798020399789)\n",
        "True\n",
        "(0.66770940538444945, 0.82848590144243794)\n",
        "False"
       ]
      },
      {
       "output_type": "stream",
       "stream": "stdout",
       "text": [
        "\n",
        "(0.77038342553082173, 0.72398214651563686)\n",
        "False"
       ]
      },
      {
       "output_type": "stream",
       "stream": "stdout",
       "text": [
        "\n",
        "(0.80317679020207577, 0.68134151533036413)\n",
        "True"
       ]
      },
      {
       "output_type": "stream",
       "stream": "stdout",
       "text": [
        "\n",
        "(0.67388989485340944, 0.72783819778233649)\n",
        "True\n",
        "(0.71347999380649207, 0.83201956245749054)\n",
        "True"
       ]
      },
      {
       "output_type": "stream",
       "stream": "stdout",
       "text": [
        "\n",
        "(0.89638736626355819, 1.1036415592745792)\n",
        "True"
       ]
      },
      {
       "output_type": "stream",
       "stream": "stdout",
       "text": [
        "\n",
        "(0.93197231223946198, 0.95464411487276679)\n",
        "False"
       ]
      },
      {
       "output_type": "stream",
       "stream": "stdout",
       "text": [
        "\n",
        "(0.99567711564882233, 0.97455066641081267)\n",
        "True"
       ]
      },
      {
       "output_type": "stream",
       "stream": "stdout",
       "text": [
        "\n",
        "(1.022140223595551, 1.1441372718904341)\n",
        "False"
       ]
      },
      {
       "output_type": "stream",
       "stream": "stdout",
       "text": [
        "\n",
        "(1.3836899482254679, 1.2791713485160872)\n",
        "True\n",
        "(0.88538402293964069, 0.94946097058734091)\n",
        "True"
       ]
      },
      {
       "output_type": "stream",
       "stream": "stdout",
       "text": [
        "\n",
        "(0.73801865421129842, 0.91258409358277193)\n",
        "True"
       ]
      },
      {
       "output_type": "stream",
       "stream": "stdout",
       "text": [
        "\n",
        "(1.1574805370972034, 1.1706232916150743)\n",
        "True"
       ]
      },
      {
       "output_type": "stream",
       "stream": "stdout",
       "text": [
        "\n",
        "(1.1273828707412108, 1.1393936182847293)\n",
        "True"
       ]
      },
      {
       "output_type": "stream",
       "stream": "stdout",
       "text": [
        "\n",
        "(0.84966605247756266, 0.9899955943343256)\n",
        "False\n",
        "(0.86497536258245522, 0.86246608743243969)\n",
        "True"
       ]
      },
      {
       "output_type": "stream",
       "stream": "stdout",
       "text": [
        "\n",
        "(1.0693206603717145, 1.1425544797782281)\n",
        "True"
       ]
      },
      {
       "output_type": "stream",
       "stream": "stdout",
       "text": [
        "\n",
        "(0.9557535260138823, 1.0283071454571209)\n",
        "True"
       ]
      },
      {
       "output_type": "stream",
       "stream": "stdout",
       "text": [
        "\n",
        "(0.59504273973569499, 0.69932495936843164)\n",
        "True"
       ]
      },
      {
       "output_type": "stream",
       "stream": "stdout",
       "text": [
        "\n",
        "(0.74937335921412618, 0.82187970807915212)\n",
        "False\n",
        "(1.0247902459342566, 0.94234857315822007)\n",
        "True"
       ]
      },
      {
       "output_type": "stream",
       "stream": "stdout",
       "text": [
        "\n",
        "(0.65530363498363997, 0.94633797110522599)\n",
        "True"
       ]
      },
      {
       "output_type": "stream",
       "stream": "stdout",
       "text": [
        "\n",
        "(1.0964598279792883, 1.1480122380730233)\n",
        "False\n",
        "(0.93886041261779851, 0.72708034860896442)\n",
        "True"
       ]
      },
      {
       "output_type": "stream",
       "stream": "stdout",
       "text": [
        "\n",
        "(0.92643720925852779, 1.0521483035391201)\n",
        "True"
       ]
      },
      {
       "output_type": "stream",
       "stream": "stdout",
       "text": [
        "\n",
        "(1.0917034045231442, 1.1812932292720919)\n",
        "True"
       ]
      },
      {
       "output_type": "stream",
       "stream": "stdout",
       "text": [
        "\n",
        "(0.79723152145036191, 0.90651117071719722)\n",
        "True"
       ]
      },
      {
       "output_type": "stream",
       "stream": "stdout",
       "text": [
        "\n",
        "(0.82155976269068087, 0.98403401950906277)\n",
        "True"
       ]
      },
      {
       "output_type": "stream",
       "stream": "stdout",
       "text": [
        "\n",
        "(0.90748128393895311, 1.2500315055890965)\n",
        "True"
       ]
      },
      {
       "output_type": "stream",
       "stream": "stdout",
       "text": [
        "\n",
        "(0.92831070516857916, 0.97487104269845004)\n",
        "False"
       ]
      },
      {
       "output_type": "stream",
       "stream": "stdout",
       "text": [
        "\n",
        "(1.0244007158011956, 0.88776601638756014)\n",
        "True"
       ]
      },
      {
       "output_type": "stream",
       "stream": "stdout",
       "text": [
        "\n",
        "(0.96310259518876762, 0.98468763365603307)\n",
        "True"
       ]
      },
      {
       "output_type": "stream",
       "stream": "stdout",
       "text": [
        "\n",
        "(1.0515496385260006, 1.2111748199349441)\n",
        "True"
       ]
      },
      {
       "output_type": "stream",
       "stream": "stdout",
       "text": [
        "\n",
        "(1.1214068429968578, 1.2523412002879761)\n",
        "True\n",
        "(0.72771930270623475, 0.99128616339823017)\n",
        "True"
       ]
      },
      {
       "output_type": "stream",
       "stream": "stdout",
       "text": [
        "\n",
        "(0.93688657007562148, 1.0139723967926879)\n",
        "True"
       ]
      },
      {
       "output_type": "stream",
       "stream": "stdout",
       "text": [
        "\n",
        "(0.84883916501364209, 0.92538172900122595)\n",
        "True"
       ]
      },
      {
       "output_type": "stream",
       "stream": "stdout",
       "text": [
        "\n",
        "(0.7052715453862981, 0.78723831956846979)\n",
        "True"
       ]
      },
      {
       "output_type": "stream",
       "stream": "stdout",
       "text": [
        "\n",
        "(1.1536414694238448, 1.2937420846160479)\n"
       ]
      }
     ],
     "prompt_number": 112
    },
    {
     "cell_type": "code",
     "collapsed": false,
     "input": [],
     "language": "python",
     "metadata": {},
     "outputs": []
    }
   ],
   "metadata": {}
  }
 ]
}