{
 "metadata": {
  "name": "",
  "signature": "sha256:c8be267f1fcab9f45cc83a7850e865cae9e95a987dcd9a4c3ad6d7fc4841be13"
 },
 "nbformat": 3,
 "nbformat_minor": 0,
 "worksheets": [
  {
   "cells": [
    {
     "cell_type": "code",
     "collapsed": false,
     "input": [
      "#7.1 \u56de\u5e30\u3092\u7528\u3044\u3066\u7269\u4ef6\u4fa1\u683c\u3092\u4e88\u6e2c\u3059\u308b\n",
      "#\uff11\u6b21\u5143\u306e\u56de\u5e30 (feature 1\u3064\u306e\u307f)"
     ],
     "language": "python",
     "metadata": {},
     "outputs": [],
     "prompt_number": 9
    },
    {
     "cell_type": "code",
     "collapsed": false,
     "input": [
      "from matplotlib import pyplot as plt\n",
      "from sklearn.datasets import load_boston\n",
      "import numpy as np"
     ],
     "language": "python",
     "metadata": {},
     "outputs": [],
     "prompt_number": 1
    },
    {
     "cell_type": "code",
     "collapsed": false,
     "input": [
      "boston = load_boston()"
     ],
     "language": "python",
     "metadata": {},
     "outputs": [],
     "prompt_number": 2
    },
    {
     "cell_type": "code",
     "collapsed": false,
     "input": [
      "len(boston.data)"
     ],
     "language": "python",
     "metadata": {},
     "outputs": [
      {
       "metadata": {},
       "output_type": "pyout",
       "prompt_number": 12,
       "text": [
        "506"
       ]
      }
     ],
     "prompt_number": 12
    },
    {
     "cell_type": "code",
     "collapsed": false,
     "input": [
      "len(boston.data[:,5])"
     ],
     "language": "python",
     "metadata": {},
     "outputs": [
      {
       "metadata": {},
       "output_type": "pyout",
       "prompt_number": 13,
       "text": [
        "506"
       ]
      }
     ],
     "prompt_number": 13
    },
    {
     "cell_type": "code",
     "collapsed": false,
     "input": [
      "boston.data[:,5]"
     ],
     "language": "python",
     "metadata": {},
     "outputs": [
      {
       "metadata": {},
       "output_type": "pyout",
       "prompt_number": 3,
       "text": [
        "array([ 6.575,  6.421,  7.185,  6.998,  7.147,  6.43 ,  6.012,  6.172,\n",
        "        5.631,  6.004,  6.377,  6.009,  5.889,  5.949,  6.096,  5.834,\n",
        "        5.935,  5.99 ,  5.456,  5.727,  5.57 ,  5.965,  6.142,  5.813,\n",
        "        5.924,  5.599,  5.813,  6.047,  6.495,  6.674,  5.713,  6.072,\n",
        "        5.95 ,  5.701,  6.096,  5.933,  5.841,  5.85 ,  5.966,  6.595,\n",
        "        7.024,  6.77 ,  6.169,  6.211,  6.069,  5.682,  5.786,  6.03 ,\n",
        "        5.399,  5.602,  5.963,  6.115,  6.511,  5.998,  5.888,  7.249,\n",
        "        6.383,  6.816,  6.145,  5.927,  5.741,  5.966,  6.456,  6.762,\n",
        "        7.104,  6.29 ,  5.787,  5.878,  5.594,  5.885,  6.417,  5.961,\n",
        "        6.065,  6.245,  6.273,  6.286,  6.279,  6.14 ,  6.232,  5.874,\n",
        "        6.727,  6.619,  6.302,  6.167,  6.389,  6.63 ,  6.015,  6.121,\n",
        "        7.007,  7.079,  6.417,  6.405,  6.442,  6.211,  6.249,  6.625,\n",
        "        6.163,  8.069,  7.82 ,  7.416,  6.727,  6.781,  6.405,  6.137,\n",
        "        6.167,  5.851,  5.836,  6.127,  6.474,  6.229,  6.195,  6.715,\n",
        "        5.913,  6.092,  6.254,  5.928,  6.176,  6.021,  5.872,  5.731,\n",
        "        5.87 ,  6.004,  5.961,  5.856,  5.879,  5.986,  5.613,  5.693,\n",
        "        6.431,  5.637,  6.458,  6.326,  6.372,  5.822,  5.757,  6.335,\n",
        "        5.942,  6.454,  5.857,  6.151,  6.174,  5.019,  5.403,  5.468,\n",
        "        4.903,  6.13 ,  5.628,  4.926,  5.186,  5.597,  6.122,  5.404,\n",
        "        5.012,  5.709,  6.129,  6.152,  5.272,  6.943,  6.066,  6.51 ,\n",
        "        6.25 ,  7.489,  7.802,  8.375,  5.854,  6.101,  7.929,  5.877,\n",
        "        6.319,  6.402,  5.875,  5.88 ,  5.572,  6.416,  5.859,  6.546,\n",
        "        6.02 ,  6.315,  6.86 ,  6.98 ,  7.765,  6.144,  7.155,  6.563,\n",
        "        5.604,  6.153,  7.831,  6.782,  6.556,  7.185,  6.951,  6.739,\n",
        "        7.178,  6.8  ,  6.604,  7.875,  7.287,  7.107,  7.274,  6.975,\n",
        "        7.135,  6.162,  7.61 ,  7.853,  8.034,  5.891,  6.326,  5.783,\n",
        "        6.064,  5.344,  5.96 ,  5.404,  5.807,  6.375,  5.412,  6.182,\n",
        "        5.888,  6.642,  5.951,  6.373,  6.951,  6.164,  6.879,  6.618,\n",
        "        8.266,  8.725,  8.04 ,  7.163,  7.686,  6.552,  5.981,  7.412,\n",
        "        8.337,  8.247,  6.726,  6.086,  6.631,  7.358,  6.481,  6.606,\n",
        "        6.897,  6.095,  6.358,  6.393,  5.593,  5.605,  6.108,  6.226,\n",
        "        6.433,  6.718,  6.487,  6.438,  6.957,  8.259,  6.108,  5.876,\n",
        "        7.454,  8.704,  7.333,  6.842,  7.203,  7.52 ,  8.398,  7.327,\n",
        "        7.206,  5.56 ,  7.014,  8.297,  7.47 ,  5.92 ,  5.856,  6.24 ,\n",
        "        6.538,  7.691,  6.758,  6.854,  7.267,  6.826,  6.482,  6.812,\n",
        "        7.82 ,  6.968,  7.645,  7.923,  7.088,  6.453,  6.23 ,  6.209,\n",
        "        6.315,  6.565,  6.861,  7.148,  6.63 ,  6.127,  6.009,  6.678,\n",
        "        6.549,  5.79 ,  6.345,  7.041,  6.871,  6.59 ,  6.495,  6.982,\n",
        "        7.236,  6.616,  7.42 ,  6.849,  6.635,  5.972,  4.973,  6.122,\n",
        "        6.023,  6.266,  6.567,  5.705,  5.914,  5.782,  6.382,  6.113,\n",
        "        6.426,  6.376,  6.041,  5.708,  6.415,  6.431,  6.312,  6.083,\n",
        "        5.868,  6.333,  6.144,  5.706,  6.031,  6.316,  6.31 ,  6.037,\n",
        "        5.869,  5.895,  6.059,  5.985,  5.968,  7.241,  6.54 ,  6.696,\n",
        "        6.874,  6.014,  5.898,  6.516,  6.635,  6.939,  6.49 ,  6.579,\n",
        "        5.884,  6.728,  5.663,  5.936,  6.212,  6.395,  6.127,  6.112,\n",
        "        6.398,  6.251,  5.362,  5.803,  8.78 ,  3.561,  4.963,  3.863,\n",
        "        4.97 ,  6.683,  7.016,  6.216,  5.875,  4.906,  4.138,  7.313,\n",
        "        6.649,  6.794,  6.38 ,  6.223,  6.968,  6.545,  5.536,  5.52 ,\n",
        "        4.368,  5.277,  4.652,  5.   ,  4.88 ,  5.39 ,  5.713,  6.051,\n",
        "        5.036,  6.193,  5.887,  6.471,  6.405,  5.747,  5.453,  5.852,\n",
        "        5.987,  6.343,  6.404,  5.349,  5.531,  5.683,  4.138,  5.608,\n",
        "        5.617,  6.852,  5.757,  6.657,  4.628,  5.155,  4.519,  6.434,\n",
        "        6.782,  5.304,  5.957,  6.824,  6.411,  6.006,  5.648,  6.103,\n",
        "        5.565,  5.896,  5.837,  6.202,  6.193,  6.38 ,  6.348,  6.833,\n",
        "        6.425,  6.436,  6.208,  6.629,  6.461,  6.152,  5.935,  5.627,\n",
        "        5.818,  6.406,  6.219,  6.485,  5.854,  6.459,  6.341,  6.251,\n",
        "        6.185,  6.417,  6.749,  6.655,  6.297,  7.393,  6.728,  6.525,\n",
        "        5.976,  5.936,  6.301,  6.081,  6.701,  6.376,  6.317,  6.513,\n",
        "        6.209,  5.759,  5.952,  6.003,  5.926,  5.713,  6.167,  6.229,\n",
        "        6.437,  6.98 ,  5.427,  6.162,  6.484,  5.304,  6.185,  6.229,\n",
        "        6.242,  6.75 ,  7.061,  5.762,  5.871,  6.312,  6.114,  5.905,\n",
        "        5.454,  5.414,  5.093,  5.983,  5.983,  5.707,  5.926,  5.67 ,\n",
        "        5.39 ,  5.794,  6.019,  5.569,  6.027,  6.593,  6.12 ,  6.976,\n",
        "        6.794,  6.03 ])"
       ]
      }
     ],
     "prompt_number": 3
    },
    {
     "cell_type": "code",
     "collapsed": false,
     "input": [
      "boston.data"
     ],
     "language": "python",
     "metadata": {},
     "outputs": [
      {
       "metadata": {},
       "output_type": "pyout",
       "prompt_number": 14,
       "text": [
        "array([[  6.32000000e-03,   1.80000000e+01,   2.31000000e+00, ...,\n",
        "          1.53000000e+01,   3.96900000e+02,   4.98000000e+00],\n",
        "       [  2.73100000e-02,   0.00000000e+00,   7.07000000e+00, ...,\n",
        "          1.78000000e+01,   3.96900000e+02,   9.14000000e+00],\n",
        "       [  2.72900000e-02,   0.00000000e+00,   7.07000000e+00, ...,\n",
        "          1.78000000e+01,   3.92830000e+02,   4.03000000e+00],\n",
        "       ..., \n",
        "       [  6.07600000e-02,   0.00000000e+00,   1.19300000e+01, ...,\n",
        "          2.10000000e+01,   3.96900000e+02,   5.64000000e+00],\n",
        "       [  1.09590000e-01,   0.00000000e+00,   1.19300000e+01, ...,\n",
        "          2.10000000e+01,   3.93450000e+02,   6.48000000e+00],\n",
        "       [  4.74100000e-02,   0.00000000e+00,   1.19300000e+01, ...,\n",
        "          2.10000000e+01,   3.96900000e+02,   7.88000000e+00]])"
       ]
      }
     ],
     "prompt_number": 14
    },
    {
     "cell_type": "code",
     "collapsed": false,
     "input": [
      "len(boston.target)"
     ],
     "language": "python",
     "metadata": {},
     "outputs": [
      {
       "metadata": {},
       "output_type": "pyout",
       "prompt_number": 15,
       "text": [
        "506"
       ]
      }
     ],
     "prompt_number": 15
    },
    {
     "cell_type": "code",
     "collapsed": false,
     "input": [
      "boston.target"
     ],
     "language": "python",
     "metadata": {},
     "outputs": [
      {
       "metadata": {},
       "output_type": "pyout",
       "prompt_number": 16,
       "text": [
        "array([ 24. ,  21.6,  34.7,  33.4,  36.2,  28.7,  22.9,  27.1,  16.5,\n",
        "        18.9,  15. ,  18.9,  21.7,  20.4,  18.2,  19.9,  23.1,  17.5,\n",
        "        20.2,  18.2,  13.6,  19.6,  15.2,  14.5,  15.6,  13.9,  16.6,\n",
        "        14.8,  18.4,  21. ,  12.7,  14.5,  13.2,  13.1,  13.5,  18.9,\n",
        "        20. ,  21. ,  24.7,  30.8,  34.9,  26.6,  25.3,  24.7,  21.2,\n",
        "        19.3,  20. ,  16.6,  14.4,  19.4,  19.7,  20.5,  25. ,  23.4,\n",
        "        18.9,  35.4,  24.7,  31.6,  23.3,  19.6,  18.7,  16. ,  22.2,\n",
        "        25. ,  33. ,  23.5,  19.4,  22. ,  17.4,  20.9,  24.2,  21.7,\n",
        "        22.8,  23.4,  24.1,  21.4,  20. ,  20.8,  21.2,  20.3,  28. ,\n",
        "        23.9,  24.8,  22.9,  23.9,  26.6,  22.5,  22.2,  23.6,  28.7,\n",
        "        22.6,  22. ,  22.9,  25. ,  20.6,  28.4,  21.4,  38.7,  43.8,\n",
        "        33.2,  27.5,  26.5,  18.6,  19.3,  20.1,  19.5,  19.5,  20.4,\n",
        "        19.8,  19.4,  21.7,  22.8,  18.8,  18.7,  18.5,  18.3,  21.2,\n",
        "        19.2,  20.4,  19.3,  22. ,  20.3,  20.5,  17.3,  18.8,  21.4,\n",
        "        15.7,  16.2,  18. ,  14.3,  19.2,  19.6,  23. ,  18.4,  15.6,\n",
        "        18.1,  17.4,  17.1,  13.3,  17.8,  14. ,  14.4,  13.4,  15.6,\n",
        "        11.8,  13.8,  15.6,  14.6,  17.8,  15.4,  21.5,  19.6,  15.3,\n",
        "        19.4,  17. ,  15.6,  13.1,  41.3,  24.3,  23.3,  27. ,  50. ,\n",
        "        50. ,  50. ,  22.7,  25. ,  50. ,  23.8,  23.8,  22.3,  17.4,\n",
        "        19.1,  23.1,  23.6,  22.6,  29.4,  23.2,  24.6,  29.9,  37.2,\n",
        "        39.8,  36.2,  37.9,  32.5,  26.4,  29.6,  50. ,  32. ,  29.8,\n",
        "        34.9,  37. ,  30.5,  36.4,  31.1,  29.1,  50. ,  33.3,  30.3,\n",
        "        34.6,  34.9,  32.9,  24.1,  42.3,  48.5,  50. ,  22.6,  24.4,\n",
        "        22.5,  24.4,  20. ,  21.7,  19.3,  22.4,  28.1,  23.7,  25. ,\n",
        "        23.3,  28.7,  21.5,  23. ,  26.7,  21.7,  27.5,  30.1,  44.8,\n",
        "        50. ,  37.6,  31.6,  46.7,  31.5,  24.3,  31.7,  41.7,  48.3,\n",
        "        29. ,  24. ,  25.1,  31.5,  23.7,  23.3,  22. ,  20.1,  22.2,\n",
        "        23.7,  17.6,  18.5,  24.3,  20.5,  24.5,  26.2,  24.4,  24.8,\n",
        "        29.6,  42.8,  21.9,  20.9,  44. ,  50. ,  36. ,  30.1,  33.8,\n",
        "        43.1,  48.8,  31. ,  36.5,  22.8,  30.7,  50. ,  43.5,  20.7,\n",
        "        21.1,  25.2,  24.4,  35.2,  32.4,  32. ,  33.2,  33.1,  29.1,\n",
        "        35.1,  45.4,  35.4,  46. ,  50. ,  32.2,  22. ,  20.1,  23.2,\n",
        "        22.3,  24.8,  28.5,  37.3,  27.9,  23.9,  21.7,  28.6,  27.1,\n",
        "        20.3,  22.5,  29. ,  24.8,  22. ,  26.4,  33.1,  36.1,  28.4,\n",
        "        33.4,  28.2,  22.8,  20.3,  16.1,  22.1,  19.4,  21.6,  23.8,\n",
        "        16.2,  17.8,  19.8,  23.1,  21. ,  23.8,  23.1,  20.4,  18.5,\n",
        "        25. ,  24.6,  23. ,  22.2,  19.3,  22.6,  19.8,  17.1,  19.4,\n",
        "        22.2,  20.7,  21.1,  19.5,  18.5,  20.6,  19. ,  18.7,  32.7,\n",
        "        16.5,  23.9,  31.2,  17.5,  17.2,  23.1,  24.5,  26.6,  22.9,\n",
        "        24.1,  18.6,  30.1,  18.2,  20.6,  17.8,  21.7,  22.7,  22.6,\n",
        "        25. ,  19.9,  20.8,  16.8,  21.9,  27.5,  21.9,  23.1,  50. ,\n",
        "        50. ,  50. ,  50. ,  50. ,  13.8,  13.8,  15. ,  13.9,  13.3,\n",
        "        13.1,  10.2,  10.4,  10.9,  11.3,  12.3,   8.8,   7.2,  10.5,\n",
        "         7.4,  10.2,  11.5,  15.1,  23.2,   9.7,  13.8,  12.7,  13.1,\n",
        "        12.5,   8.5,   5. ,   6.3,   5.6,   7.2,  12.1,   8.3,   8.5,\n",
        "         5. ,  11.9,  27.9,  17.2,  27.5,  15. ,  17.2,  17.9,  16.3,\n",
        "         7. ,   7.2,   7.5,  10.4,   8.8,   8.4,  16.7,  14.2,  20.8,\n",
        "        13.4,  11.7,   8.3,  10.2,  10.9,  11. ,   9.5,  14.5,  14.1,\n",
        "        16.1,  14.3,  11.7,  13.4,   9.6,   8.7,   8.4,  12.8,  10.5,\n",
        "        17.1,  18.4,  15.4,  10.8,  11.8,  14.9,  12.6,  14.1,  13. ,\n",
        "        13.4,  15.2,  16.1,  17.8,  14.9,  14.1,  12.7,  13.5,  14.9,\n",
        "        20. ,  16.4,  17.7,  19.5,  20.2,  21.4,  19.9,  19. ,  19.1,\n",
        "        19.1,  20.1,  19.9,  19.6,  23.2,  29.8,  13.8,  13.3,  16.7,\n",
        "        12. ,  14.6,  21.4,  23. ,  23.7,  25. ,  21.8,  20.6,  21.2,\n",
        "        19.1,  20.6,  15.2,   7. ,   8.1,  13.6,  20.1,  21.8,  24.5,\n",
        "        23.1,  19.7,  18.3,  21.2,  17.5,  16.8,  22.4,  20.6,  23.9,\n",
        "        22. ,  11.9])"
       ]
      }
     ],
     "prompt_number": 16
    },
    {
     "cell_type": "code",
     "collapsed": false,
     "input": [
      "plt.scatter(boston.data[:,5], boston.target, color='r')"
     ],
     "language": "python",
     "metadata": {},
     "outputs": [
      {
       "metadata": {},
       "output_type": "pyout",
       "prompt_number": 4,
       "text": [
        "<matplotlib.collections.PathCollection at 0x1120be950>"
       ]
      },
      {
       "metadata": {},
       "output_type": "display_data",
       "png": "[encoded data removed]",
       "text": [
        "<matplotlib.figure.Figure at 0x111ff8650>"
       ]
      }
     ],
     "prompt_number": 4
    },
    {
     "cell_type": "code",
     "collapsed": false,
     "input": [
      "plt.show()"
     ],
     "language": "python",
     "metadata": {},
     "outputs": [],
     "prompt_number": 18
    },
    {
     "cell_type": "code",
     "collapsed": false,
     "input": [
      "#single feature \u306e\u56de\u5e30"
     ],
     "language": "python",
     "metadata": {},
     "outputs": [],
     "prompt_number": 19
    },
    {
     "cell_type": "code",
     "collapsed": false,
     "input": [
      "x = boston.data[:,5]\n",
      "x = np.array([[v] for v in x])  "
     ],
     "language": "python",
     "metadata": {},
     "outputs": [],
     "prompt_number": 5
    },
    {
     "cell_type": "code",
     "collapsed": false,
     "input": [
      "x"
     ],
     "language": "python",
     "metadata": {},
     "outputs": [
      {
       "metadata": {},
       "output_type": "pyout",
       "prompt_number": 21,
       "text": [
        "array([[ 6.575],\n",
        "       [ 6.421],\n",
        "       [ 7.185],\n",
        "       [ 6.998],\n",
        "       [ 7.147],\n",
        "       [ 6.43 ],\n",
        "       [ 6.012],\n",
        "       [ 6.172],\n",
        "       [ 5.631],\n",
        "       [ 6.004],\n",
        "       [ 6.377],\n",
        "       [ 6.009],\n",
        "       [ 5.889],\n",
        "       [ 5.949],\n",
        "       [ 6.096],\n",
        "       [ 5.834],\n",
        "       [ 5.935],\n",
        "       [ 5.99 ],\n",
        "       [ 5.456],\n",
        "       [ 5.727],\n",
        "       [ 5.57 ],\n",
        "       [ 5.965],\n",
        "       [ 6.142],\n",
        "       [ 5.813],\n",
        "       [ 5.924],\n",
        "       [ 5.599],\n",
        "       [ 5.813],\n",
        "       [ 6.047],\n",
        "       [ 6.495],\n",
        "       [ 6.674],\n",
        "       [ 5.713],\n",
        "       [ 6.072],\n",
        "       [ 5.95 ],\n",
        "       [ 5.701],\n",
        "       [ 6.096],\n",
        "       [ 5.933],\n",
        "       [ 5.841],\n",
        "       [ 5.85 ],\n",
        "       [ 5.966],\n",
        "       [ 6.595],\n",
        "       [ 7.024],\n",
        "       [ 6.77 ],\n",
        "       [ 6.169],\n",
        "       [ 6.211],\n",
        "       [ 6.069],\n",
        "       [ 5.682],\n",
        "       [ 5.786],\n",
        "       [ 6.03 ],\n",
        "       [ 5.399],\n",
        "       [ 5.602],\n",
        "       [ 5.963],\n",
        "       [ 6.115],\n",
        "       [ 6.511],\n",
        "       [ 5.998],\n",
        "       [ 5.888],\n",
        "       [ 7.249],\n",
        "       [ 6.383],\n",
        "       [ 6.816],\n",
        "       [ 6.145],\n",
        "       [ 5.927],\n",
        "       [ 5.741],\n",
        "       [ 5.966],\n",
        "       [ 6.456],\n",
        "       [ 6.762],\n",
        "       [ 7.104],\n",
        "       [ 6.29 ],\n",
        "       [ 5.787],\n",
        "       [ 5.878],\n",
        "       [ 5.594],\n",
        "       [ 5.885],\n",
        "       [ 6.417],\n",
        "       [ 5.961],\n",
        "       [ 6.065],\n",
        "       [ 6.245],\n",
        "       [ 6.273],\n",
        "       [ 6.286],\n",
        "       [ 6.279],\n",
        "       [ 6.14 ],\n",
        "       [ 6.232],\n",
        "       [ 5.874],\n",
        "       [ 6.727],\n",
        "       [ 6.619],\n",
        "       [ 6.302],\n",
        "       [ 6.167],\n",
        "       [ 6.389],\n",
        "       [ 6.63 ],\n",
        "       [ 6.015],\n",
        "       [ 6.121],\n",
        "       [ 7.007],\n",
        "       [ 7.079],\n",
        "       [ 6.417],\n",
        "       [ 6.405],\n",
        "       [ 6.442],\n",
        "       [ 6.211],\n",
        "       [ 6.249],\n",
        "       [ 6.625],\n",
        "       [ 6.163],\n",
        "       [ 8.069],\n",
        "       [ 7.82 ],\n",
        "       [ 7.416],\n",
        "       [ 6.727],\n",
        "       [ 6.781],\n",
        "       [ 6.405],\n",
        "       [ 6.137],\n",
        "       [ 6.167],\n",
        "       [ 5.851],\n",
        "       [ 5.836],\n",
        "       [ 6.127],\n",
        "       [ 6.474],\n",
        "       [ 6.229],\n",
        "       [ 6.195],\n",
        "       [ 6.715],\n",
        "       [ 5.913],\n",
        "       [ 6.092],\n",
        "       [ 6.254],\n",
        "       [ 5.928],\n",
        "       [ 6.176],\n",
        "       [ 6.021],\n",
        "       [ 5.872],\n",
        "       [ 5.731],\n",
        "       [ 5.87 ],\n",
        "       [ 6.004],\n",
        "       [ 5.961],\n",
        "       [ 5.856],\n",
        "       [ 5.879],\n",
        "       [ 5.986],\n",
        "       [ 5.613],\n",
        "       [ 5.693],\n",
        "       [ 6.431],\n",
        "       [ 5.637],\n",
        "       [ 6.458],\n",
        "       [ 6.326],\n",
        "       [ 6.372],\n",
        "       [ 5.822],\n",
        "       [ 5.757],\n",
        "       [ 6.335],\n",
        "       [ 5.942],\n",
        "       [ 6.454],\n",
        "       [ 5.857],\n",
        "       [ 6.151],\n",
        "       [ 6.174],\n",
        "       [ 5.019],\n",
        "       [ 5.403],\n",
        "       [ 5.468],\n",
        "       [ 4.903],\n",
        "       [ 6.13 ],\n",
        "       [ 5.628],\n",
        "       [ 4.926],\n",
        "       [ 5.186],\n",
        "       [ 5.597],\n",
        "       [ 6.122],\n",
        "       [ 5.404],\n",
        "       [ 5.012],\n",
        "       [ 5.709],\n",
        "       [ 6.129],\n",
        "       [ 6.152],\n",
        "       [ 5.272],\n",
        "       [ 6.943],\n",
        "       [ 6.066],\n",
        "       [ 6.51 ],\n",
        "       [ 6.25 ],\n",
        "       [ 7.489],\n",
        "       [ 7.802],\n",
        "       [ 8.375],\n",
        "       [ 5.854],\n",
        "       [ 6.101],\n",
        "       [ 7.929],\n",
        "       [ 5.877],\n",
        "       [ 6.319],\n",
        "       [ 6.402],\n",
        "       [ 5.875],\n",
        "       [ 5.88 ],\n",
        "       [ 5.572],\n",
        "       [ 6.416],\n",
        "       [ 5.859],\n",
        "       [ 6.546],\n",
        "       [ 6.02 ],\n",
        "       [ 6.315],\n",
        "       [ 6.86 ],\n",
        "       [ 6.98 ],\n",
        "       [ 7.765],\n",
        "       [ 6.144],\n",
        "       [ 7.155],\n",
        "       [ 6.563],\n",
        "       [ 5.604],\n",
        "       [ 6.153],\n",
        "       [ 7.831],\n",
        "       [ 6.782],\n",
        "       [ 6.556],\n",
        "       [ 7.185],\n",
        "       [ 6.951],\n",
        "       [ 6.739],\n",
        "       [ 7.178],\n",
        "       [ 6.8  ],\n",
        "       [ 6.604],\n",
        "       [ 7.875],\n",
        "       [ 7.287],\n",
        "       [ 7.107],\n",
        "       [ 7.274],\n",
        "       [ 6.975],\n",
        "       [ 7.135],\n",
        "       [ 6.162],\n",
        "       [ 7.61 ],\n",
        "       [ 7.853],\n",
        "       [ 8.034],\n",
        "       [ 5.891],\n",
        "       [ 6.326],\n",
        "       [ 5.783],\n",
        "       [ 6.064],\n",
        "       [ 5.344],\n",
        "       [ 5.96 ],\n",
        "       [ 5.404],\n",
        "       [ 5.807],\n",
        "       [ 6.375],\n",
        "       [ 5.412],\n",
        "       [ 6.182],\n",
        "       [ 5.888],\n",
        "       [ 6.642],\n",
        "       [ 5.951],\n",
        "       [ 6.373],\n",
        "       [ 6.951],\n",
        "       [ 6.164],\n",
        "       [ 6.879],\n",
        "       [ 6.618],\n",
        "       [ 8.266],\n",
        "       [ 8.725],\n",
        "       [ 8.04 ],\n",
        "       [ 7.163],\n",
        "       [ 7.686],\n",
        "       [ 6.552],\n",
        "       [ 5.981],\n",
        "       [ 7.412],\n",
        "       [ 8.337],\n",
        "       [ 8.247],\n",
        "       [ 6.726],\n",
        "       [ 6.086],\n",
        "       [ 6.631],\n",
        "       [ 7.358],\n",
        "       [ 6.481],\n",
        "       [ 6.606],\n",
        "       [ 6.897],\n",
        "       [ 6.095],\n",
        "       [ 6.358],\n",
        "       [ 6.393],\n",
        "       [ 5.593],\n",
        "       [ 5.605],\n",
        "       [ 6.108],\n",
        "       [ 6.226],\n",
        "       [ 6.433],\n",
        "       [ 6.718],\n",
        "       [ 6.487],\n",
        "       [ 6.438],\n",
        "       [ 6.957],\n",
        "       [ 8.259],\n",
        "       [ 6.108],\n",
        "       [ 5.876],\n",
        "       [ 7.454],\n",
        "       [ 8.704],\n",
        "       [ 7.333],\n",
        "       [ 6.842],\n",
        "       [ 7.203],\n",
        "       [ 7.52 ],\n",
        "       [ 8.398],\n",
        "       [ 7.327],\n",
        "       [ 7.206],\n",
        "       [ 5.56 ],\n",
        "       [ 7.014],\n",
        "       [ 8.297],\n",
        "       [ 7.47 ],\n",
        "       [ 5.92 ],\n",
        "       [ 5.856],\n",
        "       [ 6.24 ],\n",
        "       [ 6.538],\n",
        "       [ 7.691],\n",
        "       [ 6.758],\n",
        "       [ 6.854],\n",
        "       [ 7.267],\n",
        "       [ 6.826],\n",
        "       [ 6.482],\n",
        "       [ 6.812],\n",
        "       [ 7.82 ],\n",
        "       [ 6.968],\n",
        "       [ 7.645],\n",
        "       [ 7.923],\n",
        "       [ 7.088],\n",
        "       [ 6.453],\n",
        "       [ 6.23 ],\n",
        "       [ 6.209],\n",
        "       [ 6.315],\n",
        "       [ 6.565],\n",
        "       [ 6.861],\n",
        "       [ 7.148],\n",
        "       [ 6.63 ],\n",
        "       [ 6.127],\n",
        "       [ 6.009],\n",
        "       [ 6.678],\n",
        "       [ 6.549],\n",
        "       [ 5.79 ],\n",
        "       [ 6.345],\n",
        "       [ 7.041],\n",
        "       [ 6.871],\n",
        "       [ 6.59 ],\n",
        "       [ 6.495],\n",
        "       [ 6.982],\n",
        "       [ 7.236],\n",
        "       [ 6.616],\n",
        "       [ 7.42 ],\n",
        "       [ 6.849],\n",
        "       [ 6.635],\n",
        "       [ 5.972],\n",
        "       [ 4.973],\n",
        "       [ 6.122],\n",
        "       [ 6.023],\n",
        "       [ 6.266],\n",
        "       [ 6.567],\n",
        "       [ 5.705],\n",
        "       [ 5.914],\n",
        "       [ 5.782],\n",
        "       [ 6.382],\n",
        "       [ 6.113],\n",
        "       [ 6.426],\n",
        "       [ 6.376],\n",
        "       [ 6.041],\n",
        "       [ 5.708],\n",
        "       [ 6.415],\n",
        "       [ 6.431],\n",
        "       [ 6.312],\n",
        "       [ 6.083],\n",
        "       [ 5.868],\n",
        "       [ 6.333],\n",
        "       [ 6.144],\n",
        "       [ 5.706],\n",
        "       [ 6.031],\n",
        "       [ 6.316],\n",
        "       [ 6.31 ],\n",
        "       [ 6.037],\n",
        "       [ 5.869],\n",
        "       [ 5.895],\n",
        "       [ 6.059],\n",
        "       [ 5.985],\n",
        "       [ 5.968],\n",
        "       [ 7.241],\n",
        "       [ 6.54 ],\n",
        "       [ 6.696],\n",
        "       [ 6.874],\n",
        "       [ 6.014],\n",
        "       [ 5.898],\n",
        "       [ 6.516],\n",
        "       [ 6.635],\n",
        "       [ 6.939],\n",
        "       [ 6.49 ],\n",
        "       [ 6.579],\n",
        "       [ 5.884],\n",
        "       [ 6.728],\n",
        "       [ 5.663],\n",
        "       [ 5.936],\n",
        "       [ 6.212],\n",
        "       [ 6.395],\n",
        "       [ 6.127],\n",
        "       [ 6.112],\n",
        "       [ 6.398],\n",
        "       [ 6.251],\n",
        "       [ 5.362],\n",
        "       [ 5.803],\n",
        "       [ 8.78 ],\n",
        "       [ 3.561],\n",
        "       [ 4.963],\n",
        "       [ 3.863],\n",
        "       [ 4.97 ],\n",
        "       [ 6.683],\n",
        "       [ 7.016],\n",
        "       [ 6.216],\n",
        "       [ 5.875],\n",
        "       [ 4.906],\n",
        "       [ 4.138],\n",
        "       [ 7.313],\n",
        "       [ 6.649],\n",
        "       [ 6.794],\n",
        "       [ 6.38 ],\n",
        "       [ 6.223],\n",
        "       [ 6.968],\n",
        "       [ 6.545],\n",
        "       [ 5.536],\n",
        "       [ 5.52 ],\n",
        "       [ 4.368],\n",
        "       [ 5.277],\n",
        "       [ 4.652],\n",
        "       [ 5.   ],\n",
        "       [ 4.88 ],\n",
        "       [ 5.39 ],\n",
        "       [ 5.713],\n",
        "       [ 6.051],\n",
        "       [ 5.036],\n",
        "       [ 6.193],\n",
        "       [ 5.887],\n",
        "       [ 6.471],\n",
        "       [ 6.405],\n",
        "       [ 5.747],\n",
        "       [ 5.453],\n",
        "       [ 5.852],\n",
        "       [ 5.987],\n",
        "       [ 6.343],\n",
        "       [ 6.404],\n",
        "       [ 5.349],\n",
        "       [ 5.531],\n",
        "       [ 5.683],\n",
        "       [ 4.138],\n",
        "       [ 5.608],\n",
        "       [ 5.617],\n",
        "       [ 6.852],\n",
        "       [ 5.757],\n",
        "       [ 6.657],\n",
        "       [ 4.628],\n",
        "       [ 5.155],\n",
        "       [ 4.519],\n",
        "       [ 6.434],\n",
        "       [ 6.782],\n",
        "       [ 5.304],\n",
        "       [ 5.957],\n",
        "       [ 6.824],\n",
        "       [ 6.411],\n",
        "       [ 6.006],\n",
        "       [ 5.648],\n",
        "       [ 6.103],\n",
        "       [ 5.565],\n",
        "       [ 5.896],\n",
        "       [ 5.837],\n",
        "       [ 6.202],\n",
        "       [ 6.193],\n",
        "       [ 6.38 ],\n",
        "       [ 6.348],\n",
        "       [ 6.833],\n",
        "       [ 6.425],\n",
        "       [ 6.436],\n",
        "       [ 6.208],\n",
        "       [ 6.629],\n",
        "       [ 6.461],\n",
        "       [ 6.152],\n",
        "       [ 5.935],\n",
        "       [ 5.627],\n",
        "       [ 5.818],\n",
        "       [ 6.406],\n",
        "       [ 6.219],\n",
        "       [ 6.485],\n",
        "       [ 5.854],\n",
        "       [ 6.459],\n",
        "       [ 6.341],\n",
        "       [ 6.251],\n",
        "       [ 6.185],\n",
        "       [ 6.417],\n",
        "       [ 6.749],\n",
        "       [ 6.655],\n",
        "       [ 6.297],\n",
        "       [ 7.393],\n",
        "       [ 6.728],\n",
        "       [ 6.525],\n",
        "       [ 5.976],\n",
        "       [ 5.936],\n",
        "       [ 6.301],\n",
        "       [ 6.081],\n",
        "       [ 6.701],\n",
        "       [ 6.376],\n",
        "       [ 6.317],\n",
        "       [ 6.513],\n",
        "       [ 6.209],\n",
        "       [ 5.759],\n",
        "       [ 5.952],\n",
        "       [ 6.003],\n",
        "       [ 5.926],\n",
        "       [ 5.713],\n",
        "       [ 6.167],\n",
        "       [ 6.229],\n",
        "       [ 6.437],\n",
        "       [ 6.98 ],\n",
        "       [ 5.427],\n",
        "       [ 6.162],\n",
        "       [ 6.484],\n",
        "       [ 5.304],\n",
        "       [ 6.185],\n",
        "       [ 6.229],\n",
        "       [ 6.242],\n",
        "       [ 6.75 ],\n",
        "       [ 7.061],\n",
        "       [ 5.762],\n",
        "       [ 5.871],\n",
        "       [ 6.312],\n",
        "       [ 6.114],\n",
        "       [ 5.905],\n",
        "       [ 5.454],\n",
        "       [ 5.414],\n",
        "       [ 5.093],\n",
        "       [ 5.983],\n",
        "       [ 5.983],\n",
        "       [ 5.707],\n",
        "       [ 5.926],\n",
        "       [ 5.67 ],\n",
        "       [ 5.39 ],\n",
        "       [ 5.794],\n",
        "       [ 6.019],\n",
        "       [ 5.569],\n",
        "       [ 6.027],\n",
        "       [ 6.593],\n",
        "       [ 6.12 ],\n",
        "       [ 6.976],\n",
        "       [ 6.794],\n",
        "       [ 6.03 ]])"
       ]
      }
     ],
     "prompt_number": 21
    },
    {
     "cell_type": "code",
     "collapsed": false,
     "input": [
      "y = boston.target"
     ],
     "language": "python",
     "metadata": {},
     "outputs": [],
     "prompt_number": 22
    },
    {
     "cell_type": "code",
     "collapsed": false,
     "input": [
      "y"
     ],
     "language": "python",
     "metadata": {},
     "outputs": [
      {
       "metadata": {},
       "output_type": "pyout",
       "prompt_number": 23,
       "text": [
        "array([ 24. ,  21.6,  34.7,  33.4,  36.2,  28.7,  22.9,  27.1,  16.5,\n",
        "        18.9,  15. ,  18.9,  21.7,  20.4,  18.2,  19.9,  23.1,  17.5,\n",
        "        20.2,  18.2,  13.6,  19.6,  15.2,  14.5,  15.6,  13.9,  16.6,\n",
        "        14.8,  18.4,  21. ,  12.7,  14.5,  13.2,  13.1,  13.5,  18.9,\n",
        "        20. ,  21. ,  24.7,  30.8,  34.9,  26.6,  25.3,  24.7,  21.2,\n",
        "        19.3,  20. ,  16.6,  14.4,  19.4,  19.7,  20.5,  25. ,  23.4,\n",
        "        18.9,  35.4,  24.7,  31.6,  23.3,  19.6,  18.7,  16. ,  22.2,\n",
        "        25. ,  33. ,  23.5,  19.4,  22. ,  17.4,  20.9,  24.2,  21.7,\n",
        "        22.8,  23.4,  24.1,  21.4,  20. ,  20.8,  21.2,  20.3,  28. ,\n",
        "        23.9,  24.8,  22.9,  23.9,  26.6,  22.5,  22.2,  23.6,  28.7,\n",
        "        22.6,  22. ,  22.9,  25. ,  20.6,  28.4,  21.4,  38.7,  43.8,\n",
        "        33.2,  27.5,  26.5,  18.6,  19.3,  20.1,  19.5,  19.5,  20.4,\n",
        "        19.8,  19.4,  21.7,  22.8,  18.8,  18.7,  18.5,  18.3,  21.2,\n",
        "        19.2,  20.4,  19.3,  22. ,  20.3,  20.5,  17.3,  18.8,  21.4,\n",
        "        15.7,  16.2,  18. ,  14.3,  19.2,  19.6,  23. ,  18.4,  15.6,\n",
        "        18.1,  17.4,  17.1,  13.3,  17.8,  14. ,  14.4,  13.4,  15.6,\n",
        "        11.8,  13.8,  15.6,  14.6,  17.8,  15.4,  21.5,  19.6,  15.3,\n",
        "        19.4,  17. ,  15.6,  13.1,  41.3,  24.3,  23.3,  27. ,  50. ,\n",
        "        50. ,  50. ,  22.7,  25. ,  50. ,  23.8,  23.8,  22.3,  17.4,\n",
        "        19.1,  23.1,  23.6,  22.6,  29.4,  23.2,  24.6,  29.9,  37.2,\n",
        "        39.8,  36.2,  37.9,  32.5,  26.4,  29.6,  50. ,  32. ,  29.8,\n",
        "        34.9,  37. ,  30.5,  36.4,  31.1,  29.1,  50. ,  33.3,  30.3,\n",
        "        34.6,  34.9,  32.9,  24.1,  42.3,  48.5,  50. ,  22.6,  24.4,\n",
        "        22.5,  24.4,  20. ,  21.7,  19.3,  22.4,  28.1,  23.7,  25. ,\n",
        "        23.3,  28.7,  21.5,  23. ,  26.7,  21.7,  27.5,  30.1,  44.8,\n",
        "        50. ,  37.6,  31.6,  46.7,  31.5,  24.3,  31.7,  41.7,  48.3,\n",
        "        29. ,  24. ,  25.1,  31.5,  23.7,  23.3,  22. ,  20.1,  22.2,\n",
        "        23.7,  17.6,  18.5,  24.3,  20.5,  24.5,  26.2,  24.4,  24.8,\n",
        "        29.6,  42.8,  21.9,  20.9,  44. ,  50. ,  36. ,  30.1,  33.8,\n",
        "        43.1,  48.8,  31. ,  36.5,  22.8,  30.7,  50. ,  43.5,  20.7,\n",
        "        21.1,  25.2,  24.4,  35.2,  32.4,  32. ,  33.2,  33.1,  29.1,\n",
        "        35.1,  45.4,  35.4,  46. ,  50. ,  32.2,  22. ,  20.1,  23.2,\n",
        "        22.3,  24.8,  28.5,  37.3,  27.9,  23.9,  21.7,  28.6,  27.1,\n",
        "        20.3,  22.5,  29. ,  24.8,  22. ,  26.4,  33.1,  36.1,  28.4,\n",
        "        33.4,  28.2,  22.8,  20.3,  16.1,  22.1,  19.4,  21.6,  23.8,\n",
        "        16.2,  17.8,  19.8,  23.1,  21. ,  23.8,  23.1,  20.4,  18.5,\n",
        "        25. ,  24.6,  23. ,  22.2,  19.3,  22.6,  19.8,  17.1,  19.4,\n",
        "        22.2,  20.7,  21.1,  19.5,  18.5,  20.6,  19. ,  18.7,  32.7,\n",
        "        16.5,  23.9,  31.2,  17.5,  17.2,  23.1,  24.5,  26.6,  22.9,\n",
        "        24.1,  18.6,  30.1,  18.2,  20.6,  17.8,  21.7,  22.7,  22.6,\n",
        "        25. ,  19.9,  20.8,  16.8,  21.9,  27.5,  21.9,  23.1,  50. ,\n",
        "        50. ,  50. ,  50. ,  50. ,  13.8,  13.8,  15. ,  13.9,  13.3,\n",
        "        13.1,  10.2,  10.4,  10.9,  11.3,  12.3,   8.8,   7.2,  10.5,\n",
        "         7.4,  10.2,  11.5,  15.1,  23.2,   9.7,  13.8,  12.7,  13.1,\n",
        "        12.5,   8.5,   5. ,   6.3,   5.6,   7.2,  12.1,   8.3,   8.5,\n",
        "         5. ,  11.9,  27.9,  17.2,  27.5,  15. ,  17.2,  17.9,  16.3,\n",
        "         7. ,   7.2,   7.5,  10.4,   8.8,   8.4,  16.7,  14.2,  20.8,\n",
        "        13.4,  11.7,   8.3,  10.2,  10.9,  11. ,   9.5,  14.5,  14.1,\n",
        "        16.1,  14.3,  11.7,  13.4,   9.6,   8.7,   8.4,  12.8,  10.5,\n",
        "        17.1,  18.4,  15.4,  10.8,  11.8,  14.9,  12.6,  14.1,  13. ,\n",
        "        13.4,  15.2,  16.1,  17.8,  14.9,  14.1,  12.7,  13.5,  14.9,\n",
        "        20. ,  16.4,  17.7,  19.5,  20.2,  21.4,  19.9,  19. ,  19.1,\n",
        "        19.1,  20.1,  19.9,  19.6,  23.2,  29.8,  13.8,  13.3,  16.7,\n",
        "        12. ,  14.6,  21.4,  23. ,  23.7,  25. ,  21.8,  20.6,  21.2,\n",
        "        19.1,  20.6,  15.2,   7. ,   8.1,  13.6,  20.1,  21.8,  24.5,\n",
        "        23.1,  19.7,  18.3,  21.2,  17.5,  16.8,  22.4,  20.6,  23.9,\n",
        "        22. ,  11.9])"
       ]
      }
     ],
     "prompt_number": 23
    },
    {
     "cell_type": "code",
     "collapsed": false,
     "input": [
      "#\u50be\u304d\u306e\u8a08\u7b97\n",
      "slope,total_error ,_,_ = np.linalg.lstsq(x,y)"
     ],
     "language": "python",
     "metadata": {},
     "outputs": [],
     "prompt_number": 31
    },
    {
     "cell_type": "code",
     "collapsed": false,
     "input": [
      "slope"
     ],
     "language": "python",
     "metadata": {},
     "outputs": [
      {
       "metadata": {},
       "output_type": "pyout",
       "prompt_number": 32,
       "text": [
        "array([ 3.6533504])"
       ]
      }
     ],
     "prompt_number": 32
    },
    {
     "cell_type": "code",
     "collapsed": false,
     "input": [
      "total_error"
     ],
     "language": "python",
     "metadata": {},
     "outputs": [
      {
       "metadata": {},
       "output_type": "pyout",
       "prompt_number": 33,
       "text": [
        "array([ 29555.78152864])"
       ]
      }
     ],
     "prompt_number": 33
    },
    {
     "cell_type": "code",
     "collapsed": false,
     "input": [
      "rmse = np.sqrt(total_error[0]/len(x))\n",
      "print('RMSE on training: {}'.format(rmse))"
     ],
     "language": "python",
     "metadata": {},
     "outputs": [
      {
       "output_type": "stream",
       "stream": "stdout",
       "text": [
        "RMSE on training: 7.64268509309\n"
       ]
      }
     ],
     "prompt_number": 35
    },
    {
     "cell_type": "code",
     "collapsed": false,
     "input": [
      "#single feature + bias"
     ],
     "language": "python",
     "metadata": {},
     "outputs": [],
     "prompt_number": 36
    },
    {
     "cell_type": "code",
     "collapsed": false,
     "input": [
      "x = boston.data[:,5]\n",
      "x = np.array([[v,1] for v in x])"
     ],
     "language": "python",
     "metadata": {},
     "outputs": [],
     "prompt_number": 47
    },
    {
     "cell_type": "code",
     "collapsed": false,
     "input": [
      "x"
     ],
     "language": "python",
     "metadata": {},
     "outputs": [
      {
       "metadata": {},
       "output_type": "pyout",
       "prompt_number": 48,
       "text": [
        "array([[ 6.575,  1.   ],\n",
        "       [ 6.421,  1.   ],\n",
        "       [ 7.185,  1.   ],\n",
        "       ..., \n",
        "       [ 6.976,  1.   ],\n",
        "       [ 6.794,  1.   ],\n",
        "       [ 6.03 ,  1.   ]])"
       ]
      }
     ],
     "prompt_number": 48
    },
    {
     "cell_type": "code",
     "collapsed": false,
     "input": [
      "y = boston.target"
     ],
     "language": "python",
     "metadata": {},
     "outputs": [],
     "prompt_number": 49
    },
    {
     "cell_type": "code",
     "collapsed": false,
     "input": [
      "y"
     ],
     "language": "python",
     "metadata": {},
     "outputs": [
      {
       "metadata": {},
       "output_type": "pyout",
       "prompt_number": 50,
       "text": [
        "array([ 24. ,  21.6,  34.7,  33.4,  36.2,  28.7,  22.9,  27.1,  16.5,\n",
        "        18.9,  15. ,  18.9,  21.7,  20.4,  18.2,  19.9,  23.1,  17.5,\n",
        "        20.2,  18.2,  13.6,  19.6,  15.2,  14.5,  15.6,  13.9,  16.6,\n",
        "        14.8,  18.4,  21. ,  12.7,  14.5,  13.2,  13.1,  13.5,  18.9,\n",
        "        20. ,  21. ,  24.7,  30.8,  34.9,  26.6,  25.3,  24.7,  21.2,\n",
        "        19.3,  20. ,  16.6,  14.4,  19.4,  19.7,  20.5,  25. ,  23.4,\n",
        "        18.9,  35.4,  24.7,  31.6,  23.3,  19.6,  18.7,  16. ,  22.2,\n",
        "        25. ,  33. ,  23.5,  19.4,  22. ,  17.4,  20.9,  24.2,  21.7,\n",
        "        22.8,  23.4,  24.1,  21.4,  20. ,  20.8,  21.2,  20.3,  28. ,\n",
        "        23.9,  24.8,  22.9,  23.9,  26.6,  22.5,  22.2,  23.6,  28.7,\n",
        "        22.6,  22. ,  22.9,  25. ,  20.6,  28.4,  21.4,  38.7,  43.8,\n",
        "        33.2,  27.5,  26.5,  18.6,  19.3,  20.1,  19.5,  19.5,  20.4,\n",
        "        19.8,  19.4,  21.7,  22.8,  18.8,  18.7,  18.5,  18.3,  21.2,\n",
        "        19.2,  20.4,  19.3,  22. ,  20.3,  20.5,  17.3,  18.8,  21.4,\n",
        "        15.7,  16.2,  18. ,  14.3,  19.2,  19.6,  23. ,  18.4,  15.6,\n",
        "        18.1,  17.4,  17.1,  13.3,  17.8,  14. ,  14.4,  13.4,  15.6,\n",
        "        11.8,  13.8,  15.6,  14.6,  17.8,  15.4,  21.5,  19.6,  15.3,\n",
        "        19.4,  17. ,  15.6,  13.1,  41.3,  24.3,  23.3,  27. ,  50. ,\n",
        "        50. ,  50. ,  22.7,  25. ,  50. ,  23.8,  23.8,  22.3,  17.4,\n",
        "        19.1,  23.1,  23.6,  22.6,  29.4,  23.2,  24.6,  29.9,  37.2,\n",
        "        39.8,  36.2,  37.9,  32.5,  26.4,  29.6,  50. ,  32. ,  29.8,\n",
        "        34.9,  37. ,  30.5,  36.4,  31.1,  29.1,  50. ,  33.3,  30.3,\n",
        "        34.6,  34.9,  32.9,  24.1,  42.3,  48.5,  50. ,  22.6,  24.4,\n",
        "        22.5,  24.4,  20. ,  21.7,  19.3,  22.4,  28.1,  23.7,  25. ,\n",
        "        23.3,  28.7,  21.5,  23. ,  26.7,  21.7,  27.5,  30.1,  44.8,\n",
        "        50. ,  37.6,  31.6,  46.7,  31.5,  24.3,  31.7,  41.7,  48.3,\n",
        "        29. ,  24. ,  25.1,  31.5,  23.7,  23.3,  22. ,  20.1,  22.2,\n",
        "        23.7,  17.6,  18.5,  24.3,  20.5,  24.5,  26.2,  24.4,  24.8,\n",
        "        29.6,  42.8,  21.9,  20.9,  44. ,  50. ,  36. ,  30.1,  33.8,\n",
        "        43.1,  48.8,  31. ,  36.5,  22.8,  30.7,  50. ,  43.5,  20.7,\n",
        "        21.1,  25.2,  24.4,  35.2,  32.4,  32. ,  33.2,  33.1,  29.1,\n",
        "        35.1,  45.4,  35.4,  46. ,  50. ,  32.2,  22. ,  20.1,  23.2,\n",
        "        22.3,  24.8,  28.5,  37.3,  27.9,  23.9,  21.7,  28.6,  27.1,\n",
        "        20.3,  22.5,  29. ,  24.8,  22. ,  26.4,  33.1,  36.1,  28.4,\n",
        "        33.4,  28.2,  22.8,  20.3,  16.1,  22.1,  19.4,  21.6,  23.8,\n",
        "        16.2,  17.8,  19.8,  23.1,  21. ,  23.8,  23.1,  20.4,  18.5,\n",
        "        25. ,  24.6,  23. ,  22.2,  19.3,  22.6,  19.8,  17.1,  19.4,\n",
        "        22.2,  20.7,  21.1,  19.5,  18.5,  20.6,  19. ,  18.7,  32.7,\n",
        "        16.5,  23.9,  31.2,  17.5,  17.2,  23.1,  24.5,  26.6,  22.9,\n",
        "        24.1,  18.6,  30.1,  18.2,  20.6,  17.8,  21.7,  22.7,  22.6,\n",
        "        25. ,  19.9,  20.8,  16.8,  21.9,  27.5,  21.9,  23.1,  50. ,\n",
        "        50. ,  50. ,  50. ,  50. ,  13.8,  13.8,  15. ,  13.9,  13.3,\n",
        "        13.1,  10.2,  10.4,  10.9,  11.3,  12.3,   8.8,   7.2,  10.5,\n",
        "         7.4,  10.2,  11.5,  15.1,  23.2,   9.7,  13.8,  12.7,  13.1,\n",
        "        12.5,   8.5,   5. ,   6.3,   5.6,   7.2,  12.1,   8.3,   8.5,\n",
        "         5. ,  11.9,  27.9,  17.2,  27.5,  15. ,  17.2,  17.9,  16.3,\n",
        "         7. ,   7.2,   7.5,  10.4,   8.8,   8.4,  16.7,  14.2,  20.8,\n",
        "        13.4,  11.7,   8.3,  10.2,  10.9,  11. ,   9.5,  14.5,  14.1,\n",
        "        16.1,  14.3,  11.7,  13.4,   9.6,   8.7,   8.4,  12.8,  10.5,\n",
        "        17.1,  18.4,  15.4,  10.8,  11.8,  14.9,  12.6,  14.1,  13. ,\n",
        "        13.4,  15.2,  16.1,  17.8,  14.9,  14.1,  12.7,  13.5,  14.9,\n",
        "        20. ,  16.4,  17.7,  19.5,  20.2,  21.4,  19.9,  19. ,  19.1,\n",
        "        19.1,  20.1,  19.9,  19.6,  23.2,  29.8,  13.8,  13.3,  16.7,\n",
        "        12. ,  14.6,  21.4,  23. ,  23.7,  25. ,  21.8,  20.6,  21.2,\n",
        "        19.1,  20.6,  15.2,   7. ,   8.1,  13.6,  20.1,  21.8,  24.5,\n",
        "        23.1,  19.7,  18.3,  21.2,  17.5,  16.8,  22.4,  20.6,  23.9,\n",
        "        22. ,  11.9])"
       ]
      }
     ],
     "prompt_number": 50
    },
    {
     "cell_type": "code",
     "collapsed": false,
     "input": [
      "(slope,bias),total_error,_,_ = np.linalg.lstsq(x,y)"
     ],
     "language": "python",
     "metadata": {},
     "outputs": [],
     "prompt_number": 51
    },
    {
     "cell_type": "code",
     "collapsed": false,
     "input": [
      "slope"
     ],
     "language": "python",
     "metadata": {},
     "outputs": [
      {
       "metadata": {},
       "output_type": "pyout",
       "prompt_number": 52,
       "text": [
        "9.1021089811803098"
       ]
      }
     ],
     "prompt_number": 52
    },
    {
     "cell_type": "code",
     "collapsed": false,
     "input": [
      "bias"
     ],
     "language": "python",
     "metadata": {},
     "outputs": [
      {
       "metadata": {},
       "output_type": "pyout",
       "prompt_number": 53,
       "text": [
        "-34.670620776438568"
       ]
      }
     ],
     "prompt_number": 53
    },
    {
     "cell_type": "code",
     "collapsed": false,
     "input": [
      "(slope,bias),total_error,_,_ = np.linalg.lstsq(x,y)"
     ],
     "language": "python",
     "metadata": {},
     "outputs": [],
     "prompt_number": 54
    },
    {
     "cell_type": "code",
     "collapsed": false,
     "input": [
      "total_error"
     ],
     "language": "python",
     "metadata": {},
     "outputs": [
      {
       "metadata": {},
       "output_type": "pyout",
       "prompt_number": 55,
       "text": [
        "array([ 22061.87919621])"
       ]
      }
     ],
     "prompt_number": 55
    },
    {
     "cell_type": "code",
     "collapsed": false,
     "input": [
      "rmse = np.sqrt(total_error[0]/len(x))\n",
      "print('RMSE on training: {}'.format(rmse))"
     ],
     "language": "python",
     "metadata": {},
     "outputs": [
      {
       "output_type": "stream",
       "stream": "stdout",
       "text": [
        "RMSE on training: 6.60307138922\n"
       ]
      }
     ],
     "prompt_number": 56
    },
    {
     "cell_type": "code",
     "collapsed": false,
     "input": [
      "# 7.1.1 \u591a\u6b21\u5143\u56de\u5e30\n",
      "# all features + bias"
     ],
     "language": "python",
     "metadata": {},
     "outputs": [],
     "prompt_number": 41
    },
    {
     "cell_type": "code",
     "collapsed": false,
     "input": [
      "x = boston.data"
     ],
     "language": "python",
     "metadata": {},
     "outputs": [],
     "prompt_number": 25
    },
    {
     "cell_type": "code",
     "collapsed": false,
     "input": [
      "x = np.array([np.concatenate( [ v,[1] ] ) for v in x])"
     ],
     "language": "python",
     "metadata": {},
     "outputs": [],
     "prompt_number": 26
    },
    {
     "cell_type": "code",
     "collapsed": false,
     "input": [
      "x"
     ],
     "language": "python",
     "metadata": {},
     "outputs": [
      {
       "metadata": {},
       "output_type": "pyout",
       "prompt_number": 27,
       "text": [
        "array([[  6.32000000e-03,   1.80000000e+01,   2.31000000e+00, ...,\n",
        "          3.96900000e+02,   4.98000000e+00,   1.00000000e+00],\n",
        "       [  2.73100000e-02,   0.00000000e+00,   7.07000000e+00, ...,\n",
        "          3.96900000e+02,   9.14000000e+00,   1.00000000e+00],\n",
        "       [  2.72900000e-02,   0.00000000e+00,   7.07000000e+00, ...,\n",
        "          3.92830000e+02,   4.03000000e+00,   1.00000000e+00],\n",
        "       ..., \n",
        "       [  6.07600000e-02,   0.00000000e+00,   1.19300000e+01, ...,\n",
        "          3.96900000e+02,   5.64000000e+00,   1.00000000e+00],\n",
        "       [  1.09590000e-01,   0.00000000e+00,   1.19300000e+01, ...,\n",
        "          3.93450000e+02,   6.48000000e+00,   1.00000000e+00],\n",
        "       [  4.74100000e-02,   0.00000000e+00,   1.19300000e+01, ...,\n",
        "          3.96900000e+02,   7.88000000e+00,   1.00000000e+00]])"
       ]
      }
     ],
     "prompt_number": 27
    },
    {
     "cell_type": "code",
     "collapsed": false,
     "input": [
      "y = boston.target"
     ],
     "language": "python",
     "metadata": {},
     "outputs": [],
     "prompt_number": 28
    },
    {
     "cell_type": "code",
     "collapsed": false,
     "input": [
      "s,total_error,_,_ = np.linalg.lstsq(x,y)"
     ],
     "language": "python",
     "metadata": {},
     "outputs": [],
     "prompt_number": 29
    },
    {
     "cell_type": "code",
     "collapsed": false,
     "input": [
      "rmse = np.sqrt(total_error[0]/len(x))\n",
      "print('RMSE on training: {}'.format(rmse))"
     ],
     "language": "python",
     "metadata": {},
     "outputs": [
      {
       "output_type": "stream",
       "stream": "stdout",
       "text": [
        "RMSE on training: 4.67950630064\n"
       ]
      }
     ],
     "prompt_number": 30
    },
    {
     "cell_type": "code",
     "collapsed": false,
     "input": [
      "#\u307e\u3068\u3081\u308b\u3068\n",
      "x = boston.data\n",
      "# np.concatenate\u306f\u4e8c\u3064\u306e\u914d\u5217\u30fb\u30ea\u30b9\u30c8\u3092\u7d50\u5408\u3059\u308b\n",
      "# v\u306f\u8907\u6570\u306e\u8981\u7d20\u3092\u6301\u3064\u914d\u5217\u3066\u3099\u3042\u308b\u305f\u3081\u3001\n",
      "# \u3053\u3053\u3066\u3099\u306fnp.concatenate\u3092\u7528\u3044\u3066\u3001\u30cf\u3099\u30a4\u30a2\u30b9\u9805\u3092\u8ffd\u52a0\n",
      "x = np.array([np.concatenate( [ v,[1] ] ) for v in x]) #\u6559\u79d1\u66f8\u306e\u4f8b\u306f\u30ab\u30c3\u30b3\u304c\u8db3\u308a\u306a\u3044\n",
      "y = boston.target\n",
      "s,total_error,_,_ = np.linalg.lstsq(x,y)\n",
      "rmse = np.sqrt(total_error[0]/len(x))\n",
      "print('RMSE on training: {}'.format(rmse))"
     ],
     "language": "python",
     "metadata": {},
     "outputs": [
      {
       "output_type": "stream",
       "stream": "stdout",
       "text": [
        "RMSE on training: 4.67950630064\n"
       ]
      }
     ],
     "prompt_number": 31
    },
    {
     "cell_type": "code",
     "collapsed": false,
     "input": [
      "#7.1.2 \u56de\u5e30\u306b\u304a\u3051\u308b\u4ea4\u5dee\u691c\u5b9a\n",
      "#scikit-learn \u3092\u7528\u3044\u305f\u4ea4\u5dee\u691c\u5b9a"
     ],
     "language": "python",
     "metadata": {},
     "outputs": [],
     "prompt_number": 32
    },
    {
     "cell_type": "code",
     "collapsed": false,
     "input": [
      "#LinearRegression\n",
      "#sklearn.linear_model.LinearRegression"
     ],
     "language": "python",
     "metadata": {},
     "outputs": [],
     "prompt_number": 33
    },
    {
     "cell_type": "code",
     "collapsed": false,
     "input": [
      "from sklearn.linear_model import LinearRegression\n",
      "lr = LinearRegression(fit_intercept=True)"
     ],
     "language": "python",
     "metadata": {},
     "outputs": [],
     "prompt_number": 34
    },
    {
     "cell_type": "code",
     "collapsed": false,
     "input": [
      "lr.fit(x,y)"
     ],
     "language": "python",
     "metadata": {},
     "outputs": [
      {
       "metadata": {},
       "output_type": "pyout",
       "prompt_number": 35,
       "text": [
        "LinearRegression(copy_X=True, fit_intercept=True, n_jobs=1, normalize=False)"
       ]
      }
     ],
     "prompt_number": 35
    },
    {
     "cell_type": "code",
     "collapsed": false,
     "input": [
      "#\u6559\u79d1\u66f8\u306emap\u3092\u4f7f\u3046\u66f8\u304d\u65b9\u306f\u30df\u30b9\uff1f\u904e\u53bbver?\n",
      "#p = map(en.predict, x) \u3092\u4f7f\u3046\u3068\u3001y\u3068\u6b21\u5143\u304c\u5408\u308f\u306a\u304f\u306a\u308b\n",
      "p = lr.predict(x) "
     ],
     "language": "python",
     "metadata": {},
     "outputs": [],
     "prompt_number": 36
    },
    {
     "cell_type": "code",
     "collapsed": false,
     "input": [
      "p"
     ],
     "language": "python",
     "metadata": {},
     "outputs": [
      {
       "metadata": {},
       "output_type": "pyout",
       "prompt_number": 37,
       "text": [
        "array([ 30.00821269,  25.0298606 ,  30.5702317 ,  28.60814055,\n",
        "        27.94288232,  25.25940048,  23.00433994,  19.5347558 ,\n",
        "        11.51696539,  18.91981483,  18.9958266 ,  21.58970854,\n",
        "        20.90534851,  19.55535931,  19.2837957 ,  19.30000174,\n",
        "        20.52889993,  16.9096749 ,  16.17067411,  18.40781636,\n",
        "        12.52040454,  17.67104565,  15.82934891,  13.80368317,\n",
        "        15.67708138,  13.3791645 ,  15.46258829,  14.69863607,\n",
        "        19.54518512,  20.87309945,  11.44806825,  18.05900412,\n",
        "         8.78841666,  14.27882319,  13.69097132,  23.81755469,\n",
        "        22.34216285,  23.11123204,  22.91494157,  31.35826216,\n",
        "        34.21485385,  28.0207132 ,  25.20646572,  24.61192851,\n",
        "        22.94438953,  22.10150945,  20.42467417,  18.03614022,\n",
        "         9.10176198,  17.20856571,  21.28259372,  23.97621248,\n",
        "        27.65853521,  24.0521088 ,  15.35989132,  31.14817003,\n",
        "        24.85878746,  33.11017111,  21.77458036,  21.08526739,\n",
        "        17.87203538,  18.50881381,  23.9879809 ,  22.54944098,\n",
        "        23.37068403,  30.36557584,  25.53407332,  21.11758504,\n",
        "        17.42468223,  20.7893086 ,  25.20349174,  21.74490595,\n",
        "        24.56275612,  24.04479519,  25.5091157 ,  23.97076758,\n",
        "        22.94823519,  23.36106095,  21.26432549,  22.4345376 ,\n",
        "        28.40699937,  26.99734716,  26.03807246,  25.06152125,\n",
        "        24.7858613 ,  27.79291889,  22.16927073,  25.89685664,\n",
        "        30.67771522,  30.83225886,  27.12127354,  27.41597825,\n",
        "        28.9456478 ,  29.08668003,  27.04501726,  28.62506705,\n",
        "        24.73038218,  35.78062378,  35.11269515,  32.25115468,\n",
        "        24.57946786,  25.59386215,  19.76439137,  20.31157117,\n",
        "        21.4353635 ,  18.53971968,  17.18572611,  20.74934949,\n",
        "        22.64791346,  19.77000977,  20.64745349,  26.52652691,\n",
        "        20.77440554,  20.71546432,  25.17461484,  20.4273652 ,\n",
        "        23.37862521,  23.69454145,  20.33202239,  20.79378139,\n",
        "        21.92024414,  22.47432006,  20.55884635,  16.36300764,\n",
        "        20.56342111,  22.48570454,  14.61264839,  15.1802607 ,\n",
        "        18.93828443,  14.0574955 ,  20.03651959,  19.41306288,\n",
        "        20.06401034,  15.76005772,  13.24771577,  17.26167729,\n",
        "        15.87759672,  19.36145104,  13.81270814,  16.44782934,\n",
        "        13.56511101,   3.98343974,  14.59241207,  12.14503093,\n",
        "         8.72407108,  12.00815659,  15.80308586,   8.50963929,\n",
        "         9.70965512,  14.79848067,  20.83598096,  18.30017013,\n",
        "        20.12575267,  17.27585681,  22.35997992,  20.07985184,\n",
        "        13.59903744,  33.26635221,  29.03938379,  25.56694529,\n",
        "        32.71732164,  36.78111388,  40.56615533,  41.85122271,\n",
        "        24.79875684,  25.3771545 ,  37.20662185,  23.08244608,\n",
        "        26.40326834,  26.65647433,  22.55412919,  24.2970948 ,\n",
        "        22.98024802,  29.07488389,  26.52620066,  30.72351225,\n",
        "        25.61835359,  29.14203283,  31.43690634,  32.9232938 ,\n",
        "        34.72096487,  27.76792733,  33.88992899,  30.99725805,\n",
        "        22.72124288,  24.76567683,  35.88131719,  33.42696242,\n",
        "        32.41513625,  34.51611818,  30.76057666,  30.29169893,\n",
        "        32.92040221,  32.11459912,  31.56133385,  40.84274603,\n",
        "        36.13046343,  32.66639271,  34.70558647,  30.09276228,\n",
        "        30.64139724,  29.29189704,  37.07062623,  42.02879611,\n",
        "        43.18582722,  22.6923888 ,  23.68420569,  17.85435295,\n",
        "        23.49543857,  17.00872418,  22.39535066,  17.06152243,\n",
        "        22.74106824,  25.21974252,  11.10601161,  24.51300617,\n",
        "        26.60749026,  28.35802444,  24.91860458,  29.69254951,\n",
        "        33.18492755,  23.77145523,  32.14086508,  29.74802362,\n",
        "        38.36605632,  39.80716458,  37.58362546,  32.39769704,\n",
        "        35.45048257,  31.23446481,  24.48478321,  33.28615723,\n",
        "        38.04368164,  37.15737267,  31.71297469,  25.26658017,\n",
        "        30.101515  ,  32.71897655,  28.42735376,  28.42999168,\n",
        "        27.2913215 ,  23.74446671,  24.11878941,  27.40241209,\n",
        "        16.32993575,  13.39695213,  20.01655581,  19.86205904,\n",
        "        21.28604604,  24.07796482,  24.20603792,  25.04201534,\n",
        "        24.91709097,  29.93762975,  23.97709054,  21.69931969,\n",
        "        37.51051381,  43.29459357,  36.48121427,  34.99129701,\n",
        "        34.80865729,  37.16296374,  40.9823638 ,  34.44211691,\n",
        "        35.83178068,  28.24913647,  31.22022312,  40.83256202,\n",
        "        39.31768808,  25.71099424,  22.30344878,  27.20551341,\n",
        "        28.51386352,  35.47494122,  36.11110647,  33.80004807,\n",
        "        35.61141951,  34.84311742,  30.35359323,  35.31260262,\n",
        "        38.79684808,  34.33296541,  40.34038636,  44.67339923,\n",
        "        31.5955473 ,  27.35994642,  20.09520596,  27.04518524,\n",
        "        27.21674397,  26.91105226,  33.43602979,  34.40228785,\n",
        "        31.83374181,  25.82416035,  24.43687139,  28.46348891,\n",
        "        27.36916176,  19.54441878,  29.11480679,  31.90852699,\n",
        "        30.77325183,  28.9430835 ,  28.88108106,  32.79876794,\n",
        "        33.20356949,  30.76568546,  35.55843485,  32.70725436,\n",
        "        28.64759861,  23.59388439,  18.5461558 ,  26.88429024,\n",
        "        23.28485442,  25.55002201,  25.48337323,  20.54343769,\n",
        "        17.61406384,  18.37627933,  24.29187594,  21.3257202 ,\n",
        "        24.88826131,  24.87143049,  22.87255605,  19.4540234 ,\n",
        "        25.11948741,  24.66816374,  23.68209656,  19.33951725,\n",
        "        21.17636041,  24.25306588,  21.59311197,  19.98766667,\n",
        "        23.34079584,  22.13973959,  21.55349196,  20.61808868,\n",
        "        20.1607571 ,  19.28455466,  22.16593919,  21.24893735,\n",
        "        21.42985456,  30.32874523,  22.04915396,  27.70610125,\n",
        "        28.54595004,  16.54657063,  14.78278261,  25.27336772,\n",
        "        27.54088054,  22.14633467,  20.46081206,  20.54472332,\n",
        "        16.88194391,  25.40066956,  14.32299547,  16.5927403 ,\n",
        "        19.63224597,  22.7117302 ,  22.19946949,  19.1989151 ,\n",
        "        22.66091019,  18.92059374,  18.22715359,  20.22444386,\n",
        "        37.47946099,  14.29172583,  15.53697148,  10.82825817,\n",
        "        23.81134987,  32.64787163,  34.61163401,  24.94604102,\n",
        "        26.00259724,   6.12085728,   0.78021126,  25.311373  ,\n",
        "        17.73465914,  20.22593282,  15.83834861,  16.83742401,\n",
        "        14.43123608,  18.47647773,  13.42427933,  13.05677824,\n",
        "         3.27646485,   8.05936467,   6.13903114,   5.62271213,\n",
        "         6.44935154,  14.20597451,  17.21022671,  17.29035065,\n",
        "         9.89064351,  20.21972222,  17.94511052,  20.30017588,\n",
        "        19.28790318,  16.33300008,   6.56843662,  10.87541577,\n",
        "        11.88704097,  17.81098929,  18.25461066,  12.99282707,\n",
        "         7.39319053,   8.25609561,   8.07899971,  19.98563715,\n",
        "        13.69651744,  19.83511412,  15.2345378 ,  16.93112419,\n",
        "         1.69347406,  11.81116263,  -4.28300934,   9.55007844,\n",
        "        13.32635521,   6.88351077,   6.16827417,  14.56933235,\n",
        "        19.59292932,  18.1151686 ,  18.52011987,  13.13707457,\n",
        "        14.59662601,   9.8923749 ,  16.31998048,  14.06750301,\n",
        "        14.22573568,  13.00752251,  18.13277547,  18.66645496,\n",
        "        21.50283795,  17.00039379,  15.93926602,  13.32952716,\n",
        "        14.48949211,   8.78366731,   4.8300317 ,  13.06115528,\n",
        "        12.71101472,  17.2887624 ,  18.73424906,  18.05271013,\n",
        "        11.49855612,  13.00841512,  17.66975577,  18.12342294,\n",
        "        17.51503231,  17.21307203,  16.48238543,  19.40079737,\n",
        "        18.57392951,  22.47833186,  15.24179836,  15.78327609,\n",
        "        12.64853778,  12.84121049,  17.17173661,  18.50906858,\n",
        "        19.02803874,  20.16441773,  19.76975335,  22.42614937,\n",
        "        20.31750314,  17.87618837,  14.3391341 ,  16.93715603,\n",
        "        16.98716629,  18.59431701,  20.16395155,  22.97743546,\n",
        "        22.45110639,  25.5707207 ,  16.39091112,  16.09765427,\n",
        "        20.52835689,  11.5429045 ,  19.20387482,  21.86820603,\n",
        "        23.47052203,  27.10034494,  28.57064813,  21.0839881 ,\n",
        "        19.4490529 ,  22.2189221 ,  19.65423066,  21.324671  ,\n",
        "        11.86231364,   8.22260592,   3.65825168,  13.76275951,\n",
        "        15.93780944,  20.62730097,  20.61035443,  16.88048035,\n",
        "        14.01017244,  19.10825534,  21.29720741,  18.45524217,\n",
        "        20.46764235,  23.53261729,  22.37869798,  27.62934247,\n",
        "        26.12983844,  22.34870269])"
       ]
      }
     ],
     "prompt_number": 37
    },
    {
     "cell_type": "code",
     "collapsed": false,
     "input": [
      "e = p-y"
     ],
     "language": "python",
     "metadata": {},
     "outputs": [],
     "prompt_number": 38
    },
    {
     "cell_type": "code",
     "collapsed": false,
     "input": [
      "e"
     ],
     "language": "python",
     "metadata": {},
     "outputs": [
      {
       "metadata": {},
       "output_type": "pyout",
       "prompt_number": 39,
       "text": [
        "array([  6.00821269e+00,   3.42986060e+00,  -4.12976830e+00,\n",
        "        -4.79185945e+00,  -8.25711768e+00,  -3.44059952e+00,\n",
        "         1.04339941e-01,  -7.56524420e+00,  -4.98303461e+00,\n",
        "         1.98148310e-02,   3.99582660e+00,   2.68970854e+00,\n",
        "        -7.94651488e-01,  -8.44640693e-01,   1.08379570e+00,\n",
        "        -5.99998256e-01,  -2.57110007e+00,  -5.90325101e-01,\n",
        "        -4.02932589e+00,   2.07816357e-01,  -1.07959546e+00,\n",
        "        -1.92895435e+00,   6.29348907e-01,  -6.96316828e-01,\n",
        "         7.70813834e-02,  -5.20835501e-01,  -1.13741171e+00,\n",
        "        -1.01363929e-01,   1.14518512e+00,  -1.26900546e-01,\n",
        "        -1.25193175e+00,   3.55900412e+00,  -4.41158334e+00,\n",
        "         1.17882319e+00,   1.90971317e-01,   4.91755469e+00,\n",
        "         2.34216285e+00,   2.11123204e+00,  -1.78505843e+00,\n",
        "         5.58262157e-01,  -6.85146149e-01,   1.42071320e+00,\n",
        "        -9.35342804e-02,  -8.80714949e-02,   1.74438953e+00,\n",
        "         2.80150945e+00,   4.24674174e-01,   1.43614022e+00,\n",
        "        -5.29823802e+00,  -2.19143429e+00,   1.58259372e+00,\n",
        "         3.47621248e+00,   2.65853521e+00,   6.52108797e-01,\n",
        "        -3.54010868e+00,  -4.25182997e+00,   1.58787464e-01,\n",
        "         1.51017111e+00,  -1.52541964e+00,   1.48526739e+00,\n",
        "        -8.27964625e-01,   2.50881381e+00,   1.78798090e+00,\n",
        "        -2.45055902e+00,  -9.62931597e+00,   6.86557584e+00,\n",
        "         6.13407332e+00,  -8.82414962e-01,   2.46822319e-02,\n",
        "        -1.10691396e-01,   1.00349174e+00,   4.49059486e-02,\n",
        "         1.76275612e+00,   6.44795192e-01,   1.40911570e+00,\n",
        "         2.57076758e+00,   2.94823519e+00,   2.56106095e+00,\n",
        "         6.43254889e-02,   2.13453760e+00,   4.06999367e-01,\n",
        "         3.09734716e+00,   1.23807246e+00,   2.16152125e+00,\n",
        "         8.85861304e-01,   1.19291889e+00,  -3.30729274e-01,\n",
        "         3.69685664e+00,   7.07771522e+00,   2.13225886e+00,\n",
        "         4.52127354e+00,   5.41597825e+00,   6.04564780e+00,\n",
        "         4.08668003e+00,   6.44501726e+00,   2.25067052e-01,\n",
        "         3.33038218e+00,  -2.91937622e+00,  -8.68730485e+00,\n",
        "        -9.48845321e-01,  -2.92053214e+00,  -9.06137851e-01,\n",
        "         1.16439137e+00,   1.01157117e+00,   1.33536350e+00,\n",
        "        -9.60280317e-01,  -2.31427389e+00,   3.49349494e-01,\n",
        "         2.84791346e+00,   3.70009771e-01,  -1.05254651e+00,\n",
        "         3.72652691e+00,   1.97440554e+00,   2.01546432e+00,\n",
        "         6.67461484e+00,   2.12736520e+00,   2.17862521e+00,\n",
        "         4.49454145e+00,  -6.79776135e-02,   1.49378139e+00,\n",
        "        -7.97558587e-02,   2.17432006e+00,   5.88463520e-02,\n",
        "        -9.36992356e-01,   1.76342111e+00,   1.08570454e+00,\n",
        "        -1.08735161e+00,  -1.01973930e+00,   9.38284433e-01,\n",
        "        -2.42504502e-01,   8.36519590e-01,  -1.86937120e-01,\n",
        "        -2.93598966e+00,  -2.63994228e+00,  -2.35228423e+00,\n",
        "        -8.38322710e-01,  -1.52240328e+00,   2.26145104e+00,\n",
        "         5.12708138e-01,  -1.35217066e+00,  -4.34888989e-01,\n",
        "        -1.04165603e+01,   1.19241207e+00,  -3.45496907e+00,\n",
        "        -3.07592892e+00,  -1.79184341e+00,   2.03085863e-01,\n",
        "        -6.09036071e+00,  -8.09034488e+00,  -6.01519327e-01,\n",
        "        -6.64019038e-01,  -1.29982987e+00,   4.82575267e+00,\n",
        "        -2.12414319e+00,   5.35997992e+00,   4.47985184e+00,\n",
        "         4.99037441e-01,  -8.03364779e+00,   4.73938379e+00,\n",
        "         2.26694529e+00,   5.71732164e+00,  -1.32188861e+01,\n",
        "        -9.43384467e+00,  -8.14877729e+00,   2.09875684e+00,\n",
        "         3.77154499e-01,  -1.27933781e+01,  -7.17553923e-01,\n",
        "         2.60326834e+00,   4.35647433e+00,   5.15412919e+00,\n",
        "         5.19709480e+00,  -1.19751980e-01,   5.47488389e+00,\n",
        "         3.92620066e+00,   1.32351225e+00,   2.41835359e+00,\n",
        "         4.54203283e+00,   1.53690634e+00,  -4.27670620e+00,\n",
        "        -5.07903513e+00,  -8.43207267e+00,  -4.01007101e+00,\n",
        "        -1.50274195e+00,  -3.67875712e+00,  -4.83432317e+00,\n",
        "        -1.41186828e+01,   1.42696242e+00,   2.61513625e+00,\n",
        "        -3.83881817e-01,  -6.23942334e+00,  -2.08301073e-01,\n",
        "        -3.47959779e+00,   1.01459912e+00,   2.46133385e+00,\n",
        "        -9.15725397e+00,   2.83046343e+00,   2.36639271e+00,\n",
        "         1.05586470e-01,  -4.80723772e+00,  -2.25860276e+00,\n",
        "         5.19189704e+00,  -5.22937377e+00,  -6.47120389e+00,\n",
        "        -6.81417278e+00,   9.23887977e-02,  -7.15794308e-01,\n",
        "        -4.64564705e+00,  -9.04561434e-01,  -2.99127582e+00,\n",
        "         6.95350660e-01,  -2.23847757e+00,   3.41068242e-01,\n",
        "        -2.88025748e+00,  -1.25939884e+01,  -4.86993833e-01,\n",
        "         3.30749026e+00,  -3.41975565e-01,   3.41860458e+00,\n",
        "         6.69254951e+00,   6.48492755e+00,   2.07145523e+00,\n",
        "         4.64086508e+00,  -3.51976378e-01,  -6.43394368e+00,\n",
        "        -1.01928354e+01,  -1.63745433e-02,   7.97697035e-01,\n",
        "        -1.12495174e+01,  -2.65535193e-01,   1.84783212e-01,\n",
        "         1.58615723e+00,  -3.65631836e+00,  -1.11426273e+01,\n",
        "         2.71297469e+00,   1.26658017e+00,   5.00151500e+00,\n",
        "         1.21897655e+00,   4.72735376e+00,   5.12999168e+00,\n",
        "         5.29132150e+00,   3.64446671e+00,   1.91878941e+00,\n",
        "         3.70241209e+00,  -1.27006425e+00,  -5.10304787e+00,\n",
        "        -4.28344419e+00,  -6.37940962e-01,  -3.21395396e+00,\n",
        "        -2.12203518e+00,  -1.93962076e-01,   2.42015338e-01,\n",
        "        -4.68290903e+00,  -1.28623702e+01,   2.07709054e+00,\n",
        "         7.99319690e-01,  -6.48948619e+00,  -6.70540643e+00,\n",
        "         4.81214265e-01,   4.89129701e+00,   1.00865729e+00,\n",
        "        -5.93703626e+00,  -7.81763620e+00,   3.44211691e+00,\n",
        "        -6.68219322e-01,   5.44913647e+00,   5.20223118e-01,\n",
        "        -9.16743798e+00,  -4.18231192e+00,   5.01099424e+00,\n",
        "         1.20344878e+00,   2.00551341e+00,   4.11386352e+00,\n",
        "         2.74941223e-01,   3.71110647e+00,   1.80004807e+00,\n",
        "         2.41141951e+00,   1.74311742e+00,   1.25359323e+00,\n",
        "         2.12602620e-01,  -6.60315192e+00,  -1.06703459e+00,\n",
        "        -5.65961364e+00,  -5.32660077e+00,  -6.04452704e-01,\n",
        "         5.35994642e+00,  -4.79403771e-03,   3.84518524e+00,\n",
        "         4.91674397e+00,   2.11105226e+00,   4.93602979e+00,\n",
        "        -2.89771215e+00,   3.93374181e+00,   1.92416035e+00,\n",
        "         2.73687139e+00,  -1.36511091e-01,   2.69161758e-01,\n",
        "        -7.55581223e-01,   6.61480679e+00,   2.90852699e+00,\n",
        "         5.97325183e+00,   6.94308350e+00,   2.48108106e+00,\n",
        "        -3.01232056e-01,  -2.89643051e+00,   2.36568546e+00,\n",
        "         2.15843485e+00,   4.50725436e+00,   5.84759861e+00,\n",
        "         3.29388439e+00,   2.44615580e+00,   4.78429024e+00,\n",
        "         3.88485442e+00,   3.95002201e+00,   1.68337323e+00,\n",
        "         4.34343769e+00,  -1.85936163e-01,  -1.42372067e+00,\n",
        "         1.19187594e+00,   3.25720195e-01,   1.08826131e+00,\n",
        "         1.77143049e+00,   2.47255605e+00,   9.54023399e-01,\n",
        "         1.19487412e-01,   6.81637420e-02,   6.82096563e-01,\n",
        "        -2.86048275e+00,   1.87636041e+00,   1.65306588e+00,\n",
        "         1.79311197e+00,   2.88766667e+00,   3.94079584e+00,\n",
        "        -6.02604148e-02,   8.53491963e-01,  -4.81911321e-01,\n",
        "         6.60757096e-01,   7.84554664e-01,   1.56593919e+00,\n",
        "         2.24893735e+00,   2.72985456e+00,  -2.37125477e+00,\n",
        "         5.54915396e+00,   3.80610125e+00,  -2.65404996e+00,\n",
        "        -9.53429369e-01,  -2.41721739e+00,   2.17336772e+00,\n",
        "         3.04088054e+00,  -4.45366533e+00,  -2.43918794e+00,\n",
        "        -3.55527668e+00,  -1.71805609e+00,  -4.69933044e+00,\n",
        "        -3.87700453e+00,  -4.00725970e+00,   1.83224597e+00,\n",
        "         1.01173020e+00,  -5.00530508e-01,  -3.40108490e+00,\n",
        "        -2.33908981e+00,  -9.79406257e-01,  -2.57284641e+00,\n",
        "         3.42444386e+00,   1.55794610e+01,  -1.32082742e+01,\n",
        "        -6.36302852e+00,  -1.22717418e+01,  -2.61886501e+01,\n",
        "        -1.73521284e+01,  -1.53883660e+01,  -2.50539590e+01,\n",
        "        -2.39974028e+01,  -7.67914272e+00,  -1.30197887e+01,\n",
        "         1.03113730e+01,   3.83465914e+00,   6.92593282e+00,\n",
        "         2.73834861e+00,   6.63742401e+00,   4.03123608e+00,\n",
        "         7.57647773e+00,   2.12427933e+00,   7.56778235e-01,\n",
        "        -5.52353515e+00,   8.59364673e-01,  -4.36096886e+00,\n",
        "        -1.77728787e+00,  -3.75064846e+00,   2.70597451e+00,\n",
        "         2.11022671e+00,  -5.90964935e+00,   1.90643515e-01,\n",
        "         6.41972222e+00,   5.24511052e+00,   7.20017588e+00,\n",
        "         6.78790318e+00,   7.83300008e+00,   1.56843662e+00,\n",
        "         4.57541577e+00,   6.28704097e+00,   1.06109893e+01,\n",
        "         6.15461066e+00,   4.69282707e+00,  -1.10680947e+00,\n",
        "         3.25609561e+00,  -3.82100029e+00,  -7.91436285e+00,\n",
        "        -3.50348256e+00,  -7.66488588e+00,   2.34537805e-01,\n",
        "        -2.68875810e-01,  -1.62065259e+01,  -4.48883737e+00,\n",
        "        -1.12830093e+01,   2.35007844e+00,   5.82635521e+00,\n",
        "        -3.51648923e+00,  -2.63172583e+00,   6.16933235e+00,\n",
        "         2.89292932e+00,   3.91516860e+00,  -2.27988013e+00,\n",
        "        -2.62925428e-01,   2.89662601e+00,   1.59237490e+00,\n",
        "         6.11998048e+00,   3.16750301e+00,   3.22573568e+00,\n",
        "         3.50752251e+00,   3.63277547e+00,   4.56645496e+00,\n",
        "         5.40283795e+00,   2.70039379e+00,   4.23926602e+00,\n",
        "        -7.04728399e-02,   4.88949211e+00,   8.36673082e-02,\n",
        "        -3.56996830e+00,   2.61155281e-01,   2.21101472e+00,\n",
        "         1.88762404e-01,   3.34249061e-01,   2.65271013e+00,\n",
        "         6.98556119e-01,   1.20841512e+00,   2.76975577e+00,\n",
        "         5.52342294e+00,   3.41503231e+00,   4.21307203e+00,\n",
        "         3.08238543e+00,   4.20079737e+00,   2.47392951e+00,\n",
        "         4.67833186e+00,   3.41798355e-01,   1.68327609e+00,\n",
        "        -5.14622246e-02,  -6.58789511e-01,   2.27173661e+00,\n",
        "        -1.49093142e+00,   2.62803874e+00,   2.46441773e+00,\n",
        "         2.69753352e-01,   2.22614937e+00,  -1.08249686e+00,\n",
        "        -2.02381163e+00,  -4.66086590e+00,  -2.16284397e+00,\n",
        "        -2.11283371e+00,  -1.50568299e+00,   2.63951546e-01,\n",
        "         3.37743546e+00,  -7.48893611e-01,  -4.22927930e+00,\n",
        "         2.59091112e+00,   2.79765427e+00,   3.82835689e+00,\n",
        "        -4.57095495e-01,   4.60387482e+00,   4.68206028e-01,\n",
        "         4.70522032e-01,   3.40034494e+00,   3.57064813e+00,\n",
        "        -7.16011898e-01,  -1.15094710e+00,   1.01892210e+00,\n",
        "         5.54230662e-01,   7.24670996e-01,  -3.33768636e+00,\n",
        "         1.22260592e+00,  -4.44174832e+00,   1.62759507e-01,\n",
        "        -4.16219056e+00,  -1.17269903e+00,  -3.88964557e+00,\n",
        "        -6.21951965e+00,  -5.68982756e+00,   8.08255342e-01,\n",
        "         9.72074095e-02,   9.55242174e-01,   3.66764235e+00,\n",
        "         1.13261729e+00,   1.77869798e+00,   3.72934247e+00,\n",
        "         4.12983844e+00,   1.04487027e+01])"
       ]
      }
     ],
     "prompt_number": 39
    },
    {
     "cell_type": "code",
     "collapsed": false,
     "input": [
      "total_error = np.sum(e*e)"
     ],
     "language": "python",
     "metadata": {},
     "outputs": [],
     "prompt_number": 40
    },
    {
     "cell_type": "code",
     "collapsed": false,
     "input": [
      "total_error"
     ],
     "language": "python",
     "metadata": {},
     "outputs": [
      {
       "metadata": {},
       "output_type": "pyout",
       "prompt_number": 41,
       "text": [
        "11080.276284149875"
       ]
      }
     ],
     "prompt_number": 41
    },
    {
     "cell_type": "code",
     "collapsed": false,
     "input": [
      "rmse_train = np.sqrt(total_error/len(p))"
     ],
     "language": "python",
     "metadata": {},
     "outputs": [],
     "prompt_number": 42
    },
    {
     "cell_type": "code",
     "collapsed": false,
     "input": [
      "print('RMSE on training: {}'.format(rmse_train))"
     ],
     "language": "python",
     "metadata": {},
     "outputs": [
      {
       "output_type": "stream",
       "stream": "stdout",
       "text": [
        "RMSE on training: 4.67950630064\n"
       ]
      }
     ],
     "prompt_number": 43
    },
    {
     "cell_type": "code",
     "collapsed": false,
     "input": [
      "#\u307e\u3068\u3081\u308b\u3068\n",
      "lr.fit(x,y)\n",
      "p = lr.predict(x)\n",
      "e = p-y\n",
      "total_error = np.sum(e*e) \n",
      "rmse_train = np.sqrt(total_error/len(p))\n",
      "print('RMSE on training: {}'.format(rmse_train))"
     ],
     "language": "python",
     "metadata": {},
     "outputs": [
      {
       "output_type": "stream",
       "stream": "stdout",
       "text": [
        "RMSE on training: 4.67950630064\n"
       ]
      }
     ],
     "prompt_number": 44
    },
    {
     "cell_type": "code",
     "collapsed": false,
     "input": [
      " #10 - fold cross validation"
     ],
     "language": "python",
     "metadata": {},
     "outputs": [],
     "prompt_number": 130
    },
    {
     "cell_type": "code",
     "collapsed": false,
     "input": [
      "from sklearn.cross_validation import KFold\n",
      "kf = KFold(len(x), n_folds=10)\n",
      "kf"
     ],
     "language": "python",
     "metadata": {},
     "outputs": [
      {
       "metadata": {},
       "output_type": "pyout",
       "prompt_number": 45,
       "text": [
        "sklearn.cross_validation.KFold(n=506, n_folds=10, shuffle=False, random_state=None)"
       ]
      }
     ],
     "prompt_number": 45
    },
    {
     "cell_type": "code",
     "collapsed": false,
     "input": [
      "err = 0\n",
      "for train, test in kf:\n",
      "    lr.fit(x[train],y[train])\n",
      "    p = lr.predict(x[test])\n",
      "    e = p-y[test]\n",
      "    err += np.sum(e*e)\n",
      "rmse_10cv = np.sqrt(err/len(x))\n",
      "print('RMSE on 10-fold CV: {}'.format(rmse_10cv))"
     ],
     "language": "python",
     "metadata": {},
     "outputs": [
      {
       "output_type": "stream",
       "stream": "stdout",
       "text": [
        "RMSE on 10-fold CV: 5.88192507243\n"
       ]
      }
     ],
     "prompt_number": 46
    },
    {
     "cell_type": "code",
     "collapsed": false,
     "input": [
      "#7.2.2 Lasso, ElasticNet"
     ],
     "language": "python",
     "metadata": {},
     "outputs": [],
     "prompt_number": 47
    },
    {
     "cell_type": "code",
     "collapsed": false,
     "input": [
      "#ElasticNet\n",
      "#class sklearn.linear_model.ElasticNet(alpha=1.0, l1_ratio=0.5, fit_intercept=True, normalize=False, precompute=False, max_iter=1000, copy_X=True, tol=0.0001, warm_start=False, positive=False, random_state=None, selection='cyclic')[source]\u00b6\n",
      "#1 / (2 * n_samples) * ||y - Xw||^2_2 +\n",
      "# + alpha * l1_ratio * ||w||_1\n",
      "# + 0.5 * alpha * (1 - l1_ratio) * ||w||^2_2\n",
      "from sklearn.linear_model import ElasticNet\n",
      "en = ElasticNet(fit_intercept=True, alpha=0.5)"
     ],
     "language": "python",
     "metadata": {},
     "outputs": [],
     "prompt_number": 48
    },
    {
     "cell_type": "code",
     "collapsed": false,
     "input": [
      "#\u8a13\u7df4\u8aa4\u5dee\n",
      "en.fit(x,y)\n",
      "p = en.predict(x)\n",
      "e = p-y\n",
      "total_error = np.sum(e*e)\n",
      "rmse_train = np.sqrt(total_error/len(p))\n",
      "print('RMSE on training: {}'.format(rmse_train))"
     ],
     "language": "python",
     "metadata": {},
     "outputs": [
      {
       "output_type": "stream",
       "stream": "stdout",
       "text": [
        "RMSE on training: 4.98547427243\n"
       ]
      }
     ],
     "prompt_number": 49
    },
    {
     "cell_type": "code",
     "collapsed": false,
     "input": [
      "#\u4ea4\u5dee\u691c\u5b9a\n",
      "err = 0\n",
      "for train, test in kf:\n",
      "    en.fit(x[train],y[train]) \n",
      "    p = en.predict( x[test])\n",
      "    e = p-y[test]\n",
      "    err += np.sum(e*e)\n",
      "rmse_10cv = np.sqrt(err/len(x))\n",
      "print('RMSE on 10-fold CV: {}'.format(rmse_10cv))"
     ],
     "language": "python",
     "metadata": {},
     "outputs": [
      {
       "output_type": "stream",
       "stream": "stdout",
       "text": [
        "RMSE on 10-fold CV: 5.47790646659\n"
       ]
      }
     ],
     "prompt_number": 50
    },
    {
     "cell_type": "code",
     "collapsed": false,
     "input": [
      "#7.3.1 \u30c6\u30ad\u30b9\u30c8\u306b\u57fa\u3065\u3044\u305f\u30b5\u30f3\u30d7\u30eb\u30c7\u30fc\u30bf\n",
      "#\u30c7\u30fc\u30bf 180MB\n",
      "#cd data\n",
      "#curl -O http://www.csie.ntu.edu.tw/~cjlin/libsvmtools/datasets/regression/E2006.train.bz2\n",
      "#bunzip2 E2006.train.bz2"
     ],
     "language": "python",
     "metadata": {},
     "outputs": [],
     "prompt_number": 323
    },
    {
     "cell_type": "code",
     "collapsed": false,
     "input": [
      "#\u30c7\u30fc\u30bf\u306e\u8aad\u307f\u8fbc\u307f\n",
      "#http://localhost:8888/notebooks/ML/Machine_Learning_Python_chap7/ML_chap7.ipynb\n",
      "from sklearn.datasets import load_svmlight_file\n",
      "data,target = load_svmlight_file('data/E2006.train')"
     ],
     "language": "python",
     "metadata": {},
     "outputs": [],
     "prompt_number": 51
    },
    {
     "cell_type": "code",
     "collapsed": false,
     "input": [
      "#target\u306e\u8981\u7d20\u78ba\u8a8d\n",
      "print('Min target value: {}'.format(target.min()))\n",
      "print('Max target value: {}'.format(target.max()))\n",
      "print('Mean target value: {}'.format(target.mean()))\n",
      "print('Std. dev. target: {}'.format(target.std()))"
     ],
     "language": "python",
     "metadata": {},
     "outputs": [
      {
       "output_type": "stream",
       "stream": "stdout",
       "text": [
        "Min target value: -7.89957807347\n",
        "Max target value: -0.51940952694\n",
        "Mean target value: -3.51405313669\n",
        "Std. dev. target: 0.632278353911\n"
       ]
      }
     ],
     "prompt_number": 52
    },
    {
     "cell_type": "code",
     "collapsed": false,
     "input": [
      "#\u6700\u5c0f\u4e8c\u4e57\u6cd5\n",
      "import numpy as np\n",
      "from sklearn.linear_model import LinearRegression\n",
      "lr = LinearRegression()\n",
      "#\u8a13\u7df4\u8aa4\u5dee\n",
      "lr.fit(data,target)\n",
      "p = np.array(lr.predict(data)) #map\u4f7f\u308f\u306a\u3051\u308c\u3070ravel\u3082\u5fc5\u8981\u306a\u3044\n",
      "e = p-target\n",
      "total_sq_error = np.sum(e*e)\n",
      "rmse_train = np.sqrt(total_sq_error/len(p))\n",
      "print('RMSE on training: {}'.format(rmse_train))"
     ],
     "language": "python",
     "metadata": {},
     "outputs": [
      {
       "output_type": "stream",
       "stream": "stdout",
       "text": [
        "RMSE on training: 0.00237866684485\n"
       ]
      }
     ],
     "prompt_number": 53
    },
    {
     "cell_type": "code",
     "collapsed": false,
     "input": [
      "#\u5225\u306e\u8aa4\u5dee\u306e\u51fa\u529b\u6cd5 (\u3053\u3063\u3061\u306e\u65b9\u304c\u697d)\n",
      "import numpy as np\n",
      "from sklearn.metrics import mean_squared_error #\u4e00\u767a\u3067\u5e73\u5747\u4e8c\u4e57\u8aa4\u5dee\n",
      "from sklearn.linear_model import LinearRegression\n",
      "#\u8a13\u7df4\u8aa4\u5dee\n",
      "lr = LinearRegression()\n",
      "lr.fit(data, target)\n",
      "pred = lr.predict(data)\n",
      "print('RMSE on training, {:.2}'.format(np.sqrt(mean_squared_error(target, pred))))"
     ],
     "language": "python",
     "metadata": {},
     "outputs": [
      {
       "output_type": "stream",
       "stream": "stdout",
       "text": [
        "RMSE on training, 0.0024\n"
       ]
      }
     ],
     "prompt_number": 5
    },
    {
     "cell_type": "code",
     "collapsed": false,
     "input": [
      "#\u4ea4\u5dee\u691c\u5b9a\n",
      "from sklearn.cross_validation import KFold\n",
      "from sklearn.linear_model import LinearRegression\n",
      "lr = LinearRegression()\n",
      "pred = np.zeros_like(target)\n",
      "kf = KFold(len(target), n_folds=5)\n",
      "for train, test in kf:\n",
      "    lr.fit(data[train], target[train])\n",
      "    pred[test] = lr.predict(data[test])\n",
      "\n",
      "print('RMSE on testing (5 fold), {:.2}'.format(np.sqrt(mean_squared_error(target, pred))))"
     ],
     "language": "python",
     "metadata": {},
     "outputs": [
      {
       "ename": "NameError",
       "evalue": "name 'LinearRegression' is not defined",
       "output_type": "pyerr",
       "traceback": [
        "\u001b[0;31m---------------------------------------------------------------------------\u001b[0m\n\u001b[0;31mNameError\u001b[0m                                 Traceback (most recent call last)",
        "\u001b[0;32m<ipython-input-1-9abcb70fe855>\u001b[0m in \u001b[0;36m<module>\u001b[0;34m()\u001b[0m\n\u001b[1;32m      1\u001b[0m \u001b[0;31m#\u4ea4\u5dee\u691c\u5b9a\u001b[0m\u001b[0;34m\u001b[0m\u001b[0;34m\u001b[0m\u001b[0m\n\u001b[1;32m      2\u001b[0m \u001b[0;32mfrom\u001b[0m \u001b[0msklearn\u001b[0m\u001b[0;34m.\u001b[0m\u001b[0mcross_validation\u001b[0m \u001b[0;32mimport\u001b[0m \u001b[0mKFold\u001b[0m\u001b[0;34m\u001b[0m\u001b[0m\n\u001b[0;32m----> 3\u001b[0;31m \u001b[0mlr\u001b[0m \u001b[0;34m=\u001b[0m \u001b[0mLinearRegression\u001b[0m\u001b[0;34m(\u001b[0m\u001b[0;34m)\u001b[0m\u001b[0;34m\u001b[0m\u001b[0m\n\u001b[0m\u001b[1;32m      4\u001b[0m \u001b[0mpred\u001b[0m \u001b[0;34m=\u001b[0m \u001b[0mnp\u001b[0m\u001b[0;34m.\u001b[0m\u001b[0mzeros_like\u001b[0m\u001b[0;34m(\u001b[0m\u001b[0mtarget\u001b[0m\u001b[0;34m)\u001b[0m\u001b[0;34m\u001b[0m\u001b[0m\n\u001b[1;32m      5\u001b[0m \u001b[0mkf\u001b[0m \u001b[0;34m=\u001b[0m \u001b[0mKFold\u001b[0m\u001b[0;34m(\u001b[0m\u001b[0mlen\u001b[0m\u001b[0;34m(\u001b[0m\u001b[0mtarget\u001b[0m\u001b[0;34m)\u001b[0m\u001b[0;34m,\u001b[0m \u001b[0mn_folds\u001b[0m\u001b[0;34m=\u001b[0m\u001b[0;36m5\u001b[0m\u001b[0;34m)\u001b[0m\u001b[0;34m\u001b[0m\u001b[0m\n",
        "\u001b[0;31mNameError\u001b[0m: name 'LinearRegression' is not defined"
       ]
      }
     ],
     "prompt_number": 1
    },
    {
     "cell_type": "code",
     "collapsed": false,
     "input": [
      "#elastic net\n",
      "#\u4ea4\u5dee\u691c\u5b9a\n",
      "\n",
      "from sklearn.linear_model import ElasticNet\n",
      "met = ElasticNet(alpha=0.1)\n",
      "\n",
      "kf = KFold(len(target), n_folds=5)\n",
      "pred = np.zeros_like(target)\n",
      "for train, test in kf:\n",
      "    met.fit(data[train], target[train])\n",
      "    pred[test] = met.predict(data[test])\n",
      "    \n",
      "print('[EN 0.1] RMSE on testing (5 fold), {:.2}'.format(np.sqrt(mean_squared_error(target, pred))))"
     ],
     "language": "python",
     "metadata": {},
     "outputs": [
      {
       "output_type": "stream",
       "stream": "stdout",
       "text": [
        "[EN 0.1] RMSE on testing (5 fold), 0.4\n"
       ]
      }
     ],
     "prompt_number": 393
    },
    {
     "cell_type": "code",
     "collapsed": false,
     "input": [
      "#\u4e8c\u6bb5\u968e\u306e\u4ea4\u5dee\u691c\u5b9a\n",
      "#ElasticNetCV\n",
      "#\u6642\u9593\u304b\u304b\u308b\n",
      "from sklearn.cross_validation import KFold\n",
      "from sklearn.linear_model import ElasticNetCV\n",
      "met = ElasticNetCV(n_jobs=-1)\n",
      "\n",
      "kf = KFold(len(target), n_folds=5)\n",
      "pred = np.zeros_like(target)\n",
      "for train, test in kf:\n",
      "    met.fit(data[train], target[train])\n",
      "    pred[test] = met.predict(data[test])\n",
      "\n",
      "print('[EN CV] RMSE on testing (5 fold), {:.2}'.format(np.sqrt(mean_squared_error(target, pred))))"
     ],
     "language": "python",
     "metadata": {},
     "outputs": [
      {
       "output_type": "stream",
       "stream": "stdout",
       "text": [
        "[EN CV] RMSE on testing (5 fold), 0.37\n"
       ]
      }
     ],
     "prompt_number": 7
    },
    {
     "cell_type": "code",
     "collapsed": false,
     "input": [
      "#7.3.3 \u30ec\u30fc\u30c6\u30a3\u30f3\u30af\u3099\u4e88\u6e2c\u3068\u30ec\u30b3\u30e1\u30f3\u30c8\u3099\n",
      "\n",
      "#\u6620\u753b\u306e\u30ec\u30d3\u30e5\u30fc\u30c7\u30fc\u30bf\u30bb\u30c3\u30c8 : https://github.com/wrichert/BuildingMachineLearningSystemsWithPython/blob/master/ch07/data/download.sh\n",
      "#wget http://www.grouplens.org/system/files/ml-100k.zip\n",
      "#unzip ml-100k.zip\n",
      "\n",
      "#\u53c2\u8003 : https://github.com/wrichert/BuildingMachineLearningSystemsWithPython/blob/master/ch07/usermodel.py"
     ],
     "language": "python",
     "metadata": {},
     "outputs": [],
     "prompt_number": 1
    },
    {
     "cell_type": "code",
     "collapsed": false,
     "input": [
      "import numpy as np\n",
      "from scipy import sparse \n",
      "from sklearn.cross_validation import KFold"
     ],
     "language": "python",
     "metadata": {},
     "outputs": [],
     "prompt_number": 1
    },
    {
     "cell_type": "code",
     "collapsed": false,
     "input": [
      "#\u56de\u5e30\u30e2\u30c7\u30eb  LassoCV\n",
      "from sklearn.linear_model import LassoCV\n",
      "#\u30b3\u30f3\u30b9\u30c8\u30e9\u30af\u30bf\u306b\u304a\u3044\u3066\u3001alpha \u306e\u5019\u88dc\u3092\u6307\u5b9a\u3059\u308b\u3053\u3068\u3066\u3099\u3001\u4ea4\u5dee\u691c\u5b9a\u3066\u3099\u7528\u3044\u308b\u5024\u3092\u5236\u9650\n",
      "#\u3053\u3053\u3066\u3099\u5019\u88dc\u3068\u3057\u305f alpha \u306e\u5024\u306f\u30011/8 \u304b\u3089\u9806\u306b 2 \u500d\u3059\u3099\u3064\u3057\u305f\u5024 \u3066\u3099\u3001\u4e0a\u9650\u3092 4\n",
      "reg = LassoCV(fit_intercept=True, alphas=[.125,.25,.5,1.,2.,4.])"
     ],
     "language": "python",
     "metadata": {},
     "outputs": [],
     "prompt_number": 2
    },
    {
     "cell_type": "code",
     "collapsed": false,
     "input": [
      "# ml-100k/u.data\n",
      "# \u30e6\u30fc\u30b6\u306e\u30d5\u30eb\u30c7\u30fc\u30bf\u30bb\u30c3\u30c8\n",
      "# \u30e6\u30fc\u30b6\u6570\uff1a943\u3001\u6620\u753b\u6570\uff1a1682\u3000\u306b\u5bfe\u3057\u3066 100000 \u30ec\u30d3\u30e5\u30fc\u3000\n",
      "# \u5404\u30e6\u30fc\u30b6\u306f\u6700\u4f4e 20 \u306e\u6620\u753b\u3092\u30ec\u30d3\u30e5\u30fc\n",
      "#  \u30e6\u30fc\u30b6\u3068\u6620\u753b\u306f 1 \u304b\u3089id\u4ed8\u3055\u308c\u308b \n",
      "# \u30c7\u30fc\u30bf\u306f\u30e9\u30f3\u30c0\u30e0\u4e26\u3073\n",
      "#  TAB\u533a\u5207\u308a\u3067\u3001 [user id, item id, rating, timestamp  ]"
     ],
     "language": "python",
     "metadata": {},
     "outputs": [],
     "prompt_number": 3
    },
    {
     "cell_type": "code",
     "collapsed": false,
     "input": [
      "#\u30c7\u30fc\u30bf\u306e\u8aad\u307f\u8fbc\u307f\n",
      "#timestamp\u4ee5\u5916\u3092TAB\u533a\u5207\u308a\u3067\u5404\u30e9\u30a4\u30f3\u6bce\u306b\u30ea\u30b9\u30c8\u306b\u683c\u7d0d\n",
      "data = np.array([[int(tok) for tok in line.split('\\t')[:3]] for line in open('data/ml-100k/u.data')])\n",
      "ij = data[:, :2] #user id, item id \u306e\u7d44\u3092\u62bd\u51fa\n",
      "ij -= 1  # original data is in 1-based system \u306a\u306e\u3067\u3001\u5168\u3066\u306e\u8981\u7d20\u304b\u30891\u5f15\u304f\n",
      "values = data[:, 2]\n",
      "# reviews \u306b\u5404\u30e6\u30fc\u30b6\u306e\u30ec\u30d3\u30e5\u30fc\u304c\u683c\u7d0d\u3055\u308c\u308b\n",
      "reviews = sparse.csc_matrix((values, ij.T)).astype(float)"
     ],
     "language": "python",
     "metadata": {},
     "outputs": [],
     "prompt_number": 5
    },
    {
     "cell_type": "code",
     "collapsed": false,
     "input": [
      "data"
     ],
     "language": "python",
     "metadata": {},
     "outputs": [
      {
       "metadata": {},
       "output_type": "pyout",
       "prompt_number": 7,
       "text": [
        "array([[ 195,  241,    3],\n",
        "       [ 185,  301,    3],\n",
        "       [  21,  376,    1],\n",
        "       ..., \n",
        "       [ 275, 1089,    1],\n",
        "       [  12,  224,    2],\n",
        "       [  11,  202,    3]])"
       ]
      }
     ],
     "prompt_number": 7
    },
    {
     "cell_type": "code",
     "collapsed": false,
     "input": [
      "ij"
     ],
     "language": "python",
     "metadata": {},
     "outputs": [
      {
       "metadata": {},
       "output_type": "pyout",
       "prompt_number": 8,
       "text": [
        "array([[ 195,  241],\n",
        "       [ 185,  301],\n",
        "       [  21,  376],\n",
        "       ..., \n",
        "       [ 275, 1089],\n",
        "       [  12,  224],\n",
        "       [  11,  202]])"
       ]
      }
     ],
     "prompt_number": 8
    },
    {
     "cell_type": "code",
     "collapsed": false,
     "input": [
      "values"
     ],
     "language": "python",
     "metadata": {},
     "outputs": [
      {
       "metadata": {},
       "output_type": "pyout",
       "prompt_number": 9,
       "text": [
        "array([3, 3, 1, ..., 1, 2, 3])"
       ]
      }
     ],
     "prompt_number": 9
    },
    {
     "cell_type": "code",
     "collapsed": false,
     "input": [
      "ij.T  #\u8ee2\u7f6e"
     ],
     "language": "python",
     "metadata": {},
     "outputs": [
      {
       "metadata": {},
       "output_type": "pyout",
       "prompt_number": 10,
       "text": [
        "array([[ 195,  185,   21, ...,  275,   12,   11],\n",
        "       [ 241,  301,  376, ..., 1089,  224,  202]])"
       ]
      }
     ],
     "prompt_number": 10
    },
    {
     "cell_type": "code",
     "collapsed": false,
     "input": [
      "#\u5404user id, item id \u306e\u5168\u3066\u306e\u7d44\u306b\u5bfe\u3057\u3066\u306e rating \u304c\u4e8c\u6b21\u5143\u914d\u5217\u3067\u683c\u7d0d, \u30b9\u30d1\u30fc\u30b9\u884c\u5217\n",
      "reviews[195,241] "
     ],
     "language": "python",
     "metadata": {},
     "outputs": [
      {
       "metadata": {},
       "output_type": "pyout",
       "prompt_number": 11,
       "text": [
        "3.0"
       ]
      }
     ],
     "prompt_number": 11
    },
    {
     "cell_type": "code",
     "collapsed": false,
     "input": [
      "#\u6620\u753b\u3054\u3068\u306b\u6b63\u898f\u5316\u3092\u884c\u3046\u95a2\u6570\n",
      "#\u512a\u308c\u305f\u6620\u753b\u306f\u3044\u304f\u3064\u304b\u5b58\u5728\u3057\u3066\u304a\u308a\u3001\u305d\u306e\u3088\u3046\u306a\u6620\u753b\u306e\u8a55\u4fa1\u306b\u3064\u3044\u3066\u306f\u5e73\u5747\u5024\u304c\u9ad8\u304f\u306a\u308b\n",
      "def movie_norm(xc):\n",
      "    xc = xc.copy().toarray()\n",
      "    #\u5024\u304c0\u306e\u8981\u7d20\u3092\u9664\u3044\u3066\u3001\u8a55\u4fa1\u3055\u308c\u305f\u8981\u7d20\u306e\u307f\u306e\u5e73\u5747\u3092\u6c42\u3081\u305f\u3044\u3002xc.mean(1)\u306f\u4f7f\u3048\u306a\u3044\n",
      "    x1 = np.array([xi[xi > 0].mean() for xi in xc])\n",
      "    #\u6620\u753b\u306b\u3072\u3068\u3064\u3082\u8a55\u4fa1\u304b\u3099\u4ed8\u3051\u3089\u308c\u3066\u306a\u304f\u3066\u8a08\u7b97\u7d50\u679c\u304b\u3099 NAN\u306e\u5834\u5408\u3001 0 \u306b\u7f6e\u304d\u63db\u3048\n",
      "    x1 = np.nan_to_num(x1)\n",
      "    #0 \u4ee5\u5916\u306e\u8981\u7d20\u3092\u5bfe\u8c61\u306b\u3057\u3066\u3001\u6620\u753b\u306b\u5bfe\u3059\u308b\u8a55\u4fa1\u306e\u5e73\u5747\u5024\u3092\u5f15\u304f\u3053\u3068\u3066\u3099\u3001\u6b63\u898f\u5316\n",
      "    for i in range(xc.shape[0]):\n",
      "        xc[i] -= (xc[i] > 0) * x1[i]\n",
      "    #\u6b63\u898f\u5316\u3057\u305f\u914d\u5217 , \u5e73\u5747\u5024\u3092\u8fd4\u3059\n",
      "    return xc, x1"
     ],
     "language": "python",
     "metadata": {},
     "outputs": [],
     "prompt_number": 12
    },
    {
     "cell_type": "code",
     "collapsed": false,
     "input": [
      "#\u30a4\u30f3\u30c6\u3099\u30c3\u30af\u30b9\u304b\u3099 i \u756a\u76ee\u306e\u30e6\u30fc\u30b5\u3099\u306b\u5bfe\u3057\u3066\u3001\u30e2\u30c6\u3099\u30eb\u3092\u5b66\u7fd2\u3059\u308b\u95a2\u6570\n",
      "#\u5bfe\u8c61\u3068\u3059\u308b\u30e6\u30fc\u30b5\u3099\u3092 u \u3068\u3057\u305f\u5834\u5408\u3001\u305d\u306e\u30e6\u30fc\u30b5\u3099\u306e\u305f\u3081\u306e\u6620\u753b\u306e\u8a55\u4fa1\u65b9\u6cd5\u3092\u30e2\u30c6\u3099\u30eb\u5316 \n",
      "def learn_for(i):\n",
      "    u = reviews[i]\n",
      "    #u.toarray()\u3066\u3099\u30b9\u30cf\u309a\u30fc\u30b9\u884c\u5217\u3092\u901a\u5e38\u306e\u914d\u5217\u306b\u5909\u63db\n",
      "    #ravel()\u3092\u7528\u3044\u3066\u4e8c\u6b21\u5143\u914d\u5217(\u3053\u3053\u3066\u3099\u306f\u3001\u6700\u521d\u306e\u6b21\u5143\u306e\u6570\u304b\u3099 1 \u306e\u914d\u5217)\u3092\u4e00\u6b21\u5143\u914d\u5217\u306b\u4e26\u3072\u3099\u66ff\u3048\n",
      "    u = u.toarray().ravel() \n",
      "    # user id : i  \u3092\u9664\u3044\u305fuser id \u306e\u914d\u5217\u3092\u4f5c\u6210\n",
      "    us = np.delete(np.arange(reviews.shape[0]), i)\n",
      "    #ps \u306b\u8a55\u4fa1\u304c\u884c\u308f\u308c\u305f item id \u304c\u683c\u7d0d\u3055\u308c\u308b\n",
      "    ps, = np.where(u > 0)\n",
      "    #userid : i \u304c\u8a55\u4fa1\u3057\u305fitem \u306e\u4ed6\u306e\u30e6\u30fc\u30b6\u306e\u8a55\u4fa1\n",
      "    x = reviews[us][:, ps].T\n",
      "    #userid : i \u304c\u8a55\u4fa1\u3057\u305fitem \u306e\u8a55\u4fa1\u5024\n",
      "    y = u.data\n",
      "    err = 0\n",
      "    eb = 0\n",
      "    #\u4ea4\u5dee\u691c\u5b9a\u3001\u30e6\u30fc\u30b5\u3099\u306e\u6570\u304b\u3099\u591a\u3044\u305f\u3081\u30014 \u5206\u5272\n",
      "    kf = KFold(len(y), n_folds=4)\n",
      "    for train, test in kf:\n",
      "        # \u5404\u6620\u753b\u3054\u3068\u306b\u6b63\u898f\u5316\n",
      "        xc, x1 = movie_norm(x[train])\n",
      "        reg.fit(xc, y[train] - x1)\n",
      "        # \u30c6\u30b9\u30c8\u306e\u3068\u304d\u3082\u540c\u69d8\u306b\u6b63\u898f\u5316\n",
      "        xc, x1 = movie_norm(x[test])\n",
      "        p = np.array([reg.predict(xi) for xi in xc]).ravel()\n",
      "        e = (p + x1) - y[test]\n",
      "        err += np.sum(e * e)\n",
      "        eb += np.sum((y[train].mean() - y[test]) ** 2)\n",
      "    return np.sqrt(err / float(len(y))), np.sqrt(eb / float(len(y)))"
     ],
     "language": "python",
     "metadata": {},
     "outputs": [],
     "prompt_number": 13
    },
    {
     "cell_type": "code",
     "collapsed": false,
     "input": [
      "# example user id : i = 3 \n",
      "i = 3 \n",
      "u = reviews[i] #\u4e8c\u6b21\u5143\u914d\u5217 \n",
      "print u  #\u30d7\u30ea\u30f3\u30c8\u3055\u308c\u308b\u306e\u306f value\u304c 0 \u4ee5\u5916\u306e\u3068\u3053\u308d(\u30b9\u30d1\u30fc\u30b9\u884c\u5217\u306e\u305f\u3081)"
     ],
     "language": "python",
     "metadata": {},
     "outputs": [
      {
       "output_type": "stream",
       "stream": "stdout",
       "text": [
        "  (0, 10)\t4.0\n",
        "  (0, 49)\t5.0\n",
        "  (0, 209)\t3.0\n",
        "  (0, 257)\t5.0\n",
        "  (0, 259)\t4.0\n",
        "  (0, 263)\t3.0\n",
        "  (0, 270)\t4.0\n",
        "  (0, 287)\t4.0\n",
        "  (0, 293)\t5.0\n",
        "  (0, 299)\t5.0\n",
        "  (0, 300)\t5.0\n",
        "  (0, 302)\t5.0\n",
        "  (0, 323)\t5.0\n",
        "  (0, 326)\t5.0\n",
        "  (0, 327)\t3.0\n",
        "  (0, 328)\t5.0\n",
        "  (0, 353)\t5.0\n",
        "  (0, 355)\t3.0\n",
        "  (0, 356)\t4.0\n",
        "  (0, 357)\t2.0\n",
        "  (0, 358)\t5.0\n",
        "  (0, 359)\t5.0\n",
        "  (0, 360)\t5.0\n",
        "  (0, 361)\t5.0\n"
       ]
      }
     ],
     "prompt_number": 47
    },
    {
     "cell_type": "code",
     "collapsed": false,
     "input": [
      "u = u.toarray().ravel() #0 \u3082\u542b\u3081\u3066\u4e00\u6b21\u5143\u306b\u3059\u308b\n",
      "print u"
     ],
     "language": "python",
     "metadata": {},
     "outputs": [
      {
       "output_type": "stream",
       "stream": "stdout",
       "text": [
        "[ 0.  0.  0. ...,  0.  0.  0.]\n"
       ]
      }
     ],
     "prompt_number": 48
    },
    {
     "cell_type": "code",
     "collapsed": false,
     "input": [
      "print reviews.shape[0] #user id \u6570\n",
      "print reviews.shape[1] #item id \u6570"
     ],
     "language": "python",
     "metadata": {},
     "outputs": [
      {
       "output_type": "stream",
       "stream": "stdout",
       "text": [
        "943\n",
        "1682\n"
       ]
      }
     ],
     "prompt_number": 49
    },
    {
     "cell_type": "code",
     "collapsed": false,
     "input": [
      "# user id : i  \u3092\u9664\u3044\u305fuser id \u306e\u914d\u5217\u3092\u4f5c\u6210\n",
      "#http://docs.scipy.org/doc/numpy/reference/generated/numpy.arange.html\n",
      "# >>> np.arange(3)\n",
      "# array([0, 1, 2])\n",
      "us = np.delete(np.arange(reviews.shape[0]), i)\n",
      "us"
     ],
     "language": "python",
     "metadata": {},
     "outputs": [
      {
       "metadata": {},
       "output_type": "pyout",
       "prompt_number": 50,
       "text": [
        "array([  0,   1,   2,   4,   5,   6,   7,   8,   9,  10,  11,  12,  13,\n",
        "        14,  15,  16,  17,  18,  19,  20,  21,  22,  23,  24,  25,  26,\n",
        "        27,  28,  29,  30,  31,  32,  33,  34,  35,  36,  37,  38,  39,\n",
        "        40,  41,  42,  43,  44,  45,  46,  47,  48,  49,  50,  51,  52,\n",
        "        53,  54,  55,  56,  57,  58,  59,  60,  61,  62,  63,  64,  65,\n",
        "        66,  67,  68,  69,  70,  71,  72,  73,  74,  75,  76,  77,  78,\n",
        "        79,  80,  81,  82,  83,  84,  85,  86,  87,  88,  89,  90,  91,\n",
        "        92,  93,  94,  95,  96,  97,  98,  99, 100, 101, 102, 103, 104,\n",
        "       105, 106, 107, 108, 109, 110, 111, 112, 113, 114, 115, 116, 117,\n",
        "       118, 119, 120, 121, 122, 123, 124, 125, 126, 127, 128, 129, 130,\n",
        "       131, 132, 133, 134, 135, 136, 137, 138, 139, 140, 141, 142, 143,\n",
        "       144, 145, 146, 147, 148, 149, 150, 151, 152, 153, 154, 155, 156,\n",
        "       157, 158, 159, 160, 161, 162, 163, 164, 165, 166, 167, 168, 169,\n",
        "       170, 171, 172, 173, 174, 175, 176, 177, 178, 179, 180, 181, 182,\n",
        "       183, 184, 185, 186, 187, 188, 189, 190, 191, 192, 193, 194, 195,\n",
        "       196, 197, 198, 199, 200, 201, 202, 203, 204, 205, 206, 207, 208,\n",
        "       209, 210, 211, 212, 213, 214, 215, 216, 217, 218, 219, 220, 221,\n",
        "       222, 223, 224, 225, 226, 227, 228, 229, 230, 231, 232, 233, 234,\n",
        "       235, 236, 237, 238, 239, 240, 241, 242, 243, 244, 245, 246, 247,\n",
        "       248, 249, 250, 251, 252, 253, 254, 255, 256, 257, 258, 259, 260,\n",
        "       261, 262, 263, 264, 265, 266, 267, 268, 269, 270, 271, 272, 273,\n",
        "       274, 275, 276, 277, 278, 279, 280, 281, 282, 283, 284, 285, 286,\n",
        "       287, 288, 289, 290, 291, 292, 293, 294, 295, 296, 297, 298, 299,\n",
        "       300, 301, 302, 303, 304, 305, 306, 307, 308, 309, 310, 311, 312,\n",
        "       313, 314, 315, 316, 317, 318, 319, 320, 321, 322, 323, 324, 325,\n",
        "       326, 327, 328, 329, 330, 331, 332, 333, 334, 335, 336, 337, 338,\n",
        "       339, 340, 341, 342, 343, 344, 345, 346, 347, 348, 349, 350, 351,\n",
        "       352, 353, 354, 355, 356, 357, 358, 359, 360, 361, 362, 363, 364,\n",
        "       365, 366, 367, 368, 369, 370, 371, 372, 373, 374, 375, 376, 377,\n",
        "       378, 379, 380, 381, 382, 383, 384, 385, 386, 387, 388, 389, 390,\n",
        "       391, 392, 393, 394, 395, 396, 397, 398, 399, 400, 401, 402, 403,\n",
        "       404, 405, 406, 407, 408, 409, 410, 411, 412, 413, 414, 415, 416,\n",
        "       417, 418, 419, 420, 421, 422, 423, 424, 425, 426, 427, 428, 429,\n",
        "       430, 431, 432, 433, 434, 435, 436, 437, 438, 439, 440, 441, 442,\n",
        "       443, 444, 445, 446, 447, 448, 449, 450, 451, 452, 453, 454, 455,\n",
        "       456, 457, 458, 459, 460, 461, 462, 463, 464, 465, 466, 467, 468,\n",
        "       469, 470, 471, 472, 473, 474, 475, 476, 477, 478, 479, 480, 481,\n",
        "       482, 483, 484, 485, 486, 487, 488, 489, 490, 491, 492, 493, 494,\n",
        "       495, 496, 497, 498, 499, 500, 501, 502, 503, 504, 505, 506, 507,\n",
        "       508, 509, 510, 511, 512, 513, 514, 515, 516, 517, 518, 519, 520,\n",
        "       521, 522, 523, 524, 525, 526, 527, 528, 529, 530, 531, 532, 533,\n",
        "       534, 535, 536, 537, 538, 539, 540, 541, 542, 543, 544, 545, 546,\n",
        "       547, 548, 549, 550, 551, 552, 553, 554, 555, 556, 557, 558, 559,\n",
        "       560, 561, 562, 563, 564, 565, 566, 567, 568, 569, 570, 571, 572,\n",
        "       573, 574, 575, 576, 577, 578, 579, 580, 581, 582, 583, 584, 585,\n",
        "       586, 587, 588, 589, 590, 591, 592, 593, 594, 595, 596, 597, 598,\n",
        "       599, 600, 601, 602, 603, 604, 605, 606, 607, 608, 609, 610, 611,\n",
        "       612, 613, 614, 615, 616, 617, 618, 619, 620, 621, 622, 623, 624,\n",
        "       625, 626, 627, 628, 629, 630, 631, 632, 633, 634, 635, 636, 637,\n",
        "       638, 639, 640, 641, 642, 643, 644, 645, 646, 647, 648, 649, 650,\n",
        "       651, 652, 653, 654, 655, 656, 657, 658, 659, 660, 661, 662, 663,\n",
        "       664, 665, 666, 667, 668, 669, 670, 671, 672, 673, 674, 675, 676,\n",
        "       677, 678, 679, 680, 681, 682, 683, 684, 685, 686, 687, 688, 689,\n",
        "       690, 691, 692, 693, 694, 695, 696, 697, 698, 699, 700, 701, 702,\n",
        "       703, 704, 705, 706, 707, 708, 709, 710, 711, 712, 713, 714, 715,\n",
        "       716, 717, 718, 719, 720, 721, 722, 723, 724, 725, 726, 727, 728,\n",
        "       729, 730, 731, 732, 733, 734, 735, 736, 737, 738, 739, 740, 741,\n",
        "       742, 743, 744, 745, 746, 747, 748, 749, 750, 751, 752, 753, 754,\n",
        "       755, 756, 757, 758, 759, 760, 761, 762, 763, 764, 765, 766, 767,\n",
        "       768, 769, 770, 771, 772, 773, 774, 775, 776, 777, 778, 779, 780,\n",
        "       781, 782, 783, 784, 785, 786, 787, 788, 789, 790, 791, 792, 793,\n",
        "       794, 795, 796, 797, 798, 799, 800, 801, 802, 803, 804, 805, 806,\n",
        "       807, 808, 809, 810, 811, 812, 813, 814, 815, 816, 817, 818, 819,\n",
        "       820, 821, 822, 823, 824, 825, 826, 827, 828, 829, 830, 831, 832,\n",
        "       833, 834, 835, 836, 837, 838, 839, 840, 841, 842, 843, 844, 845,\n",
        "       846, 847, 848, 849, 850, 851, 852, 853, 854, 855, 856, 857, 858,\n",
        "       859, 860, 861, 862, 863, 864, 865, 866, 867, 868, 869, 870, 871,\n",
        "       872, 873, 874, 875, 876, 877, 878, 879, 880, 881, 882, 883, 884,\n",
        "       885, 886, 887, 888, 889, 890, 891, 892, 893, 894, 895, 896, 897,\n",
        "       898, 899, 900, 901, 902, 903, 904, 905, 906, 907, 908, 909, 910,\n",
        "       911, 912, 913, 914, 915, 916, 917, 918, 919, 920, 921, 922, 923,\n",
        "       924, 925, 926, 927, 928, 929, 930, 931, 932, 933, 934, 935, 936,\n",
        "       937, 938, 939, 940, 941, 942])"
       ]
      }
     ],
     "prompt_number": 50
    },
    {
     "cell_type": "code",
     "collapsed": false,
     "input": [
      "#\u30e6\u30fc\u30b6 i \u306e\u8a55\u4fa1\u306e\u914d\u5217 u \u306e\u5404\u8981\u7d20\u304b\u3099 0 \u3088\u308a\u5927\u304d\u3044\u304b\u3068\u3099\u3046\u304b\u304c\u3001ps \u306b\u683c\u7d0d\n",
      "#\u3064\u307e\u308a\u3001\u8a55\u4fa1\u3055\u308c\u305fitem id \u306e\u914d\u5217\u3092\u4f5c\u6210\n",
      "ps, = np.where(u > 0)\n",
      "ps"
     ],
     "language": "python",
     "metadata": {},
     "outputs": [
      {
       "metadata": {},
       "output_type": "pyout",
       "prompt_number": 51,
       "text": [
        "array([ 10,  49, 209, 257, 259, 263, 270, 287, 293, 299, 300, 302, 323,\n",
        "       326, 327, 328, 353, 355, 356, 357, 358, 359, 360, 361])"
       ]
      }
     ],
     "prompt_number": 51
    },
    {
     "cell_type": "code",
     "collapsed": false,
     "input": [
      " #userid : i \u304c\u8a55\u4fa1\u3057\u305fitem \u306e\u4ed6\u306e\u30e6\u30fc\u30b6\u306e\u8a55\u4fa1\n",
      "# us : user i \u3092\u9664\u3044\u305f\u30e6\u30fc\u30b6\u306eid \u30ea\u30b9\u30c8\n",
      "# ps : user i \u304c\u8a55\u4fa1\u3057\u305f\u6620\u753b\u306eid \u30ea\u30b9\u30c8\n",
      "x = reviews[us][:, ps].T\n",
      "print x"
     ],
     "language": "python",
     "metadata": {},
     "outputs": [
      {
       "output_type": "stream",
       "stream": "stdout",
       "text": [
        "  (0, 0)\t2.0\n",
        "  (0, 5)\t3.0\n",
        "  (0, 6)\t3.0\n",
        "  (0, 8)\t4.0\n",
        "  (0, 9)\t2.0\n",
        "  (0, 11)\t1.0\n",
        "  (0, 14)\t5.0\n",
        "  (0, 18)\t2.0\n",
        "  (0, 22)\t5.0\n",
        "  (0, 26)\t4.0\n",
        "  (0, 35)\t4.0\n",
        "  (0, 41)\t5.0\n",
        "  (0, 42)\t3.0\n",
        "  (0, 47)\t3.0\n",
        "  (0, 54)\t4.0\n",
        "  (0, 55)\t3.0\n",
        "  (0, 56)\t5.0\n",
        "  (0, 57)\t5.0\n",
        "  (0, 62)\t4.0\n",
        "  (0, 80)\t4.0\n",
        "  (0, 88)\t4.0\n",
        "  (0, 90)\t4.0\n",
        "  (0, 92)\t5.0\n",
        "  (0, 97)\t5.0\n",
        "  (0, 100)\t3.0\n",
        "  :\t:\n",
        "  (23, 177)\t1.0\n",
        "  (23, 191)\t3.0\n",
        "  (23, 195)\t4.0\n",
        "  (23, 204)\t1.0\n",
        "  (23, 258)\t5.0\n",
        "  (23, 391)\t3.0\n",
        "  (23, 416)\t1.0\n",
        "  (23, 423)\t3.0\n",
        "  (23, 461)\t1.0\n",
        "  (23, 470)\t5.0\n",
        "  (23, 513)\t4.0\n",
        "  (23, 559)\t2.0\n",
        "  (23, 586)\t3.0\n",
        "  (23, 614)\t3.0\n",
        "  (23, 658)\t2.0\n",
        "  (23, 680)\t2.0\n",
        "  (23, 706)\t1.0\n",
        "  (23, 711)\t1.0\n",
        "  (23, 727)\t4.0\n",
        "  (23, 756)\t5.0\n",
        "  (23, 785)\t3.0\n",
        "  (23, 840)\t3.0\n",
        "  (23, 861)\t1.0\n",
        "  (23, 929)\t3.0\n",
        "  (23, 940)\t3.0\n"
       ]
      }
     ],
     "prompt_number": 52
    },
    {
     "cell_type": "code",
     "collapsed": false,
     "input": [
      "# userid : i \u304c\u8a55\u4fa1\u3057\u305fitem \u306e\u4ed6\u306e\u30e6\u30fc\u30b6\u306e\u8a55\u4fa1\u3001\u8ee2\u7f6e\u3057\u3066\u3044\u308b\u306e\u3067 user id \u3068 movie id \u304c\u9006\u306b\u306a\u308b\n",
      "# x = reviews[us][:, ps].T\n",
      "# userid : i \u304c\u8a55\u4fa1\u3057\u305fitem \u306e\u8a55\u4fa1\u5024\n",
      "# y = u.data\n",
      "\n",
      "err = 0\n",
      "eb = 0\n",
      "#\u4ea4\u5dee\u691c\u5b9a\u30014 \u5206\u5272\n",
      "#\u5404\u6620\u753b\u3067\u4ea4\u5dee\u691c\u5b9a\u3092\u56de\u3059\n",
      "kf = KFold(len(y), n_folds=4)\n",
      "for train, test in kf:\n",
      "    # \u5404\u6620\u753b\u3054\u3068\u306b\u6b63\u898f\u5316\n",
      "    xc, x1 = movie_norm(x[train]) #x\u306f\u8ee2\u7f6e\u3055\u308c\u3066\u3044\u308b\u306e\u3067 x [movie id][user id]\n",
      "    reg.fit(xc, y[train] - x1)\n",
      "    # \u30c6\u30b9\u30c8\u306e\u3068\u304d\u3082\u540c\u69d8\u306b\u6b63\u898f\u5316\n",
      "    xc, x1 = movie_norm(x[test])\n",
      "    p = np.array([reg.predict(xi) for xi in xc]).ravel()\n",
      "    e = (p + x1) - y[test]\n",
      "    err += np.sum(e * e)\n",
      "    eb += np.sum((y[train].mean() - y[test]) ** 2)\n",
      "np.sqrt(err / float(len(y))), np.sqrt(eb / float(len(y)))"
     ],
     "language": "python",
     "metadata": {},
     "outputs": [
      {
       "metadata": {},
       "output_type": "pyout",
       "prompt_number": 53,
       "text": [
        "(0.98059833137775132, 0.921284663987611)"
       ]
      }
     ],
     "prompt_number": 53
    },
    {
     "cell_type": "code",
     "collapsed": false,
     "input": [
      "len(y)"
     ],
     "language": "python",
     "metadata": {},
     "outputs": [
      {
       "metadata": {},
       "output_type": "pyout",
       "prompt_number": 54,
       "text": [
        "24"
       ]
      }
     ],
     "prompt_number": 54
    },
    {
     "cell_type": "code",
     "collapsed": false,
     "input": [
      "#\u6b63\u898f\u5316\u3092\u5177\u4f53\u7684\u306b\u898b\u308b\n",
      "#\u5b66\u7fd2\u306b\u7528\u3044\u308b\u6620\u753b\u306eid\u30ea\u30b9\u30c8\n",
      "train "
     ],
     "language": "python",
     "metadata": {},
     "outputs": [
      {
       "metadata": {},
       "output_type": "pyout",
       "prompt_number": 55,
       "text": [
        "array([ 0,  1,  2,  3,  4,  5,  6,  7,  8,  9, 10, 11, 12, 13, 14, 15, 16,\n",
        "       17])"
       ]
      }
     ],
     "prompt_number": 55
    },
    {
     "cell_type": "code",
     "collapsed": false,
     "input": [
      "xc = x[train]\n",
      "xc = xc.copy().toarray() #\u5404\u6620\u753b\u306e\u5404\u30e6\u30fc\u30b6\u306e\u8a55\u4fa1\u304c\u683c\u7d0d\n",
      "print xc\n",
      "print len(xc)"
     ],
     "language": "python",
     "metadata": {},
     "outputs": [
      {
       "output_type": "stream",
       "stream": "stdout",
       "text": [
        "[[ 2.  0.  0. ...,  0.  0.  4.]\n",
        " [ 5.  5.  0. ...,  0.  5.  4.]\n",
        " [ 4.  0.  0. ...,  0.  4.  4.]\n",
        " ..., \n",
        " [ 0.  0.  4. ...,  0.  0.  0.]\n",
        " [ 0.  0.  3. ...,  0.  0.  0.]\n",
        " [ 0.  0.  0. ...,  0.  0.  4.]]\n",
        "18\n"
       ]
      }
     ],
     "prompt_number": 56
    },
    {
     "cell_type": "code",
     "collapsed": false,
     "input": [
      "#\u5024\u304c0\u306e\u8981\u7d20\u3092\u9664\u3044\u3066\u3001\u8a55\u4fa1\u3055\u308c\u305f\u8981\u7d20\u306e\u307f\u306e\u5e73\u5747\u3092\u6c42\u3081\u305f\u3044\u3002xc.mean(1)\u306f\u4f7f\u3048\u306a\u3044\n",
      "x1 = np.array([xi[xi > 0].mean() for xi in xc])\n",
      "#\u6620\u753b\u306b\u3072\u3068\u3064\u3082\u8a55\u4fa1\u304b\u3099\u4ed8\u3051\u3089\u308c\u3066\u306a\u304f\u3066\u8a08\u7b97\u7d50\u679c\u304b\u3099 NAN\u306e\u5834\u5408\u3001 0 \u306b\u7f6e\u304d\u63db\u3048\n",
      "x1 = np.nan_to_num(x1)\n",
      "#\u5404\u6620\u753b\u306e\u5e73\u5747\u70b9\u6570\n",
      "print x1 "
     ],
     "language": "python",
     "metadata": {},
     "outputs": [
      {
       "output_type": "stream",
       "stream": "stdout",
       "text": [
        "[ 3.84680851  4.35738832  3.93333333  3.8011811   2.56349206  2.74\n",
        "  3.22857143  3.44025157  3.15289256  3.62790698  3.29694323  3.67669173\n",
        "  3.12096774  3.36781609  3.42517007  3.29545455  3.46478873  3.38541667]\n"
       ]
      }
     ],
     "prompt_number": 57
    },
    {
     "cell_type": "code",
     "collapsed": false,
     "input": [
      " #0 \u4ee5\u5916\u306e\u8981\u7d20\u3092\u5bfe\u8c61\u306b\u3057\u3066\u3001\u6620\u753b\u306b\u5bfe\u3059\u308b\u8a55\u4fa1\u306e\u5e73\u5747\u5024\u3092\u5f15\u304f\u3053\u3068\u3066\u3099\u3001\u6b63\u898f\u5316\n",
      "for i in range(xc.shape[0]):\n",
      "    xc[i] -= (xc[i] > 0) * x1[i]\n",
      "#\u6b63\u898f\u5316\u3057\u305f\u914d\u5217 , \u5e73\u5747\u5024\u3092\u8fd4\u3059\n",
      "print xc\n",
      "print x1"
     ],
     "language": "python",
     "metadata": {},
     "outputs": [
      {
       "output_type": "stream",
       "stream": "stdout",
       "text": [
        "[[-1.84680851  0.          0.         ...,  0.          0.          0.15319149]\n",
        " [ 0.64261168  0.64261168  0.         ...,  0.          0.64261168\n",
        "  -0.35738832]\n",
        " [ 0.06666667  0.          0.         ...,  0.          0.06666667\n",
        "   0.06666667]\n",
        " ..., \n",
        " [ 0.          0.          0.70454545 ...,  0.          0.          0.        ]\n",
        " [ 0.          0.         -0.46478873 ...,  0.          0.          0.        ]\n",
        " [ 0.          0.          0.         ...,  0.          0.          0.61458333]]\n",
        "[ 3.84680851  4.35738832  3.93333333  3.8011811   2.56349206  2.74\n",
        "  3.22857143  3.44025157  3.15289256  3.62790698  3.29694323  3.67669173\n",
        "  3.12096774  3.36781609  3.42517007  3.29545455  3.46478873  3.38541667]\n"
       ]
      }
     ],
     "prompt_number": 58
    },
    {
     "cell_type": "code",
     "collapsed": false,
     "input": [
      "y[train]"
     ],
     "language": "python",
     "metadata": {},
     "outputs": [
      {
       "metadata": {},
       "output_type": "pyout",
       "prompt_number": 61,
       "text": [
        "array([ 4.,  5.,  3.,  5.,  4.,  3.,  4.,  4.,  5.,  5.,  5.,  5.,  5.,\n",
        "        5.,  3.,  5.,  5.,  3.])"
       ]
      }
     ],
     "prompt_number": 61
    },
    {
     "cell_type": "code",
     "collapsed": false,
     "input": [
      "y[train] - x1 #\u6b63\u898f\u5316\u3057\u305f\u6b63\u89e3\u30e9\u30d9\u30eb"
     ],
     "language": "python",
     "metadata": {},
     "outputs": [
      {
       "metadata": {},
       "output_type": "pyout",
       "prompt_number": 60,
       "text": [
        "array([ 0.15319149,  0.64261168, -0.93333333,  1.1988189 ,  1.43650794,\n",
        "        0.26      ,  0.77142857,  0.55974843,  1.84710744,  1.37209302,\n",
        "        1.70305677,  1.32330827,  1.87903226,  1.63218391, -0.42517007,\n",
        "        1.70454545,  1.53521127, -0.38541667])"
       ]
      }
     ],
     "prompt_number": 60
    },
    {
     "cell_type": "code",
     "collapsed": false,
     "input": [
      "reg.fit(xc, y[train] - x1)"
     ],
     "language": "python",
     "metadata": {},
     "outputs": [
      {
       "metadata": {},
       "output_type": "pyout",
       "prompt_number": 62,
       "text": [
        "LassoCV(alphas=[0.125, 0.25, 0.5, 1.0, 2.0, 4.0], copy_X=True, cv=None,\n",
        "    eps=0.001, fit_intercept=True, max_iter=1000, n_alphas=100, n_jobs=1,\n",
        "    normalize=False, positive=False, precompute='auto', random_state=None,\n",
        "    selection='cyclic', tol=0.0001, verbose=False)"
       ]
      }
     ],
     "prompt_number": 62
    },
    {
     "cell_type": "code",
     "collapsed": false,
     "input": [
      "#\u4e88\u6e2c\n",
      "xc, x1 = movie_norm(x[test])\n",
      "p = np.array([reg.predict(xi) for xi in xc]).ravel()\n",
      "p"
     ],
     "language": "python",
     "metadata": {},
     "outputs": [
      {
       "metadata": {},
       "output_type": "pyout",
       "prompt_number": 68,
       "text": [
        "array([ 0.90416252,  0.90416252,  0.90416252,  0.90416252,  0.90416252,\n",
        "        0.90416252])"
       ]
      }
     ],
     "prompt_number": 68
    },
    {
     "cell_type": "code",
     "collapsed": false,
     "input": [
      "print y[test]\n",
      "print x1"
     ],
     "language": "python",
     "metadata": {},
     "outputs": [
      {
       "output_type": "stream",
       "stream": "stdout",
       "text": [
        "[ 4.  2.  5.  5.  5.  5.]\n",
        "[ 4.29277567  2.61971831  3.41176471  3.          3.33333333  2.74074074]\n"
       ]
      }
     ],
     "prompt_number": 72
    },
    {
     "cell_type": "code",
     "collapsed": false,
     "input": [
      "e = (p + x1) - ( y[test]) \n",
      "err += np.sum(e * e) #\u4e8c\u4e57\u548c\u8aa4\u5dee\u306e\u7dcf\u548c"
     ],
     "language": "python",
     "metadata": {},
     "outputs": [],
     "prompt_number": 75
    },
    {
     "cell_type": "code",
     "collapsed": false,
     "input": [
      "y[train].mean()"
     ],
     "language": "python",
     "metadata": {},
     "outputs": [
      {
       "metadata": {},
       "output_type": "pyout",
       "prompt_number": 77,
       "text": [
        "4.333333333333333"
       ]
      }
     ],
     "prompt_number": 77
    },
    {
     "cell_type": "code",
     "collapsed": false,
     "input": [
      "y[train].mean() - y[test]"
     ],
     "language": "python",
     "metadata": {},
     "outputs": [
      {
       "metadata": {},
       "output_type": "pyout",
       "prompt_number": 78,
       "text": [
        "array([ 0.33333333,  2.33333333, -0.66666667, -0.66666667, -0.66666667,\n",
        "       -0.66666667])"
       ]
      }
     ],
     "prompt_number": 78
    },
    {
     "cell_type": "code",
     "collapsed": false,
     "input": [
      "eb += np.sum( (y[train].mean() - y[test])  ** 2)  #\u4e88\u6e2c\u3092\u6620\u753b\u306e\u8a55\u4fa1\u5024\u306e\u5e73\u5747\u306b\u3057\u305f\u5834\u5408\u306e\u4e8c\u4e57\u8aa4\u5dee\u306e\u548c\n",
      "print np.sqrt(err / float(len(y[test]))), np.sqrt(eb / float(len(y[test])))"
     ],
     "language": "python",
     "metadata": {},
     "outputs": [
      {
       "output_type": "stream",
       "stream": "stdout",
       "text": [
        "2.78693143052 2.87818529933\n"
       ]
      }
     ],
     "prompt_number": 79
    },
    {
     "cell_type": "code",
     "collapsed": false,
     "input": [
      "reviews.shape[0]"
     ],
     "language": "python",
     "metadata": {},
     "outputs": [
      {
       "metadata": {},
       "output_type": "pyout",
       "prompt_number": 104,
       "text": [
        "943"
       ]
      }
     ],
     "prompt_number": 104
    },
    {
     "cell_type": "code",
     "collapsed": false,
     "input": [
      "import numpy as np\n",
      "from scipy import sparse\n",
      "from sklearn.linear_model import LassoCV, RidgeCV, ElasticNetCV\n",
      "from sklearn.cross_validation import KFold\n",
      "\n",
      "data = np.array([[int(tok) for tok in line.split('\\t')[:3]]\n",
      "                for line in open('data/ml-100k/u.data')])\n",
      "ij = data[:, :2]\n",
      "ij -= 1  # original data is in 1-based system\n",
      "values = data[:, 2]\n",
      "reviews = sparse.csc_matrix((values, ij.T)).astype(float)\n",
      "\n",
      "reg = LassoCV(fit_intercept=True, alphas=[.125,.25,.5,1.,2.,4.])\n",
      "\n",
      "\n",
      "def movie_norm(xc):\n",
      "    xc = xc.copy().toarray()\n",
      "    x1 = np.array([xi[xi > 0].mean() for xi in xc])\n",
      "    x1 = np.nan_to_num(x1)\n",
      "\n",
      "    for i in range(xc.shape[0]):\n",
      "        xc[i] -= (xc[i] > 0) * x1[i]\n",
      "    return xc, x1\n",
      "\n",
      "\n",
      "def learn_for(i):\n",
      "    u = reviews[i]\n",
      "    us = np.delete(np.arange(reviews.shape[0]), i)\n",
      "    ps, = np.where(u.toarray().ravel() > 0)\n",
      "    x = reviews[us][:, ps].T\n",
      "    y = u.data\n",
      "    err = 0\n",
      "    eb = 0\n",
      "    kf = KFold(len(y), n_folds=4)\n",
      "    for train, test in kf:\n",
      "        xc, x1 = movie_norm(x[train])\n",
      "        reg.fit(xc, y[train] - x1)\n",
      "\n",
      "        xc, x1 = movie_norm(x[test])\n",
      "        p = np.array([reg.predict(xi) for xi in xc]).ravel()\n",
      "        e = (p + x1) - y[test]\n",
      "        err += np.sum(e * e) #\u4e8c\u4e57\u548c\u8aa4\u5dee\u306e\u7dcf\u548c\n",
      "        eb += np.sum((y[train].mean() - y[test]) ** 2)  #\u4e88\u6e2c\u3092\u6620\u753b\u306e\u30b9\u30b3\u30a2\u306e\u5e73\u5747\u5024\u3068\u3057\u305f\u5834\u5408 \n",
      "    return np.sqrt(err / float(len(y))), np.sqrt(eb / float(len(y)))\n",
      "\n",
      "reg_count = 0\n",
      "mean_count = 0\n",
      "# \u5404\u30e6\u30fc\u30b6\u3054\u3068\u306b\u56de\u5e30\u3067\u5b66\u7fd2\u3057\u3001\u305f\u3060\u5e73\u5747\u5024\u3092\u51fa\u529b\u3059\u308b\u5834\u5408\u3068\u6c4e\u5316\u8aa4\u5dee\u3092\u6bd4\u8f03\n",
      "for i in range(reviews.shape[0]):\n",
      "    regression_score, mean_score = learn_for(i)\n",
      "    boolian = regression_score < mean_score \n",
      "    if boolian:\n",
      "        reg_count += 1\n",
      "    else:\n",
      "        mean_count += 1\n",
      "    print(boolian) \n",
      "    print regression_score,  mean_score"
     ],
     "language": "python",
     "metadata": {},
     "outputs": [
      {
       "output_type": "stream",
       "stream": "stdout",
       "text": [
        "True\n",
        "1.01065017398 1.27454279746\n",
        "True"
       ]
      },
      {
       "output_type": "stream",
       "stream": "stdout",
       "text": [
        "\n",
        "0.840229354576 1.06361537788\n",
        "True"
       ]
      },
      {
       "output_type": "stream",
       "stream": "stdout",
       "text": [
        "\n",
        "1.23155531642 1.25636291717\n",
        "False"
       ]
      },
      {
       "output_type": "stream",
       "stream": "stdout",
       "text": [
        "\n",
        "0.980598331378 0.921284663988\n",
        "True"
       ]
      },
      {
       "output_type": "stream",
       "stream": "stdout",
       "text": [
        "\n",
        "1.17982147614 1.39297826012\n",
        "True"
       ]
      },
      {
       "output_type": "stream",
       "stream": "stdout",
       "text": [
        "\n",
        "0.898346235312 1.06124480562\n",
        "True"
       ]
      },
      {
       "output_type": "stream",
       "stream": "stdout",
       "text": [
        "\n",
        "0.973629345929 1.07175747\n",
        "True"
       ]
      },
      {
       "output_type": "stream",
       "stream": "stdout",
       "text": [
        "\n",
        "0.967272169946 1.37690847916\n",
        "False"
       ]
      },
      {
       "output_type": "stream",
       "stream": "stdout",
       "text": [
        "\n",
        "1.10174586149 1.00211554201\n",
        "False"
       ]
      },
      {
       "output_type": "stream",
       "stream": "stdout",
       "text": [
        "\n",
        "0.60173625321 0.582849290577\n",
        "True"
       ]
      },
      {
       "output_type": "stream",
       "stream": "stdout",
       "text": [
        "\n",
        "0.887463086092 0.93778183656\n",
        "False"
       ]
      },
      {
       "output_type": "stream",
       "stream": "stdout",
       "text": [
        "\n",
        "0.782374762375 0.77935726123\n",
        "True"
       ]
      },
      {
       "output_type": "stream",
       "stream": "stdout",
       "text": [
        "\n",
        "1.24549050072 1.44485135131\n",
        "False"
       ]
      },
      {
       "output_type": "stream",
       "stream": "stdout",
       "text": [
        "\n",
        "1.057702764 1.03370665896\n",
        "True"
       ]
      },
      {
       "output_type": "stream",
       "stream": "stdout",
       "text": [
        "\n",
        "1.24576702473 1.3575978757\n",
        "True"
       ]
      },
      {
       "output_type": "stream",
       "stream": "stdout",
       "text": [
        "\n",
        "0.922614650479 1.09071529922\n",
        "True"
       ]
      },
      {
       "output_type": "stream",
       "stream": "stdout",
       "text": [
        "\n",
        "1.01332681732 1.15715265526\n",
        "True"
       ]
      },
      {
       "output_type": "stream",
       "stream": "stdout",
       "text": [
        "\n",
        "0.787015460351 0.862184983007\n",
        "False"
       ]
      },
      {
       "output_type": "stream",
       "stream": "stdout",
       "text": [
        "\n",
        "0.941148815019 0.845905169363\n",
        "False"
       ]
      },
      {
       "output_type": "stream",
       "stream": "stdout",
       "text": [
        "\n",
        "1.24372793575 1.14606479144\n",
        "True"
       ]
      },
      {
       "output_type": "stream",
       "stream": "stdout",
       "text": [
        "\n",
        "0.99861347191 1.3819520035\n",
        "True"
       ]
      },
      {
       "output_type": "stream",
       "stream": "stdout",
       "text": [
        "\n",
        "1.19431020837 1.6318382427\n",
        "True"
       ]
      },
      {
       "output_type": "stream",
       "stream": "stdout",
       "text": [
        "\n",
        "0.808353211781 0.956757574331\n",
        "True"
       ]
      },
      {
       "output_type": "stream",
       "stream": "stdout",
       "text": [
        "\n",
        "0.765478074106 0.830849817166\n",
        "True"
       ]
      },
      {
       "output_type": "stream",
       "stream": "stdout",
       "text": [
        "\n",
        "0.580733870047 0.623668335453\n",
        "True"
       ]
      },
      {
       "output_type": "stream",
       "stream": "stdout",
       "text": [
        "\n",
        "0.619525235087 0.902997352836\n",
        "True"
       ]
      },
      {
       "output_type": "stream",
       "stream": "stdout",
       "text": [
        "\n",
        "0.830250120333 0.949237921482\n",
        "True"
       ]
      },
      {
       "output_type": "stream",
       "stream": "stdout",
       "text": [
        "\n",
        "0.826007306487 0.986232398573\n",
        "True"
       ]
      },
      {
       "output_type": "stream",
       "stream": "stdout",
       "text": [
        "\n",
        "0.695322750994 0.936626051634\n",
        "True"
       ]
      },
      {
       "output_type": "stream",
       "stream": "stdout",
       "text": [
        "\n",
        "0.819131123767 1.03504035708\n",
        "True"
       ]
      },
      {
       "output_type": "stream",
       "stream": "stdout",
       "text": [
        "\n",
        "0.70537551737 1.00853694846\n",
        "True"
       ]
      },
      {
       "output_type": "stream",
       "stream": "stdout",
       "text": [
        "\n",
        "0.80542568291 0.903348670349\n",
        "True"
       ]
      },
      {
       "output_type": "stream",
       "stream": "stdout",
       "text": [
        "\n",
        "0.557242981406 0.571304550033\n",
        "True"
       ]
      },
      {
       "output_type": "stream",
       "stream": "stdout",
       "text": [
        "\n",
        "1.22435627082 1.48174071806\n",
        "True"
       ]
      },
      {
       "output_type": "stream",
       "stream": "stdout",
       "text": [
        "\n",
        "0.957569282449 0.985726074587\n",
        "False"
       ]
      },
      {
       "output_type": "stream",
       "stream": "stdout",
       "text": [
        "\n",
        "1.72801842145 1.40712472795\n",
        "True"
       ]
      },
      {
       "output_type": "stream",
       "stream": "stdout",
       "text": [
        "\n",
        "0.928840664656 1.02736808595\n",
        "False"
       ]
      },
      {
       "output_type": "stream",
       "stream": "stdout",
       "text": [
        "\n",
        "1.67618860164 1.61996118627\n",
        "False"
       ]
      },
      {
       "output_type": "stream",
       "stream": "stdout",
       "text": [
        "\n",
        "1.26613525607 0.961605527188\n",
        "False"
       ]
      },
      {
       "output_type": "stream",
       "stream": "stdout",
       "text": [
        "\n",
        "1.02877413377 0.960142793909\n",
        "True"
       ]
      },
      {
       "output_type": "stream",
       "stream": "stdout",
       "text": [
        "\n",
        "0.764670572879 0.842845123789\n",
        "True"
       ]
      },
      {
       "output_type": "stream",
       "stream": "stdout",
       "text": [
        "\n",
        "0.973123524003 1.08511582317\n",
        "True"
       ]
      },
      {
       "output_type": "stream",
       "stream": "stdout",
       "text": [
        "\n",
        "0.887902337447 1.03312022615\n",
        "True"
       ]
      },
      {
       "output_type": "stream",
       "stream": "stdout",
       "text": [
        "\n",
        "0.901915919159 1.02736309045\n",
        "True"
       ]
      },
      {
       "output_type": "stream",
       "stream": "stdout",
       "text": [
        "\n",
        "0.813221007995 1.00221590907\n",
        "False"
       ]
      },
      {
       "output_type": "stream",
       "stream": "stdout",
       "text": [
        "\n",
        "1.02712283772 0.995165309609\n",
        "True"
       ]
      },
      {
       "output_type": "stream",
       "stream": "stdout",
       "text": [
        "\n",
        "0.827406742523 0.939830490848\n",
        "True"
       ]
      },
      {
       "output_type": "stream",
       "stream": "stdout",
       "text": [
        "\n",
        "0.919121692832 1.06316375781\n",
        "True"
       ]
      },
      {
       "output_type": "stream",
       "stream": "stdout",
       "text": [
        "\n",
        "1.01636953105 1.26471620085\n",
        "False"
       ]
      },
      {
       "output_type": "stream",
       "stream": "stdout",
       "text": [
        "\n",
        "1.76034660922 1.48786241565\n",
        "True"
       ]
      },
      {
       "output_type": "stream",
       "stream": "stdout",
       "text": [
        "\n",
        "1.1421159626 1.30671648872\n",
        "True"
       ]
      },
      {
       "output_type": "stream",
       "stream": "stdout",
       "text": [
        "\n",
        "0.622696495492 0.733569071572\n",
        "False"
       ]
      },
      {
       "output_type": "stream",
       "stream": "stdout",
       "text": [
        "\n",
        "0.94828088645 0.937986457314\n",
        "True"
       ]
      },
      {
       "output_type": "stream",
       "stream": "stdout",
       "text": [
        "\n",
        "1.06808369161 1.16379230296\n",
        "True"
       ]
      },
      {
       "output_type": "stream",
       "stream": "stdout",
       "text": [
        "\n",
        "1.32263406701 1.73223551544\n",
        "True"
       ]
      },
      {
       "output_type": "stream",
       "stream": "stdout",
       "text": [
        "\n",
        "0.828375920907 0.954767135249\n",
        "True"
       ]
      },
      {
       "output_type": "stream",
       "stream": "stdout",
       "text": [
        "\n",
        "0.859669525314 1.10077792486\n",
        "True"
       ]
      },
      {
       "output_type": "stream",
       "stream": "stdout",
       "text": [
        "\n",
        "1.11794762376 1.2695506947\n",
        "True"
       ]
      },
      {
       "output_type": "stream",
       "stream": "stdout",
       "text": [
        "\n",
        "0.965272271077 1.07147643103\n",
        "False"
       ]
      },
      {
       "output_type": "stream",
       "stream": "stdout",
       "text": [
        "\n",
        "0.677080686419 0.636667880045\n",
        "True"
       ]
      },
      {
       "output_type": "stream",
       "stream": "stdout",
       "text": [
        "\n",
        "1.0382593035 1.23299444347\n",
        "True"
       ]
      },
      {
       "output_type": "stream",
       "stream": "stdout",
       "text": [
        "\n",
        "0.977848080597 1.14177771982\n",
        "True"
       ]
      },
      {
       "output_type": "stream",
       "stream": "stdout",
       "text": [
        "\n",
        "0.873334679983 0.993341459952\n",
        "True"
       ]
      },
      {
       "output_type": "stream",
       "stream": "stdout",
       "text": [
        "\n",
        "0.864814022802 1.01220880586\n",
        "True"
       ]
      },
      {
       "output_type": "stream",
       "stream": "stdout",
       "text": [
        "\n",
        "0.849211401475 0.905500168722\n",
        "True"
       ]
      },
      {
       "output_type": "stream",
       "stream": "stdout",
       "text": [
        "\n",
        "0.970392789515 1.03887191274\n",
        "True\n",
        "0.807414531432 0.925980474518\n",
        "True"
       ]
      },
      {
       "output_type": "stream",
       "stream": "stdout",
       "text": [
        "\n",
        "1.53090956437 1.77492657815\n",
        "True"
       ]
      },
      {
       "output_type": "stream",
       "stream": "stdout",
       "text": [
        "\n",
        "0.947547521238 1.10455327945\n",
        "True"
       ]
      },
      {
       "output_type": "stream",
       "stream": "stdout",
       "text": [
        "\n",
        "0.610184609155 0.845586882358\n",
        "False"
       ]
      },
      {
       "output_type": "stream",
       "stream": "stdout",
       "text": [
        "\n",
        "1.13789433279 1.12388212814\n",
        "True"
       ]
      },
      {
       "output_type": "stream",
       "stream": "stdout",
       "text": [
        "\n",
        "0.991851517624 1.05011126055\n",
        "True"
       ]
      },
      {
       "output_type": "stream",
       "stream": "stdout",
       "text": [
        "\n",
        "0.979551135837 1.18111620203\n",
        "True"
       ]
      },
      {
       "output_type": "stream",
       "stream": "stdout",
       "text": [
        "\n",
        "0.630423266165 0.712234487926\n",
        "True"
       ]
      },
      {
       "output_type": "stream",
       "stream": "stdout",
       "text": [
        "\n",
        "1.27165519533 1.44040559845\n",
        "True"
       ]
      },
      {
       "output_type": "stream",
       "stream": "stdout",
       "text": [
        "\n",
        "1.03771055337 1.17300005784\n",
        "True"
       ]
      },
      {
       "output_type": "stream",
       "stream": "stdout",
       "text": [
        "\n",
        "1.08283256053 1.19720467748\n",
        "True"
       ]
      },
      {
       "output_type": "stream",
       "stream": "stdout",
       "text": [
        "\n",
        "1.30769584109 1.32893900125\n",
        "True"
       ]
      },
      {
       "output_type": "stream",
       "stream": "stdout",
       "text": [
        "\n",
        "0.992593194975 1.06350171265\n",
        "True"
       ]
      },
      {
       "output_type": "stream",
       "stream": "stdout",
       "text": [
        "\n",
        "0.948737119794 1.05434065812\n",
        "True"
       ]
      },
      {
       "output_type": "stream",
       "stream": "stdout",
       "text": [
        "\n",
        "1.016567584 1.16074420439\n",
        "True"
       ]
      },
      {
       "output_type": "stream",
       "stream": "stdout",
       "text": [
        "\n",
        "0.890973779082 1.20247917248\n",
        "True"
       ]
      },
      {
       "output_type": "stream",
       "stream": "stdout",
       "text": [
        "\n",
        "0.962030881838 1.12416223926\n",
        "True"
       ]
      },
      {
       "output_type": "stream",
       "stream": "stdout",
       "text": [
        "\n",
        "0.685779393933 0.832698720297\n",
        "True"
       ]
      },
      {
       "output_type": "stream",
       "stream": "stdout",
       "text": [
        "\n",
        "0.713334286701 0.828913820869\n",
        "False"
       ]
      },
      {
       "output_type": "stream",
       "stream": "stdout",
       "text": [
        "\n",
        "1.31393963906 1.26808004993\n",
        "True"
       ]
      },
      {
       "output_type": "stream",
       "stream": "stdout",
       "text": [
        "\n",
        "0.768620222301 0.960146822819\n",
        "False"
       ]
      },
      {
       "output_type": "stream",
       "stream": "stdout",
       "text": [
        "\n",
        "1.38415376518 1.22844712596\n",
        "True"
       ]
      },
      {
       "output_type": "stream",
       "stream": "stdout",
       "text": [
        "\n",
        "1.15364195662 1.19388510743\n",
        "True"
       ]
      },
      {
       "output_type": "stream",
       "stream": "stdout",
       "text": [
        "\n",
        "0.88182139224 0.940932030712\n",
        "True"
       ]
      },
      {
       "output_type": "stream",
       "stream": "stdout",
       "text": [
        "\n",
        "1.00270029834 1.05069386189\n",
        "True"
       ]
      },
      {
       "output_type": "stream",
       "stream": "stdout",
       "text": [
        "\n",
        "0.749566424008 0.999710637035\n",
        "True"
       ]
      },
      {
       "output_type": "stream",
       "stream": "stdout",
       "text": [
        "\n",
        "1.24227897931 1.25432584815\n",
        "True"
       ]
      },
      {
       "output_type": "stream",
       "stream": "stdout",
       "text": [
        "\n",
        "0.808550743069 1.03327553602\n",
        "True"
       ]
      },
      {
       "output_type": "stream",
       "stream": "stdout",
       "text": [
        "\n",
        "0.960836124117 1.16319021067\n",
        "False"
       ]
      },
      {
       "output_type": "stream",
       "stream": "stdout",
       "text": [
        "\n",
        "1.00911468559 0.94618520381\n",
        "False"
       ]
      },
      {
       "output_type": "stream",
       "stream": "stdout",
       "text": [
        "\n",
        "1.19212476065 1.14231317816\n",
        "True"
       ]
      },
      {
       "output_type": "stream",
       "stream": "stdout",
       "text": [
        "\n",
        "1.33379228445 1.35612465285\n",
        "True"
       ]
      },
      {
       "output_type": "stream",
       "stream": "stdout",
       "text": [
        "\n",
        "0.975017076458 1.10572633095\n",
        "False"
       ]
      },
      {
       "output_type": "stream",
       "stream": "stdout",
       "text": [
        "\n",
        "1.0941637959 1.07259097225\n",
        "True"
       ]
      },
      {
       "output_type": "stream",
       "stream": "stdout",
       "text": [
        "\n",
        "0.761547819941 0.890378730171\n",
        "True"
       ]
      },
      {
       "output_type": "stream",
       "stream": "stdout",
       "text": [
        "\n",
        "0.666973613974 0.768989394146\n",
        "True"
       ]
      },
      {
       "output_type": "stream",
       "stream": "stdout",
       "text": [
        "\n",
        "0.769478528663 0.941811318912\n",
        "True"
       ]
      },
      {
       "output_type": "stream",
       "stream": "stdout",
       "text": [
        "\n",
        "1.01537459331 1.18172059435\n",
        "True"
       ]
      },
      {
       "output_type": "stream",
       "stream": "stdout",
       "text": [
        "\n",
        "0.972038104554 1.14083428216\n",
        "True\n",
        "0.691517733793 0.729389846797\n",
        "True"
       ]
      },
      {
       "output_type": "stream",
       "stream": "stdout",
       "text": [
        "\n",
        "1.32315470378 1.37528593784\n",
        "True"
       ]
      },
      {
       "output_type": "stream",
       "stream": "stdout",
       "text": [
        "\n",
        "0.87708188108 0.984979618309\n",
        "True"
       ]
      },
      {
       "output_type": "stream",
       "stream": "stdout",
       "text": [
        "\n",
        "1.09162471839 1.15584291436\n",
        "True"
       ]
      },
      {
       "output_type": "stream",
       "stream": "stdout",
       "text": [
        "\n",
        "0.837054801318 0.873513811789\n",
        "True\n",
        "0.9482272472 0.976972521948\n",
        "True"
       ]
      },
      {
       "output_type": "stream",
       "stream": "stdout",
       "text": [
        "\n",
        "0.961219700053 1.06773738578\n",
        "False"
       ]
      },
      {
       "output_type": "stream",
       "stream": "stdout",
       "text": [
        "\n",
        "1.2350785458 1.11023787495\n",
        "False"
       ]
      },
      {
       "output_type": "stream",
       "stream": "stdout",
       "text": [
        "\n",
        "0.975110637751 0.928064659572\n",
        "True"
       ]
      },
      {
       "output_type": "stream",
       "stream": "stdout",
       "text": [
        "\n",
        "1.04130540534 1.18981888416\n",
        "True"
       ]
      },
      {
       "output_type": "stream",
       "stream": "stdout",
       "text": [
        "\n",
        "0.853019781417 1.03738503347\n",
        "True"
       ]
      },
      {
       "output_type": "stream",
       "stream": "stdout",
       "text": [
        "\n",
        "0.792337052747 1.09184343489\n",
        "True"
       ]
      },
      {
       "output_type": "stream",
       "stream": "stdout",
       "text": [
        "\n",
        "0.661344804549 0.767831451532\n",
        "True"
       ]
      },
      {
       "output_type": "stream",
       "stream": "stdout",
       "text": [
        "\n",
        "0.948667304464 1.02725001985\n",
        "True"
       ]
      },
      {
       "output_type": "stream",
       "stream": "stdout",
       "text": [
        "\n",
        "0.713071236118 0.97376490529\n",
        "True"
       ]
      },
      {
       "output_type": "stream",
       "stream": "stdout",
       "text": [
        "\n",
        "1.1887048281 1.32590006051\n",
        "False"
       ]
      },
      {
       "output_type": "stream",
       "stream": "stdout",
       "text": [
        "\n",
        "1.05143296896 0.967738471259\n",
        "True"
       ]
      },
      {
       "output_type": "stream",
       "stream": "stdout",
       "text": [
        "\n",
        "1.03003127235 1.10585164175\n",
        "False"
       ]
      },
      {
       "output_type": "stream",
       "stream": "stdout",
       "text": [
        "\n",
        "1.05428296596 1.01607450879\n",
        "True"
       ]
      },
      {
       "output_type": "stream",
       "stream": "stdout",
       "text": [
        "\n",
        "1.14266910176 1.33641225421\n",
        "False"
       ]
      },
      {
       "output_type": "stream",
       "stream": "stdout",
       "text": [
        "\n",
        "1.38400952574 1.17799461056\n",
        "False"
       ]
      },
      {
       "output_type": "stream",
       "stream": "stdout",
       "text": [
        "\n",
        "1.83928452379 1.56363228536\n",
        "True"
       ]
      },
      {
       "output_type": "stream",
       "stream": "stdout",
       "text": [
        "\n",
        "0.950954264904 1.03464711085\n",
        "True"
       ]
      },
      {
       "output_type": "stream",
       "stream": "stdout",
       "text": [
        "\n",
        "1.07313515746 1.19541967927\n",
        "True"
       ]
      },
      {
       "output_type": "stream",
       "stream": "stdout",
       "text": [
        "\n",
        "0.888654600987 1.01133566215\n",
        "False\n",
        "1.11502207478 1.10886156312\n",
        "False"
       ]
      },
      {
       "output_type": "stream",
       "stream": "stdout",
       "text": [
        "\n",
        "0.70394803802 0.692234335238\n",
        "True"
       ]
      },
      {
       "output_type": "stream",
       "stream": "stdout",
       "text": [
        "\n",
        "0.953522650682 1.11638490529\n",
        "False"
       ]
      },
      {
       "output_type": "stream",
       "stream": "stdout",
       "text": [
        "\n",
        "1.31800030604 1.08352631438\n",
        "True"
       ]
      },
      {
       "output_type": "stream",
       "stream": "stdout",
       "text": [
        "\n",
        "0.593585241417 0.789028757765\n",
        "False"
       ]
      },
      {
       "output_type": "stream",
       "stream": "stdout",
       "text": [
        "\n",
        "0.754596579912 0.719678888302\n",
        "True"
       ]
      },
      {
       "output_type": "stream",
       "stream": "stdout",
       "text": [
        "\n",
        "1.11780448942 1.12629039062\n",
        "True"
       ]
      },
      {
       "output_type": "stream",
       "stream": "stdout",
       "text": [
        "\n",
        "0.635778554063 0.663978058637\n",
        "False"
       ]
      },
      {
       "output_type": "stream",
       "stream": "stdout",
       "text": [
        "\n",
        "0.894669303365 0.823085132779\n",
        "True\n",
        "0.697961829957 0.856305394454\n",
        "True"
       ]
      },
      {
       "output_type": "stream",
       "stream": "stdout",
       "text": [
        "\n",
        "1.2949305837 1.36212986354\n",
        "True"
       ]
      },
      {
       "output_type": "stream",
       "stream": "stdout",
       "text": [
        "\n",
        "0.960963189765 1.18538011207\n",
        "False"
       ]
      },
      {
       "output_type": "stream",
       "stream": "stdout",
       "text": [
        "\n",
        "1.14213248944 1.03708994574\n",
        "True"
       ]
      },
      {
       "output_type": "stream",
       "stream": "stdout",
       "text": [
        "\n",
        "0.826768168263 0.950222189046\n",
        "True"
       ]
      },
      {
       "output_type": "stream",
       "stream": "stdout",
       "text": [
        "\n",
        "1.14737877943 1.38934582738\n",
        "True"
       ]
      },
      {
       "output_type": "stream",
       "stream": "stdout",
       "text": [
        "\n",
        "1.06276109603 1.18755051754\n",
        "False"
       ]
      },
      {
       "output_type": "stream",
       "stream": "stdout",
       "text": [
        "\n",
        "0.933205063214 0.821921867063\n",
        "True"
       ]
      },
      {
       "output_type": "stream",
       "stream": "stdout",
       "text": [
        "\n",
        "1.28311477995 1.29191675795\n",
        "True"
       ]
      },
      {
       "output_type": "stream",
       "stream": "stdout",
       "text": [
        "\n",
        "1.0648203871 1.19412140334\n",
        "False"
       ]
      },
      {
       "output_type": "stream",
       "stream": "stdout",
       "text": [
        "\n",
        "1.02662450995 1.01657274156\n",
        "True"
       ]
      },
      {
       "output_type": "stream",
       "stream": "stdout",
       "text": [
        "\n",
        "0.907861594085 1.05865206354\n",
        "True"
       ]
      },
      {
       "output_type": "stream",
       "stream": "stdout",
       "text": [
        "\n",
        "0.943682697094 0.991409686573\n",
        "True"
       ]
      },
      {
       "output_type": "stream",
       "stream": "stdout",
       "text": [
        "\n",
        "1.38371617713 1.55192275218\n",
        "True"
       ]
      },
      {
       "output_type": "stream",
       "stream": "stdout",
       "text": [
        "\n",
        "0.840098765757 0.930648597169\n",
        "True\n",
        "0.76467432022 0.874791435845\n",
        "True"
       ]
      },
      {
       "output_type": "stream",
       "stream": "stdout",
       "text": [
        "\n",
        "0.795768188974 0.873789302022\n",
        "True"
       ]
      },
      {
       "output_type": "stream",
       "stream": "stdout",
       "text": [
        "\n",
        "1.12892527145 1.25587883199\n",
        "True"
       ]
      },
      {
       "output_type": "stream",
       "stream": "stdout",
       "text": [
        "\n",
        "0.862655408295 1.0075587792\n",
        "True"
       ]
      },
      {
       "output_type": "stream",
       "stream": "stdout",
       "text": [
        "\n",
        "1.2734697342 1.34464010362\n",
        "True"
       ]
      },
      {
       "output_type": "stream",
       "stream": "stdout",
       "text": [
        "\n",
        "0.885597908603 1.03399023326\n",
        "True"
       ]
      },
      {
       "output_type": "stream",
       "stream": "stdout",
       "text": [
        "\n",
        "1.1359033499 1.15164479684\n",
        "False"
       ]
      },
      {
       "output_type": "stream",
       "stream": "stdout",
       "text": [
        "\n",
        "0.778129225768 0.75217135083\n",
        "True\n",
        "0.814818863659 0.892888590897\n",
        "True"
       ]
      },
      {
       "output_type": "stream",
       "stream": "stdout",
       "text": [
        "\n",
        "0.894515740202 0.966300307017\n",
        "True"
       ]
      },
      {
       "output_type": "stream",
       "stream": "stdout",
       "text": [
        "\n",
        "0.842724384514 0.868108733514\n",
        "False"
       ]
      },
      {
       "output_type": "stream",
       "stream": "stdout",
       "text": [
        "\n",
        "1.58779312971 1.51510909032\n",
        "True"
       ]
      },
      {
       "output_type": "stream",
       "stream": "stdout",
       "text": [
        "\n",
        "1.44152798799 1.46983414426\n",
        "True"
       ]
      },
      {
       "output_type": "stream",
       "stream": "stdout",
       "text": [
        "\n",
        "1.2923142356 1.41353272227\n",
        "True"
       ]
      },
      {
       "output_type": "stream",
       "stream": "stdout",
       "text": [
        "\n",
        "0.958734708422 1.0391260365\n",
        "True\n",
        "0.908832347979 0.934788203358\n",
        "True"
       ]
      },
      {
       "output_type": "stream",
       "stream": "stdout",
       "text": [
        "\n",
        "0.682096291051 0.785353452499\n",
        "True\n",
        "0.847219879933 0.894116572067\n",
        "True"
       ]
      },
      {
       "output_type": "stream",
       "stream": "stdout",
       "text": [
        "\n",
        "0.677931878952 0.842950914843\n",
        "True"
       ]
      },
      {
       "output_type": "stream",
       "stream": "stdout",
       "text": [
        "\n",
        "1.19570039089 1.59959271233\n",
        "True"
       ]
      },
      {
       "output_type": "stream",
       "stream": "stdout",
       "text": [
        "\n",
        "1.00441013134 1.15802113512\n",
        "True"
       ]
      },
      {
       "output_type": "stream",
       "stream": "stdout",
       "text": [
        "\n",
        "1.0404579983 1.06770719935\n",
        "True"
       ]
      },
      {
       "output_type": "stream",
       "stream": "stdout",
       "text": [
        "\n",
        "0.80292652701 1.04216034935\n",
        "True"
       ]
      },
      {
       "output_type": "stream",
       "stream": "stdout",
       "text": [
        "\n",
        "0.8016395817 0.965231464526\n",
        "True"
       ]
      },
      {
       "output_type": "stream",
       "stream": "stdout",
       "text": [
        "\n",
        "1.54063006242 1.6138949644\n",
        "True"
       ]
      },
      {
       "output_type": "stream",
       "stream": "stdout",
       "text": [
        "\n",
        "1.29407031923 1.33560951001\n",
        "False"
       ]
      },
      {
       "output_type": "stream",
       "stream": "stdout",
       "text": [
        "\n",
        "1.03165329656 0.894550663384\n",
        "True"
       ]
      },
      {
       "output_type": "stream",
       "stream": "stdout",
       "text": [
        "\n",
        "0.993973968736 1.01742193425\n",
        "True"
       ]
      },
      {
       "output_type": "stream",
       "stream": "stdout",
       "text": [
        "\n",
        "0.967010071911 1.0081900191\n",
        "True"
       ]
      },
      {
       "output_type": "stream",
       "stream": "stdout",
       "text": [
        "\n",
        "0.685181589817 0.839879141903\n",
        "False\n",
        "0.801385175565 0.747681601872\n",
        "False"
       ]
      },
      {
       "output_type": "stream",
       "stream": "stdout",
       "text": [
        "\n",
        "1.27771643313 1.24629254855\n",
        "True"
       ]
      },
      {
       "output_type": "stream",
       "stream": "stdout",
       "text": [
        "\n",
        "0.857538967287 0.916589359758\n",
        "True"
       ]
      },
      {
       "output_type": "stream",
       "stream": "stdout",
       "text": [
        "\n",
        "0.884061075153 0.991996029452\n",
        "True"
       ]
      },
      {
       "output_type": "stream",
       "stream": "stdout",
       "text": [
        "\n",
        "0.844251439347 1.07991192724\n",
        "True"
       ]
      },
      {
       "output_type": "stream",
       "stream": "stdout",
       "text": [
        "\n",
        "0.840525081617 1.05596112154\n",
        "True"
       ]
      },
      {
       "output_type": "stream",
       "stream": "stdout",
       "text": [
        "\n",
        "0.649498503872 0.837250430996\n",
        "True"
       ]
      },
      {
       "output_type": "stream",
       "stream": "stdout",
       "text": [
        "\n",
        "1.08966140084 1.11842880585\n",
        "True"
       ]
      },
      {
       "output_type": "stream",
       "stream": "stdout",
       "text": [
        "\n",
        "1.01062643673 1.10966389794\n",
        "True"
       ]
      },
      {
       "output_type": "stream",
       "stream": "stdout",
       "text": [
        "\n",
        "0.82353242071 1.04416752671\n",
        "True"
       ]
      },
      {
       "output_type": "stream",
       "stream": "stdout",
       "text": [
        "\n",
        "0.730661831242 1.0673229318\n",
        "False"
       ]
      },
      {
       "output_type": "stream",
       "stream": "stdout",
       "text": [
        "\n",
        "1.06791448944 1.03767598328\n",
        "True"
       ]
      },
      {
       "output_type": "stream",
       "stream": "stdout",
       "text": [
        "\n",
        "1.1161389101 1.23575771868\n",
        "True"
       ]
      },
      {
       "output_type": "stream",
       "stream": "stdout",
       "text": [
        "\n",
        "0.8242817149 0.989265286945\n",
        "True"
       ]
      },
      {
       "output_type": "stream",
       "stream": "stdout",
       "text": [
        "\n",
        "1.21291640352 1.70212285756\n",
        "True"
       ]
      },
      {
       "output_type": "stream",
       "stream": "stdout",
       "text": [
        "\n",
        "0.789585820121 0.898625302805\n",
        "True"
       ]
      },
      {
       "output_type": "stream",
       "stream": "stdout",
       "text": [
        "\n",
        "0.995014768877 1.05763391593\n",
        "False\n",
        "1.28021113904 1.27975692136\n",
        "True"
       ]
      },
      {
       "output_type": "stream",
       "stream": "stdout",
       "text": [
        "\n",
        "0.996430351352 1.07436812364\n",
        "True"
       ]
      },
      {
       "output_type": "stream",
       "stream": "stdout",
       "text": [
        "\n",
        "1.17722539418 1.3561377772\n",
        "True"
       ]
      },
      {
       "output_type": "stream",
       "stream": "stdout",
       "text": [
        "\n",
        "1.07670759584 1.16039209342\n",
        "True"
       ]
      },
      {
       "output_type": "stream",
       "stream": "stdout",
       "text": [
        "\n",
        "1.47122810004 1.55222314807\n",
        "True"
       ]
      },
      {
       "output_type": "stream",
       "stream": "stdout",
       "text": [
        "\n",
        "0.833042756833 0.833511240417\n",
        "False"
       ]
      },
      {
       "output_type": "stream",
       "stream": "stdout",
       "text": [
        "\n",
        "1.1231710448 1.02531135946\n",
        "True"
       ]
      },
      {
       "output_type": "stream",
       "stream": "stdout",
       "text": [
        "\n",
        "1.08545024255 1.28631766345\n",
        "True"
       ]
      },
      {
       "output_type": "stream",
       "stream": "stdout",
       "text": [
        "\n",
        "0.667174782407 0.839508798618\n",
        "False"
       ]
      },
      {
       "output_type": "stream",
       "stream": "stdout",
       "text": [
        "\n",
        "1.17655836069 1.17398942609\n",
        "False"
       ]
      },
      {
       "output_type": "stream",
       "stream": "stdout",
       "text": [
        "\n",
        "1.43678040665 1.37982589358\n",
        "True"
       ]
      },
      {
       "output_type": "stream",
       "stream": "stdout",
       "text": [
        "\n",
        "0.770558852054 0.897619258468\n",
        "True"
       ]
      },
      {
       "output_type": "stream",
       "stream": "stdout",
       "text": [
        "\n",
        "0.790948713522 0.842511307829\n",
        "True"
       ]
      },
      {
       "output_type": "stream",
       "stream": "stdout",
       "text": [
        "\n",
        "0.825208311761 0.895329674616\n",
        "True"
       ]
      },
      {
       "output_type": "stream",
       "stream": "stdout",
       "text": [
        "\n",
        "0.812784361089 1.01809304582\n",
        "True"
       ]
      },
      {
       "output_type": "stream",
       "stream": "stdout",
       "text": [
        "\n",
        "1.32634024152 1.38768491984\n",
        "True"
       ]
      },
      {
       "output_type": "stream",
       "stream": "stdout",
       "text": [
        "\n",
        "0.697196393833 0.822320262606\n",
        "True"
       ]
      },
      {
       "output_type": "stream",
       "stream": "stdout",
       "text": [
        "\n",
        "1.57695319845 1.67311677055\n",
        "True"
       ]
      },
      {
       "output_type": "stream",
       "stream": "stdout",
       "text": [
        "\n",
        "0.889696357186 0.979274652765\n",
        "True"
       ]
      },
      {
       "output_type": "stream",
       "stream": "stdout",
       "text": [
        "\n",
        "0.862492570016 0.919066122468\n",
        "True"
       ]
      },
      {
       "output_type": "stream",
       "stream": "stdout",
       "text": [
        "\n",
        "0.934583371527 1.22316360281\n",
        "True"
       ]
      },
      {
       "output_type": "stream",
       "stream": "stdout",
       "text": [
        "\n",
        "1.23327207463 1.32021603579\n",
        "True"
       ]
      },
      {
       "output_type": "stream",
       "stream": "stdout",
       "text": [
        "\n",
        "0.988735786194 1.13225793614\n",
        "True"
       ]
      },
      {
       "output_type": "stream",
       "stream": "stdout",
       "text": [
        "\n",
        "0.751960649455 0.849919964219\n",
        "True"
       ]
      },
      {
       "output_type": "stream",
       "stream": "stdout",
       "text": [
        "\n",
        "0.862589987647 0.930075621084\n",
        "True"
       ]
      },
      {
       "output_type": "stream",
       "stream": "stdout",
       "text": [
        "\n",
        "0.926216091836 1.08274419225\n",
        "False"
       ]
      },
      {
       "output_type": "stream",
       "stream": "stdout",
       "text": [
        "\n",
        "1.58991772443 1.52027223831\n",
        "True"
       ]
      },
      {
       "output_type": "stream",
       "stream": "stdout",
       "text": [
        "\n",
        "1.22113346827 1.44957548695\n",
        "True"
       ]
      },
      {
       "output_type": "stream",
       "stream": "stdout",
       "text": [
        "\n",
        "1.1380133302 1.14443918123\n",
        "False"
       ]
      },
      {
       "output_type": "stream",
       "stream": "stdout",
       "text": [
        "\n",
        "0.967274969112 0.919161917701\n",
        "True"
       ]
      },
      {
       "output_type": "stream",
       "stream": "stdout",
       "text": [
        "\n",
        "0.886201074718 0.905391594455\n",
        "False"
       ]
      },
      {
       "output_type": "stream",
       "stream": "stdout",
       "text": [
        "\n",
        "0.83033823426 0.801006727846\n",
        "False"
       ]
      },
      {
       "output_type": "stream",
       "stream": "stdout",
       "text": [
        "\n",
        "0.929222131143 0.929127220554\n",
        "True"
       ]
      },
      {
       "output_type": "stream",
       "stream": "stdout",
       "text": [
        "\n",
        "0.798109876648 0.832713914443\n",
        "True"
       ]
      },
      {
       "output_type": "stream",
       "stream": "stdout",
       "text": [
        "\n",
        "1.17761080259 1.19160939079\n",
        "True\n",
        "0.638641256166 0.691242618785\n",
        "True"
       ]
      },
      {
       "output_type": "stream",
       "stream": "stdout",
       "text": [
        "\n",
        "0.809959253789 0.919244068627\n",
        "True"
       ]
      },
      {
       "output_type": "stream",
       "stream": "stdout",
       "text": [
        "\n",
        "1.27389230244 1.29836990795\n",
        "True"
       ]
      },
      {
       "output_type": "stream",
       "stream": "stdout",
       "text": [
        "\n",
        "1.1707664857 1.54410467885\n",
        "True"
       ]
      },
      {
       "output_type": "stream",
       "stream": "stdout",
       "text": [
        "\n",
        "0.999080061223 1.14117123798\n",
        "False"
       ]
      },
      {
       "output_type": "stream",
       "stream": "stdout",
       "text": [
        "\n",
        "1.10845420968 0.754247233266\n",
        "True"
       ]
      },
      {
       "output_type": "stream",
       "stream": "stdout",
       "text": [
        "\n",
        "0.840465981264 0.846864225046\n",
        "True"
       ]
      },
      {
       "output_type": "stream",
       "stream": "stdout",
       "text": [
        "\n",
        "1.00489183912 1.0743428757\n",
        "False"
       ]
      },
      {
       "output_type": "stream",
       "stream": "stdout",
       "text": [
        "\n",
        "1.23885868517 1.10556506072\n",
        "True"
       ]
      },
      {
       "output_type": "stream",
       "stream": "stdout",
       "text": [
        "\n",
        "1.12685714713 1.34468392409\n",
        "True"
       ]
      },
      {
       "output_type": "stream",
       "stream": "stdout",
       "text": [
        "\n",
        "0.852798348204 0.949767262081\n",
        "True"
       ]
      },
      {
       "output_type": "stream",
       "stream": "stdout",
       "text": [
        "\n",
        "1.18117600049 1.20055259386\n",
        "True"
       ]
      },
      {
       "output_type": "stream",
       "stream": "stdout",
       "text": [
        "\n",
        "0.713925011866 0.878223655746\n",
        "True"
       ]
      },
      {
       "output_type": "stream",
       "stream": "stdout",
       "text": [
        "\n",
        "0.957057849333 1.08484177322\n",
        "True"
       ]
      },
      {
       "output_type": "stream",
       "stream": "stdout",
       "text": [
        "\n",
        "0.748873803664 0.941047960708\n",
        "True\n",
        "0.65003040248 0.688446318411\n",
        "True"
       ]
      },
      {
       "output_type": "stream",
       "stream": "stdout",
       "text": [
        "\n",
        "0.88679732372 0.992400567277\n",
        "True"
       ]
      },
      {
       "output_type": "stream",
       "stream": "stdout",
       "text": [
        "\n",
        "0.921515436315 1.04678180237\n",
        "True"
       ]
      },
      {
       "output_type": "stream",
       "stream": "stdout",
       "text": [
        "\n",
        "1.19279204043 1.35541458103\n",
        "True"
       ]
      },
      {
       "output_type": "stream",
       "stream": "stdout",
       "text": [
        "\n",
        "0.902243148613 0.969941590729\n",
        "True"
       ]
      },
      {
       "output_type": "stream",
       "stream": "stdout",
       "text": [
        "\n",
        "0.96374322261 0.96784362267\n",
        "True"
       ]
      },
      {
       "output_type": "stream",
       "stream": "stdout",
       "text": [
        "\n",
        "1.37988614944 1.42907868505\n",
        "True\n",
        "0.681735136819 0.779788780886\n",
        "False"
       ]
      },
      {
       "output_type": "stream",
       "stream": "stdout",
       "text": [
        "\n",
        "1.44017940762 1.23008832364\n",
        "False"
       ]
      },
      {
       "output_type": "stream",
       "stream": "stdout",
       "text": [
        "\n",
        "1.03171198661 0.881233331433\n",
        "True"
       ]
      },
      {
       "output_type": "stream",
       "stream": "stdout",
       "text": [
        "\n",
        "0.777300437771 0.826125074604\n",
        "True"
       ]
      },
      {
       "output_type": "stream",
       "stream": "stdout",
       "text": [
        "\n",
        "0.879431215713 1.00098756878\n",
        "True"
       ]
      },
      {
       "output_type": "stream",
       "stream": "stdout",
       "text": [
        "\n",
        "0.9054591604 1.07186234605\n",
        "False"
       ]
      },
      {
       "output_type": "stream",
       "stream": "stdout",
       "text": [
        "\n",
        "1.19493849417 1.16413194093\n",
        "True\n",
        "0.82636074554 1.15088874679\n",
        "True"
       ]
      },
      {
       "output_type": "stream",
       "stream": "stdout",
       "text": [
        "\n",
        "0.616810930535 0.934141007122\n",
        "True"
       ]
      },
      {
       "output_type": "stream",
       "stream": "stdout",
       "text": [
        "\n",
        "0.836016388261 1.17019345972\n",
        "True"
       ]
      },
      {
       "output_type": "stream",
       "stream": "stdout",
       "text": [
        "\n",
        "1.15911690955 1.43358255043\n",
        "False"
       ]
      },
      {
       "output_type": "stream",
       "stream": "stdout",
       "text": [
        "\n",
        "1.02007034386 0.992255860301\n",
        "True"
       ]
      },
      {
       "output_type": "stream",
       "stream": "stdout",
       "text": [
        "\n",
        "0.829170541346 1.00951893728\n",
        "True"
       ]
      },
      {
       "output_type": "stream",
       "stream": "stdout",
       "text": [
        "\n",
        "0.739945844831 0.88663132384\n",
        "True"
       ]
      },
      {
       "output_type": "stream",
       "stream": "stdout",
       "text": [
        "\n",
        "0.734023739138 0.753359298072\n",
        "True"
       ]
      },
      {
       "output_type": "stream",
       "stream": "stdout",
       "text": [
        "\n",
        "0.784316837965 1.00719720814\n",
        "True"
       ]
      },
      {
       "output_type": "stream",
       "stream": "stdout",
       "text": [
        "\n",
        "0.546286592757 0.611543586763\n",
        "True"
       ]
      },
      {
       "output_type": "stream",
       "stream": "stdout",
       "text": [
        "\n",
        "0.742709489297 1.07576140524\n",
        "True"
       ]
      },
      {
       "output_type": "stream",
       "stream": "stdout",
       "text": [
        "\n",
        "0.814362851738 0.838703153116\n",
        "True\n",
        "0.826861918661 0.912813449799\n",
        "False"
       ]
      },
      {
       "output_type": "stream",
       "stream": "stdout",
       "text": [
        "\n",
        "1.33235240499 1.2099483631\n",
        "False"
       ]
      },
      {
       "output_type": "stream",
       "stream": "stdout",
       "text": [
        "\n",
        "1.01956206256 1.00119651456\n",
        "True"
       ]
      },
      {
       "output_type": "stream",
       "stream": "stdout",
       "text": [
        "\n",
        "1.17619361533 1.23305043759\n",
        "True"
       ]
      },
      {
       "output_type": "stream",
       "stream": "stdout",
       "text": [
        "\n",
        "0.925826768993 1.06848530664\n",
        "True"
       ]
      },
      {
       "output_type": "stream",
       "stream": "stdout",
       "text": [
        "\n",
        "0.731735769401 0.862911070979\n",
        "True\n",
        "0.632018781574 0.82507618535\n",
        "False"
       ]
      },
      {
       "output_type": "stream",
       "stream": "stdout",
       "text": [
        "\n",
        "0.870650112577 0.835933443656\n",
        "True"
       ]
      },
      {
       "output_type": "stream",
       "stream": "stdout",
       "text": [
        "\n",
        "1.15949274528 1.16081673789\n",
        "True"
       ]
      },
      {
       "output_type": "stream",
       "stream": "stdout",
       "text": [
        "\n",
        "0.923927474633 1.0511691734\n",
        "True"
       ]
      },
      {
       "output_type": "stream",
       "stream": "stdout",
       "text": [
        "\n",
        "1.20094524601 1.20955662559\n",
        "False"
       ]
      },
      {
       "output_type": "stream",
       "stream": "stdout",
       "text": [
        "\n",
        "1.21463340205 1.16161605182\n",
        "True"
       ]
      },
      {
       "output_type": "stream",
       "stream": "stdout",
       "text": [
        "\n",
        "0.868708145217 0.927473973343\n",
        "True"
       ]
      },
      {
       "output_type": "stream",
       "stream": "stdout",
       "text": [
        "\n",
        "0.839633593024 1.06169986272\n",
        "True"
       ]
      },
      {
       "output_type": "stream",
       "stream": "stdout",
       "text": [
        "\n",
        "0.635931803855 0.810883877467\n",
        "True"
       ]
      },
      {
       "output_type": "stream",
       "stream": "stdout",
       "text": [
        "\n",
        "0.807999252461 1.07436003158\n",
        "True"
       ]
      },
      {
       "output_type": "stream",
       "stream": "stdout",
       "text": [
        "\n",
        "0.754791352473 0.996425929817\n",
        "False"
       ]
      },
      {
       "output_type": "stream",
       "stream": "stdout",
       "text": [
        "\n",
        "0.791340448191 0.788220815658\n",
        "True"
       ]
      },
      {
       "output_type": "stream",
       "stream": "stdout",
       "text": [
        "\n",
        "0.978317238893 1.18524782104\n",
        "True"
       ]
      },
      {
       "output_type": "stream",
       "stream": "stdout",
       "text": [
        "\n",
        "0.929171762151 1.0732818059\n",
        "True"
       ]
      },
      {
       "output_type": "stream",
       "stream": "stdout",
       "text": [
        "\n",
        "0.730678116124 0.825525239726\n",
        "True"
       ]
      },
      {
       "output_type": "stream",
       "stream": "stdout",
       "text": [
        "\n",
        "0.794276769476 0.91323724605\n",
        "False"
       ]
      },
      {
       "output_type": "stream",
       "stream": "stdout",
       "text": [
        "\n",
        "1.68034566461 1.11455023315\n",
        "True"
       ]
      },
      {
       "output_type": "stream",
       "stream": "stdout",
       "text": [
        "\n",
        "0.921098405064 0.978772916921\n",
        "False"
       ]
      },
      {
       "output_type": "stream",
       "stream": "stdout",
       "text": [
        "\n",
        "0.883525743266 0.879452954967\n",
        "True"
       ]
      },
      {
       "output_type": "stream",
       "stream": "stdout",
       "text": [
        "\n",
        "0.930284775545 1.30041846812\n",
        "True"
       ]
      },
      {
       "output_type": "stream",
       "stream": "stdout",
       "text": [
        "\n",
        "0.971727736392 1.048558669\n",
        "True"
       ]
      },
      {
       "output_type": "stream",
       "stream": "stdout",
       "text": [
        "\n",
        "1.02574752854 1.08524954693\n",
        "True"
       ]
      },
      {
       "output_type": "stream",
       "stream": "stdout",
       "text": [
        "\n",
        "0.931710054344 1.05512143851\n",
        "True"
       ]
      },
      {
       "output_type": "stream",
       "stream": "stdout",
       "text": [
        "\n",
        "0.929311264745 1.03877148681\n",
        "False"
       ]
      },
      {
       "output_type": "stream",
       "stream": "stdout",
       "text": [
        "\n",
        "0.784405513444 0.766214100224\n",
        "False"
       ]
      },
      {
       "output_type": "stream",
       "stream": "stdout",
       "text": [
        "\n",
        "1.07905382846 1.0434983895\n",
        "True"
       ]
      },
      {
       "output_type": "stream",
       "stream": "stdout",
       "text": [
        "\n",
        "1.14951321799 1.44440628765\n",
        "True"
       ]
      },
      {
       "output_type": "stream",
       "stream": "stdout",
       "text": [
        "\n",
        "0.846033181343 0.88616656792\n",
        "True"
       ]
      },
      {
       "output_type": "stream",
       "stream": "stdout",
       "text": [
        "\n",
        "0.896362876259 0.934854695823\n",
        "True"
       ]
      },
      {
       "output_type": "stream",
       "stream": "stdout",
       "text": [
        "\n",
        "0.845464539305 1.01330403404\n",
        "True"
       ]
      },
      {
       "output_type": "stream",
       "stream": "stdout",
       "text": [
        "\n",
        "1.11256906446 1.16010155978\n",
        "True"
       ]
      },
      {
       "output_type": "stream",
       "stream": "stdout",
       "text": [
        "\n",
        "0.842934628173 0.936988348218\n",
        "True"
       ]
      },
      {
       "output_type": "stream",
       "stream": "stdout",
       "text": [
        "\n",
        "1.28932708653 1.45791749642\n",
        "False\n",
        "0.903917052732 0.875763608741\n",
        "True"
       ]
      },
      {
       "output_type": "stream",
       "stream": "stdout",
       "text": [
        "\n",
        "0.960312438757 1.04293471579\n",
        "True"
       ]
      },
      {
       "output_type": "stream",
       "stream": "stdout",
       "text": [
        "\n",
        "0.691559021241 0.892589000846\n",
        "True"
       ]
      },
      {
       "output_type": "stream",
       "stream": "stdout",
       "text": [
        "\n",
        "0.787310683122 0.865401790952\n",
        "True"
       ]
      },
      {
       "output_type": "stream",
       "stream": "stdout",
       "text": [
        "\n",
        "0.704814559224 0.746386419513\n",
        "True"
       ]
      },
      {
       "output_type": "stream",
       "stream": "stdout",
       "text": [
        "\n",
        "0.748086255651 0.840987993935\n",
        "True"
       ]
      },
      {
       "output_type": "stream",
       "stream": "stdout",
       "text": [
        "\n",
        "0.729197994894 1.01050500697\n",
        "False"
       ]
      },
      {
       "output_type": "stream",
       "stream": "stdout",
       "text": [
        "\n",
        "0.853316747003 0.821532306567\n",
        "True"
       ]
      },
      {
       "output_type": "stream",
       "stream": "stdout",
       "text": [
        "\n",
        "0.982206759648 1.13776325913\n",
        "True"
       ]
      },
      {
       "output_type": "stream",
       "stream": "stdout",
       "text": [
        "\n",
        "1.17281530482 1.24176099302\n",
        "True"
       ]
      },
      {
       "output_type": "stream",
       "stream": "stdout",
       "text": [
        "\n",
        "0.878126921661 0.921067654467\n",
        "True"
       ]
      },
      {
       "output_type": "stream",
       "stream": "stdout",
       "text": [
        "\n",
        "0.627568887205 0.92342882982\n",
        "True"
       ]
      },
      {
       "output_type": "stream",
       "stream": "stdout",
       "text": [
        "\n",
        "0.646016042114 0.827861558496\n",
        "True"
       ]
      },
      {
       "output_type": "stream",
       "stream": "stdout",
       "text": [
        "\n",
        "0.731169909087 0.732573294216\n",
        "False"
       ]
      },
      {
       "output_type": "stream",
       "stream": "stdout",
       "text": [
        "\n",
        "1.10309205664 1.0756768953\n",
        "True"
       ]
      },
      {
       "output_type": "stream",
       "stream": "stdout",
       "text": [
        "\n",
        "0.801948157407 0.959316872251\n",
        "True"
       ]
      },
      {
       "output_type": "stream",
       "stream": "stdout",
       "text": [
        "\n",
        "0.99126569069 1.00511741954\n",
        "True"
       ]
      },
      {
       "output_type": "stream",
       "stream": "stdout",
       "text": [
        "\n",
        "0.831796432504 0.918219872803\n",
        "True"
       ]
      },
      {
       "output_type": "stream",
       "stream": "stdout",
       "text": [
        "\n",
        "1.2343814686 1.25717848729\n",
        "True"
       ]
      },
      {
       "output_type": "stream",
       "stream": "stdout",
       "text": [
        "\n",
        "1.14121927332 1.31885643541\n",
        "True"
       ]
      },
      {
       "output_type": "stream",
       "stream": "stdout",
       "text": [
        "\n",
        "0.980856861973 1.11358638005\n",
        "True"
       ]
      },
      {
       "output_type": "stream",
       "stream": "stdout",
       "text": [
        "\n",
        "0.93173948081 0.961919995364\n",
        "True"
       ]
      },
      {
       "output_type": "stream",
       "stream": "stdout",
       "text": [
        "\n",
        "0.771719005631 0.918947877104\n",
        "False"
       ]
      },
      {
       "output_type": "stream",
       "stream": "stdout",
       "text": [
        "\n",
        "1.30262275315 1.20775729596\n",
        "True"
       ]
      },
      {
       "output_type": "stream",
       "stream": "stdout",
       "text": [
        "\n",
        "1.02096395151 1.17880063308\n",
        "True"
       ]
      },
      {
       "output_type": "stream",
       "stream": "stdout",
       "text": [
        "\n",
        "1.19367007092 1.36091558174\n",
        "True"
       ]
      },
      {
       "output_type": "stream",
       "stream": "stdout",
       "text": [
        "\n",
        "0.928570235662 1.10160421401\n",
        "True"
       ]
      },
      {
       "output_type": "stream",
       "stream": "stdout",
       "text": [
        "\n",
        "0.785411145875 1.04616298013\n",
        "True"
       ]
      },
      {
       "output_type": "stream",
       "stream": "stdout",
       "text": [
        "\n",
        "0.737959280779 0.954490260861\n",
        "True"
       ]
      },
      {
       "output_type": "stream",
       "stream": "stdout",
       "text": [
        "\n",
        "1.03045961652 1.18292440721\n",
        "True"
       ]
      },
      {
       "output_type": "stream",
       "stream": "stdout",
       "text": [
        "\n",
        "1.20402751518 1.35243997851\n",
        "True"
       ]
      },
      {
       "output_type": "stream",
       "stream": "stdout",
       "text": [
        "\n",
        "0.685196824616 0.709573178747\n",
        "True"
       ]
      },
      {
       "output_type": "stream",
       "stream": "stdout",
       "text": [
        "\n",
        "1.00955171521 1.09199727996\n",
        "True\n",
        "0.264209059515 0.850544555211\n",
        "False"
       ]
      },
      {
       "output_type": "stream",
       "stream": "stdout",
       "text": [
        "\n",
        "0.972527833364 0.933756299281\n",
        "True\n",
        "1.11923030845 1.20208164717\n",
        "True"
       ]
      },
      {
       "output_type": "stream",
       "stream": "stdout",
       "text": [
        "\n",
        "1.05807466242 1.34916729331\n",
        "True"
       ]
      },
      {
       "output_type": "stream",
       "stream": "stdout",
       "text": [
        "\n",
        "0.864273257019 0.865529740034\n",
        "False"
       ]
      },
      {
       "output_type": "stream",
       "stream": "stdout",
       "text": [
        "\n",
        "0.751260833543 0.47904912831\n",
        "True\n",
        "0.99725978051 1.12697015417\n",
        "True"
       ]
      },
      {
       "output_type": "stream",
       "stream": "stdout",
       "text": [
        "\n",
        "0.728785359883 0.944276957249\n",
        "False"
       ]
      },
      {
       "output_type": "stream",
       "stream": "stdout",
       "text": [
        "\n",
        "1.28287884184 1.1969134458\n",
        "True\n",
        "0.594297664914 0.791080361322\n",
        "True"
       ]
      },
      {
       "output_type": "stream",
       "stream": "stdout",
       "text": [
        "\n",
        "0.674326375378 0.853359388371\n",
        "True"
       ]
      },
      {
       "output_type": "stream",
       "stream": "stdout",
       "text": [
        "\n",
        "0.821725748675 0.980864858546\n",
        "True"
       ]
      },
      {
       "output_type": "stream",
       "stream": "stdout",
       "text": [
        "\n",
        "1.42341218668 1.54645924588\n",
        "True"
       ]
      },
      {
       "output_type": "stream",
       "stream": "stdout",
       "text": [
        "\n",
        "1.15433165673 1.28897139899\n",
        "True"
       ]
      },
      {
       "output_type": "stream",
       "stream": "stdout",
       "text": [
        "\n",
        "0.929187704314 1.10252236057\n",
        "True"
       ]
      },
      {
       "output_type": "stream",
       "stream": "stdout",
       "text": [
        "\n",
        "0.994803552796 1.18746312522\n",
        "False"
       ]
      },
      {
       "output_type": "stream",
       "stream": "stdout",
       "text": [
        "\n",
        "1.22001020924 1.12966965762\n",
        "True\n",
        "0.565179237321 0.821932179672\n",
        "True"
       ]
      },
      {
       "output_type": "stream",
       "stream": "stdout",
       "text": [
        "\n",
        "0.94759277471 1.13493706548\n",
        "True"
       ]
      },
      {
       "output_type": "stream",
       "stream": "stdout",
       "text": [
        "\n",
        "0.721988098528 1.11595486517\n",
        "True"
       ]
      },
      {
       "output_type": "stream",
       "stream": "stdout",
       "text": [
        "\n",
        "0.904952497887 0.960980281153\n",
        "False"
       ]
      },
      {
       "output_type": "stream",
       "stream": "stdout",
       "text": [
        "\n",
        "1.01101115133 0.98072892011\n",
        "False"
       ]
      },
      {
       "output_type": "stream",
       "stream": "stdout",
       "text": [
        "\n",
        "0.898733472553 0.702184478548\n",
        "True"
       ]
      },
      {
       "output_type": "stream",
       "stream": "stdout",
       "text": [
        "\n",
        "0.886504083701 0.965340508748\n",
        "True"
       ]
      },
      {
       "output_type": "stream",
       "stream": "stdout",
       "text": [
        "\n",
        "1.21539337228 1.31960848796\n",
        "True\n",
        "0.778388347679 0.954758935989\n",
        "True"
       ]
      },
      {
       "output_type": "stream",
       "stream": "stdout",
       "text": [
        "\n",
        "0.579382445899 0.734206790631\n",
        "True"
       ]
      },
      {
       "output_type": "stream",
       "stream": "stdout",
       "text": [
        "\n",
        "0.73712664198 1.03742919924\n",
        "True"
       ]
      },
      {
       "output_type": "stream",
       "stream": "stdout",
       "text": [
        "\n",
        "0.673345133795 0.833179005898\n",
        "True"
       ]
      },
      {
       "output_type": "stream",
       "stream": "stdout",
       "text": [
        "\n",
        "0.738198714901 0.955255622669\n",
        "True"
       ]
      },
      {
       "output_type": "stream",
       "stream": "stdout",
       "text": [
        "\n",
        "0.762194081815 0.916508476876\n",
        "True"
       ]
      },
      {
       "output_type": "stream",
       "stream": "stdout",
       "text": [
        "\n",
        "0.791385261854 1.13919367427\n",
        "False"
       ]
      },
      {
       "output_type": "stream",
       "stream": "stdout",
       "text": [
        "\n",
        "1.27926782005 1.05325398118\n",
        "True"
       ]
      },
      {
       "output_type": "stream",
       "stream": "stdout",
       "text": [
        "\n",
        "0.849014640641 0.853991559848\n",
        "True\n",
        "0.524206039267 0.581924283846\n",
        "True"
       ]
      },
      {
       "output_type": "stream",
       "stream": "stdout",
       "text": [
        "\n",
        "1.19535704062 1.23765572029\n",
        "False"
       ]
      },
      {
       "output_type": "stream",
       "stream": "stdout",
       "text": [
        "\n",
        "0.899950215373 0.818375926111\n",
        "True"
       ]
      },
      {
       "output_type": "stream",
       "stream": "stdout",
       "text": [
        "\n",
        "1.07460047313 1.21858413393\n",
        "False"
       ]
      },
      {
       "output_type": "stream",
       "stream": "stdout",
       "text": [
        "\n",
        "0.942339444113 0.863840027073\n",
        "True"
       ]
      },
      {
       "output_type": "stream",
       "stream": "stdout",
       "text": [
        "\n",
        "0.802412470005 1.04656616515\n",
        "True"
       ]
      },
      {
       "output_type": "stream",
       "stream": "stdout",
       "text": [
        "\n",
        "1.17737178201 1.2340133332\n",
        "True"
       ]
      },
      {
       "output_type": "stream",
       "stream": "stdout",
       "text": [
        "\n",
        "0.882653485966 1.01587798103\n",
        "True"
       ]
      },
      {
       "output_type": "stream",
       "stream": "stdout",
       "text": [
        "\n",
        "0.951855666854 1.17506626421\n",
        "False"
       ]
      },
      {
       "output_type": "stream",
       "stream": "stdout",
       "text": [
        "\n",
        "0.88269763152 0.820755687563\n",
        "True"
       ]
      },
      {
       "output_type": "stream",
       "stream": "stdout",
       "text": [
        "\n",
        "0.766111278878 0.989411821619\n",
        "True"
       ]
      },
      {
       "output_type": "stream",
       "stream": "stdout",
       "text": [
        "\n",
        "0.93741373374 1.12799081769\n",
        "True"
       ]
      },
      {
       "output_type": "stream",
       "stream": "stdout",
       "text": [
        "\n",
        "0.801523269352 0.80918667432\n",
        "True"
       ]
      },
      {
       "output_type": "stream",
       "stream": "stdout",
       "text": [
        "\n",
        "0.83185394962 1.41309916949\n",
        "True"
       ]
      },
      {
       "output_type": "stream",
       "stream": "stdout",
       "text": [
        "\n",
        "0.806917500918 0.952920988305\n",
        "False"
       ]
      },
      {
       "output_type": "stream",
       "stream": "stdout",
       "text": [
        "\n",
        "0.87387902303 0.797448931945\n",
        "True\n",
        "0.670945623456 0.814213928961\n",
        "True"
       ]
      },
      {
       "output_type": "stream",
       "stream": "stdout",
       "text": [
        "\n",
        "1.0817443004 1.11324885447\n",
        "True"
       ]
      },
      {
       "output_type": "stream",
       "stream": "stdout",
       "text": [
        "\n",
        "0.765279556977 1.00172860976\n",
        "True"
       ]
      },
      {
       "output_type": "stream",
       "stream": "stdout",
       "text": [
        "\n",
        "1.1316850107 1.27915347702\n",
        "True"
       ]
      },
      {
       "output_type": "stream",
       "stream": "stdout",
       "text": [
        "\n",
        "1.12675337076 1.13079443376\n",
        "True"
       ]
      },
      {
       "output_type": "stream",
       "stream": "stdout",
       "text": [
        "\n",
        "1.40913135763 1.40924203561\n",
        "True"
       ]
      },
      {
       "output_type": "stream",
       "stream": "stdout",
       "text": [
        "\n",
        "0.984491487126 1.07353358219\n",
        "True"
       ]
      },
      {
       "output_type": "stream",
       "stream": "stdout",
       "text": [
        "\n",
        "0.722957707275 0.892019009483\n",
        "True"
       ]
      },
      {
       "output_type": "stream",
       "stream": "stdout",
       "text": [
        "\n",
        "1.00885492427 1.10175939829\n",
        "True"
       ]
      },
      {
       "output_type": "stream",
       "stream": "stdout",
       "text": [
        "\n",
        "1.03037423359 1.19976800925\n",
        "True\n",
        "0.935333197338 1.0530163994\n",
        "True"
       ]
      },
      {
       "output_type": "stream",
       "stream": "stdout",
       "text": [
        "\n",
        "0.716290784663 0.796094096317\n",
        "True"
       ]
      },
      {
       "output_type": "stream",
       "stream": "stdout",
       "text": [
        "\n",
        "0.665197134484 0.742336029813\n",
        "True"
       ]
      },
      {
       "output_type": "stream",
       "stream": "stdout",
       "text": [
        "\n",
        "0.81126054343 1.01103510701\n",
        "True"
       ]
      },
      {
       "output_type": "stream",
       "stream": "stdout",
       "text": [
        "\n",
        "0.859362578021 1.15654360297\n",
        "True"
       ]
      },
      {
       "output_type": "stream",
       "stream": "stdout",
       "text": [
        "\n",
        "0.833368152479 1.07367489389\n",
        "True"
       ]
      },
      {
       "output_type": "stream",
       "stream": "stdout",
       "text": [
        "\n",
        "0.888896647015 1.11150777537\n",
        "True"
       ]
      },
      {
       "output_type": "stream",
       "stream": "stdout",
       "text": [
        "\n",
        "0.828927098919 0.957538036406\n",
        "True"
       ]
      },
      {
       "output_type": "stream",
       "stream": "stdout",
       "text": [
        "\n",
        "1.4881353054 1.58885003838\n",
        "True"
       ]
      },
      {
       "output_type": "stream",
       "stream": "stdout",
       "text": [
        "\n",
        "0.771993985544 0.896801802085\n",
        "True\n",
        "0.811838600429 0.87410546083\n",
        "True"
       ]
      },
      {
       "output_type": "stream",
       "stream": "stdout",
       "text": [
        "\n",
        "1.00886245844 1.05304000322\n",
        "True"
       ]
      },
      {
       "output_type": "stream",
       "stream": "stdout",
       "text": [
        "\n",
        "0.834007372433 0.937399087034\n",
        "True"
       ]
      },
      {
       "output_type": "stream",
       "stream": "stdout",
       "text": [
        "\n",
        "0.829987655664 0.949746402555\n",
        "False"
       ]
      },
      {
       "output_type": "stream",
       "stream": "stdout",
       "text": [
        "\n",
        "1.58201511037 1.32434990202\n",
        "True"
       ]
      },
      {
       "output_type": "stream",
       "stream": "stdout",
       "text": [
        "\n",
        "1.06765159288 1.12622363811\n",
        "True"
       ]
      },
      {
       "output_type": "stream",
       "stream": "stdout",
       "text": [
        "\n",
        "0.748223656448 0.815985592068\n",
        "False"
       ]
      },
      {
       "output_type": "stream",
       "stream": "stdout",
       "text": [
        "\n",
        "1.19611823038 0.852141304121\n",
        "False"
       ]
      },
      {
       "output_type": "stream",
       "stream": "stdout",
       "text": [
        "\n",
        "0.854572817905 0.81227032981\n",
        "True"
       ]
      },
      {
       "output_type": "stream",
       "stream": "stdout",
       "text": [
        "\n",
        "0.737016133387 0.935537689874\n",
        "True"
       ]
      },
      {
       "output_type": "stream",
       "stream": "stdout",
       "text": [
        "\n",
        "0.915264001168 0.979411487667\n",
        "True"
       ]
      },
      {
       "output_type": "stream",
       "stream": "stdout",
       "text": [
        "\n",
        "0.730240915624 0.779962033569\n",
        "False"
       ]
      },
      {
       "output_type": "stream",
       "stream": "stdout",
       "text": [
        "\n",
        "1.13748815265 1.11753790905\n",
        "True"
       ]
      },
      {
       "output_type": "stream",
       "stream": "stdout",
       "text": [
        "\n",
        "1.0747890259 1.47659970598\n",
        "False"
       ]
      },
      {
       "output_type": "stream",
       "stream": "stdout",
       "text": [
        "\n",
        "1.48844159266 1.44615636351\n",
        "True"
       ]
      },
      {
       "output_type": "stream",
       "stream": "stdout",
       "text": [
        "\n",
        "0.929006690356 1.1058253311\n",
        "True"
       ]
      },
      {
       "output_type": "stream",
       "stream": "stdout",
       "text": [
        "\n",
        "0.893053217162 0.90504433187\n",
        "True"
       ]
      },
      {
       "output_type": "stream",
       "stream": "stdout",
       "text": [
        "\n",
        "1.13166487638 1.16943299393\n",
        "False"
       ]
      },
      {
       "output_type": "stream",
       "stream": "stdout",
       "text": [
        "\n",
        "0.938035077649 0.926686695881\n",
        "False\n",
        "0.899588731723 0.872777299494\n",
        "True"
       ]
      },
      {
       "output_type": "stream",
       "stream": "stdout",
       "text": [
        "\n",
        "1.00167463943 1.19603436421\n",
        "True"
       ]
      },
      {
       "output_type": "stream",
       "stream": "stdout",
       "text": [
        "\n",
        "0.724447830999 0.767390962215\n",
        "True"
       ]
      },
      {
       "output_type": "stream",
       "stream": "stdout",
       "text": [
        "\n",
        "0.818348635971 0.942648448304\n",
        "True"
       ]
      },
      {
       "output_type": "stream",
       "stream": "stdout",
       "text": [
        "\n",
        "1.42171368751 1.6318114603\n",
        "True"
       ]
      },
      {
       "output_type": "stream",
       "stream": "stdout",
       "text": [
        "\n",
        "0.972688127941 1.18145390656\n",
        "True"
       ]
      },
      {
       "output_type": "stream",
       "stream": "stdout",
       "text": [
        "\n",
        "1.02619429391 1.11612350171\n",
        "True"
       ]
      },
      {
       "output_type": "stream",
       "stream": "stdout",
       "text": [
        "\n",
        "0.913503659142 0.923701030618\n",
        "True"
       ]
      },
      {
       "output_type": "stream",
       "stream": "stdout",
       "text": [
        "\n",
        "0.822594249473 1.01278300475\n",
        "True"
       ]
      },
      {
       "output_type": "stream",
       "stream": "stdout",
       "text": [
        "\n",
        "1.35352390796 1.40883107319\n",
        "True"
       ]
      },
      {
       "output_type": "stream",
       "stream": "stdout",
       "text": [
        "\n",
        "0.970956720003 1.15383492494\n",
        "True"
       ]
      },
      {
       "output_type": "stream",
       "stream": "stdout",
       "text": [
        "\n",
        "0.762553317724 0.874529071783\n",
        "True"
       ]
      },
      {
       "output_type": "stream",
       "stream": "stdout",
       "text": [
        "\n",
        "1.36287333712 1.40511162482\n",
        "True"
       ]
      },
      {
       "output_type": "stream",
       "stream": "stdout",
       "text": [
        "\n",
        "1.1366261145 1.24997043765\n",
        "True"
       ]
      },
      {
       "output_type": "stream",
       "stream": "stdout",
       "text": [
        "\n",
        "0.78197586381 1.09844855693\n",
        "True"
       ]
      },
      {
       "output_type": "stream",
       "stream": "stdout",
       "text": [
        "\n",
        "0.925668358797 0.951553997278\n",
        "True"
       ]
      },
      {
       "output_type": "stream",
       "stream": "stdout",
       "text": [
        "\n",
        "0.662240486905 0.760690390604\n",
        "False"
       ]
      },
      {
       "output_type": "stream",
       "stream": "stdout",
       "text": [
        "\n",
        "0.864243324737 0.8547565794\n",
        "True"
       ]
      },
      {
       "output_type": "stream",
       "stream": "stdout",
       "text": [
        "\n",
        "0.608941931025 0.993227686019\n",
        "True"
       ]
      },
      {
       "output_type": "stream",
       "stream": "stdout",
       "text": [
        "\n",
        "1.01748051214 1.10669210161\n",
        "True"
       ]
      },
      {
       "output_type": "stream",
       "stream": "stdout",
       "text": [
        "\n",
        "1.03295371571 1.05563299004\n",
        "True"
       ]
      },
      {
       "output_type": "stream",
       "stream": "stdout",
       "text": [
        "\n",
        "0.637733261973 0.892856868237\n",
        "True"
       ]
      },
      {
       "output_type": "stream",
       "stream": "stdout",
       "text": [
        "\n",
        "1.0483129562 1.12938272225\n",
        "True"
       ]
      },
      {
       "output_type": "stream",
       "stream": "stdout",
       "text": [
        "\n",
        "1.32362729926 1.37267958476\n",
        "True"
       ]
      },
      {
       "output_type": "stream",
       "stream": "stdout",
       "text": [
        "\n",
        "1.15696674382 1.3449422694\n",
        "True"
       ]
      },
      {
       "output_type": "stream",
       "stream": "stdout",
       "text": [
        "\n",
        "0.68396134189 0.871062569509\n",
        "True"
       ]
      },
      {
       "output_type": "stream",
       "stream": "stdout",
       "text": [
        "\n",
        "0.730054997857 0.815432741283\n",
        "True"
       ]
      },
      {
       "output_type": "stream",
       "stream": "stdout",
       "text": [
        "\n",
        "1.09313779037 1.12309112617\n",
        "True"
       ]
      },
      {
       "output_type": "stream",
       "stream": "stdout",
       "text": [
        "\n",
        "0.960693133292 1.0396191999\n",
        "True"
       ]
      },
      {
       "output_type": "stream",
       "stream": "stdout",
       "text": [
        "\n",
        "0.751196946541 0.925547839111\n",
        "True\n",
        "0.566524894267 0.575695525325\n",
        "False"
       ]
      },
      {
       "output_type": "stream",
       "stream": "stdout",
       "text": [
        "\n",
        "0.849354330286 0.811412567741\n",
        "False"
       ]
      },
      {
       "output_type": "stream",
       "stream": "stdout",
       "text": [
        "\n",
        "1.77052393008 1.56388734981\n",
        "True"
       ]
      },
      {
       "output_type": "stream",
       "stream": "stdout",
       "text": [
        "\n",
        "0.92084342479 0.929540982454\n",
        "True"
       ]
      },
      {
       "output_type": "stream",
       "stream": "stdout",
       "text": [
        "\n",
        "0.888796629226 0.935431747502\n",
        "True"
       ]
      },
      {
       "output_type": "stream",
       "stream": "stdout",
       "text": [
        "\n",
        "0.711039929634 0.839699285433\n",
        "False"
       ]
      },
      {
       "output_type": "stream",
       "stream": "stdout",
       "text": [
        "\n",
        "1.38500038733 1.35973853696\n",
        "True"
       ]
      },
      {
       "output_type": "stream",
       "stream": "stdout",
       "text": [
        "\n",
        "0.803830944866 1.06975355375\n",
        "False\n",
        "0.569743729284 0.501300825111\n",
        "True"
       ]
      },
      {
       "output_type": "stream",
       "stream": "stdout",
       "text": [
        "\n",
        "1.12592549906 1.25771382292\n",
        "True"
       ]
      },
      {
       "output_type": "stream",
       "stream": "stdout",
       "text": [
        "\n",
        "0.956700200219 1.198547302\n",
        "True"
       ]
      },
      {
       "output_type": "stream",
       "stream": "stdout",
       "text": [
        "\n",
        "0.890154105628 0.9546507344\n",
        "True"
       ]
      },
      {
       "output_type": "stream",
       "stream": "stdout",
       "text": [
        "\n",
        "0.864432988793 0.910928235062\n",
        "True\n",
        "0.76578255662 0.773506203875\n",
        "False"
       ]
      },
      {
       "output_type": "stream",
       "stream": "stdout",
       "text": [
        "\n",
        "0.988165418987 0.944126728289\n",
        "True"
       ]
      },
      {
       "output_type": "stream",
       "stream": "stdout",
       "text": [
        "\n",
        "0.868991080405 1.0020971615\n",
        "True"
       ]
      },
      {
       "output_type": "stream",
       "stream": "stdout",
       "text": [
        "\n",
        "1.04506116994 1.12947455203\n",
        "True"
       ]
      },
      {
       "output_type": "stream",
       "stream": "stdout",
       "text": [
        "\n",
        "0.95477917914 0.998504267482\n",
        "True"
       ]
      },
      {
       "output_type": "stream",
       "stream": "stdout",
       "text": [
        "\n",
        "0.999528271968 1.17355757433\n",
        "True"
       ]
      },
      {
       "output_type": "stream",
       "stream": "stdout",
       "text": [
        "\n",
        "0.86111009035 0.91400280381\n",
        "True"
       ]
      },
      {
       "output_type": "stream",
       "stream": "stdout",
       "text": [
        "\n",
        "1.11563274562 1.12499500716\n",
        "True"
       ]
      },
      {
       "output_type": "stream",
       "stream": "stdout",
       "text": [
        "\n",
        "1.22030118491 1.24492373151\n",
        "True"
       ]
      },
      {
       "output_type": "stream",
       "stream": "stdout",
       "text": [
        "\n",
        "1.059502145 1.2583999581\n",
        "True"
       ]
      },
      {
       "output_type": "stream",
       "stream": "stdout",
       "text": [
        "\n",
        "0.984641192796 1.05089824401\n",
        "True"
       ]
      },
      {
       "output_type": "stream",
       "stream": "stdout",
       "text": [
        "\n",
        "1.09785309653 1.22082931244\n",
        "True"
       ]
      },
      {
       "output_type": "stream",
       "stream": "stdout",
       "text": [
        "\n",
        "1.01708794116 1.1718568886\n",
        "True"
       ]
      },
      {
       "output_type": "stream",
       "stream": "stdout",
       "text": [
        "\n",
        "1.10161732689 1.15810289615\n",
        "True"
       ]
      },
      {
       "output_type": "stream",
       "stream": "stdout",
       "text": [
        "\n",
        "1.24793707996 1.29556119818\n",
        "True"
       ]
      },
      {
       "output_type": "stream",
       "stream": "stdout",
       "text": [
        "\n",
        "0.796593844311 0.940109864599\n",
        "True"
       ]
      },
      {
       "output_type": "stream",
       "stream": "stdout",
       "text": [
        "\n",
        "0.889696160637 0.92549698918\n",
        "True"
       ]
      },
      {
       "output_type": "stream",
       "stream": "stdout",
       "text": [
        "\n",
        "0.95441744993 1.02057221096\n",
        "True"
       ]
      },
      {
       "output_type": "stream",
       "stream": "stdout",
       "text": [
        "\n",
        "1.00500144138 1.02624655938\n",
        "False"
       ]
      },
      {
       "output_type": "stream",
       "stream": "stdout",
       "text": [
        "\n",
        "0.689159318035 0.588112363031\n",
        "False"
       ]
      },
      {
       "output_type": "stream",
       "stream": "stdout",
       "text": [
        "\n",
        "1.2525807754 1.13638720965\n",
        "True"
       ]
      },
      {
       "output_type": "stream",
       "stream": "stdout",
       "text": [
        "\n",
        "1.15689976199 1.27658534336\n",
        "True"
       ]
      },
      {
       "output_type": "stream",
       "stream": "stdout",
       "text": [
        "\n",
        "0.776059943832 0.822864131505\n",
        "True"
       ]
      },
      {
       "output_type": "stream",
       "stream": "stdout",
       "text": [
        "\n",
        "0.901409850915 1.00549440124\n",
        "True"
       ]
      },
      {
       "output_type": "stream",
       "stream": "stdout",
       "text": [
        "\n",
        "0.900360296132 1.10083038262\n",
        "False"
       ]
      },
      {
       "output_type": "stream",
       "stream": "stdout",
       "text": [
        "\n",
        "1.00793835283 0.774633394654\n",
        "True"
       ]
      },
      {
       "output_type": "stream",
       "stream": "stdout",
       "text": [
        "\n",
        "0.82949439754 1.01390899375\n",
        "True"
       ]
      },
      {
       "output_type": "stream",
       "stream": "stdout",
       "text": [
        "\n",
        "1.13493940466 1.37952231522\n",
        "True"
       ]
      },
      {
       "output_type": "stream",
       "stream": "stdout",
       "text": [
        "\n",
        "0.972016362632 1.16566306506\n",
        "True\n",
        "1.15394717231 1.15936870859\n",
        "True"
       ]
      },
      {
       "output_type": "stream",
       "stream": "stdout",
       "text": [
        "\n",
        "0.784210332103 0.867081517011\n",
        "False"
       ]
      },
      {
       "output_type": "stream",
       "stream": "stdout",
       "text": [
        "\n",
        "0.777252294288 0.739689403501\n",
        "True"
       ]
      },
      {
       "output_type": "stream",
       "stream": "stdout",
       "text": [
        "\n",
        "0.775243523363 0.903887314803\n",
        "False"
       ]
      },
      {
       "output_type": "stream",
       "stream": "stdout",
       "text": [
        "\n",
        "1.06310184318 0.959166304663\n",
        "True"
       ]
      },
      {
       "output_type": "stream",
       "stream": "stdout",
       "text": [
        "\n",
        "0.706381187308 0.772202773251\n",
        "False"
       ]
      },
      {
       "output_type": "stream",
       "stream": "stdout",
       "text": [
        "\n",
        "1.3299451797 1.22970994691\n",
        "True"
       ]
      },
      {
       "output_type": "stream",
       "stream": "stdout",
       "text": [
        "\n",
        "1.07455457092 1.13127870782\n",
        "False"
       ]
      },
      {
       "output_type": "stream",
       "stream": "stdout",
       "text": [
        "\n",
        "1.5777217271 1.4993675964\n",
        "True"
       ]
      },
      {
       "output_type": "stream",
       "stream": "stdout",
       "text": [
        "\n",
        "1.04950525852 1.31327299971\n",
        "True"
       ]
      },
      {
       "output_type": "stream",
       "stream": "stdout",
       "text": [
        "\n",
        "0.774040702774 0.883725036321\n",
        "False"
       ]
      },
      {
       "output_type": "stream",
       "stream": "stdout",
       "text": [
        "\n",
        "0.904468310396 0.811843339069\n",
        "False"
       ]
      },
      {
       "output_type": "stream",
       "stream": "stdout",
       "text": [
        "\n",
        "0.801454302032 0.735451486428\n",
        "True"
       ]
      },
      {
       "output_type": "stream",
       "stream": "stdout",
       "text": [
        "\n",
        "1.05563505177 1.06742289472\n",
        "True"
       ]
      },
      {
       "output_type": "stream",
       "stream": "stdout",
       "text": [
        "\n",
        "0.815937259382 0.935538821252\n",
        "True"
       ]
      },
      {
       "output_type": "stream",
       "stream": "stdout",
       "text": [
        "\n",
        "0.976395493033 1.27171639579\n",
        "True"
       ]
      },
      {
       "output_type": "stream",
       "stream": "stdout",
       "text": [
        "\n",
        "0.891804951522 0.954434457957\n",
        "True"
       ]
      },
      {
       "output_type": "stream",
       "stream": "stdout",
       "text": [
        "\n",
        "0.983178072594 1.19633086731\n",
        "True"
       ]
      },
      {
       "output_type": "stream",
       "stream": "stdout",
       "text": [
        "\n",
        "0.83279279682 0.881431580016\n",
        "True\n",
        "0.731220956371 0.769672874738\n",
        "True"
       ]
      },
      {
       "output_type": "stream",
       "stream": "stdout",
       "text": [
        "\n",
        "1.18856513916 1.65249569775\n",
        "True"
       ]
      },
      {
       "output_type": "stream",
       "stream": "stdout",
       "text": [
        "\n",
        "0.775257134802 1.04983688205\n",
        "True"
       ]
      },
      {
       "output_type": "stream",
       "stream": "stdout",
       "text": [
        "\n",
        "0.933175284077 1.06703026347\n",
        "False"
       ]
      },
      {
       "output_type": "stream",
       "stream": "stdout",
       "text": [
        "\n",
        "0.995886067398 0.858131044124\n",
        "False"
       ]
      },
      {
       "output_type": "stream",
       "stream": "stdout",
       "text": [
        "\n",
        "0.864807126135 0.848280563273\n",
        "True"
       ]
      },
      {
       "output_type": "stream",
       "stream": "stdout",
       "text": [
        "\n",
        "0.862016343123 0.987698129759\n",
        "True"
       ]
      },
      {
       "output_type": "stream",
       "stream": "stdout",
       "text": [
        "\n",
        "0.791109244661 0.989097894853\n",
        "True"
       ]
      },
      {
       "output_type": "stream",
       "stream": "stdout",
       "text": [
        "\n",
        "0.787141384284 0.950414477935\n",
        "False"
       ]
      },
      {
       "output_type": "stream",
       "stream": "stdout",
       "text": [
        "\n",
        "0.962205076181 0.899971654882\n",
        "True"
       ]
      },
      {
       "output_type": "stream",
       "stream": "stdout",
       "text": [
        "\n",
        "0.576577580047 0.607662696535\n",
        "True"
       ]
      },
      {
       "output_type": "stream",
       "stream": "stdout",
       "text": [
        "\n",
        "0.926522636551 1.14931398549\n",
        "True"
       ]
      },
      {
       "output_type": "stream",
       "stream": "stdout",
       "text": [
        "\n",
        "0.725006691091 0.810617999773\n",
        "True"
       ]
      },
      {
       "output_type": "stream",
       "stream": "stdout",
       "text": [
        "\n",
        "0.646401601074 0.742626496413\n",
        "True"
       ]
      },
      {
       "output_type": "stream",
       "stream": "stdout",
       "text": [
        "\n",
        "0.76722689287 1.03040659858\n",
        "True"
       ]
      },
      {
       "output_type": "stream",
       "stream": "stdout",
       "text": [
        "\n",
        "0.766246577033 0.848464091083\n",
        "False"
       ]
      },
      {
       "output_type": "stream",
       "stream": "stdout",
       "text": [
        "\n",
        "1.31271093899 1.16872036721\n",
        "True"
       ]
      },
      {
       "output_type": "stream",
       "stream": "stdout",
       "text": [
        "\n",
        "0.979941484659 1.05542577879\n",
        "True"
       ]
      },
      {
       "output_type": "stream",
       "stream": "stdout",
       "text": [
        "\n",
        "1.1180987678 1.22686630659\n",
        "True\n",
        "0.587262313094 0.905309056364\n",
        "True"
       ]
      },
      {
       "output_type": "stream",
       "stream": "stdout",
       "text": [
        "\n",
        "1.06047400845 1.22576506721\n",
        "True"
       ]
      },
      {
       "output_type": "stream",
       "stream": "stdout",
       "text": [
        "\n",
        "1.21764882753 1.37106162052\n",
        "False"
       ]
      },
      {
       "output_type": "stream",
       "stream": "stdout",
       "text": [
        "\n",
        "0.574159589726 0.566335326188\n",
        "True"
       ]
      },
      {
       "output_type": "stream",
       "stream": "stdout",
       "text": [
        "\n",
        "0.736790338165 0.778659817321\n",
        "True"
       ]
      },
      {
       "output_type": "stream",
       "stream": "stdout",
       "text": [
        "\n",
        "0.681739548222 0.824175517791\n",
        "False\n",
        "0.774648165378 0.698688543253\n",
        "True"
       ]
      },
      {
       "output_type": "stream",
       "stream": "stdout",
       "text": [
        "\n",
        "0.866652323387 1.18898371617\n",
        "True"
       ]
      },
      {
       "output_type": "stream",
       "stream": "stdout",
       "text": [
        "\n",
        "1.07912387703 1.15255581845\n",
        "True"
       ]
      },
      {
       "output_type": "stream",
       "stream": "stdout",
       "text": [
        "\n",
        "0.804511823946 0.840634680861\n",
        "False"
       ]
      },
      {
       "output_type": "stream",
       "stream": "stdout",
       "text": [
        "\n",
        "1.11869327857 1.09287121734\n",
        "True"
       ]
      },
      {
       "output_type": "stream",
       "stream": "stdout",
       "text": [
        "\n",
        "0.773243067511 0.940436759953\n",
        "True"
       ]
      },
      {
       "output_type": "stream",
       "stream": "stdout",
       "text": [
        "\n",
        "0.855061554122 1.01589046988\n",
        "False"
       ]
      },
      {
       "output_type": "stream",
       "stream": "stdout",
       "text": [
        "\n",
        "1.47798709421 1.46773132888\n",
        "True\n",
        "0.811697855722 1.13030141008\n",
        "True"
       ]
      },
      {
       "output_type": "stream",
       "stream": "stdout",
       "text": [
        "\n",
        "0.697488735069 0.775539738846\n",
        "False\n",
        "0.821912485768 0.707459874584\n",
        "True"
       ]
      },
      {
       "output_type": "stream",
       "stream": "stdout",
       "text": [
        "\n",
        "0.942902954795 1.14476614614\n",
        "True"
       ]
      },
      {
       "output_type": "stream",
       "stream": "stdout",
       "text": [
        "\n",
        "0.978281109526 1.01095095315\n",
        "True"
       ]
      },
      {
       "output_type": "stream",
       "stream": "stdout",
       "text": [
        "\n",
        "0.969775399148 1.15357935473\n",
        "True"
       ]
      },
      {
       "output_type": "stream",
       "stream": "stdout",
       "text": [
        "\n",
        "0.757094262862 0.941727796659\n",
        "True"
       ]
      },
      {
       "output_type": "stream",
       "stream": "stdout",
       "text": [
        "\n",
        "1.09670644422 1.31587115181\n",
        "True\n",
        "0.705327614382 0.784573486396\n",
        "True"
       ]
      },
      {
       "output_type": "stream",
       "stream": "stdout",
       "text": [
        "\n",
        "0.756840704676 1.21014232404\n",
        "True\n",
        "0.58483337751 0.624345257458\n",
        "True"
       ]
      },
      {
       "output_type": "stream",
       "stream": "stdout",
       "text": [
        "\n",
        "0.974011810321 1.29416201187\n",
        "False"
       ]
      },
      {
       "output_type": "stream",
       "stream": "stdout",
       "text": [
        "\n",
        "1.53202705961 1.48999647483\n",
        "True"
       ]
      },
      {
       "output_type": "stream",
       "stream": "stdout",
       "text": [
        "\n",
        "0.850057595039 0.9151221556\n",
        "True"
       ]
      },
      {
       "output_type": "stream",
       "stream": "stdout",
       "text": [
        "\n",
        "0.805005698497 0.853115140167\n",
        "True"
       ]
      },
      {
       "output_type": "stream",
       "stream": "stdout",
       "text": [
        "\n",
        "1.16218068755 1.20505622019\n",
        "True"
       ]
      },
      {
       "output_type": "stream",
       "stream": "stdout",
       "text": [
        "\n",
        "0.776831517241 0.91373442393\n",
        "False"
       ]
      },
      {
       "output_type": "stream",
       "stream": "stdout",
       "text": [
        "\n",
        "1.23722166017 1.23426986232\n",
        "False"
       ]
      },
      {
       "output_type": "stream",
       "stream": "stdout",
       "text": [
        "\n",
        "1.14915682973 1.0642617447\n",
        "True"
       ]
      },
      {
       "output_type": "stream",
       "stream": "stdout",
       "text": [
        "\n",
        "0.896905732207 1.18657925893\n",
        "True\n",
        "0.606640799236 0.728471566971\n",
        "True"
       ]
      },
      {
       "output_type": "stream",
       "stream": "stdout",
       "text": [
        "\n",
        "0.93003643358 0.948927269585\n",
        "True"
       ]
      },
      {
       "output_type": "stream",
       "stream": "stdout",
       "text": [
        "\n",
        "0.923218016044 0.933221719517\n",
        "False"
       ]
      },
      {
       "output_type": "stream",
       "stream": "stdout",
       "text": [
        "\n",
        "0.959722786937 0.883228872676\n",
        "True"
       ]
      },
      {
       "output_type": "stream",
       "stream": "stdout",
       "text": [
        "\n",
        "0.85524654837 1.12101834529\n",
        "True"
       ]
      },
      {
       "output_type": "stream",
       "stream": "stdout",
       "text": [
        "\n",
        "1.16267080602 1.20954914344\n",
        "False"
       ]
      },
      {
       "output_type": "stream",
       "stream": "stdout",
       "text": [
        "\n",
        "1.50693577915 1.49121126553\n",
        "True"
       ]
      },
      {
       "output_type": "stream",
       "stream": "stdout",
       "text": [
        "\n",
        "0.935351457421 1.23650118689\n",
        "True"
       ]
      },
      {
       "output_type": "stream",
       "stream": "stdout",
       "text": [
        "\n",
        "0.645146372795 0.786074953296\n",
        "True"
       ]
      },
      {
       "output_type": "stream",
       "stream": "stdout",
       "text": [
        "\n",
        "1.02278476196 1.40561655067\n",
        "True"
       ]
      },
      {
       "output_type": "stream",
       "stream": "stdout",
       "text": [
        "\n",
        "0.981081602487 1.09586849221\n",
        "True\n",
        "0.517111323327 0.659690596349\n",
        "True"
       ]
      },
      {
       "output_type": "stream",
       "stream": "stdout",
       "text": [
        "\n",
        "0.823756203426 1.10416666667\n",
        "False"
       ]
      },
      {
       "output_type": "stream",
       "stream": "stdout",
       "text": [
        "\n",
        "0.923072097017 0.904310664417\n",
        "True"
       ]
      },
      {
       "output_type": "stream",
       "stream": "stdout",
       "text": [
        "\n",
        "1.13081736968 1.22259575331\n",
        "True"
       ]
      },
      {
       "output_type": "stream",
       "stream": "stdout",
       "text": [
        "\n",
        "0.952626994967 1.06536739892\n",
        "True\n",
        "1.07035093573 1.07842894895\n",
        "True"
       ]
      },
      {
       "output_type": "stream",
       "stream": "stdout",
       "text": [
        "\n",
        "0.736972467779 1.08189058988\n",
        "True"
       ]
      },
      {
       "output_type": "stream",
       "stream": "stdout",
       "text": [
        "\n",
        "1.18396442014 1.34802894884\n",
        "True\n",
        "0.744761688444 0.814404670086\n",
        "True"
       ]
      },
      {
       "output_type": "stream",
       "stream": "stdout",
       "text": [
        "\n",
        "1.09805073226 1.1009149276\n",
        "False"
       ]
      },
      {
       "output_type": "stream",
       "stream": "stdout",
       "text": [
        "\n",
        "1.43311217209 1.30180166644\n",
        "True"
       ]
      },
      {
       "output_type": "stream",
       "stream": "stdout",
       "text": [
        "\n",
        "1.01900852494 1.21670796516\n",
        "True"
       ]
      },
      {
       "output_type": "stream",
       "stream": "stdout",
       "text": [
        "\n",
        "0.801280912886 0.89165358935\n",
        "True\n",
        "0.607814966513 0.686001876648\n",
        "True"
       ]
      },
      {
       "output_type": "stream",
       "stream": "stdout",
       "text": [
        "\n",
        "1.24012896125 1.24575851844\n",
        "True"
       ]
      },
      {
       "output_type": "stream",
       "stream": "stdout",
       "text": [
        "\n",
        "1.50362487294 1.90327322778\n",
        "True"
       ]
      },
      {
       "output_type": "stream",
       "stream": "stdout",
       "text": [
        "\n",
        "0.99239270382 1.06250552158\n",
        "True"
       ]
      },
      {
       "output_type": "stream",
       "stream": "stdout",
       "text": [
        "\n",
        "1.04576492011 1.128305978\n",
        "True\n",
        "0.958652047558 1.01075845436\n",
        "True"
       ]
      },
      {
       "output_type": "stream",
       "stream": "stdout",
       "text": [
        "\n",
        "0.624182541958 0.912249717175\n",
        "True"
       ]
      },
      {
       "output_type": "stream",
       "stream": "stdout",
       "text": [
        "\n",
        "1.05390730893 1.12769841291\n",
        "True"
       ]
      },
      {
       "output_type": "stream",
       "stream": "stdout",
       "text": [
        "\n",
        "0.807278889401 1.14800479287\n",
        "True\n",
        "0.775499335649 0.800694710574\n",
        "True"
       ]
      },
      {
       "output_type": "stream",
       "stream": "stdout",
       "text": [
        "\n",
        "1.32832395206 1.33624510592\n",
        "True"
       ]
      },
      {
       "output_type": "stream",
       "stream": "stdout",
       "text": [
        "\n",
        "0.838482358556 1.02881995876\n",
        "True"
       ]
      },
      {
       "output_type": "stream",
       "stream": "stdout",
       "text": [
        "\n",
        "1.19224221519 1.29689947868\n",
        "False"
       ]
      },
      {
       "output_type": "stream",
       "stream": "stdout",
       "text": [
        "\n",
        "1.08792781897 1.02883210578\n",
        "True"
       ]
      },
      {
       "output_type": "stream",
       "stream": "stdout",
       "text": [
        "\n",
        "0.887226435813 1.06947402467\n",
        "True"
       ]
      },
      {
       "output_type": "stream",
       "stream": "stdout",
       "text": [
        "\n",
        "0.898399199283 1.19763169281\n",
        "True"
       ]
      },
      {
       "output_type": "stream",
       "stream": "stdout",
       "text": [
        "\n",
        "0.94444913655 1.05595393689\n",
        "True"
       ]
      },
      {
       "output_type": "stream",
       "stream": "stdout",
       "text": [
        "\n",
        "0.589191310064 0.7733705767\n",
        "True"
       ]
      },
      {
       "output_type": "stream",
       "stream": "stdout",
       "text": [
        "\n",
        "0.693410844353 0.747889503243\n",
        "True"
       ]
      },
      {
       "output_type": "stream",
       "stream": "stdout",
       "text": [
        "\n",
        "1.05000126116 1.56859920701\n",
        "True"
       ]
      },
      {
       "output_type": "stream",
       "stream": "stdout",
       "text": [
        "\n",
        "1.01289325845 1.09808083091\n",
        "False"
       ]
      },
      {
       "output_type": "stream",
       "stream": "stdout",
       "text": [
        "\n",
        "1.14319028402 0.776763186642\n",
        "True"
       ]
      },
      {
       "output_type": "stream",
       "stream": "stdout",
       "text": [
        "\n",
        "0.806231619707 1.02087439282\n",
        "False"
       ]
      },
      {
       "output_type": "stream",
       "stream": "stdout",
       "text": [
        "\n",
        "1.10854715645 1.05950096526\n",
        "True\n",
        "0.725421356096 1.05303793326\n",
        "True"
       ]
      },
      {
       "output_type": "stream",
       "stream": "stdout",
       "text": [
        "\n",
        "0.872416363443 1.05063322292\n",
        "False"
       ]
      },
      {
       "output_type": "stream",
       "stream": "stdout",
       "text": [
        "\n",
        "0.793057121733 0.756556216835\n",
        "True"
       ]
      },
      {
       "output_type": "stream",
       "stream": "stdout",
       "text": [
        "\n",
        "0.871777385893 0.988968683252\n",
        "True"
       ]
      },
      {
       "output_type": "stream",
       "stream": "stdout",
       "text": [
        "\n",
        "0.905125539267 1.10767207121\n",
        "False"
       ]
      },
      {
       "output_type": "stream",
       "stream": "stdout",
       "text": [
        "\n",
        "1.1011994209 0.864098759788\n",
        "True"
       ]
      },
      {
       "output_type": "stream",
       "stream": "stdout",
       "text": [
        "\n",
        "1.12560533548 1.21590584409\n",
        "True"
       ]
      },
      {
       "output_type": "stream",
       "stream": "stdout",
       "text": [
        "\n",
        "0.958678447086 1.07292540767\n",
        "True"
       ]
      },
      {
       "output_type": "stream",
       "stream": "stdout",
       "text": [
        "\n",
        "1.05894466018 1.16374987572\n",
        "True"
       ]
      },
      {
       "output_type": "stream",
       "stream": "stdout",
       "text": [
        "\n",
        "0.665365548421 0.853744583613\n",
        "True"
       ]
      },
      {
       "output_type": "stream",
       "stream": "stdout",
       "text": [
        "\n",
        "0.770461860991 0.7865183476\n",
        "True"
       ]
      },
      {
       "output_type": "stream",
       "stream": "stdout",
       "text": [
        "\n",
        "1.17618018613 1.1788543823\n",
        "True"
       ]
      },
      {
       "output_type": "stream",
       "stream": "stdout",
       "text": [
        "\n",
        "0.679256166406 0.815807818778\n",
        "False\n",
        "0.805368957828 0.622905181351\n",
        "True"
       ]
      },
      {
       "output_type": "stream",
       "stream": "stdout",
       "text": [
        "\n",
        "0.713070894115 0.863776155296\n",
        "True\n",
        "0.693395851398 0.693882420277\n",
        "True"
       ]
      },
      {
       "output_type": "stream",
       "stream": "stdout",
       "text": [
        "\n",
        "0.643341663249 0.659843901954\n",
        "True"
       ]
      },
      {
       "output_type": "stream",
       "stream": "stdout",
       "text": [
        "\n",
        "1.13187738798 1.32207420085\n",
        "True"
       ]
      },
      {
       "output_type": "stream",
       "stream": "stdout",
       "text": [
        "\n",
        "0.904581989424 0.986404494698\n",
        "True"
       ]
      },
      {
       "output_type": "stream",
       "stream": "stdout",
       "text": [
        "\n",
        "0.68735572195 0.798901577483\n",
        "True"
       ]
      },
      {
       "output_type": "stream",
       "stream": "stdout",
       "text": [
        "\n",
        "1.1960984373 1.39088764909\n",
        "True"
       ]
      },
      {
       "output_type": "stream",
       "stream": "stdout",
       "text": [
        "\n",
        "1.02835700605 1.06234906779\n",
        "True"
       ]
      },
      {
       "output_type": "stream",
       "stream": "stdout",
       "text": [
        "\n",
        "1.08221489675 1.24127531773\n",
        "True"
       ]
      },
      {
       "output_type": "stream",
       "stream": "stdout",
       "text": [
        "\n",
        "0.970145464667 1.08912193175\n",
        "False"
       ]
      },
      {
       "output_type": "stream",
       "stream": "stdout",
       "text": [
        "\n",
        "0.999907227684 0.737132018027\n",
        "False"
       ]
      },
      {
       "output_type": "stream",
       "stream": "stdout",
       "text": [
        "\n",
        "1.21380330606 1.10099562126\n",
        "False"
       ]
      },
      {
       "output_type": "stream",
       "stream": "stdout",
       "text": [
        "\n",
        "1.24668323048 1.23426286938\n",
        "True"
       ]
      },
      {
       "output_type": "stream",
       "stream": "stdout",
       "text": [
        "\n",
        "0.678806657346 0.859170858773\n",
        "True"
       ]
      },
      {
       "output_type": "stream",
       "stream": "stdout",
       "text": [
        "\n",
        "0.789734784873 0.848565869212\n",
        "True"
       ]
      },
      {
       "output_type": "stream",
       "stream": "stdout",
       "text": [
        "\n",
        "0.794938384776 0.994800292462\n",
        "True"
       ]
      },
      {
       "output_type": "stream",
       "stream": "stdout",
       "text": [
        "\n",
        "0.756117876665 0.9332706775\n",
        "False"
       ]
      },
      {
       "output_type": "stream",
       "stream": "stdout",
       "text": [
        "\n",
        "1.24001985888 1.01687563375\n",
        "True"
       ]
      },
      {
       "output_type": "stream",
       "stream": "stdout",
       "text": [
        "\n",
        "0.78804001357 0.93997190295\n",
        "True"
       ]
      },
      {
       "output_type": "stream",
       "stream": "stdout",
       "text": [
        "\n",
        "0.785522089685 0.951331148392\n",
        "False"
       ]
      },
      {
       "output_type": "stream",
       "stream": "stdout",
       "text": [
        "\n",
        "0.805385659077 0.786861168493\n",
        "True"
       ]
      },
      {
       "output_type": "stream",
       "stream": "stdout",
       "text": [
        "\n",
        "0.727289902934 0.795460306265\n",
        "True"
       ]
      },
      {
       "output_type": "stream",
       "stream": "stdout",
       "text": [
        "\n",
        "0.957561075241 1.01322561151\n",
        "True"
       ]
      },
      {
       "output_type": "stream",
       "stream": "stdout",
       "text": [
        "\n",
        "1.00502035382 1.07295697901\n",
        "True"
       ]
      },
      {
       "output_type": "stream",
       "stream": "stdout",
       "text": [
        "\n",
        "1.00984801511 1.18062130536\n",
        "True"
       ]
      },
      {
       "output_type": "stream",
       "stream": "stdout",
       "text": [
        "\n",
        "1.08243485714 1.09148920411\n",
        "True"
       ]
      },
      {
       "output_type": "stream",
       "stream": "stdout",
       "text": [
        "\n",
        "1.18954725398 1.20482899335\n",
        "True"
       ]
      },
      {
       "output_type": "stream",
       "stream": "stdout",
       "text": [
        "\n",
        "1.16728474895 1.18333450676\n",
        "True"
       ]
      },
      {
       "output_type": "stream",
       "stream": "stdout",
       "text": [
        "\n",
        "0.98178874934 0.995720993345\n",
        "True"
       ]
      },
      {
       "output_type": "stream",
       "stream": "stdout",
       "text": [
        "\n",
        "0.885153235077 1.02311735277\n",
        "False\n",
        "1.49480023936 1.39730514838\n",
        "True"
       ]
      },
      {
       "output_type": "stream",
       "stream": "stdout",
       "text": [
        "\n",
        "1.18182779545 1.53938962998\n",
        "False"
       ]
      },
      {
       "output_type": "stream",
       "stream": "stdout",
       "text": [
        "\n",
        "1.50536910429 1.37584907516\n",
        "True"
       ]
      },
      {
       "output_type": "stream",
       "stream": "stdout",
       "text": [
        "\n",
        "0.918302229538 1.01127431341\n",
        "True"
       ]
      },
      {
       "output_type": "stream",
       "stream": "stdout",
       "text": [
        "\n",
        "0.886669761429 0.96788375885\n",
        "True\n",
        "0.612778261957 0.772136525731\n",
        "False"
       ]
      },
      {
       "output_type": "stream",
       "stream": "stdout",
       "text": [
        "\n",
        "1.68903247452 1.5266760678\n",
        "True"
       ]
      },
      {
       "output_type": "stream",
       "stream": "stdout",
       "text": [
        "\n",
        "0.909792594703 1.046768601\n",
        "True"
       ]
      },
      {
       "output_type": "stream",
       "stream": "stdout",
       "text": [
        "\n",
        "0.917190933289 1.05442392385\n",
        "True"
       ]
      },
      {
       "output_type": "stream",
       "stream": "stdout",
       "text": [
        "\n",
        "0.871863976039 0.972459524273\n",
        "False\n",
        "0.99768571184 0.804155872121\n",
        "True"
       ]
      },
      {
       "output_type": "stream",
       "stream": "stdout",
       "text": [
        "\n",
        "0.764764473279 0.879640310842\n",
        "True\n",
        "0.722154927614 0.928684745833\n",
        "False"
       ]
      },
      {
       "output_type": "stream",
       "stream": "stdout",
       "text": [
        "\n",
        "0.779379566838 0.649073413642\n",
        "True"
       ]
      },
      {
       "output_type": "stream",
       "stream": "stdout",
       "text": [
        "\n",
        "1.13670112863 1.24556827561\n",
        "True"
       ]
      },
      {
       "output_type": "stream",
       "stream": "stdout",
       "text": [
        "\n",
        "1.00717616595 1.08850693374\n",
        "True"
       ]
      },
      {
       "output_type": "stream",
       "stream": "stdout",
       "text": [
        "\n",
        "0.968956355291 1.14469640565\n",
        "False\n",
        "0.980460964174 0.914542994555\n",
        "True"
       ]
      },
      {
       "output_type": "stream",
       "stream": "stdout",
       "text": [
        "\n",
        "0.917092357044 0.968788841465\n",
        "True"
       ]
      },
      {
       "output_type": "stream",
       "stream": "stdout",
       "text": [
        "\n",
        "0.595285588208 0.659505131804\n",
        "False"
       ]
      },
      {
       "output_type": "stream",
       "stream": "stdout",
       "text": [
        "\n",
        "1.36855179339 1.298966854\n",
        "True\n",
        "1.18792827915 1.29069182647\n",
        "True"
       ]
      },
      {
       "output_type": "stream",
       "stream": "stdout",
       "text": [
        "\n",
        "1.19532941141 1.3596141756\n",
        "True"
       ]
      },
      {
       "output_type": "stream",
       "stream": "stdout",
       "text": [
        "\n",
        "1.12382142104 1.15171491825\n",
        "False"
       ]
      },
      {
       "output_type": "stream",
       "stream": "stdout",
       "text": [
        "\n",
        "0.873408594651 0.746720904237\n",
        "True"
       ]
      },
      {
       "output_type": "stream",
       "stream": "stdout",
       "text": [
        "\n",
        "0.686558384773 0.741598110796\n",
        "True\n",
        "0.604602465138 0.773685101552\n",
        "True"
       ]
      },
      {
       "output_type": "stream",
       "stream": "stdout",
       "text": [
        "\n",
        "1.47469980709 1.67992571328\n",
        "True\n",
        "0.560392427668 1.10976837863\n",
        "True"
       ]
      },
      {
       "output_type": "stream",
       "stream": "stdout",
       "text": [
        "\n",
        "0.916299531035 1.04533989414\n",
        "False"
       ]
      },
      {
       "output_type": "stream",
       "stream": "stdout",
       "text": [
        "\n",
        "1.15535820776 1.14133516095\n",
        "True"
       ]
      },
      {
       "output_type": "stream",
       "stream": "stdout",
       "text": [
        "\n",
        "1.16358508489 1.21450362174\n",
        "False"
       ]
      },
      {
       "output_type": "stream",
       "stream": "stdout",
       "text": [
        "\n",
        "1.03944035646 1.02446999273\n",
        "True"
       ]
      },
      {
       "output_type": "stream",
       "stream": "stdout",
       "text": [
        "\n",
        "1.15706177318 1.28321410613\n",
        "True"
       ]
      },
      {
       "output_type": "stream",
       "stream": "stdout",
       "text": [
        "\n",
        "0.908431156016 1.03623131967\n",
        "True"
       ]
      },
      {
       "output_type": "stream",
       "stream": "stdout",
       "text": [
        "\n",
        "0.653290688272 0.850652829377\n",
        "True"
       ]
      },
      {
       "output_type": "stream",
       "stream": "stdout",
       "text": [
        "\n",
        "0.858766957641 1.02163763994\n",
        "False"
       ]
      },
      {
       "output_type": "stream",
       "stream": "stdout",
       "text": [
        "\n",
        "1.13888130579 0.913442287458\n",
        "False"
       ]
      },
      {
       "output_type": "stream",
       "stream": "stdout",
       "text": [
        "\n",
        "0.964166955076 0.922875951226\n",
        "False"
       ]
      },
      {
       "output_type": "stream",
       "stream": "stdout",
       "text": [
        "\n",
        "1.076175193 1.04006074556\n",
        "True"
       ]
      },
      {
       "output_type": "stream",
       "stream": "stdout",
       "text": [
        "\n",
        "0.856884611367 1.10437919573\n",
        "True"
       ]
      },
      {
       "output_type": "stream",
       "stream": "stdout",
       "text": [
        "\n",
        "0.897267688977 1.04666211328\n",
        "True"
       ]
      },
      {
       "output_type": "stream",
       "stream": "stdout",
       "text": [
        "\n",
        "0.986527159372 1.12696634707\n",
        "True"
       ]
      },
      {
       "output_type": "stream",
       "stream": "stdout",
       "text": [
        "\n",
        "1.03303454666 1.13824322094\n",
        "True"
       ]
      },
      {
       "output_type": "stream",
       "stream": "stdout",
       "text": [
        "\n",
        "1.02209536091 1.20712596483\n",
        "True\n",
        "0.646549190303 0.809644021787\n",
        "True"
       ]
      },
      {
       "output_type": "stream",
       "stream": "stdout",
       "text": [
        "\n",
        "0.92825906922 1.04175547618\n",
        "True"
       ]
      },
      {
       "output_type": "stream",
       "stream": "stdout",
       "text": [
        "\n",
        "0.729963018595 0.819581397479\n",
        "True"
       ]
      },
      {
       "output_type": "stream",
       "stream": "stdout",
       "text": [
        "\n",
        "0.856449846736 1.01790443235\n",
        "True"
       ]
      },
      {
       "output_type": "stream",
       "stream": "stdout",
       "text": [
        "\n",
        "1.32160566291 1.40793182895\n",
        "True"
       ]
      },
      {
       "output_type": "stream",
       "stream": "stdout",
       "text": [
        "\n",
        "0.863235085057 0.974264091589\n",
        "False"
       ]
      },
      {
       "output_type": "stream",
       "stream": "stdout",
       "text": [
        "\n",
        "1.58225046374 1.36139452832\n",
        "True"
       ]
      },
      {
       "output_type": "stream",
       "stream": "stdout",
       "text": [
        "\n",
        "0.859201574771 1.07468660836\n",
        "True\n",
        "0.634311265716 0.791882627057\n",
        "True"
       ]
      },
      {
       "output_type": "stream",
       "stream": "stdout",
       "text": [
        "\n",
        "1.14052452528 1.24876724927\n",
        "True"
       ]
      },
      {
       "output_type": "stream",
       "stream": "stdout",
       "text": [
        "\n",
        "1.04937891728 1.27707181304\n",
        "True"
       ]
      },
      {
       "output_type": "stream",
       "stream": "stdout",
       "text": [
        "\n",
        "1.42514948015 1.44028988142\n",
        "True"
       ]
      },
      {
       "output_type": "stream",
       "stream": "stdout",
       "text": [
        "\n",
        "1.35350026239 1.4267289706\n",
        "True"
       ]
      },
      {
       "output_type": "stream",
       "stream": "stdout",
       "text": [
        "\n",
        "0.892577253008 1.06127283303\n",
        "True"
       ]
      },
      {
       "output_type": "stream",
       "stream": "stdout",
       "text": [
        "\n",
        "1.01480892507 1.03072377146\n",
        "True"
       ]
      },
      {
       "output_type": "stream",
       "stream": "stdout",
       "text": [
        "\n",
        "0.843826335118 0.983364732854\n",
        "True"
       ]
      },
      {
       "output_type": "stream",
       "stream": "stdout",
       "text": [
        "\n",
        "1.28963775988 1.46038215868\n",
        "True\n",
        "1.04869993888 1.05089608228\n",
        "True"
       ]
      },
      {
       "output_type": "stream",
       "stream": "stdout",
       "text": [
        "\n",
        "0.685199465991 0.859640753727\n",
        "False"
       ]
      },
      {
       "output_type": "stream",
       "stream": "stdout",
       "text": [
        "\n",
        "1.68866370186 1.53912717929\n",
        "True\n",
        "0.931426791792 1.08320512062\n",
        "True"
       ]
      },
      {
       "output_type": "stream",
       "stream": "stdout",
       "text": [
        "\n",
        "0.82852474277 1.04614913272\n",
        "True"
       ]
      },
      {
       "output_type": "stream",
       "stream": "stdout",
       "text": [
        "\n",
        "0.949545103906 1.11133933246\n",
        "True"
       ]
      },
      {
       "output_type": "stream",
       "stream": "stdout",
       "text": [
        "\n",
        "0.976455715537 1.14246843702\n",
        "True"
       ]
      },
      {
       "output_type": "stream",
       "stream": "stdout",
       "text": [
        "\n",
        "0.765942689915 0.860960413995\n",
        "True"
       ]
      },
      {
       "output_type": "stream",
       "stream": "stdout",
       "text": [
        "\n",
        "1.28689435776 1.3323144255\n",
        "True"
       ]
      },
      {
       "output_type": "stream",
       "stream": "stdout",
       "text": [
        "\n",
        "0.936147214335 1.01422342942\n",
        "True"
       ]
      },
      {
       "output_type": "stream",
       "stream": "stdout",
       "text": [
        "\n",
        "0.963811248713 1.18212570244\n",
        "True"
       ]
      },
      {
       "output_type": "stream",
       "stream": "stdout",
       "text": [
        "\n",
        "0.707219114341 0.786062092826\n",
        "True"
       ]
      },
      {
       "output_type": "stream",
       "stream": "stdout",
       "text": [
        "\n",
        "0.812225138646 0.972204497407\n",
        "True\n",
        "0.751320759229 1.09425808545\n",
        "True"
       ]
      },
      {
       "output_type": "stream",
       "stream": "stdout",
       "text": [
        "\n",
        "0.985964648694 1.10847902531\n",
        "False"
       ]
      },
      {
       "output_type": "stream",
       "stream": "stdout",
       "text": [
        "\n",
        "1.23323749904 1.23055689703\n",
        "True"
       ]
      },
      {
       "output_type": "stream",
       "stream": "stdout",
       "text": [
        "\n",
        "1.08424296507 1.19008372374\n",
        "True"
       ]
      },
      {
       "output_type": "stream",
       "stream": "stdout",
       "text": [
        "\n",
        "0.81292839158 0.890198005327\n",
        "True"
       ]
      },
      {
       "output_type": "stream",
       "stream": "stdout",
       "text": [
        "\n",
        "1.16561508679 1.27399329511\n",
        "True"
       ]
      },
      {
       "output_type": "stream",
       "stream": "stdout",
       "text": [
        "\n",
        "0.86228880362 0.982127682935\n",
        "True"
       ]
      },
      {
       "output_type": "stream",
       "stream": "stdout",
       "text": [
        "\n",
        "0.616457537574 0.784786548405\n",
        "True"
       ]
      },
      {
       "output_type": "stream",
       "stream": "stdout",
       "text": [
        "\n",
        "0.939176839085 1.03336085081\n",
        "False"
       ]
      },
      {
       "output_type": "stream",
       "stream": "stdout",
       "text": [
        "\n",
        "0.997021906386 0.966900115489\n",
        "False"
       ]
      },
      {
       "output_type": "stream",
       "stream": "stdout",
       "text": [
        "\n",
        "1.47977830873 1.218631534\n",
        "True"
       ]
      },
      {
       "output_type": "stream",
       "stream": "stdout",
       "text": [
        "\n",
        "1.3599812657 1.51689359989\n",
        "False"
       ]
      },
      {
       "output_type": "stream",
       "stream": "stdout",
       "text": [
        "\n",
        "1.83262589561 1.7128185893\n",
        "True"
       ]
      },
      {
       "output_type": "stream",
       "stream": "stdout",
       "text": [
        "\n",
        "0.797894188989 0.897771687644\n",
        "True"
       ]
      },
      {
       "output_type": "stream",
       "stream": "stdout",
       "text": [
        "\n",
        "0.699027758592 0.88976746819\n",
        "False"
       ]
      },
      {
       "output_type": "stream",
       "stream": "stdout",
       "text": [
        "\n",
        "1.23153016617 1.13459973795\n",
        "True"
       ]
      },
      {
       "output_type": "stream",
       "stream": "stdout",
       "text": [
        "\n",
        "0.748744023687 0.849070896992\n",
        "False\n",
        "0.562260190598 0.549915232007\n",
        "True"
       ]
      },
      {
       "output_type": "stream",
       "stream": "stdout",
       "text": [
        "\n",
        "1.04406501362 1.26976560337\n",
        "True"
       ]
      },
      {
       "output_type": "stream",
       "stream": "stdout",
       "text": [
        "\n",
        "0.932828282444 1.07708882269\n",
        "True"
       ]
      },
      {
       "output_type": "stream",
       "stream": "stdout",
       "text": [
        "\n",
        "0.831751210083 0.871956512518\n",
        "False"
       ]
      },
      {
       "output_type": "stream",
       "stream": "stdout",
       "text": [
        "\n",
        "1.47667351992 1.36192945156\n",
        "True"
       ]
      },
      {
       "output_type": "stream",
       "stream": "stdout",
       "text": [
        "\n",
        "0.79657437105 0.89230648243\n",
        "True"
       ]
      },
      {
       "output_type": "stream",
       "stream": "stdout",
       "text": [
        "\n",
        "1.0478398563 1.22816326178\n",
        "True"
       ]
      },
      {
       "output_type": "stream",
       "stream": "stdout",
       "text": [
        "\n",
        "1.03644452599 1.16694375354\n",
        "False\n",
        "0.870766533923 0.815106798506\n",
        "True"
       ]
      },
      {
       "output_type": "stream",
       "stream": "stdout",
       "text": [
        "\n",
        "0.893398133194 1.14702134615\n",
        "False"
       ]
      },
      {
       "output_type": "stream",
       "stream": "stdout",
       "text": [
        "\n",
        "1.2772953313 1.24391523139\n",
        "True"
       ]
      },
      {
       "output_type": "stream",
       "stream": "stdout",
       "text": [
        "\n",
        "1.21216382486 1.31651331838\n",
        "False"
       ]
      },
      {
       "output_type": "stream",
       "stream": "stdout",
       "text": [
        "\n",
        "0.841686695664 0.78297538657\n",
        "True"
       ]
      },
      {
       "output_type": "stream",
       "stream": "stdout",
       "text": [
        "\n",
        "1.0970440088 1.09909344534\n",
        "True"
       ]
      },
      {
       "output_type": "stream",
       "stream": "stdout",
       "text": [
        "\n",
        "1.0776161204 1.42393353678\n",
        "False"
       ]
      },
      {
       "output_type": "stream",
       "stream": "stdout",
       "text": [
        "\n",
        "1.13403172398 0.906958646243\n",
        "False\n",
        "0.946514821002 0.857190666546\n",
        "True"
       ]
      },
      {
       "output_type": "stream",
       "stream": "stdout",
       "text": [
        "\n",
        "0.661506113083 0.669281663623\n",
        "True"
       ]
      },
      {
       "output_type": "stream",
       "stream": "stdout",
       "text": [
        "\n",
        "0.716315487444 0.862948810786\n",
        "True"
       ]
      },
      {
       "output_type": "stream",
       "stream": "stdout",
       "text": [
        "\n",
        "0.769058451114 0.921552113566\n",
        "True"
       ]
      },
      {
       "output_type": "stream",
       "stream": "stdout",
       "text": [
        "\n",
        "0.972092081834 1.09279948133\n",
        "True"
       ]
      },
      {
       "output_type": "stream",
       "stream": "stdout",
       "text": [
        "\n",
        "0.633119991875 0.922343159027\n",
        "True"
       ]
      },
      {
       "output_type": "stream",
       "stream": "stdout",
       "text": [
        "\n",
        "0.821925518117 1.10703672163\n",
        "True"
       ]
      },
      {
       "output_type": "stream",
       "stream": "stdout",
       "text": [
        "\n",
        "0.885976317138 1.01036215881\n",
        "False"
       ]
      },
      {
       "output_type": "stream",
       "stream": "stdout",
       "text": [
        "\n",
        "1.18228372786 1.16070602072\n",
        "False\n",
        "0.875136059116 0.86520939444\n",
        "True"
       ]
      },
      {
       "output_type": "stream",
       "stream": "stdout",
       "text": [
        "\n",
        "0.626178491681 0.781498994891\n",
        "True\n",
        "0.591677371039 0.742290819313\n",
        "True"
       ]
      },
      {
       "output_type": "stream",
       "stream": "stdout",
       "text": [
        "\n",
        "0.816064359392 0.921936543287\n",
        "True"
       ]
      },
      {
       "output_type": "stream",
       "stream": "stdout",
       "text": [
        "\n",
        "0.994296936663 1.07537958366\n",
        "True"
       ]
      },
      {
       "output_type": "stream",
       "stream": "stdout",
       "text": [
        "\n",
        "1.17270181777 1.39022779652\n",
        "False"
       ]
      },
      {
       "output_type": "stream",
       "stream": "stdout",
       "text": [
        "\n",
        "0.992559183863 0.942684986291\n",
        "True\n",
        "0.814838624738 0.83610649685\n",
        "True"
       ]
      },
      {
       "output_type": "stream",
       "stream": "stdout",
       "text": [
        "\n",
        "0.513256280531 0.672592709135\n",
        "True\n",
        "0.935332751648 1.19021755787\n",
        "False"
       ]
      },
      {
       "output_type": "stream",
       "stream": "stdout",
       "text": [
        "\n",
        "1.01030674612 0.987653682273\n",
        "True"
       ]
      },
      {
       "output_type": "stream",
       "stream": "stdout",
       "text": [
        "\n",
        "1.11283385915 1.54134886159\n",
        "True"
       ]
      },
      {
       "output_type": "stream",
       "stream": "stdout",
       "text": [
        "\n",
        "0.743709358641 0.83017983673\n",
        "True"
       ]
      },
      {
       "output_type": "stream",
       "stream": "stdout",
       "text": [
        "\n",
        "1.1349747518 1.21575770397\n",
        "True"
       ]
      },
      {
       "output_type": "stream",
       "stream": "stdout",
       "text": [
        "\n",
        "0.830612666249 0.986047792672\n",
        "False"
       ]
      },
      {
       "output_type": "stream",
       "stream": "stdout",
       "text": [
        "\n",
        "0.849944121999 0.843643765374\n",
        "True"
       ]
      },
      {
       "output_type": "stream",
       "stream": "stdout",
       "text": [
        "\n",
        "0.894613058777 0.993935067296\n",
        "True"
       ]
      },
      {
       "output_type": "stream",
       "stream": "stdout",
       "text": [
        "\n",
        "1.1058837772 1.37113092008\n",
        "True\n",
        "0.676557346614 0.724033776449\n",
        "False"
       ]
      },
      {
       "output_type": "stream",
       "stream": "stdout",
       "text": [
        "\n",
        "1.01427713395 0.949819845073\n",
        "True"
       ]
      },
      {
       "output_type": "stream",
       "stream": "stdout",
       "text": [
        "\n",
        "1.10236448397 1.42594997575\n",
        "False"
       ]
      },
      {
       "output_type": "stream",
       "stream": "stdout",
       "text": [
        "\n",
        "1.40056287066 1.34144553087\n",
        "True\n",
        "0.692003250617 0.730248513148\n",
        "True"
       ]
      },
      {
       "output_type": "stream",
       "stream": "stdout",
       "text": [
        "\n",
        "0.997215829923 1.14404324243\n",
        "True"
       ]
      },
      {
       "output_type": "stream",
       "stream": "stdout",
       "text": [
        "\n",
        "0.803313912948 0.937374183617\n",
        "True\n",
        "0.68390825732 0.922214785036\n",
        "True"
       ]
      },
      {
       "output_type": "stream",
       "stream": "stdout",
       "text": [
        "\n",
        "1.21609643101 1.28261227424\n",
        "True"
       ]
      },
      {
       "output_type": "stream",
       "stream": "stdout",
       "text": [
        "\n",
        "0.939909870978 1.01519074311\n",
        "True"
       ]
      },
      {
       "output_type": "stream",
       "stream": "stdout",
       "text": [
        "\n",
        "1.26309946882 1.47750745305\n",
        "True"
       ]
      },
      {
       "output_type": "stream",
       "stream": "stdout",
       "text": [
        "\n",
        "0.718660746131 0.863383893196\n",
        "True"
       ]
      },
      {
       "output_type": "stream",
       "stream": "stdout",
       "text": [
        "\n",
        "0.816965345257 1.04221158416\n",
        "True"
       ]
      },
      {
       "output_type": "stream",
       "stream": "stdout",
       "text": [
        "\n",
        "0.776374025302 0.949836868594\n",
        "False"
       ]
      },
      {
       "output_type": "stream",
       "stream": "stdout",
       "text": [
        "\n",
        "1.00850568562 0.941629792788\n",
        "True"
       ]
      },
      {
       "output_type": "stream",
       "stream": "stdout",
       "text": [
        "\n",
        "1.04824705347 1.09615411169\n",
        "True"
       ]
      },
      {
       "output_type": "stream",
       "stream": "stdout",
       "text": [
        "\n",
        "0.761375346376 0.863741797917\n",
        "True\n",
        "0.631444990746 0.660687472643\n",
        "True"
       ]
      },
      {
       "output_type": "stream",
       "stream": "stdout",
       "text": [
        "\n",
        "1.01013933096 1.09598514221\n",
        "True\n",
        "0.631878469348 0.818421265642\n",
        "True"
       ]
      },
      {
       "output_type": "stream",
       "stream": "stdout",
       "text": [
        "\n",
        "0.904201476072 1.16245933676\n",
        "True"
       ]
      },
      {
       "output_type": "stream",
       "stream": "stdout",
       "text": [
        "\n",
        "0.925626301694 1.20995676663\n",
        "True\n",
        "0.74500073477 0.882141790786\n",
        "True"
       ]
      },
      {
       "output_type": "stream",
       "stream": "stdout",
       "text": [
        "\n",
        "1.16328956881 1.27441708265\n",
        "True"
       ]
      },
      {
       "output_type": "stream",
       "stream": "stdout",
       "text": [
        "\n",
        "0.836460648016 0.923588231773\n",
        "False"
       ]
      },
      {
       "output_type": "stream",
       "stream": "stdout",
       "text": [
        "\n",
        "0.858588657858 0.816219514579\n",
        "True"
       ]
      },
      {
       "output_type": "stream",
       "stream": "stdout",
       "text": [
        "\n",
        "1.01043757715 1.26634994523\n",
        "True"
       ]
      },
      {
       "output_type": "stream",
       "stream": "stdout",
       "text": [
        "\n",
        "1.20201789219 1.35701191947\n",
        "False"
       ]
      },
      {
       "output_type": "stream",
       "stream": "stdout",
       "text": [
        "\n",
        "0.718476842412 0.718334376385\n",
        "True"
       ]
      },
      {
       "output_type": "stream",
       "stream": "stdout",
       "text": [
        "\n",
        "1.08429840266 1.12685907945\n",
        "False"
       ]
      },
      {
       "output_type": "stream",
       "stream": "stdout",
       "text": [
        "\n",
        "0.836819690976 0.831551580205\n",
        "True"
       ]
      },
      {
       "output_type": "stream",
       "stream": "stdout",
       "text": [
        "\n",
        "0.90605227835 1.06896354116\n",
        "True"
       ]
      },
      {
       "output_type": "stream",
       "stream": "stdout",
       "text": [
        "\n",
        "1.18746543984 1.21239478248\n",
        "False"
       ]
      },
      {
       "output_type": "stream",
       "stream": "stdout",
       "text": [
        "\n",
        "0.909720031357 0.842440305755\n",
        "True"
       ]
      },
      {
       "output_type": "stream",
       "stream": "stdout",
       "text": [
        "\n",
        "0.722086344659 0.856322077347\n",
        "False"
       ]
      },
      {
       "output_type": "stream",
       "stream": "stdout",
       "text": [
        "\n",
        "1.36339078355 1.09076083511\n",
        "True"
       ]
      },
      {
       "output_type": "stream",
       "stream": "stdout",
       "text": [
        "\n",
        "0.872807463994 1.07209583471\n",
        "True"
       ]
      },
      {
       "output_type": "stream",
       "stream": "stdout",
       "text": [
        "\n",
        "1.04155239007 1.15949860173\n",
        "True"
       ]
      },
      {
       "output_type": "stream",
       "stream": "stdout",
       "text": [
        "\n",
        "1.06058682938 1.07398385134\n",
        "False\n",
        "0.580125462826 0.390795805184\n",
        "False"
       ]
      },
      {
       "output_type": "stream",
       "stream": "stdout",
       "text": [
        "\n",
        "1.05992283719 1.00638824461\n",
        "True"
       ]
      },
      {
       "output_type": "stream",
       "stream": "stdout",
       "text": [
        "\n",
        "0.903789734307 1.20244519387\n",
        "True\n",
        "0.701197825658 0.825551700591\n",
        "False"
       ]
      },
      {
       "output_type": "stream",
       "stream": "stdout",
       "text": [
        "\n",
        "1.13224290275 1.08828470302\n",
        "True"
       ]
      },
      {
       "output_type": "stream",
       "stream": "stdout",
       "text": [
        "\n",
        "0.852326928753 1.05525070025\n",
        "False\n",
        "0.707719172022 0.661342260415\n",
        "True"
       ]
      },
      {
       "output_type": "stream",
       "stream": "stdout",
       "text": [
        "\n",
        "0.92638579098 1.19156734161\n",
        "True"
       ]
      },
      {
       "output_type": "stream",
       "stream": "stdout",
       "text": [
        "\n",
        "1.21692217874 1.46984941334\n",
        "True\n",
        "0.955138254388 1.06062158886\n",
        "False"
       ]
      },
      {
       "output_type": "stream",
       "stream": "stdout",
       "text": [
        "\n",
        "0.973292013284 0.939527634604\n",
        "True"
       ]
      },
      {
       "output_type": "stream",
       "stream": "stdout",
       "text": [
        "\n",
        "0.730683016292 0.898339440708\n",
        "False"
       ]
      },
      {
       "output_type": "stream",
       "stream": "stdout",
       "text": [
        "\n",
        "1.03882407664 1.03321913832\n",
        "True"
       ]
      },
      {
       "output_type": "stream",
       "stream": "stdout",
       "text": [
        "\n",
        "0.779661986182 0.808083953714\n",
        "True"
       ]
      },
      {
       "output_type": "stream",
       "stream": "stdout",
       "text": [
        "\n",
        "1.31544023117 1.44412545275\n",
        "True"
       ]
      },
      {
       "output_type": "stream",
       "stream": "stdout",
       "text": [
        "\n",
        "0.78780613114 1.00688808942\n",
        "True"
       ]
      },
      {
       "output_type": "stream",
       "stream": "stdout",
       "text": [
        "\n",
        "1.36915947615 1.54345940152\n",
        "False"
       ]
      },
      {
       "output_type": "stream",
       "stream": "stdout",
       "text": [
        "\n",
        "1.12355653356 1.04668789787\n",
        "True"
       ]
      },
      {
       "output_type": "stream",
       "stream": "stdout",
       "text": [
        "\n",
        "0.890789086256 0.978033815779\n",
        "True"
       ]
      },
      {
       "output_type": "stream",
       "stream": "stdout",
       "text": [
        "\n",
        "1.13250808733 1.36685847983\n",
        "True"
       ]
      },
      {
       "output_type": "stream",
       "stream": "stdout",
       "text": [
        "\n",
        "1.2066462312 1.37523867273\n",
        "True"
       ]
      },
      {
       "output_type": "stream",
       "stream": "stdout",
       "text": [
        "\n",
        "0.809045051452 1.00191703138\n",
        "True"
       ]
      },
      {
       "output_type": "stream",
       "stream": "stdout",
       "text": [
        "\n",
        "0.967032619934 0.983703802517\n",
        "False"
       ]
      },
      {
       "output_type": "stream",
       "stream": "stdout",
       "text": [
        "\n",
        "0.92865536443 0.917565653198\n",
        "True"
       ]
      },
      {
       "output_type": "stream",
       "stream": "stdout",
       "text": [
        "\n",
        "1.20129963089 1.44529889258\n",
        "True\n",
        "0.569274874552 0.766327916405\n",
        "True"
       ]
      },
      {
       "output_type": "stream",
       "stream": "stdout",
       "text": [
        "\n",
        "0.740379658246 0.795242562003\n",
        "True\n",
        "0.616036667565 0.835054769613\n",
        "True"
       ]
      },
      {
       "output_type": "stream",
       "stream": "stdout",
       "text": [
        "\n",
        "0.87363617239 0.906039443518\n",
        "True"
       ]
      },
      {
       "output_type": "stream",
       "stream": "stdout",
       "text": [
        "\n",
        "1.01945636416 1.15325718694\n",
        "True"
       ]
      },
      {
       "output_type": "stream",
       "stream": "stdout",
       "text": [
        "\n",
        "0.745946635349 0.923095923614\n",
        "True"
       ]
      },
      {
       "output_type": "stream",
       "stream": "stdout",
       "text": [
        "\n",
        "0.79511461414 1.00758680776\n",
        "True"
       ]
      },
      {
       "output_type": "stream",
       "stream": "stdout",
       "text": [
        "\n",
        "0.969691885815 1.19480879397\n",
        "True"
       ]
      },
      {
       "output_type": "stream",
       "stream": "stdout",
       "text": [
        "\n",
        "0.797665703459 1.05192146811\n",
        "False"
       ]
      },
      {
       "output_type": "stream",
       "stream": "stdout",
       "text": [
        "\n",
        "0.947102784483 0.899438645205\n",
        "True"
       ]
      },
      {
       "output_type": "stream",
       "stream": "stdout",
       "text": [
        "\n",
        "1.12506380256 1.32734295938\n",
        "True"
       ]
      },
      {
       "output_type": "stream",
       "stream": "stdout",
       "text": [
        "\n",
        "0.8642606354 1.00610999706\n",
        "True"
       ]
      },
      {
       "output_type": "stream",
       "stream": "stdout",
       "text": [
        "\n",
        "0.982823814866 1.14759208458\n",
        "False"
       ]
      },
      {
       "output_type": "stream",
       "stream": "stdout",
       "text": [
        "\n",
        "1.47983064135 1.37593181825\n",
        "False\n",
        "0.596381176792 0.590668171556\n",
        "True"
       ]
      },
      {
       "output_type": "stream",
       "stream": "stdout",
       "text": [
        "\n",
        "0.779651545392 0.890460185045\n",
        "True"
       ]
      },
      {
       "output_type": "stream",
       "stream": "stdout",
       "text": [
        "\n",
        "0.858000774838 1.11824776957\n",
        "True"
       ]
      },
      {
       "output_type": "stream",
       "stream": "stdout",
       "text": [
        "\n",
        "0.833652012057 0.854792172364\n",
        "True"
       ]
      },
      {
       "output_type": "stream",
       "stream": "stdout",
       "text": [
        "\n",
        "0.698324353811 0.904220143827\n",
        "True"
       ]
      },
      {
       "output_type": "stream",
       "stream": "stdout",
       "text": [
        "\n",
        "0.641973008873 0.943384060213\n",
        "True"
       ]
      },
      {
       "output_type": "stream",
       "stream": "stdout",
       "text": [
        "\n",
        "0.658164934539 0.731803287001\n",
        "True"
       ]
      },
      {
       "output_type": "stream",
       "stream": "stdout",
       "text": [
        "\n",
        "0.703537486542 1.06874796946\n",
        "True"
       ]
      },
      {
       "output_type": "stream",
       "stream": "stdout",
       "text": [
        "\n",
        "0.969133781493 1.17328058179\n",
        "True"
       ]
      },
      {
       "output_type": "stream",
       "stream": "stdout",
       "text": [
        "\n",
        "0.99106656847 0.995952320891\n",
        "True"
       ]
      },
      {
       "output_type": "stream",
       "stream": "stdout",
       "text": [
        "\n",
        "1.01581885753 1.05647178248\n",
        "True"
       ]
      },
      {
       "output_type": "stream",
       "stream": "stdout",
       "text": [
        "\n",
        "0.901011582604 1.03951424895\n",
        "True\n",
        "0.917237799285 1.11273922645\n",
        "False"
       ]
      },
      {
       "output_type": "stream",
       "stream": "stdout",
       "text": [
        "\n",
        "1.12809270587 1.06979791012\n",
        "True"
       ]
      },
      {
       "output_type": "stream",
       "stream": "stdout",
       "text": [
        "\n",
        "1.00200717732 1.2011572901\n",
        "True"
       ]
      },
      {
       "output_type": "stream",
       "stream": "stdout",
       "text": [
        "\n",
        "0.847156334423 1.02334815464\n",
        "False\n",
        "1.08670855969 0.971477980204\n",
        "True"
       ]
      },
      {
       "output_type": "stream",
       "stream": "stdout",
       "text": [
        "\n",
        "0.667709405384 0.828485901442\n",
        "False\n",
        "0.770383425531 0.723982146516\n",
        "False"
       ]
      },
      {
       "output_type": "stream",
       "stream": "stdout",
       "text": [
        "\n",
        "0.803176790202 0.68134151533\n",
        "True"
       ]
      },
      {
       "output_type": "stream",
       "stream": "stdout",
       "text": [
        "\n",
        "0.673889894853 0.727838197782\n",
        "True\n",
        "0.713479993806 0.832019562457\n",
        "True"
       ]
      },
      {
       "output_type": "stream",
       "stream": "stdout",
       "text": [
        "\n",
        "0.896387366264 1.10364155927\n",
        "True"
       ]
      },
      {
       "output_type": "stream",
       "stream": "stdout",
       "text": [
        "\n",
        "0.931972312239 0.954644114873\n",
        "False"
       ]
      },
      {
       "output_type": "stream",
       "stream": "stdout",
       "text": [
        "\n",
        "0.995677115649 0.974550666411\n",
        "True"
       ]
      },
      {
       "output_type": "stream",
       "stream": "stdout",
       "text": [
        "\n",
        "1.0221402236 1.14413727189\n",
        "False"
       ]
      },
      {
       "output_type": "stream",
       "stream": "stdout",
       "text": [
        "\n",
        "1.38368994823 1.27917134852\n",
        "True\n",
        "0.88538402294 0.949460970587\n",
        "True"
       ]
      },
      {
       "output_type": "stream",
       "stream": "stdout",
       "text": [
        "\n",
        "0.738018654211 0.912584093583\n",
        "True"
       ]
      },
      {
       "output_type": "stream",
       "stream": "stdout",
       "text": [
        "\n",
        "1.1574805371 1.17062329162\n",
        "True"
       ]
      },
      {
       "output_type": "stream",
       "stream": "stdout",
       "text": [
        "\n",
        "1.12738287074 1.13939361828\n",
        "True"
       ]
      },
      {
       "output_type": "stream",
       "stream": "stdout",
       "text": [
        "\n",
        "0.849666052478 0.989995594334\n",
        "False\n",
        "0.864975362582 0.862466087432\n",
        "True"
       ]
      },
      {
       "output_type": "stream",
       "stream": "stdout",
       "text": [
        "\n",
        "1.06932066037 1.14255447978\n",
        "True"
       ]
      },
      {
       "output_type": "stream",
       "stream": "stdout",
       "text": [
        "\n",
        "0.955753526014 1.02830714546\n",
        "True"
       ]
      },
      {
       "output_type": "stream",
       "stream": "stdout",
       "text": [
        "\n",
        "0.595042739736 0.699324959368\n",
        "True"
       ]
      },
      {
       "output_type": "stream",
       "stream": "stdout",
       "text": [
        "\n",
        "0.749373359214 0.821879708079\n",
        "False\n",
        "1.02479024593 0.942348573158\n",
        "True"
       ]
      },
      {
       "output_type": "stream",
       "stream": "stdout",
       "text": [
        "\n",
        "0.655303634984 0.946337971105\n",
        "True"
       ]
      },
      {
       "output_type": "stream",
       "stream": "stdout",
       "text": [
        "\n",
        "1.09645982798 1.14801223807\n",
        "False"
       ]
      },
      {
       "output_type": "stream",
       "stream": "stdout",
       "text": [
        "\n",
        "0.938860412618 0.727080348609\n",
        "True"
       ]
      },
      {
       "output_type": "stream",
       "stream": "stdout",
       "text": [
        "\n",
        "0.926437209259 1.05214830354\n",
        "True"
       ]
      },
      {
       "output_type": "stream",
       "stream": "stdout",
       "text": [
        "\n",
        "1.09170340452 1.18129322927\n",
        "True"
       ]
      },
      {
       "output_type": "stream",
       "stream": "stdout",
       "text": [
        "\n",
        "0.79723152145 0.906511170717\n",
        "True"
       ]
      },
      {
       "output_type": "stream",
       "stream": "stdout",
       "text": [
        "\n",
        "0.821559762691 0.984034019509\n",
        "True"
       ]
      },
      {
       "output_type": "stream",
       "stream": "stdout",
       "text": [
        "\n",
        "0.907481283939 1.25003150559\n",
        "True"
       ]
      },
      {
       "output_type": "stream",
       "stream": "stdout",
       "text": [
        "\n",
        "0.928310705169 0.974871042698\n",
        "False"
       ]
      },
      {
       "output_type": "stream",
       "stream": "stdout",
       "text": [
        "\n",
        "1.0244007158 0.887766016388\n",
        "True"
       ]
      },
      {
       "output_type": "stream",
       "stream": "stdout",
       "text": [
        "\n",
        "0.963102595189 0.984687633656\n",
        "True"
       ]
      },
      {
       "output_type": "stream",
       "stream": "stdout",
       "text": [
        "\n",
        "1.05154963853 1.21117481993\n",
        "True"
       ]
      },
      {
       "output_type": "stream",
       "stream": "stdout",
       "text": [
        "\n",
        "1.121406843 1.25234120029\n",
        "True\n",
        "0.727719302706 0.991286163398\n",
        "True"
       ]
      },
      {
       "output_type": "stream",
       "stream": "stdout",
       "text": [
        "\n",
        "0.936886570076 1.01397239679\n",
        "True"
       ]
      },
      {
       "output_type": "stream",
       "stream": "stdout",
       "text": [
        "\n",
        "0.848839165014 0.925381729001\n",
        "True"
       ]
      },
      {
       "output_type": "stream",
       "stream": "stdout",
       "text": [
        "\n",
        "0.705271545386 0.787238319568\n",
        "True"
       ]
      },
      {
       "output_type": "stream",
       "stream": "stdout",
       "text": [
        "\n",
        "1.15364146942 1.29374208462\n"
       ]
      }
     ],
     "prompt_number": 85
    },
    {
     "cell_type": "code",
     "collapsed": false,
     "input": [
      "print \"\u56de\u5e30\u306e\u65b9\u304c\u8aa4\u5dee\u304c\u5c0f\u3055\u304b\u3063\u305f\u5272\u5408 : %s\"%str(float(reg_count)/(reg_count + mean_count) )"
     ],
     "language": "python",
     "metadata": {},
     "outputs": [
      {
       "output_type": "stream",
       "stream": "stdout",
       "text": [
        "\u56de\u5e30\u306e\u65b9\u304c\u8aa4\u5dee\u304c\u5c0f\u3055\u304b\u3063\u305f\u5272\u5408 : 0.799575821845\n"
       ]
      }
     ],
     "prompt_number": 84
    },
    {
     "cell_type": "code",
     "collapsed": false,
     "input": [],
     "language": "python",
     "metadata": {},
     "outputs": []
    }
   ],
   "metadata": {}
  }
 ]
}